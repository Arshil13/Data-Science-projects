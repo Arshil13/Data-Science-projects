{
  "nbformat": 4,
  "nbformat_minor": 0,
  "metadata": {
    "colab": {
      "provenance": []
    },
    "kernelspec": {
      "name": "ir",
      "display_name": "R"
    },
    "language_info": {
      "name": "R"
    },
    "accelerator": "TPU"
  },
  "cells": [
    {
      "cell_type": "code",
      "execution_count": 1,
      "metadata": {
        "colab": {
          "base_uri": "https://localhost:8080/"
        },
        "id": "cpy22kJ9hIDM",
        "outputId": "a6afe05b-f035-4d1d-cd9b-aa7cd1a7e67f"
      },
      "outputs": [
        {
          "output_type": "stream",
          "name": "stderr",
          "text": [
            "Installing package into ‘/usr/local/lib/R/site-library’\n",
            "(as ‘lib’ is unspecified)\n",
            "\n",
            "also installing the dependencies ‘listenv’, ‘parallelly’, ‘future’, ‘globals’, ‘shape’, ‘future.apply’, ‘numDeriv’, ‘progressr’, ‘SQUAREM’, ‘diagram’, ‘lava’, ‘prodlim’, ‘proxy’, ‘iterators’, ‘Rcpp’, ‘clock’, ‘gower’, ‘hardhat’, ‘ipred’, ‘timeDate’, ‘e1071’, ‘foreach’, ‘ModelMetrics’, ‘plyr’, ‘pROC’, ‘recipes’, ‘reshape2’\n",
            "\n",
            "\n"
          ]
        }
      ],
      "source": [
        "install.packages(\"caret\")"
      ]
    },
    {
      "cell_type": "code",
      "source": [
        "install.packages(\"randomForest\")"
      ],
      "metadata": {
        "colab": {
          "base_uri": "https://localhost:8080/"
        },
        "id": "_EIW12_UhwDn",
        "outputId": "90b37b7f-64f5-41b5-c151-b5f1f8e387a4"
      },
      "execution_count": 2,
      "outputs": [
        {
          "output_type": "stream",
          "name": "stderr",
          "text": [
            "Installing package into ‘/usr/local/lib/R/site-library’\n",
            "(as ‘lib’ is unspecified)\n",
            "\n"
          ]
        }
      ]
    },
    {
      "cell_type": "code",
      "source": [
        "install.packages(\"Metrics\")"
      ],
      "metadata": {
        "colab": {
          "base_uri": "https://localhost:8080/"
        },
        "id": "iOxbkPTzjrBJ",
        "outputId": "c5b53154-345d-4c7f-d773-5a22fb8dccb4"
      },
      "execution_count": 3,
      "outputs": [
        {
          "output_type": "stream",
          "name": "stderr",
          "text": [
            "Installing package into ‘/usr/local/lib/R/site-library’\n",
            "(as ‘lib’ is unspecified)\n",
            "\n"
          ]
        }
      ]
    },
    {
      "cell_type": "code",
      "source": [
        "library(randomForest)\n",
        "library(Metrics)\n",
        "library(caret)"
      ],
      "metadata": {
        "colab": {
          "base_uri": "https://localhost:8080/"
        },
        "id": "-7NffD_VjuBp",
        "outputId": "cacd132f-984a-4a6f-c71d-287d19636776"
      },
      "execution_count": 4,
      "outputs": [
        {
          "output_type": "stream",
          "name": "stderr",
          "text": [
            "randomForest 4.7-1.1\n",
            "\n",
            "Type rfNews() to see new features/changes/bug fixes.\n",
            "\n",
            "Loading required package: ggplot2\n",
            "\n",
            "\n",
            "Attaching package: ‘ggplot2’\n",
            "\n",
            "\n",
            "The following object is masked from ‘package:randomForest’:\n",
            "\n",
            "    margin\n",
            "\n",
            "\n",
            "Loading required package: lattice\n",
            "\n",
            "\n",
            "Attaching package: ‘caret’\n",
            "\n",
            "\n",
            "The following objects are masked from ‘package:Metrics’:\n",
            "\n",
            "    precision, recall\n",
            "\n",
            "\n"
          ]
        }
      ]
    },
    {
      "cell_type": "code",
      "source": [
        "hp_data <- read.csv('bengaluru_house_prices.csv')"
      ],
      "metadata": {
        "id": "BAzxIPE4j9X5"
      },
      "execution_count": 35,
      "outputs": []
    },
    {
      "cell_type": "code",
      "source": [
        "sum(is.na(hp_data))"
      ],
      "metadata": {
        "colab": {
          "base_uri": "https://localhost:8080/",
          "height": 34
        },
        "id": "HWodxyOYkG6A",
        "outputId": "c5a9c2f2-7ef3-4827-c94e-9b15d154b295"
      },
      "execution_count": 36,
      "outputs": [
        {
          "output_type": "display_data",
          "data": {
            "text/html": [
              "682"
            ],
            "text/markdown": "682",
            "text/latex": "682",
            "text/plain": [
              "[1] 682"
            ]
          },
          "metadata": {}
        }
      ]
    },
    {
      "cell_type": "code",
      "source": [
        "hp_data"
      ],
      "metadata": {
        "colab": {
          "base_uri": "https://localhost:8080/",
          "height": 1000
        },
        "id": "P-wqz1XhkenJ",
        "outputId": "d421c5e1-c4fa-4840-c664-4158a2ab9fd5"
      },
      "execution_count": 37,
      "outputs": [
        {
          "output_type": "display_data",
          "data": {
            "text/html": [
              "<table class=\"dataframe\">\n",
              "<caption>A data.frame: 13320 × 9</caption>\n",
              "<thead>\n",
              "\t<tr><th scope=col>area_type</th><th scope=col>availability</th><th scope=col>location</th><th scope=col>size</th><th scope=col>society</th><th scope=col>total_sqft</th><th scope=col>bath</th><th scope=col>balcony</th><th scope=col>price</th></tr>\n",
              "\t<tr><th scope=col>&lt;chr&gt;</th><th scope=col>&lt;chr&gt;</th><th scope=col>&lt;chr&gt;</th><th scope=col>&lt;chr&gt;</th><th scope=col>&lt;chr&gt;</th><th scope=col>&lt;chr&gt;</th><th scope=col>&lt;int&gt;</th><th scope=col>&lt;int&gt;</th><th scope=col>&lt;dbl&gt;</th></tr>\n",
              "</thead>\n",
              "<tbody>\n",
              "\t<tr><td>Super built-up  Area</td><td>19-Dec       </td><td>Electronic City Phase II</td><td>2 BHK    </td><td>Coomee </td><td>1056</td><td>2</td><td> 1</td><td> 39.07</td></tr>\n",
              "\t<tr><td>Plot  Area          </td><td>Ready To Move</td><td>Chikka Tirupathi        </td><td>4 Bedroom</td><td>Theanmp</td><td>2600</td><td>5</td><td> 3</td><td>120.00</td></tr>\n",
              "\t<tr><td>Built-up  Area      </td><td>Ready To Move</td><td>Uttarahalli             </td><td>3 BHK    </td><td>       </td><td>1440</td><td>2</td><td> 3</td><td> 62.00</td></tr>\n",
              "\t<tr><td>Super built-up  Area</td><td>Ready To Move</td><td>Lingadheeranahalli      </td><td>3 BHK    </td><td>Soiewre</td><td>1521</td><td>3</td><td> 1</td><td> 95.00</td></tr>\n",
              "\t<tr><td>Super built-up  Area</td><td>Ready To Move</td><td>Kothanur                </td><td>2 BHK    </td><td>       </td><td>1200</td><td>2</td><td> 1</td><td> 51.00</td></tr>\n",
              "\t<tr><td>Super built-up  Area</td><td>Ready To Move</td><td>Whitefield              </td><td>2 BHK    </td><td>DuenaTa</td><td>1170</td><td>2</td><td> 1</td><td> 38.00</td></tr>\n",
              "\t<tr><td>Super built-up  Area</td><td>18-May       </td><td>Old Airport Road        </td><td>4 BHK    </td><td>Jaades </td><td>2732</td><td>4</td><td>NA</td><td>204.00</td></tr>\n",
              "\t<tr><td>Super built-up  Area</td><td>Ready To Move</td><td>Rajaji Nagar            </td><td>4 BHK    </td><td>Brway G</td><td>3300</td><td>4</td><td>NA</td><td>600.00</td></tr>\n",
              "\t<tr><td>Super built-up  Area</td><td>Ready To Move</td><td>Marathahalli            </td><td>3 BHK    </td><td>       </td><td>1310</td><td>3</td><td> 1</td><td> 63.25</td></tr>\n",
              "\t<tr><td>Plot  Area          </td><td>Ready To Move</td><td>Gandhi Bazar            </td><td>6 Bedroom</td><td>       </td><td>1020</td><td>6</td><td>NA</td><td>370.00</td></tr>\n",
              "\t<tr><td>Super built-up  Area</td><td>18-Feb       </td><td>Whitefield              </td><td>3 BHK    </td><td>       </td><td>1800</td><td>2</td><td> 2</td><td> 70.00</td></tr>\n",
              "\t<tr><td>Plot  Area          </td><td>Ready To Move</td><td>Whitefield              </td><td>4 Bedroom</td><td>Prrry M</td><td>2785</td><td>5</td><td> 3</td><td>295.00</td></tr>\n",
              "\t<tr><td>Super built-up  Area</td><td>Ready To Move</td><td>7th Phase JP Nagar      </td><td>2 BHK    </td><td>Shncyes</td><td>1000</td><td>2</td><td> 1</td><td> 38.00</td></tr>\n",
              "\t<tr><td>Built-up  Area      </td><td>Ready To Move</td><td>Gottigere               </td><td>2 BHK    </td><td>       </td><td>1100</td><td>2</td><td> 2</td><td> 40.00</td></tr>\n",
              "\t<tr><td>Plot  Area          </td><td>Ready To Move</td><td>Sarjapur                </td><td>3 Bedroom</td><td>Skityer</td><td>2250</td><td>3</td><td> 2</td><td>148.00</td></tr>\n",
              "\t<tr><td>Super built-up  Area</td><td>Ready To Move</td><td>Mysore Road             </td><td>2 BHK    </td><td>PrntaEn</td><td>1175</td><td>2</td><td> 2</td><td> 73.50</td></tr>\n",
              "\t<tr><td>Super built-up  Area</td><td>Ready To Move</td><td>Bisuvanahalli           </td><td>3 BHK    </td><td>Prityel</td><td>1180</td><td>3</td><td> 2</td><td> 48.00</td></tr>\n",
              "\t<tr><td>Super built-up  Area</td><td>Ready To Move</td><td>Raja Rajeshwari Nagar   </td><td>3 BHK    </td><td>GrrvaGr</td><td>1540</td><td>3</td><td> 3</td><td> 60.00</td></tr>\n",
              "\t<tr><td>Super built-up  Area</td><td>Ready To Move</td><td>Ramakrishnappa Layout   </td><td>3 BHK    </td><td>PeBayle</td><td>2770</td><td>4</td><td> 2</td><td>290.00</td></tr>\n",
              "\t<tr><td>Super built-up  Area</td><td>Ready To Move</td><td>Manayata Tech Park      </td><td>2 BHK    </td><td>       </td><td>1100</td><td>2</td><td> 2</td><td> 48.00</td></tr>\n",
              "\t<tr><td>Built-up  Area      </td><td>Ready To Move</td><td>Kengeri                 </td><td>1 BHK    </td><td>       </td><td>600 </td><td>1</td><td> 1</td><td> 15.00</td></tr>\n",
              "\t<tr><td>Super built-up  Area</td><td>19-Dec       </td><td>Binny Pete              </td><td>3 BHK    </td><td>She 2rk</td><td>1755</td><td>3</td><td> 1</td><td>122.00</td></tr>\n",
              "\t<tr><td>Plot  Area          </td><td>Ready To Move</td><td>Thanisandra             </td><td>4 Bedroom</td><td>Soitya </td><td>2800</td><td>5</td><td> 2</td><td>380.00</td></tr>\n",
              "\t<tr><td>Super built-up  Area</td><td>Ready To Move</td><td>Bellandur               </td><td>3 BHK    </td><td>       </td><td>1767</td><td>3</td><td> 1</td><td>103.00</td></tr>\n",
              "\t<tr><td>Super built-up  Area</td><td>18-Nov       </td><td> Thanisandra            </td><td>1 RK     </td><td>Bhe 2ko</td><td>510 </td><td>1</td><td> 0</td><td> 25.25</td></tr>\n",
              "\t<tr><td>Super built-up  Area</td><td>18-May       </td><td>Mangammanapalya         </td><td>3 BHK    </td><td>       </td><td>1250</td><td>3</td><td> 2</td><td> 56.00</td></tr>\n",
              "\t<tr><td>Super built-up  Area</td><td>Ready To Move</td><td>Electronic City         </td><td>2 BHK    </td><td>Itelaa </td><td>660 </td><td>1</td><td> 1</td><td> 23.10</td></tr>\n",
              "\t<tr><td>Built-up  Area      </td><td>20-Dec       </td><td>Whitefield              </td><td>3 BHK    </td><td>       </td><td>1610</td><td>3</td><td> 2</td><td> 81.00</td></tr>\n",
              "\t<tr><td>Super built-up  Area</td><td>17-Oct       </td><td>Ramagondanahalli        </td><td>2 BHK    </td><td>ViistLa</td><td>1151</td><td>2</td><td> 2</td><td> 48.77</td></tr>\n",
              "\t<tr><td>Super built-up  Area</td><td>Ready To Move</td><td>Electronic City         </td><td>3 BHK    </td><td>KBityo </td><td>1025</td><td>2</td><td> 1</td><td> 47.00</td></tr>\n",
              "\t<tr><td>⋮</td><td>⋮</td><td>⋮</td><td>⋮</td><td>⋮</td><td>⋮</td><td>⋮</td><td>⋮</td><td>⋮</td></tr>\n",
              "\t<tr><td>Super built-up  Area</td><td>Ready To Move</td><td>Sarjapur  Road       </td><td>4 BHK    </td><td>Maana E</td><td>4050       </td><td>2</td><td> 1</td><td>450.00</td></tr>\n",
              "\t<tr><td>Plot  Area          </td><td>18-Jan       </td><td>Weavers Colony       </td><td>1 Bedroom</td><td>       </td><td>812        </td><td>1</td><td> 0</td><td> 26.00</td></tr>\n",
              "\t<tr><td>Super built-up  Area</td><td>18-Jul       </td><td>Udayapur Village     </td><td>3 BHK    </td><td>Plowsri</td><td>1440       </td><td>2</td><td> 2</td><td> 63.93</td></tr>\n",
              "\t<tr><td>Super built-up  Area</td><td>Ready To Move</td><td>Sarjapur  Road       </td><td>4 BHK    </td><td>Puallhi</td><td>2425       </td><td>5</td><td> 1</td><td>195.00</td></tr>\n",
              "\t<tr><td>Super built-up  Area</td><td>Ready To Move</td><td>Sultan Palaya        </td><td>4 BHK    </td><td>RSntsAp</td><td>2200       </td><td>3</td><td> 3</td><td> 80.00</td></tr>\n",
              "\t<tr><td>Super built-up  Area</td><td>18-Feb       </td><td>Haralur Road         </td><td>3 BHK    </td><td>SNnia E</td><td>1810       </td><td>3</td><td> 2</td><td>112.00</td></tr>\n",
              "\t<tr><td>Super built-up  Area</td><td>Ready To Move</td><td>Cox Town             </td><td>2 BHK    </td><td>       </td><td>1200       </td><td>2</td><td> 2</td><td>140.00</td></tr>\n",
              "\t<tr><td>Super built-up  Area</td><td>Ready To Move</td><td>Electronic City      </td><td>2 BHK    </td><td>GMown E</td><td>1060       </td><td>2</td><td> 1</td><td> 52.00</td></tr>\n",
              "\t<tr><td>Super built-up  Area</td><td>Ready To Move</td><td>Kenchenahalli        </td><td>2 BHK    </td><td>AriosPa</td><td>1015       </td><td>2</td><td> 2</td><td> 60.00</td></tr>\n",
              "\t<tr><td>Super built-up  Area</td><td>18-Dec       </td><td>Whitefield           </td><td>4 BHK    </td><td>Prtates</td><td>2830 - 2882</td><td>5</td><td> 0</td><td>154.50</td></tr>\n",
              "\t<tr><td>Plot  Area          </td><td>Ready To Move</td><td>Hosakerehalli        </td><td>5 Bedroom</td><td>       </td><td>1500       </td><td>6</td><td> 2</td><td>145.00</td></tr>\n",
              "\t<tr><td>Super built-up  Area</td><td>Ready To Move</td><td>Kothanur             </td><td>3 BHK    </td><td>       </td><td>1454       </td><td>3</td><td> 3</td><td> 71.50</td></tr>\n",
              "\t<tr><td>Super built-up  Area</td><td>Ready To Move</td><td>Annaiah Reddy Layout </td><td>2 BHK    </td><td>       </td><td>1075       </td><td>2</td><td> 2</td><td> 48.00</td></tr>\n",
              "\t<tr><td>Plot  Area          </td><td>Ready To Move</td><td>Vidyaranyapura       </td><td>5 Bedroom</td><td>       </td><td>774        </td><td>5</td><td> 3</td><td> 70.00</td></tr>\n",
              "\t<tr><td>Super built-up  Area</td><td>Ready To Move</td><td>Raja Rajeshwari Nagar</td><td>2 BHK    </td><td>GrrvaGr</td><td>1187       </td><td>2</td><td> 2</td><td> 40.14</td></tr>\n",
              "\t<tr><td>Carpet  Area        </td><td>Ready To Move</td><td>Hulimavu             </td><td>1 BHK    </td><td>       </td><td>500        </td><td>1</td><td> 3</td><td>220.00</td></tr>\n",
              "\t<tr><td>Plot  Area          </td><td>Ready To Move</td><td>Rajarajeshwari Nagara</td><td>4 Bedroom</td><td>       </td><td>1200       </td><td>5</td><td>NA</td><td>325.00</td></tr>\n",
              "\t<tr><td>Built-up  Area      </td><td>Ready To Move</td><td>Billekahalli         </td><td>3 BHK    </td><td>       </td><td>1805       </td><td>3</td><td> 3</td><td>134.00</td></tr>\n",
              "\t<tr><td>Built-up  Area      </td><td>Ready To Move</td><td>Bannerghatta Road    </td><td>3 BHK    </td><td>Baanise</td><td>1527       </td><td>3</td><td> 1</td><td>142.00</td></tr>\n",
              "\t<tr><td>Super built-up  Area</td><td>Ready To Move</td><td>Yeshwanthpur         </td><td>3 BHK    </td><td>IBityin</td><td>1675       </td><td>3</td><td>NA</td><td> 92.13</td></tr>\n",
              "\t<tr><td>Super built-up  Area</td><td>Ready To Move</td><td>Rachenahalli         </td><td>2 BHK    </td><td>       </td><td>1050       </td><td>2</td><td> 2</td><td> 52.71</td></tr>\n",
              "\t<tr><td>Plot  Area          </td><td>Ready To Move</td><td>Ramamurthy Nagar     </td><td>7 Bedroom</td><td>       </td><td>1500       </td><td>9</td><td> 2</td><td>250.00</td></tr>\n",
              "\t<tr><td>Super built-up  Area</td><td>Ready To Move</td><td>Bellandur            </td><td>2 BHK    </td><td>       </td><td>1262       </td><td>2</td><td> 2</td><td> 47.00</td></tr>\n",
              "\t<tr><td>Super built-up  Area</td><td>Ready To Move</td><td>Uttarahalli          </td><td>3 BHK    </td><td>Aklia R</td><td>1345       </td><td>2</td><td> 1</td><td> 57.00</td></tr>\n",
              "\t<tr><td>Super built-up  Area</td><td>Ready To Move</td><td>Green Glen Layout    </td><td>3 BHK    </td><td>SoosePr</td><td>1715       </td><td>3</td><td> 3</td><td>112.00</td></tr>\n",
              "\t<tr><td>Built-up  Area      </td><td>Ready To Move</td><td>Whitefield           </td><td>5 Bedroom</td><td>ArsiaEx</td><td>3453       </td><td>4</td><td> 0</td><td>231.00</td></tr>\n",
              "\t<tr><td>Super built-up  Area</td><td>Ready To Move</td><td>Richards Town        </td><td>4 BHK    </td><td>       </td><td>3600       </td><td>5</td><td>NA</td><td>400.00</td></tr>\n",
              "\t<tr><td>Built-up  Area      </td><td>Ready To Move</td><td>Raja Rajeshwari Nagar</td><td>2 BHK    </td><td>Mahla T</td><td>1141       </td><td>2</td><td> 1</td><td> 60.00</td></tr>\n",
              "\t<tr><td>Super built-up  Area</td><td>18-Jun       </td><td>Padmanabhanagar      </td><td>4 BHK    </td><td>SollyCl</td><td>4689       </td><td>4</td><td> 1</td><td>488.00</td></tr>\n",
              "\t<tr><td>Super built-up  Area</td><td>Ready To Move</td><td>Doddathoguru         </td><td>1 BHK    </td><td>       </td><td>550        </td><td>1</td><td> 1</td><td> 17.00</td></tr>\n",
              "</tbody>\n",
              "</table>\n"
            ],
            "text/markdown": "\nA data.frame: 13320 × 9\n\n| area_type &lt;chr&gt; | availability &lt;chr&gt; | location &lt;chr&gt; | size &lt;chr&gt; | society &lt;chr&gt; | total_sqft &lt;chr&gt; | bath &lt;int&gt; | balcony &lt;int&gt; | price &lt;dbl&gt; |\n|---|---|---|---|---|---|---|---|---|\n| Super built-up  Area | 19-Dec        | Electronic City Phase II | 2 BHK     | Coomee  | 1056 | 2 |  1 |  39.07 |\n| Plot  Area           | Ready To Move | Chikka Tirupathi         | 4 Bedroom | Theanmp | 2600 | 5 |  3 | 120.00 |\n| Built-up  Area       | Ready To Move | Uttarahalli              | 3 BHK     | <!----> | 1440 | 2 |  3 |  62.00 |\n| Super built-up  Area | Ready To Move | Lingadheeranahalli       | 3 BHK     | Soiewre | 1521 | 3 |  1 |  95.00 |\n| Super built-up  Area | Ready To Move | Kothanur                 | 2 BHK     | <!----> | 1200 | 2 |  1 |  51.00 |\n| Super built-up  Area | Ready To Move | Whitefield               | 2 BHK     | DuenaTa | 1170 | 2 |  1 |  38.00 |\n| Super built-up  Area | 18-May        | Old Airport Road         | 4 BHK     | Jaades  | 2732 | 4 | NA | 204.00 |\n| Super built-up  Area | Ready To Move | Rajaji Nagar             | 4 BHK     | Brway G | 3300 | 4 | NA | 600.00 |\n| Super built-up  Area | Ready To Move | Marathahalli             | 3 BHK     | <!----> | 1310 | 3 |  1 |  63.25 |\n| Plot  Area           | Ready To Move | Gandhi Bazar             | 6 Bedroom | <!----> | 1020 | 6 | NA | 370.00 |\n| Super built-up  Area | 18-Feb        | Whitefield               | 3 BHK     | <!----> | 1800 | 2 |  2 |  70.00 |\n| Plot  Area           | Ready To Move | Whitefield               | 4 Bedroom | Prrry M | 2785 | 5 |  3 | 295.00 |\n| Super built-up  Area | Ready To Move | 7th Phase JP Nagar       | 2 BHK     | Shncyes | 1000 | 2 |  1 |  38.00 |\n| Built-up  Area       | Ready To Move | Gottigere                | 2 BHK     | <!----> | 1100 | 2 |  2 |  40.00 |\n| Plot  Area           | Ready To Move | Sarjapur                 | 3 Bedroom | Skityer | 2250 | 3 |  2 | 148.00 |\n| Super built-up  Area | Ready To Move | Mysore Road              | 2 BHK     | PrntaEn | 1175 | 2 |  2 |  73.50 |\n| Super built-up  Area | Ready To Move | Bisuvanahalli            | 3 BHK     | Prityel | 1180 | 3 |  2 |  48.00 |\n| Super built-up  Area | Ready To Move | Raja Rajeshwari Nagar    | 3 BHK     | GrrvaGr | 1540 | 3 |  3 |  60.00 |\n| Super built-up  Area | Ready To Move | Ramakrishnappa Layout    | 3 BHK     | PeBayle | 2770 | 4 |  2 | 290.00 |\n| Super built-up  Area | Ready To Move | Manayata Tech Park       | 2 BHK     | <!----> | 1100 | 2 |  2 |  48.00 |\n| Built-up  Area       | Ready To Move | Kengeri                  | 1 BHK     | <!----> | 600  | 1 |  1 |  15.00 |\n| Super built-up  Area | 19-Dec        | Binny Pete               | 3 BHK     | She 2rk | 1755 | 3 |  1 | 122.00 |\n| Plot  Area           | Ready To Move | Thanisandra              | 4 Bedroom | Soitya  | 2800 | 5 |  2 | 380.00 |\n| Super built-up  Area | Ready To Move | Bellandur                | 3 BHK     | <!----> | 1767 | 3 |  1 | 103.00 |\n| Super built-up  Area | 18-Nov        |  Thanisandra             | 1 RK      | Bhe 2ko | 510  | 1 |  0 |  25.25 |\n| Super built-up  Area | 18-May        | Mangammanapalya          | 3 BHK     | <!----> | 1250 | 3 |  2 |  56.00 |\n| Super built-up  Area | Ready To Move | Electronic City          | 2 BHK     | Itelaa  | 660  | 1 |  1 |  23.10 |\n| Built-up  Area       | 20-Dec        | Whitefield               | 3 BHK     | <!----> | 1610 | 3 |  2 |  81.00 |\n| Super built-up  Area | 17-Oct        | Ramagondanahalli         | 2 BHK     | ViistLa | 1151 | 2 |  2 |  48.77 |\n| Super built-up  Area | Ready To Move | Electronic City          | 3 BHK     | KBityo  | 1025 | 2 |  1 |  47.00 |\n| ⋮ | ⋮ | ⋮ | ⋮ | ⋮ | ⋮ | ⋮ | ⋮ | ⋮ |\n| Super built-up  Area | Ready To Move | Sarjapur  Road        | 4 BHK     | Maana E | 4050        | 2 |  1 | 450.00 |\n| Plot  Area           | 18-Jan        | Weavers Colony        | 1 Bedroom | <!----> | 812         | 1 |  0 |  26.00 |\n| Super built-up  Area | 18-Jul        | Udayapur Village      | 3 BHK     | Plowsri | 1440        | 2 |  2 |  63.93 |\n| Super built-up  Area | Ready To Move | Sarjapur  Road        | 4 BHK     | Puallhi | 2425        | 5 |  1 | 195.00 |\n| Super built-up  Area | Ready To Move | Sultan Palaya         | 4 BHK     | RSntsAp | 2200        | 3 |  3 |  80.00 |\n| Super built-up  Area | 18-Feb        | Haralur Road          | 3 BHK     | SNnia E | 1810        | 3 |  2 | 112.00 |\n| Super built-up  Area | Ready To Move | Cox Town              | 2 BHK     | <!----> | 1200        | 2 |  2 | 140.00 |\n| Super built-up  Area | Ready To Move | Electronic City       | 2 BHK     | GMown E | 1060        | 2 |  1 |  52.00 |\n| Super built-up  Area | Ready To Move | Kenchenahalli         | 2 BHK     | AriosPa | 1015        | 2 |  2 |  60.00 |\n| Super built-up  Area | 18-Dec        | Whitefield            | 4 BHK     | Prtates | 2830 - 2882 | 5 |  0 | 154.50 |\n| Plot  Area           | Ready To Move | Hosakerehalli         | 5 Bedroom | <!----> | 1500        | 6 |  2 | 145.00 |\n| Super built-up  Area | Ready To Move | Kothanur              | 3 BHK     | <!----> | 1454        | 3 |  3 |  71.50 |\n| Super built-up  Area | Ready To Move | Annaiah Reddy Layout  | 2 BHK     | <!----> | 1075        | 2 |  2 |  48.00 |\n| Plot  Area           | Ready To Move | Vidyaranyapura        | 5 Bedroom | <!----> | 774         | 5 |  3 |  70.00 |\n| Super built-up  Area | Ready To Move | Raja Rajeshwari Nagar | 2 BHK     | GrrvaGr | 1187        | 2 |  2 |  40.14 |\n| Carpet  Area         | Ready To Move | Hulimavu              | 1 BHK     | <!----> | 500         | 1 |  3 | 220.00 |\n| Plot  Area           | Ready To Move | Rajarajeshwari Nagara | 4 Bedroom | <!----> | 1200        | 5 | NA | 325.00 |\n| Built-up  Area       | Ready To Move | Billekahalli          | 3 BHK     | <!----> | 1805        | 3 |  3 | 134.00 |\n| Built-up  Area       | Ready To Move | Bannerghatta Road     | 3 BHK     | Baanise | 1527        | 3 |  1 | 142.00 |\n| Super built-up  Area | Ready To Move | Yeshwanthpur          | 3 BHK     | IBityin | 1675        | 3 | NA |  92.13 |\n| Super built-up  Area | Ready To Move | Rachenahalli          | 2 BHK     | <!----> | 1050        | 2 |  2 |  52.71 |\n| Plot  Area           | Ready To Move | Ramamurthy Nagar      | 7 Bedroom | <!----> | 1500        | 9 |  2 | 250.00 |\n| Super built-up  Area | Ready To Move | Bellandur             | 2 BHK     | <!----> | 1262        | 2 |  2 |  47.00 |\n| Super built-up  Area | Ready To Move | Uttarahalli           | 3 BHK     | Aklia R | 1345        | 2 |  1 |  57.00 |\n| Super built-up  Area | Ready To Move | Green Glen Layout     | 3 BHK     | SoosePr | 1715        | 3 |  3 | 112.00 |\n| Built-up  Area       | Ready To Move | Whitefield            | 5 Bedroom | ArsiaEx | 3453        | 4 |  0 | 231.00 |\n| Super built-up  Area | Ready To Move | Richards Town         | 4 BHK     | <!----> | 3600        | 5 | NA | 400.00 |\n| Built-up  Area       | Ready To Move | Raja Rajeshwari Nagar | 2 BHK     | Mahla T | 1141        | 2 |  1 |  60.00 |\n| Super built-up  Area | 18-Jun        | Padmanabhanagar       | 4 BHK     | SollyCl | 4689        | 4 |  1 | 488.00 |\n| Super built-up  Area | Ready To Move | Doddathoguru          | 1 BHK     | <!----> | 550         | 1 |  1 |  17.00 |\n\n",
            "text/latex": "A data.frame: 13320 × 9\n\\begin{tabular}{lllllllll}\n area\\_type & availability & location & size & society & total\\_sqft & bath & balcony & price\\\\\n <chr> & <chr> & <chr> & <chr> & <chr> & <chr> & <int> & <int> & <dbl>\\\\\n\\hline\n\t Super built-up  Area & 19-Dec        & Electronic City Phase II & 2 BHK     & Coomee  & 1056 & 2 &  1 &  39.07\\\\\n\t Plot  Area           & Ready To Move & Chikka Tirupathi         & 4 Bedroom & Theanmp & 2600 & 5 &  3 & 120.00\\\\\n\t Built-up  Area       & Ready To Move & Uttarahalli              & 3 BHK     &         & 1440 & 2 &  3 &  62.00\\\\\n\t Super built-up  Area & Ready To Move & Lingadheeranahalli       & 3 BHK     & Soiewre & 1521 & 3 &  1 &  95.00\\\\\n\t Super built-up  Area & Ready To Move & Kothanur                 & 2 BHK     &         & 1200 & 2 &  1 &  51.00\\\\\n\t Super built-up  Area & Ready To Move & Whitefield               & 2 BHK     & DuenaTa & 1170 & 2 &  1 &  38.00\\\\\n\t Super built-up  Area & 18-May        & Old Airport Road         & 4 BHK     & Jaades  & 2732 & 4 & NA & 204.00\\\\\n\t Super built-up  Area & Ready To Move & Rajaji Nagar             & 4 BHK     & Brway G & 3300 & 4 & NA & 600.00\\\\\n\t Super built-up  Area & Ready To Move & Marathahalli             & 3 BHK     &         & 1310 & 3 &  1 &  63.25\\\\\n\t Plot  Area           & Ready To Move & Gandhi Bazar             & 6 Bedroom &         & 1020 & 6 & NA & 370.00\\\\\n\t Super built-up  Area & 18-Feb        & Whitefield               & 3 BHK     &         & 1800 & 2 &  2 &  70.00\\\\\n\t Plot  Area           & Ready To Move & Whitefield               & 4 Bedroom & Prrry M & 2785 & 5 &  3 & 295.00\\\\\n\t Super built-up  Area & Ready To Move & 7th Phase JP Nagar       & 2 BHK     & Shncyes & 1000 & 2 &  1 &  38.00\\\\\n\t Built-up  Area       & Ready To Move & Gottigere                & 2 BHK     &         & 1100 & 2 &  2 &  40.00\\\\\n\t Plot  Area           & Ready To Move & Sarjapur                 & 3 Bedroom & Skityer & 2250 & 3 &  2 & 148.00\\\\\n\t Super built-up  Area & Ready To Move & Mysore Road              & 2 BHK     & PrntaEn & 1175 & 2 &  2 &  73.50\\\\\n\t Super built-up  Area & Ready To Move & Bisuvanahalli            & 3 BHK     & Prityel & 1180 & 3 &  2 &  48.00\\\\\n\t Super built-up  Area & Ready To Move & Raja Rajeshwari Nagar    & 3 BHK     & GrrvaGr & 1540 & 3 &  3 &  60.00\\\\\n\t Super built-up  Area & Ready To Move & Ramakrishnappa Layout    & 3 BHK     & PeBayle & 2770 & 4 &  2 & 290.00\\\\\n\t Super built-up  Area & Ready To Move & Manayata Tech Park       & 2 BHK     &         & 1100 & 2 &  2 &  48.00\\\\\n\t Built-up  Area       & Ready To Move & Kengeri                  & 1 BHK     &         & 600  & 1 &  1 &  15.00\\\\\n\t Super built-up  Area & 19-Dec        & Binny Pete               & 3 BHK     & She 2rk & 1755 & 3 &  1 & 122.00\\\\\n\t Plot  Area           & Ready To Move & Thanisandra              & 4 Bedroom & Soitya  & 2800 & 5 &  2 & 380.00\\\\\n\t Super built-up  Area & Ready To Move & Bellandur                & 3 BHK     &         & 1767 & 3 &  1 & 103.00\\\\\n\t Super built-up  Area & 18-Nov        &  Thanisandra             & 1 RK      & Bhe 2ko & 510  & 1 &  0 &  25.25\\\\\n\t Super built-up  Area & 18-May        & Mangammanapalya          & 3 BHK     &         & 1250 & 3 &  2 &  56.00\\\\\n\t Super built-up  Area & Ready To Move & Electronic City          & 2 BHK     & Itelaa  & 660  & 1 &  1 &  23.10\\\\\n\t Built-up  Area       & 20-Dec        & Whitefield               & 3 BHK     &         & 1610 & 3 &  2 &  81.00\\\\\n\t Super built-up  Area & 17-Oct        & Ramagondanahalli         & 2 BHK     & ViistLa & 1151 & 2 &  2 &  48.77\\\\\n\t Super built-up  Area & Ready To Move & Electronic City          & 3 BHK     & KBityo  & 1025 & 2 &  1 &  47.00\\\\\n\t ⋮ & ⋮ & ⋮ & ⋮ & ⋮ & ⋮ & ⋮ & ⋮ & ⋮\\\\\n\t Super built-up  Area & Ready To Move & Sarjapur  Road        & 4 BHK     & Maana E & 4050        & 2 &  1 & 450.00\\\\\n\t Plot  Area           & 18-Jan        & Weavers Colony        & 1 Bedroom &         & 812         & 1 &  0 &  26.00\\\\\n\t Super built-up  Area & 18-Jul        & Udayapur Village      & 3 BHK     & Plowsri & 1440        & 2 &  2 &  63.93\\\\\n\t Super built-up  Area & Ready To Move & Sarjapur  Road        & 4 BHK     & Puallhi & 2425        & 5 &  1 & 195.00\\\\\n\t Super built-up  Area & Ready To Move & Sultan Palaya         & 4 BHK     & RSntsAp & 2200        & 3 &  3 &  80.00\\\\\n\t Super built-up  Area & 18-Feb        & Haralur Road          & 3 BHK     & SNnia E & 1810        & 3 &  2 & 112.00\\\\\n\t Super built-up  Area & Ready To Move & Cox Town              & 2 BHK     &         & 1200        & 2 &  2 & 140.00\\\\\n\t Super built-up  Area & Ready To Move & Electronic City       & 2 BHK     & GMown E & 1060        & 2 &  1 &  52.00\\\\\n\t Super built-up  Area & Ready To Move & Kenchenahalli         & 2 BHK     & AriosPa & 1015        & 2 &  2 &  60.00\\\\\n\t Super built-up  Area & 18-Dec        & Whitefield            & 4 BHK     & Prtates & 2830 - 2882 & 5 &  0 & 154.50\\\\\n\t Plot  Area           & Ready To Move & Hosakerehalli         & 5 Bedroom &         & 1500        & 6 &  2 & 145.00\\\\\n\t Super built-up  Area & Ready To Move & Kothanur              & 3 BHK     &         & 1454        & 3 &  3 &  71.50\\\\\n\t Super built-up  Area & Ready To Move & Annaiah Reddy Layout  & 2 BHK     &         & 1075        & 2 &  2 &  48.00\\\\\n\t Plot  Area           & Ready To Move & Vidyaranyapura        & 5 Bedroom &         & 774         & 5 &  3 &  70.00\\\\\n\t Super built-up  Area & Ready To Move & Raja Rajeshwari Nagar & 2 BHK     & GrrvaGr & 1187        & 2 &  2 &  40.14\\\\\n\t Carpet  Area         & Ready To Move & Hulimavu              & 1 BHK     &         & 500         & 1 &  3 & 220.00\\\\\n\t Plot  Area           & Ready To Move & Rajarajeshwari Nagara & 4 Bedroom &         & 1200        & 5 & NA & 325.00\\\\\n\t Built-up  Area       & Ready To Move & Billekahalli          & 3 BHK     &         & 1805        & 3 &  3 & 134.00\\\\\n\t Built-up  Area       & Ready To Move & Bannerghatta Road     & 3 BHK     & Baanise & 1527        & 3 &  1 & 142.00\\\\\n\t Super built-up  Area & Ready To Move & Yeshwanthpur          & 3 BHK     & IBityin & 1675        & 3 & NA &  92.13\\\\\n\t Super built-up  Area & Ready To Move & Rachenahalli          & 2 BHK     &         & 1050        & 2 &  2 &  52.71\\\\\n\t Plot  Area           & Ready To Move & Ramamurthy Nagar      & 7 Bedroom &         & 1500        & 9 &  2 & 250.00\\\\\n\t Super built-up  Area & Ready To Move & Bellandur             & 2 BHK     &         & 1262        & 2 &  2 &  47.00\\\\\n\t Super built-up  Area & Ready To Move & Uttarahalli           & 3 BHK     & Aklia R & 1345        & 2 &  1 &  57.00\\\\\n\t Super built-up  Area & Ready To Move & Green Glen Layout     & 3 BHK     & SoosePr & 1715        & 3 &  3 & 112.00\\\\\n\t Built-up  Area       & Ready To Move & Whitefield            & 5 Bedroom & ArsiaEx & 3453        & 4 &  0 & 231.00\\\\\n\t Super built-up  Area & Ready To Move & Richards Town         & 4 BHK     &         & 3600        & 5 & NA & 400.00\\\\\n\t Built-up  Area       & Ready To Move & Raja Rajeshwari Nagar & 2 BHK     & Mahla T & 1141        & 2 &  1 &  60.00\\\\\n\t Super built-up  Area & 18-Jun        & Padmanabhanagar       & 4 BHK     & SollyCl & 4689        & 4 &  1 & 488.00\\\\\n\t Super built-up  Area & Ready To Move & Doddathoguru          & 1 BHK     &         & 550         & 1 &  1 &  17.00\\\\\n\\end{tabular}\n",
            "text/plain": [
              "      area_type            availability  location                 size     \n",
              "1     Super built-up  Area 19-Dec        Electronic City Phase II 2 BHK    \n",
              "2     Plot  Area           Ready To Move Chikka Tirupathi         4 Bedroom\n",
              "3     Built-up  Area       Ready To Move Uttarahalli              3 BHK    \n",
              "4     Super built-up  Area Ready To Move Lingadheeranahalli       3 BHK    \n",
              "5     Super built-up  Area Ready To Move Kothanur                 2 BHK    \n",
              "6     Super built-up  Area Ready To Move Whitefield               2 BHK    \n",
              "7     Super built-up  Area 18-May        Old Airport Road         4 BHK    \n",
              "8     Super built-up  Area Ready To Move Rajaji Nagar             4 BHK    \n",
              "9     Super built-up  Area Ready To Move Marathahalli             3 BHK    \n",
              "10    Plot  Area           Ready To Move Gandhi Bazar             6 Bedroom\n",
              "11    Super built-up  Area 18-Feb        Whitefield               3 BHK    \n",
              "12    Plot  Area           Ready To Move Whitefield               4 Bedroom\n",
              "13    Super built-up  Area Ready To Move 7th Phase JP Nagar       2 BHK    \n",
              "14    Built-up  Area       Ready To Move Gottigere                2 BHK    \n",
              "15    Plot  Area           Ready To Move Sarjapur                 3 Bedroom\n",
              "16    Super built-up  Area Ready To Move Mysore Road              2 BHK    \n",
              "17    Super built-up  Area Ready To Move Bisuvanahalli            3 BHK    \n",
              "18    Super built-up  Area Ready To Move Raja Rajeshwari Nagar    3 BHK    \n",
              "19    Super built-up  Area Ready To Move Ramakrishnappa Layout    3 BHK    \n",
              "20    Super built-up  Area Ready To Move Manayata Tech Park       2 BHK    \n",
              "21    Built-up  Area       Ready To Move Kengeri                  1 BHK    \n",
              "22    Super built-up  Area 19-Dec        Binny Pete               3 BHK    \n",
              "23    Plot  Area           Ready To Move Thanisandra              4 Bedroom\n",
              "24    Super built-up  Area Ready To Move Bellandur                3 BHK    \n",
              "25    Super built-up  Area 18-Nov         Thanisandra             1 RK     \n",
              "26    Super built-up  Area 18-May        Mangammanapalya          3 BHK    \n",
              "27    Super built-up  Area Ready To Move Electronic City          2 BHK    \n",
              "28    Built-up  Area       20-Dec        Whitefield               3 BHK    \n",
              "29    Super built-up  Area 17-Oct        Ramagondanahalli         2 BHK    \n",
              "30    Super built-up  Area Ready To Move Electronic City          3 BHK    \n",
              "⋮     ⋮                    ⋮             ⋮                        ⋮        \n",
              "13291 Super built-up  Area Ready To Move Sarjapur  Road           4 BHK    \n",
              "13292 Plot  Area           18-Jan        Weavers Colony           1 Bedroom\n",
              "13293 Super built-up  Area 18-Jul        Udayapur Village         3 BHK    \n",
              "13294 Super built-up  Area Ready To Move Sarjapur  Road           4 BHK    \n",
              "13295 Super built-up  Area Ready To Move Sultan Palaya            4 BHK    \n",
              "13296 Super built-up  Area 18-Feb        Haralur Road             3 BHK    \n",
              "13297 Super built-up  Area Ready To Move Cox Town                 2 BHK    \n",
              "13298 Super built-up  Area Ready To Move Electronic City          2 BHK    \n",
              "13299 Super built-up  Area Ready To Move Kenchenahalli            2 BHK    \n",
              "13300 Super built-up  Area 18-Dec        Whitefield               4 BHK    \n",
              "13301 Plot  Area           Ready To Move Hosakerehalli            5 Bedroom\n",
              "13302 Super built-up  Area Ready To Move Kothanur                 3 BHK    \n",
              "13303 Super built-up  Area Ready To Move Annaiah Reddy Layout     2 BHK    \n",
              "13304 Plot  Area           Ready To Move Vidyaranyapura           5 Bedroom\n",
              "13305 Super built-up  Area Ready To Move Raja Rajeshwari Nagar    2 BHK    \n",
              "13306 Carpet  Area         Ready To Move Hulimavu                 1 BHK    \n",
              "13307 Plot  Area           Ready To Move Rajarajeshwari Nagara    4 Bedroom\n",
              "13308 Built-up  Area       Ready To Move Billekahalli             3 BHK    \n",
              "13309 Built-up  Area       Ready To Move Bannerghatta Road        3 BHK    \n",
              "13310 Super built-up  Area Ready To Move Yeshwanthpur             3 BHK    \n",
              "13311 Super built-up  Area Ready To Move Rachenahalli             2 BHK    \n",
              "13312 Plot  Area           Ready To Move Ramamurthy Nagar         7 Bedroom\n",
              "13313 Super built-up  Area Ready To Move Bellandur                2 BHK    \n",
              "13314 Super built-up  Area Ready To Move Uttarahalli              3 BHK    \n",
              "13315 Super built-up  Area Ready To Move Green Glen Layout        3 BHK    \n",
              "13316 Built-up  Area       Ready To Move Whitefield               5 Bedroom\n",
              "13317 Super built-up  Area Ready To Move Richards Town            4 BHK    \n",
              "13318 Built-up  Area       Ready To Move Raja Rajeshwari Nagar    2 BHK    \n",
              "13319 Super built-up  Area 18-Jun        Padmanabhanagar          4 BHK    \n",
              "13320 Super built-up  Area Ready To Move Doddathoguru             1 BHK    \n",
              "      society total_sqft  bath balcony price \n",
              "1     Coomee  1056        2     1       39.07\n",
              "2     Theanmp 2600        5     3      120.00\n",
              "3             1440        2     3       62.00\n",
              "4     Soiewre 1521        3     1       95.00\n",
              "5             1200        2     1       51.00\n",
              "6     DuenaTa 1170        2     1       38.00\n",
              "7     Jaades  2732        4    NA      204.00\n",
              "8     Brway G 3300        4    NA      600.00\n",
              "9             1310        3     1       63.25\n",
              "10            1020        6    NA      370.00\n",
              "11            1800        2     2       70.00\n",
              "12    Prrry M 2785        5     3      295.00\n",
              "13    Shncyes 1000        2     1       38.00\n",
              "14            1100        2     2       40.00\n",
              "15    Skityer 2250        3     2      148.00\n",
              "16    PrntaEn 1175        2     2       73.50\n",
              "17    Prityel 1180        3     2       48.00\n",
              "18    GrrvaGr 1540        3     3       60.00\n",
              "19    PeBayle 2770        4     2      290.00\n",
              "20            1100        2     2       48.00\n",
              "21            600         1     1       15.00\n",
              "22    She 2rk 1755        3     1      122.00\n",
              "23    Soitya  2800        5     2      380.00\n",
              "24            1767        3     1      103.00\n",
              "25    Bhe 2ko 510         1     0       25.25\n",
              "26            1250        3     2       56.00\n",
              "27    Itelaa  660         1     1       23.10\n",
              "28            1610        3     2       81.00\n",
              "29    ViistLa 1151        2     2       48.77\n",
              "30    KBityo  1025        2     1       47.00\n",
              "⋮     ⋮       ⋮           ⋮    ⋮       ⋮     \n",
              "13291 Maana E 4050        2     1      450.00\n",
              "13292         812         1     0       26.00\n",
              "13293 Plowsri 1440        2     2       63.93\n",
              "13294 Puallhi 2425        5     1      195.00\n",
              "13295 RSntsAp 2200        3     3       80.00\n",
              "13296 SNnia E 1810        3     2      112.00\n",
              "13297         1200        2     2      140.00\n",
              "13298 GMown E 1060        2     1       52.00\n",
              "13299 AriosPa 1015        2     2       60.00\n",
              "13300 Prtates 2830 - 2882 5     0      154.50\n",
              "13301         1500        6     2      145.00\n",
              "13302         1454        3     3       71.50\n",
              "13303         1075        2     2       48.00\n",
              "13304         774         5     3       70.00\n",
              "13305 GrrvaGr 1187        2     2       40.14\n",
              "13306         500         1     3      220.00\n",
              "13307         1200        5    NA      325.00\n",
              "13308         1805        3     3      134.00\n",
              "13309 Baanise 1527        3     1      142.00\n",
              "13310 IBityin 1675        3    NA       92.13\n",
              "13311         1050        2     2       52.71\n",
              "13312         1500        9     2      250.00\n",
              "13313         1262        2     2       47.00\n",
              "13314 Aklia R 1345        2     1       57.00\n",
              "13315 SoosePr 1715        3     3      112.00\n",
              "13316 ArsiaEx 3453        4     0      231.00\n",
              "13317         3600        5    NA      400.00\n",
              "13318 Mahla T 1141        2     1       60.00\n",
              "13319 SollyCl 4689        4     1      488.00\n",
              "13320         550         1     1       17.00"
            ]
          },
          "metadata": {}
        }
      ]
    },
    {
      "cell_type": "code",
      "source": [
        "hp_data$price <- ifelse(is.na(hp_data$price), 0, hp_data$price)"
      ],
      "metadata": {
        "id": "YU0OaFlMkf-s"
      },
      "execution_count": 38,
      "outputs": []
    },
    {
      "cell_type": "code",
      "source": [
        "hp_data"
      ],
      "metadata": {
        "colab": {
          "base_uri": "https://localhost:8080/",
          "height": 1000
        },
        "id": "-lsEq6k_k53B",
        "outputId": "d47c6ba4-e46e-4e52-83ca-104016ad3d6c"
      },
      "execution_count": 39,
      "outputs": [
        {
          "output_type": "display_data",
          "data": {
            "text/html": [
              "<table class=\"dataframe\">\n",
              "<caption>A data.frame: 13320 × 9</caption>\n",
              "<thead>\n",
              "\t<tr><th scope=col>area_type</th><th scope=col>availability</th><th scope=col>location</th><th scope=col>size</th><th scope=col>society</th><th scope=col>total_sqft</th><th scope=col>bath</th><th scope=col>balcony</th><th scope=col>price</th></tr>\n",
              "\t<tr><th scope=col>&lt;chr&gt;</th><th scope=col>&lt;chr&gt;</th><th scope=col>&lt;chr&gt;</th><th scope=col>&lt;chr&gt;</th><th scope=col>&lt;chr&gt;</th><th scope=col>&lt;chr&gt;</th><th scope=col>&lt;int&gt;</th><th scope=col>&lt;int&gt;</th><th scope=col>&lt;dbl&gt;</th></tr>\n",
              "</thead>\n",
              "<tbody>\n",
              "\t<tr><td>Super built-up  Area</td><td>19-Dec       </td><td>Electronic City Phase II</td><td>2 BHK    </td><td>Coomee </td><td>1056</td><td>2</td><td> 1</td><td> 39.07</td></tr>\n",
              "\t<tr><td>Plot  Area          </td><td>Ready To Move</td><td>Chikka Tirupathi        </td><td>4 Bedroom</td><td>Theanmp</td><td>2600</td><td>5</td><td> 3</td><td>120.00</td></tr>\n",
              "\t<tr><td>Built-up  Area      </td><td>Ready To Move</td><td>Uttarahalli             </td><td>3 BHK    </td><td>       </td><td>1440</td><td>2</td><td> 3</td><td> 62.00</td></tr>\n",
              "\t<tr><td>Super built-up  Area</td><td>Ready To Move</td><td>Lingadheeranahalli      </td><td>3 BHK    </td><td>Soiewre</td><td>1521</td><td>3</td><td> 1</td><td> 95.00</td></tr>\n",
              "\t<tr><td>Super built-up  Area</td><td>Ready To Move</td><td>Kothanur                </td><td>2 BHK    </td><td>       </td><td>1200</td><td>2</td><td> 1</td><td> 51.00</td></tr>\n",
              "\t<tr><td>Super built-up  Area</td><td>Ready To Move</td><td>Whitefield              </td><td>2 BHK    </td><td>DuenaTa</td><td>1170</td><td>2</td><td> 1</td><td> 38.00</td></tr>\n",
              "\t<tr><td>Super built-up  Area</td><td>18-May       </td><td>Old Airport Road        </td><td>4 BHK    </td><td>Jaades </td><td>2732</td><td>4</td><td>NA</td><td>204.00</td></tr>\n",
              "\t<tr><td>Super built-up  Area</td><td>Ready To Move</td><td>Rajaji Nagar            </td><td>4 BHK    </td><td>Brway G</td><td>3300</td><td>4</td><td>NA</td><td>600.00</td></tr>\n",
              "\t<tr><td>Super built-up  Area</td><td>Ready To Move</td><td>Marathahalli            </td><td>3 BHK    </td><td>       </td><td>1310</td><td>3</td><td> 1</td><td> 63.25</td></tr>\n",
              "\t<tr><td>Plot  Area          </td><td>Ready To Move</td><td>Gandhi Bazar            </td><td>6 Bedroom</td><td>       </td><td>1020</td><td>6</td><td>NA</td><td>370.00</td></tr>\n",
              "\t<tr><td>Super built-up  Area</td><td>18-Feb       </td><td>Whitefield              </td><td>3 BHK    </td><td>       </td><td>1800</td><td>2</td><td> 2</td><td> 70.00</td></tr>\n",
              "\t<tr><td>Plot  Area          </td><td>Ready To Move</td><td>Whitefield              </td><td>4 Bedroom</td><td>Prrry M</td><td>2785</td><td>5</td><td> 3</td><td>295.00</td></tr>\n",
              "\t<tr><td>Super built-up  Area</td><td>Ready To Move</td><td>7th Phase JP Nagar      </td><td>2 BHK    </td><td>Shncyes</td><td>1000</td><td>2</td><td> 1</td><td> 38.00</td></tr>\n",
              "\t<tr><td>Built-up  Area      </td><td>Ready To Move</td><td>Gottigere               </td><td>2 BHK    </td><td>       </td><td>1100</td><td>2</td><td> 2</td><td> 40.00</td></tr>\n",
              "\t<tr><td>Plot  Area          </td><td>Ready To Move</td><td>Sarjapur                </td><td>3 Bedroom</td><td>Skityer</td><td>2250</td><td>3</td><td> 2</td><td>148.00</td></tr>\n",
              "\t<tr><td>Super built-up  Area</td><td>Ready To Move</td><td>Mysore Road             </td><td>2 BHK    </td><td>PrntaEn</td><td>1175</td><td>2</td><td> 2</td><td> 73.50</td></tr>\n",
              "\t<tr><td>Super built-up  Area</td><td>Ready To Move</td><td>Bisuvanahalli           </td><td>3 BHK    </td><td>Prityel</td><td>1180</td><td>3</td><td> 2</td><td> 48.00</td></tr>\n",
              "\t<tr><td>Super built-up  Area</td><td>Ready To Move</td><td>Raja Rajeshwari Nagar   </td><td>3 BHK    </td><td>GrrvaGr</td><td>1540</td><td>3</td><td> 3</td><td> 60.00</td></tr>\n",
              "\t<tr><td>Super built-up  Area</td><td>Ready To Move</td><td>Ramakrishnappa Layout   </td><td>3 BHK    </td><td>PeBayle</td><td>2770</td><td>4</td><td> 2</td><td>290.00</td></tr>\n",
              "\t<tr><td>Super built-up  Area</td><td>Ready To Move</td><td>Manayata Tech Park      </td><td>2 BHK    </td><td>       </td><td>1100</td><td>2</td><td> 2</td><td> 48.00</td></tr>\n",
              "\t<tr><td>Built-up  Area      </td><td>Ready To Move</td><td>Kengeri                 </td><td>1 BHK    </td><td>       </td><td>600 </td><td>1</td><td> 1</td><td> 15.00</td></tr>\n",
              "\t<tr><td>Super built-up  Area</td><td>19-Dec       </td><td>Binny Pete              </td><td>3 BHK    </td><td>She 2rk</td><td>1755</td><td>3</td><td> 1</td><td>122.00</td></tr>\n",
              "\t<tr><td>Plot  Area          </td><td>Ready To Move</td><td>Thanisandra             </td><td>4 Bedroom</td><td>Soitya </td><td>2800</td><td>5</td><td> 2</td><td>380.00</td></tr>\n",
              "\t<tr><td>Super built-up  Area</td><td>Ready To Move</td><td>Bellandur               </td><td>3 BHK    </td><td>       </td><td>1767</td><td>3</td><td> 1</td><td>103.00</td></tr>\n",
              "\t<tr><td>Super built-up  Area</td><td>18-Nov       </td><td> Thanisandra            </td><td>1 RK     </td><td>Bhe 2ko</td><td>510 </td><td>1</td><td> 0</td><td> 25.25</td></tr>\n",
              "\t<tr><td>Super built-up  Area</td><td>18-May       </td><td>Mangammanapalya         </td><td>3 BHK    </td><td>       </td><td>1250</td><td>3</td><td> 2</td><td> 56.00</td></tr>\n",
              "\t<tr><td>Super built-up  Area</td><td>Ready To Move</td><td>Electronic City         </td><td>2 BHK    </td><td>Itelaa </td><td>660 </td><td>1</td><td> 1</td><td> 23.10</td></tr>\n",
              "\t<tr><td>Built-up  Area      </td><td>20-Dec       </td><td>Whitefield              </td><td>3 BHK    </td><td>       </td><td>1610</td><td>3</td><td> 2</td><td> 81.00</td></tr>\n",
              "\t<tr><td>Super built-up  Area</td><td>17-Oct       </td><td>Ramagondanahalli        </td><td>2 BHK    </td><td>ViistLa</td><td>1151</td><td>2</td><td> 2</td><td> 48.77</td></tr>\n",
              "\t<tr><td>Super built-up  Area</td><td>Ready To Move</td><td>Electronic City         </td><td>3 BHK    </td><td>KBityo </td><td>1025</td><td>2</td><td> 1</td><td> 47.00</td></tr>\n",
              "\t<tr><td>⋮</td><td>⋮</td><td>⋮</td><td>⋮</td><td>⋮</td><td>⋮</td><td>⋮</td><td>⋮</td><td>⋮</td></tr>\n",
              "\t<tr><td>Super built-up  Area</td><td>Ready To Move</td><td>Sarjapur  Road       </td><td>4 BHK    </td><td>Maana E</td><td>4050       </td><td>2</td><td> 1</td><td>450.00</td></tr>\n",
              "\t<tr><td>Plot  Area          </td><td>18-Jan       </td><td>Weavers Colony       </td><td>1 Bedroom</td><td>       </td><td>812        </td><td>1</td><td> 0</td><td> 26.00</td></tr>\n",
              "\t<tr><td>Super built-up  Area</td><td>18-Jul       </td><td>Udayapur Village     </td><td>3 BHK    </td><td>Plowsri</td><td>1440       </td><td>2</td><td> 2</td><td> 63.93</td></tr>\n",
              "\t<tr><td>Super built-up  Area</td><td>Ready To Move</td><td>Sarjapur  Road       </td><td>4 BHK    </td><td>Puallhi</td><td>2425       </td><td>5</td><td> 1</td><td>195.00</td></tr>\n",
              "\t<tr><td>Super built-up  Area</td><td>Ready To Move</td><td>Sultan Palaya        </td><td>4 BHK    </td><td>RSntsAp</td><td>2200       </td><td>3</td><td> 3</td><td> 80.00</td></tr>\n",
              "\t<tr><td>Super built-up  Area</td><td>18-Feb       </td><td>Haralur Road         </td><td>3 BHK    </td><td>SNnia E</td><td>1810       </td><td>3</td><td> 2</td><td>112.00</td></tr>\n",
              "\t<tr><td>Super built-up  Area</td><td>Ready To Move</td><td>Cox Town             </td><td>2 BHK    </td><td>       </td><td>1200       </td><td>2</td><td> 2</td><td>140.00</td></tr>\n",
              "\t<tr><td>Super built-up  Area</td><td>Ready To Move</td><td>Electronic City      </td><td>2 BHK    </td><td>GMown E</td><td>1060       </td><td>2</td><td> 1</td><td> 52.00</td></tr>\n",
              "\t<tr><td>Super built-up  Area</td><td>Ready To Move</td><td>Kenchenahalli        </td><td>2 BHK    </td><td>AriosPa</td><td>1015       </td><td>2</td><td> 2</td><td> 60.00</td></tr>\n",
              "\t<tr><td>Super built-up  Area</td><td>18-Dec       </td><td>Whitefield           </td><td>4 BHK    </td><td>Prtates</td><td>2830 - 2882</td><td>5</td><td> 0</td><td>154.50</td></tr>\n",
              "\t<tr><td>Plot  Area          </td><td>Ready To Move</td><td>Hosakerehalli        </td><td>5 Bedroom</td><td>       </td><td>1500       </td><td>6</td><td> 2</td><td>145.00</td></tr>\n",
              "\t<tr><td>Super built-up  Area</td><td>Ready To Move</td><td>Kothanur             </td><td>3 BHK    </td><td>       </td><td>1454       </td><td>3</td><td> 3</td><td> 71.50</td></tr>\n",
              "\t<tr><td>Super built-up  Area</td><td>Ready To Move</td><td>Annaiah Reddy Layout </td><td>2 BHK    </td><td>       </td><td>1075       </td><td>2</td><td> 2</td><td> 48.00</td></tr>\n",
              "\t<tr><td>Plot  Area          </td><td>Ready To Move</td><td>Vidyaranyapura       </td><td>5 Bedroom</td><td>       </td><td>774        </td><td>5</td><td> 3</td><td> 70.00</td></tr>\n",
              "\t<tr><td>Super built-up  Area</td><td>Ready To Move</td><td>Raja Rajeshwari Nagar</td><td>2 BHK    </td><td>GrrvaGr</td><td>1187       </td><td>2</td><td> 2</td><td> 40.14</td></tr>\n",
              "\t<tr><td>Carpet  Area        </td><td>Ready To Move</td><td>Hulimavu             </td><td>1 BHK    </td><td>       </td><td>500        </td><td>1</td><td> 3</td><td>220.00</td></tr>\n",
              "\t<tr><td>Plot  Area          </td><td>Ready To Move</td><td>Rajarajeshwari Nagara</td><td>4 Bedroom</td><td>       </td><td>1200       </td><td>5</td><td>NA</td><td>325.00</td></tr>\n",
              "\t<tr><td>Built-up  Area      </td><td>Ready To Move</td><td>Billekahalli         </td><td>3 BHK    </td><td>       </td><td>1805       </td><td>3</td><td> 3</td><td>134.00</td></tr>\n",
              "\t<tr><td>Built-up  Area      </td><td>Ready To Move</td><td>Bannerghatta Road    </td><td>3 BHK    </td><td>Baanise</td><td>1527       </td><td>3</td><td> 1</td><td>142.00</td></tr>\n",
              "\t<tr><td>Super built-up  Area</td><td>Ready To Move</td><td>Yeshwanthpur         </td><td>3 BHK    </td><td>IBityin</td><td>1675       </td><td>3</td><td>NA</td><td> 92.13</td></tr>\n",
              "\t<tr><td>Super built-up  Area</td><td>Ready To Move</td><td>Rachenahalli         </td><td>2 BHK    </td><td>       </td><td>1050       </td><td>2</td><td> 2</td><td> 52.71</td></tr>\n",
              "\t<tr><td>Plot  Area          </td><td>Ready To Move</td><td>Ramamurthy Nagar     </td><td>7 Bedroom</td><td>       </td><td>1500       </td><td>9</td><td> 2</td><td>250.00</td></tr>\n",
              "\t<tr><td>Super built-up  Area</td><td>Ready To Move</td><td>Bellandur            </td><td>2 BHK    </td><td>       </td><td>1262       </td><td>2</td><td> 2</td><td> 47.00</td></tr>\n",
              "\t<tr><td>Super built-up  Area</td><td>Ready To Move</td><td>Uttarahalli          </td><td>3 BHK    </td><td>Aklia R</td><td>1345       </td><td>2</td><td> 1</td><td> 57.00</td></tr>\n",
              "\t<tr><td>Super built-up  Area</td><td>Ready To Move</td><td>Green Glen Layout    </td><td>3 BHK    </td><td>SoosePr</td><td>1715       </td><td>3</td><td> 3</td><td>112.00</td></tr>\n",
              "\t<tr><td>Built-up  Area      </td><td>Ready To Move</td><td>Whitefield           </td><td>5 Bedroom</td><td>ArsiaEx</td><td>3453       </td><td>4</td><td> 0</td><td>231.00</td></tr>\n",
              "\t<tr><td>Super built-up  Area</td><td>Ready To Move</td><td>Richards Town        </td><td>4 BHK    </td><td>       </td><td>3600       </td><td>5</td><td>NA</td><td>400.00</td></tr>\n",
              "\t<tr><td>Built-up  Area      </td><td>Ready To Move</td><td>Raja Rajeshwari Nagar</td><td>2 BHK    </td><td>Mahla T</td><td>1141       </td><td>2</td><td> 1</td><td> 60.00</td></tr>\n",
              "\t<tr><td>Super built-up  Area</td><td>18-Jun       </td><td>Padmanabhanagar      </td><td>4 BHK    </td><td>SollyCl</td><td>4689       </td><td>4</td><td> 1</td><td>488.00</td></tr>\n",
              "\t<tr><td>Super built-up  Area</td><td>Ready To Move</td><td>Doddathoguru         </td><td>1 BHK    </td><td>       </td><td>550        </td><td>1</td><td> 1</td><td> 17.00</td></tr>\n",
              "</tbody>\n",
              "</table>\n"
            ],
            "text/markdown": "\nA data.frame: 13320 × 9\n\n| area_type &lt;chr&gt; | availability &lt;chr&gt; | location &lt;chr&gt; | size &lt;chr&gt; | society &lt;chr&gt; | total_sqft &lt;chr&gt; | bath &lt;int&gt; | balcony &lt;int&gt; | price &lt;dbl&gt; |\n|---|---|---|---|---|---|---|---|---|\n| Super built-up  Area | 19-Dec        | Electronic City Phase II | 2 BHK     | Coomee  | 1056 | 2 |  1 |  39.07 |\n| Plot  Area           | Ready To Move | Chikka Tirupathi         | 4 Bedroom | Theanmp | 2600 | 5 |  3 | 120.00 |\n| Built-up  Area       | Ready To Move | Uttarahalli              | 3 BHK     | <!----> | 1440 | 2 |  3 |  62.00 |\n| Super built-up  Area | Ready To Move | Lingadheeranahalli       | 3 BHK     | Soiewre | 1521 | 3 |  1 |  95.00 |\n| Super built-up  Area | Ready To Move | Kothanur                 | 2 BHK     | <!----> | 1200 | 2 |  1 |  51.00 |\n| Super built-up  Area | Ready To Move | Whitefield               | 2 BHK     | DuenaTa | 1170 | 2 |  1 |  38.00 |\n| Super built-up  Area | 18-May        | Old Airport Road         | 4 BHK     | Jaades  | 2732 | 4 | NA | 204.00 |\n| Super built-up  Area | Ready To Move | Rajaji Nagar             | 4 BHK     | Brway G | 3300 | 4 | NA | 600.00 |\n| Super built-up  Area | Ready To Move | Marathahalli             | 3 BHK     | <!----> | 1310 | 3 |  1 |  63.25 |\n| Plot  Area           | Ready To Move | Gandhi Bazar             | 6 Bedroom | <!----> | 1020 | 6 | NA | 370.00 |\n| Super built-up  Area | 18-Feb        | Whitefield               | 3 BHK     | <!----> | 1800 | 2 |  2 |  70.00 |\n| Plot  Area           | Ready To Move | Whitefield               | 4 Bedroom | Prrry M | 2785 | 5 |  3 | 295.00 |\n| Super built-up  Area | Ready To Move | 7th Phase JP Nagar       | 2 BHK     | Shncyes | 1000 | 2 |  1 |  38.00 |\n| Built-up  Area       | Ready To Move | Gottigere                | 2 BHK     | <!----> | 1100 | 2 |  2 |  40.00 |\n| Plot  Area           | Ready To Move | Sarjapur                 | 3 Bedroom | Skityer | 2250 | 3 |  2 | 148.00 |\n| Super built-up  Area | Ready To Move | Mysore Road              | 2 BHK     | PrntaEn | 1175 | 2 |  2 |  73.50 |\n| Super built-up  Area | Ready To Move | Bisuvanahalli            | 3 BHK     | Prityel | 1180 | 3 |  2 |  48.00 |\n| Super built-up  Area | Ready To Move | Raja Rajeshwari Nagar    | 3 BHK     | GrrvaGr | 1540 | 3 |  3 |  60.00 |\n| Super built-up  Area | Ready To Move | Ramakrishnappa Layout    | 3 BHK     | PeBayle | 2770 | 4 |  2 | 290.00 |\n| Super built-up  Area | Ready To Move | Manayata Tech Park       | 2 BHK     | <!----> | 1100 | 2 |  2 |  48.00 |\n| Built-up  Area       | Ready To Move | Kengeri                  | 1 BHK     | <!----> | 600  | 1 |  1 |  15.00 |\n| Super built-up  Area | 19-Dec        | Binny Pete               | 3 BHK     | She 2rk | 1755 | 3 |  1 | 122.00 |\n| Plot  Area           | Ready To Move | Thanisandra              | 4 Bedroom | Soitya  | 2800 | 5 |  2 | 380.00 |\n| Super built-up  Area | Ready To Move | Bellandur                | 3 BHK     | <!----> | 1767 | 3 |  1 | 103.00 |\n| Super built-up  Area | 18-Nov        |  Thanisandra             | 1 RK      | Bhe 2ko | 510  | 1 |  0 |  25.25 |\n| Super built-up  Area | 18-May        | Mangammanapalya          | 3 BHK     | <!----> | 1250 | 3 |  2 |  56.00 |\n| Super built-up  Area | Ready To Move | Electronic City          | 2 BHK     | Itelaa  | 660  | 1 |  1 |  23.10 |\n| Built-up  Area       | 20-Dec        | Whitefield               | 3 BHK     | <!----> | 1610 | 3 |  2 |  81.00 |\n| Super built-up  Area | 17-Oct        | Ramagondanahalli         | 2 BHK     | ViistLa | 1151 | 2 |  2 |  48.77 |\n| Super built-up  Area | Ready To Move | Electronic City          | 3 BHK     | KBityo  | 1025 | 2 |  1 |  47.00 |\n| ⋮ | ⋮ | ⋮ | ⋮ | ⋮ | ⋮ | ⋮ | ⋮ | ⋮ |\n| Super built-up  Area | Ready To Move | Sarjapur  Road        | 4 BHK     | Maana E | 4050        | 2 |  1 | 450.00 |\n| Plot  Area           | 18-Jan        | Weavers Colony        | 1 Bedroom | <!----> | 812         | 1 |  0 |  26.00 |\n| Super built-up  Area | 18-Jul        | Udayapur Village      | 3 BHK     | Plowsri | 1440        | 2 |  2 |  63.93 |\n| Super built-up  Area | Ready To Move | Sarjapur  Road        | 4 BHK     | Puallhi | 2425        | 5 |  1 | 195.00 |\n| Super built-up  Area | Ready To Move | Sultan Palaya         | 4 BHK     | RSntsAp | 2200        | 3 |  3 |  80.00 |\n| Super built-up  Area | 18-Feb        | Haralur Road          | 3 BHK     | SNnia E | 1810        | 3 |  2 | 112.00 |\n| Super built-up  Area | Ready To Move | Cox Town              | 2 BHK     | <!----> | 1200        | 2 |  2 | 140.00 |\n| Super built-up  Area | Ready To Move | Electronic City       | 2 BHK     | GMown E | 1060        | 2 |  1 |  52.00 |\n| Super built-up  Area | Ready To Move | Kenchenahalli         | 2 BHK     | AriosPa | 1015        | 2 |  2 |  60.00 |\n| Super built-up  Area | 18-Dec        | Whitefield            | 4 BHK     | Prtates | 2830 - 2882 | 5 |  0 | 154.50 |\n| Plot  Area           | Ready To Move | Hosakerehalli         | 5 Bedroom | <!----> | 1500        | 6 |  2 | 145.00 |\n| Super built-up  Area | Ready To Move | Kothanur              | 3 BHK     | <!----> | 1454        | 3 |  3 |  71.50 |\n| Super built-up  Area | Ready To Move | Annaiah Reddy Layout  | 2 BHK     | <!----> | 1075        | 2 |  2 |  48.00 |\n| Plot  Area           | Ready To Move | Vidyaranyapura        | 5 Bedroom | <!----> | 774         | 5 |  3 |  70.00 |\n| Super built-up  Area | Ready To Move | Raja Rajeshwari Nagar | 2 BHK     | GrrvaGr | 1187        | 2 |  2 |  40.14 |\n| Carpet  Area         | Ready To Move | Hulimavu              | 1 BHK     | <!----> | 500         | 1 |  3 | 220.00 |\n| Plot  Area           | Ready To Move | Rajarajeshwari Nagara | 4 Bedroom | <!----> | 1200        | 5 | NA | 325.00 |\n| Built-up  Area       | Ready To Move | Billekahalli          | 3 BHK     | <!----> | 1805        | 3 |  3 | 134.00 |\n| Built-up  Area       | Ready To Move | Bannerghatta Road     | 3 BHK     | Baanise | 1527        | 3 |  1 | 142.00 |\n| Super built-up  Area | Ready To Move | Yeshwanthpur          | 3 BHK     | IBityin | 1675        | 3 | NA |  92.13 |\n| Super built-up  Area | Ready To Move | Rachenahalli          | 2 BHK     | <!----> | 1050        | 2 |  2 |  52.71 |\n| Plot  Area           | Ready To Move | Ramamurthy Nagar      | 7 Bedroom | <!----> | 1500        | 9 |  2 | 250.00 |\n| Super built-up  Area | Ready To Move | Bellandur             | 2 BHK     | <!----> | 1262        | 2 |  2 |  47.00 |\n| Super built-up  Area | Ready To Move | Uttarahalli           | 3 BHK     | Aklia R | 1345        | 2 |  1 |  57.00 |\n| Super built-up  Area | Ready To Move | Green Glen Layout     | 3 BHK     | SoosePr | 1715        | 3 |  3 | 112.00 |\n| Built-up  Area       | Ready To Move | Whitefield            | 5 Bedroom | ArsiaEx | 3453        | 4 |  0 | 231.00 |\n| Super built-up  Area | Ready To Move | Richards Town         | 4 BHK     | <!----> | 3600        | 5 | NA | 400.00 |\n| Built-up  Area       | Ready To Move | Raja Rajeshwari Nagar | 2 BHK     | Mahla T | 1141        | 2 |  1 |  60.00 |\n| Super built-up  Area | 18-Jun        | Padmanabhanagar       | 4 BHK     | SollyCl | 4689        | 4 |  1 | 488.00 |\n| Super built-up  Area | Ready To Move | Doddathoguru          | 1 BHK     | <!----> | 550         | 1 |  1 |  17.00 |\n\n",
            "text/latex": "A data.frame: 13320 × 9\n\\begin{tabular}{lllllllll}\n area\\_type & availability & location & size & society & total\\_sqft & bath & balcony & price\\\\\n <chr> & <chr> & <chr> & <chr> & <chr> & <chr> & <int> & <int> & <dbl>\\\\\n\\hline\n\t Super built-up  Area & 19-Dec        & Electronic City Phase II & 2 BHK     & Coomee  & 1056 & 2 &  1 &  39.07\\\\\n\t Plot  Area           & Ready To Move & Chikka Tirupathi         & 4 Bedroom & Theanmp & 2600 & 5 &  3 & 120.00\\\\\n\t Built-up  Area       & Ready To Move & Uttarahalli              & 3 BHK     &         & 1440 & 2 &  3 &  62.00\\\\\n\t Super built-up  Area & Ready To Move & Lingadheeranahalli       & 3 BHK     & Soiewre & 1521 & 3 &  1 &  95.00\\\\\n\t Super built-up  Area & Ready To Move & Kothanur                 & 2 BHK     &         & 1200 & 2 &  1 &  51.00\\\\\n\t Super built-up  Area & Ready To Move & Whitefield               & 2 BHK     & DuenaTa & 1170 & 2 &  1 &  38.00\\\\\n\t Super built-up  Area & 18-May        & Old Airport Road         & 4 BHK     & Jaades  & 2732 & 4 & NA & 204.00\\\\\n\t Super built-up  Area & Ready To Move & Rajaji Nagar             & 4 BHK     & Brway G & 3300 & 4 & NA & 600.00\\\\\n\t Super built-up  Area & Ready To Move & Marathahalli             & 3 BHK     &         & 1310 & 3 &  1 &  63.25\\\\\n\t Plot  Area           & Ready To Move & Gandhi Bazar             & 6 Bedroom &         & 1020 & 6 & NA & 370.00\\\\\n\t Super built-up  Area & 18-Feb        & Whitefield               & 3 BHK     &         & 1800 & 2 &  2 &  70.00\\\\\n\t Plot  Area           & Ready To Move & Whitefield               & 4 Bedroom & Prrry M & 2785 & 5 &  3 & 295.00\\\\\n\t Super built-up  Area & Ready To Move & 7th Phase JP Nagar       & 2 BHK     & Shncyes & 1000 & 2 &  1 &  38.00\\\\\n\t Built-up  Area       & Ready To Move & Gottigere                & 2 BHK     &         & 1100 & 2 &  2 &  40.00\\\\\n\t Plot  Area           & Ready To Move & Sarjapur                 & 3 Bedroom & Skityer & 2250 & 3 &  2 & 148.00\\\\\n\t Super built-up  Area & Ready To Move & Mysore Road              & 2 BHK     & PrntaEn & 1175 & 2 &  2 &  73.50\\\\\n\t Super built-up  Area & Ready To Move & Bisuvanahalli            & 3 BHK     & Prityel & 1180 & 3 &  2 &  48.00\\\\\n\t Super built-up  Area & Ready To Move & Raja Rajeshwari Nagar    & 3 BHK     & GrrvaGr & 1540 & 3 &  3 &  60.00\\\\\n\t Super built-up  Area & Ready To Move & Ramakrishnappa Layout    & 3 BHK     & PeBayle & 2770 & 4 &  2 & 290.00\\\\\n\t Super built-up  Area & Ready To Move & Manayata Tech Park       & 2 BHK     &         & 1100 & 2 &  2 &  48.00\\\\\n\t Built-up  Area       & Ready To Move & Kengeri                  & 1 BHK     &         & 600  & 1 &  1 &  15.00\\\\\n\t Super built-up  Area & 19-Dec        & Binny Pete               & 3 BHK     & She 2rk & 1755 & 3 &  1 & 122.00\\\\\n\t Plot  Area           & Ready To Move & Thanisandra              & 4 Bedroom & Soitya  & 2800 & 5 &  2 & 380.00\\\\\n\t Super built-up  Area & Ready To Move & Bellandur                & 3 BHK     &         & 1767 & 3 &  1 & 103.00\\\\\n\t Super built-up  Area & 18-Nov        &  Thanisandra             & 1 RK      & Bhe 2ko & 510  & 1 &  0 &  25.25\\\\\n\t Super built-up  Area & 18-May        & Mangammanapalya          & 3 BHK     &         & 1250 & 3 &  2 &  56.00\\\\\n\t Super built-up  Area & Ready To Move & Electronic City          & 2 BHK     & Itelaa  & 660  & 1 &  1 &  23.10\\\\\n\t Built-up  Area       & 20-Dec        & Whitefield               & 3 BHK     &         & 1610 & 3 &  2 &  81.00\\\\\n\t Super built-up  Area & 17-Oct        & Ramagondanahalli         & 2 BHK     & ViistLa & 1151 & 2 &  2 &  48.77\\\\\n\t Super built-up  Area & Ready To Move & Electronic City          & 3 BHK     & KBityo  & 1025 & 2 &  1 &  47.00\\\\\n\t ⋮ & ⋮ & ⋮ & ⋮ & ⋮ & ⋮ & ⋮ & ⋮ & ⋮\\\\\n\t Super built-up  Area & Ready To Move & Sarjapur  Road        & 4 BHK     & Maana E & 4050        & 2 &  1 & 450.00\\\\\n\t Plot  Area           & 18-Jan        & Weavers Colony        & 1 Bedroom &         & 812         & 1 &  0 &  26.00\\\\\n\t Super built-up  Area & 18-Jul        & Udayapur Village      & 3 BHK     & Plowsri & 1440        & 2 &  2 &  63.93\\\\\n\t Super built-up  Area & Ready To Move & Sarjapur  Road        & 4 BHK     & Puallhi & 2425        & 5 &  1 & 195.00\\\\\n\t Super built-up  Area & Ready To Move & Sultan Palaya         & 4 BHK     & RSntsAp & 2200        & 3 &  3 &  80.00\\\\\n\t Super built-up  Area & 18-Feb        & Haralur Road          & 3 BHK     & SNnia E & 1810        & 3 &  2 & 112.00\\\\\n\t Super built-up  Area & Ready To Move & Cox Town              & 2 BHK     &         & 1200        & 2 &  2 & 140.00\\\\\n\t Super built-up  Area & Ready To Move & Electronic City       & 2 BHK     & GMown E & 1060        & 2 &  1 &  52.00\\\\\n\t Super built-up  Area & Ready To Move & Kenchenahalli         & 2 BHK     & AriosPa & 1015        & 2 &  2 &  60.00\\\\\n\t Super built-up  Area & 18-Dec        & Whitefield            & 4 BHK     & Prtates & 2830 - 2882 & 5 &  0 & 154.50\\\\\n\t Plot  Area           & Ready To Move & Hosakerehalli         & 5 Bedroom &         & 1500        & 6 &  2 & 145.00\\\\\n\t Super built-up  Area & Ready To Move & Kothanur              & 3 BHK     &         & 1454        & 3 &  3 &  71.50\\\\\n\t Super built-up  Area & Ready To Move & Annaiah Reddy Layout  & 2 BHK     &         & 1075        & 2 &  2 &  48.00\\\\\n\t Plot  Area           & Ready To Move & Vidyaranyapura        & 5 Bedroom &         & 774         & 5 &  3 &  70.00\\\\\n\t Super built-up  Area & Ready To Move & Raja Rajeshwari Nagar & 2 BHK     & GrrvaGr & 1187        & 2 &  2 &  40.14\\\\\n\t Carpet  Area         & Ready To Move & Hulimavu              & 1 BHK     &         & 500         & 1 &  3 & 220.00\\\\\n\t Plot  Area           & Ready To Move & Rajarajeshwari Nagara & 4 Bedroom &         & 1200        & 5 & NA & 325.00\\\\\n\t Built-up  Area       & Ready To Move & Billekahalli          & 3 BHK     &         & 1805        & 3 &  3 & 134.00\\\\\n\t Built-up  Area       & Ready To Move & Bannerghatta Road     & 3 BHK     & Baanise & 1527        & 3 &  1 & 142.00\\\\\n\t Super built-up  Area & Ready To Move & Yeshwanthpur          & 3 BHK     & IBityin & 1675        & 3 & NA &  92.13\\\\\n\t Super built-up  Area & Ready To Move & Rachenahalli          & 2 BHK     &         & 1050        & 2 &  2 &  52.71\\\\\n\t Plot  Area           & Ready To Move & Ramamurthy Nagar      & 7 Bedroom &         & 1500        & 9 &  2 & 250.00\\\\\n\t Super built-up  Area & Ready To Move & Bellandur             & 2 BHK     &         & 1262        & 2 &  2 &  47.00\\\\\n\t Super built-up  Area & Ready To Move & Uttarahalli           & 3 BHK     & Aklia R & 1345        & 2 &  1 &  57.00\\\\\n\t Super built-up  Area & Ready To Move & Green Glen Layout     & 3 BHK     & SoosePr & 1715        & 3 &  3 & 112.00\\\\\n\t Built-up  Area       & Ready To Move & Whitefield            & 5 Bedroom & ArsiaEx & 3453        & 4 &  0 & 231.00\\\\\n\t Super built-up  Area & Ready To Move & Richards Town         & 4 BHK     &         & 3600        & 5 & NA & 400.00\\\\\n\t Built-up  Area       & Ready To Move & Raja Rajeshwari Nagar & 2 BHK     & Mahla T & 1141        & 2 &  1 &  60.00\\\\\n\t Super built-up  Area & 18-Jun        & Padmanabhanagar       & 4 BHK     & SollyCl & 4689        & 4 &  1 & 488.00\\\\\n\t Super built-up  Area & Ready To Move & Doddathoguru          & 1 BHK     &         & 550         & 1 &  1 &  17.00\\\\\n\\end{tabular}\n",
            "text/plain": [
              "      area_type            availability  location                 size     \n",
              "1     Super built-up  Area 19-Dec        Electronic City Phase II 2 BHK    \n",
              "2     Plot  Area           Ready To Move Chikka Tirupathi         4 Bedroom\n",
              "3     Built-up  Area       Ready To Move Uttarahalli              3 BHK    \n",
              "4     Super built-up  Area Ready To Move Lingadheeranahalli       3 BHK    \n",
              "5     Super built-up  Area Ready To Move Kothanur                 2 BHK    \n",
              "6     Super built-up  Area Ready To Move Whitefield               2 BHK    \n",
              "7     Super built-up  Area 18-May        Old Airport Road         4 BHK    \n",
              "8     Super built-up  Area Ready To Move Rajaji Nagar             4 BHK    \n",
              "9     Super built-up  Area Ready To Move Marathahalli             3 BHK    \n",
              "10    Plot  Area           Ready To Move Gandhi Bazar             6 Bedroom\n",
              "11    Super built-up  Area 18-Feb        Whitefield               3 BHK    \n",
              "12    Plot  Area           Ready To Move Whitefield               4 Bedroom\n",
              "13    Super built-up  Area Ready To Move 7th Phase JP Nagar       2 BHK    \n",
              "14    Built-up  Area       Ready To Move Gottigere                2 BHK    \n",
              "15    Plot  Area           Ready To Move Sarjapur                 3 Bedroom\n",
              "16    Super built-up  Area Ready To Move Mysore Road              2 BHK    \n",
              "17    Super built-up  Area Ready To Move Bisuvanahalli            3 BHK    \n",
              "18    Super built-up  Area Ready To Move Raja Rajeshwari Nagar    3 BHK    \n",
              "19    Super built-up  Area Ready To Move Ramakrishnappa Layout    3 BHK    \n",
              "20    Super built-up  Area Ready To Move Manayata Tech Park       2 BHK    \n",
              "21    Built-up  Area       Ready To Move Kengeri                  1 BHK    \n",
              "22    Super built-up  Area 19-Dec        Binny Pete               3 BHK    \n",
              "23    Plot  Area           Ready To Move Thanisandra              4 Bedroom\n",
              "24    Super built-up  Area Ready To Move Bellandur                3 BHK    \n",
              "25    Super built-up  Area 18-Nov         Thanisandra             1 RK     \n",
              "26    Super built-up  Area 18-May        Mangammanapalya          3 BHK    \n",
              "27    Super built-up  Area Ready To Move Electronic City          2 BHK    \n",
              "28    Built-up  Area       20-Dec        Whitefield               3 BHK    \n",
              "29    Super built-up  Area 17-Oct        Ramagondanahalli         2 BHK    \n",
              "30    Super built-up  Area Ready To Move Electronic City          3 BHK    \n",
              "⋮     ⋮                    ⋮             ⋮                        ⋮        \n",
              "13291 Super built-up  Area Ready To Move Sarjapur  Road           4 BHK    \n",
              "13292 Plot  Area           18-Jan        Weavers Colony           1 Bedroom\n",
              "13293 Super built-up  Area 18-Jul        Udayapur Village         3 BHK    \n",
              "13294 Super built-up  Area Ready To Move Sarjapur  Road           4 BHK    \n",
              "13295 Super built-up  Area Ready To Move Sultan Palaya            4 BHK    \n",
              "13296 Super built-up  Area 18-Feb        Haralur Road             3 BHK    \n",
              "13297 Super built-up  Area Ready To Move Cox Town                 2 BHK    \n",
              "13298 Super built-up  Area Ready To Move Electronic City          2 BHK    \n",
              "13299 Super built-up  Area Ready To Move Kenchenahalli            2 BHK    \n",
              "13300 Super built-up  Area 18-Dec        Whitefield               4 BHK    \n",
              "13301 Plot  Area           Ready To Move Hosakerehalli            5 Bedroom\n",
              "13302 Super built-up  Area Ready To Move Kothanur                 3 BHK    \n",
              "13303 Super built-up  Area Ready To Move Annaiah Reddy Layout     2 BHK    \n",
              "13304 Plot  Area           Ready To Move Vidyaranyapura           5 Bedroom\n",
              "13305 Super built-up  Area Ready To Move Raja Rajeshwari Nagar    2 BHK    \n",
              "13306 Carpet  Area         Ready To Move Hulimavu                 1 BHK    \n",
              "13307 Plot  Area           Ready To Move Rajarajeshwari Nagara    4 Bedroom\n",
              "13308 Built-up  Area       Ready To Move Billekahalli             3 BHK    \n",
              "13309 Built-up  Area       Ready To Move Bannerghatta Road        3 BHK    \n",
              "13310 Super built-up  Area Ready To Move Yeshwanthpur             3 BHK    \n",
              "13311 Super built-up  Area Ready To Move Rachenahalli             2 BHK    \n",
              "13312 Plot  Area           Ready To Move Ramamurthy Nagar         7 Bedroom\n",
              "13313 Super built-up  Area Ready To Move Bellandur                2 BHK    \n",
              "13314 Super built-up  Area Ready To Move Uttarahalli              3 BHK    \n",
              "13315 Super built-up  Area Ready To Move Green Glen Layout        3 BHK    \n",
              "13316 Built-up  Area       Ready To Move Whitefield               5 Bedroom\n",
              "13317 Super built-up  Area Ready To Move Richards Town            4 BHK    \n",
              "13318 Built-up  Area       Ready To Move Raja Rajeshwari Nagar    2 BHK    \n",
              "13319 Super built-up  Area 18-Jun        Padmanabhanagar          4 BHK    \n",
              "13320 Super built-up  Area Ready To Move Doddathoguru             1 BHK    \n",
              "      society total_sqft  bath balcony price \n",
              "1     Coomee  1056        2     1       39.07\n",
              "2     Theanmp 2600        5     3      120.00\n",
              "3             1440        2     3       62.00\n",
              "4     Soiewre 1521        3     1       95.00\n",
              "5             1200        2     1       51.00\n",
              "6     DuenaTa 1170        2     1       38.00\n",
              "7     Jaades  2732        4    NA      204.00\n",
              "8     Brway G 3300        4    NA      600.00\n",
              "9             1310        3     1       63.25\n",
              "10            1020        6    NA      370.00\n",
              "11            1800        2     2       70.00\n",
              "12    Prrry M 2785        5     3      295.00\n",
              "13    Shncyes 1000        2     1       38.00\n",
              "14            1100        2     2       40.00\n",
              "15    Skityer 2250        3     2      148.00\n",
              "16    PrntaEn 1175        2     2       73.50\n",
              "17    Prityel 1180        3     2       48.00\n",
              "18    GrrvaGr 1540        3     3       60.00\n",
              "19    PeBayle 2770        4     2      290.00\n",
              "20            1100        2     2       48.00\n",
              "21            600         1     1       15.00\n",
              "22    She 2rk 1755        3     1      122.00\n",
              "23    Soitya  2800        5     2      380.00\n",
              "24            1767        3     1      103.00\n",
              "25    Bhe 2ko 510         1     0       25.25\n",
              "26            1250        3     2       56.00\n",
              "27    Itelaa  660         1     1       23.10\n",
              "28            1610        3     2       81.00\n",
              "29    ViistLa 1151        2     2       48.77\n",
              "30    KBityo  1025        2     1       47.00\n",
              "⋮     ⋮       ⋮           ⋮    ⋮       ⋮     \n",
              "13291 Maana E 4050        2     1      450.00\n",
              "13292         812         1     0       26.00\n",
              "13293 Plowsri 1440        2     2       63.93\n",
              "13294 Puallhi 2425        5     1      195.00\n",
              "13295 RSntsAp 2200        3     3       80.00\n",
              "13296 SNnia E 1810        3     2      112.00\n",
              "13297         1200        2     2      140.00\n",
              "13298 GMown E 1060        2     1       52.00\n",
              "13299 AriosPa 1015        2     2       60.00\n",
              "13300 Prtates 2830 - 2882 5     0      154.50\n",
              "13301         1500        6     2      145.00\n",
              "13302         1454        3     3       71.50\n",
              "13303         1075        2     2       48.00\n",
              "13304         774         5     3       70.00\n",
              "13305 GrrvaGr 1187        2     2       40.14\n",
              "13306         500         1     3      220.00\n",
              "13307         1200        5    NA      325.00\n",
              "13308         1805        3     3      134.00\n",
              "13309 Baanise 1527        3     1      142.00\n",
              "13310 IBityin 1675        3    NA       92.13\n",
              "13311         1050        2     2       52.71\n",
              "13312         1500        9     2      250.00\n",
              "13313         1262        2     2       47.00\n",
              "13314 Aklia R 1345        2     1       57.00\n",
              "13315 SoosePr 1715        3     3      112.00\n",
              "13316 ArsiaEx 3453        4     0      231.00\n",
              "13317         3600        5    NA      400.00\n",
              "13318 Mahla T 1141        2     1       60.00\n",
              "13319 SollyCl 4689        4     1      488.00\n",
              "13320         550         1     1       17.00"
            ]
          },
          "metadata": {}
        }
      ]
    },
    {
      "cell_type": "code",
      "source": [
        "hp_data$balcony <- ifelse(is.na(hp_data$balcony), 0, hp_data$balcony)"
      ],
      "metadata": {
        "id": "j3Rtn0dvk6wh"
      },
      "execution_count": 40,
      "outputs": []
    },
    {
      "cell_type": "code",
      "source": [
        "hp_data"
      ],
      "metadata": {
        "colab": {
          "base_uri": "https://localhost:8080/",
          "height": 1000
        },
        "id": "IRQ2lZFVlIBW",
        "outputId": "eb29eecb-1bb0-4384-ab96-0e23b8bc9fe0"
      },
      "execution_count": 41,
      "outputs": [
        {
          "output_type": "display_data",
          "data": {
            "text/html": [
              "<table class=\"dataframe\">\n",
              "<caption>A data.frame: 13320 × 9</caption>\n",
              "<thead>\n",
              "\t<tr><th scope=col>area_type</th><th scope=col>availability</th><th scope=col>location</th><th scope=col>size</th><th scope=col>society</th><th scope=col>total_sqft</th><th scope=col>bath</th><th scope=col>balcony</th><th scope=col>price</th></tr>\n",
              "\t<tr><th scope=col>&lt;chr&gt;</th><th scope=col>&lt;chr&gt;</th><th scope=col>&lt;chr&gt;</th><th scope=col>&lt;chr&gt;</th><th scope=col>&lt;chr&gt;</th><th scope=col>&lt;chr&gt;</th><th scope=col>&lt;int&gt;</th><th scope=col>&lt;dbl&gt;</th><th scope=col>&lt;dbl&gt;</th></tr>\n",
              "</thead>\n",
              "<tbody>\n",
              "\t<tr><td>Super built-up  Area</td><td>19-Dec       </td><td>Electronic City Phase II</td><td>2 BHK    </td><td>Coomee </td><td>1056</td><td>2</td><td>1</td><td> 39.07</td></tr>\n",
              "\t<tr><td>Plot  Area          </td><td>Ready To Move</td><td>Chikka Tirupathi        </td><td>4 Bedroom</td><td>Theanmp</td><td>2600</td><td>5</td><td>3</td><td>120.00</td></tr>\n",
              "\t<tr><td>Built-up  Area      </td><td>Ready To Move</td><td>Uttarahalli             </td><td>3 BHK    </td><td>       </td><td>1440</td><td>2</td><td>3</td><td> 62.00</td></tr>\n",
              "\t<tr><td>Super built-up  Area</td><td>Ready To Move</td><td>Lingadheeranahalli      </td><td>3 BHK    </td><td>Soiewre</td><td>1521</td><td>3</td><td>1</td><td> 95.00</td></tr>\n",
              "\t<tr><td>Super built-up  Area</td><td>Ready To Move</td><td>Kothanur                </td><td>2 BHK    </td><td>       </td><td>1200</td><td>2</td><td>1</td><td> 51.00</td></tr>\n",
              "\t<tr><td>Super built-up  Area</td><td>Ready To Move</td><td>Whitefield              </td><td>2 BHK    </td><td>DuenaTa</td><td>1170</td><td>2</td><td>1</td><td> 38.00</td></tr>\n",
              "\t<tr><td>Super built-up  Area</td><td>18-May       </td><td>Old Airport Road        </td><td>4 BHK    </td><td>Jaades </td><td>2732</td><td>4</td><td>0</td><td>204.00</td></tr>\n",
              "\t<tr><td>Super built-up  Area</td><td>Ready To Move</td><td>Rajaji Nagar            </td><td>4 BHK    </td><td>Brway G</td><td>3300</td><td>4</td><td>0</td><td>600.00</td></tr>\n",
              "\t<tr><td>Super built-up  Area</td><td>Ready To Move</td><td>Marathahalli            </td><td>3 BHK    </td><td>       </td><td>1310</td><td>3</td><td>1</td><td> 63.25</td></tr>\n",
              "\t<tr><td>Plot  Area          </td><td>Ready To Move</td><td>Gandhi Bazar            </td><td>6 Bedroom</td><td>       </td><td>1020</td><td>6</td><td>0</td><td>370.00</td></tr>\n",
              "\t<tr><td>Super built-up  Area</td><td>18-Feb       </td><td>Whitefield              </td><td>3 BHK    </td><td>       </td><td>1800</td><td>2</td><td>2</td><td> 70.00</td></tr>\n",
              "\t<tr><td>Plot  Area          </td><td>Ready To Move</td><td>Whitefield              </td><td>4 Bedroom</td><td>Prrry M</td><td>2785</td><td>5</td><td>3</td><td>295.00</td></tr>\n",
              "\t<tr><td>Super built-up  Area</td><td>Ready To Move</td><td>7th Phase JP Nagar      </td><td>2 BHK    </td><td>Shncyes</td><td>1000</td><td>2</td><td>1</td><td> 38.00</td></tr>\n",
              "\t<tr><td>Built-up  Area      </td><td>Ready To Move</td><td>Gottigere               </td><td>2 BHK    </td><td>       </td><td>1100</td><td>2</td><td>2</td><td> 40.00</td></tr>\n",
              "\t<tr><td>Plot  Area          </td><td>Ready To Move</td><td>Sarjapur                </td><td>3 Bedroom</td><td>Skityer</td><td>2250</td><td>3</td><td>2</td><td>148.00</td></tr>\n",
              "\t<tr><td>Super built-up  Area</td><td>Ready To Move</td><td>Mysore Road             </td><td>2 BHK    </td><td>PrntaEn</td><td>1175</td><td>2</td><td>2</td><td> 73.50</td></tr>\n",
              "\t<tr><td>Super built-up  Area</td><td>Ready To Move</td><td>Bisuvanahalli           </td><td>3 BHK    </td><td>Prityel</td><td>1180</td><td>3</td><td>2</td><td> 48.00</td></tr>\n",
              "\t<tr><td>Super built-up  Area</td><td>Ready To Move</td><td>Raja Rajeshwari Nagar   </td><td>3 BHK    </td><td>GrrvaGr</td><td>1540</td><td>3</td><td>3</td><td> 60.00</td></tr>\n",
              "\t<tr><td>Super built-up  Area</td><td>Ready To Move</td><td>Ramakrishnappa Layout   </td><td>3 BHK    </td><td>PeBayle</td><td>2770</td><td>4</td><td>2</td><td>290.00</td></tr>\n",
              "\t<tr><td>Super built-up  Area</td><td>Ready To Move</td><td>Manayata Tech Park      </td><td>2 BHK    </td><td>       </td><td>1100</td><td>2</td><td>2</td><td> 48.00</td></tr>\n",
              "\t<tr><td>Built-up  Area      </td><td>Ready To Move</td><td>Kengeri                 </td><td>1 BHK    </td><td>       </td><td>600 </td><td>1</td><td>1</td><td> 15.00</td></tr>\n",
              "\t<tr><td>Super built-up  Area</td><td>19-Dec       </td><td>Binny Pete              </td><td>3 BHK    </td><td>She 2rk</td><td>1755</td><td>3</td><td>1</td><td>122.00</td></tr>\n",
              "\t<tr><td>Plot  Area          </td><td>Ready To Move</td><td>Thanisandra             </td><td>4 Bedroom</td><td>Soitya </td><td>2800</td><td>5</td><td>2</td><td>380.00</td></tr>\n",
              "\t<tr><td>Super built-up  Area</td><td>Ready To Move</td><td>Bellandur               </td><td>3 BHK    </td><td>       </td><td>1767</td><td>3</td><td>1</td><td>103.00</td></tr>\n",
              "\t<tr><td>Super built-up  Area</td><td>18-Nov       </td><td> Thanisandra            </td><td>1 RK     </td><td>Bhe 2ko</td><td>510 </td><td>1</td><td>0</td><td> 25.25</td></tr>\n",
              "\t<tr><td>Super built-up  Area</td><td>18-May       </td><td>Mangammanapalya         </td><td>3 BHK    </td><td>       </td><td>1250</td><td>3</td><td>2</td><td> 56.00</td></tr>\n",
              "\t<tr><td>Super built-up  Area</td><td>Ready To Move</td><td>Electronic City         </td><td>2 BHK    </td><td>Itelaa </td><td>660 </td><td>1</td><td>1</td><td> 23.10</td></tr>\n",
              "\t<tr><td>Built-up  Area      </td><td>20-Dec       </td><td>Whitefield              </td><td>3 BHK    </td><td>       </td><td>1610</td><td>3</td><td>2</td><td> 81.00</td></tr>\n",
              "\t<tr><td>Super built-up  Area</td><td>17-Oct       </td><td>Ramagondanahalli        </td><td>2 BHK    </td><td>ViistLa</td><td>1151</td><td>2</td><td>2</td><td> 48.77</td></tr>\n",
              "\t<tr><td>Super built-up  Area</td><td>Ready To Move</td><td>Electronic City         </td><td>3 BHK    </td><td>KBityo </td><td>1025</td><td>2</td><td>1</td><td> 47.00</td></tr>\n",
              "\t<tr><td>⋮</td><td>⋮</td><td>⋮</td><td>⋮</td><td>⋮</td><td>⋮</td><td>⋮</td><td>⋮</td><td>⋮</td></tr>\n",
              "\t<tr><td>Super built-up  Area</td><td>Ready To Move</td><td>Sarjapur  Road       </td><td>4 BHK    </td><td>Maana E</td><td>4050       </td><td>2</td><td>1</td><td>450.00</td></tr>\n",
              "\t<tr><td>Plot  Area          </td><td>18-Jan       </td><td>Weavers Colony       </td><td>1 Bedroom</td><td>       </td><td>812        </td><td>1</td><td>0</td><td> 26.00</td></tr>\n",
              "\t<tr><td>Super built-up  Area</td><td>18-Jul       </td><td>Udayapur Village     </td><td>3 BHK    </td><td>Plowsri</td><td>1440       </td><td>2</td><td>2</td><td> 63.93</td></tr>\n",
              "\t<tr><td>Super built-up  Area</td><td>Ready To Move</td><td>Sarjapur  Road       </td><td>4 BHK    </td><td>Puallhi</td><td>2425       </td><td>5</td><td>1</td><td>195.00</td></tr>\n",
              "\t<tr><td>Super built-up  Area</td><td>Ready To Move</td><td>Sultan Palaya        </td><td>4 BHK    </td><td>RSntsAp</td><td>2200       </td><td>3</td><td>3</td><td> 80.00</td></tr>\n",
              "\t<tr><td>Super built-up  Area</td><td>18-Feb       </td><td>Haralur Road         </td><td>3 BHK    </td><td>SNnia E</td><td>1810       </td><td>3</td><td>2</td><td>112.00</td></tr>\n",
              "\t<tr><td>Super built-up  Area</td><td>Ready To Move</td><td>Cox Town             </td><td>2 BHK    </td><td>       </td><td>1200       </td><td>2</td><td>2</td><td>140.00</td></tr>\n",
              "\t<tr><td>Super built-up  Area</td><td>Ready To Move</td><td>Electronic City      </td><td>2 BHK    </td><td>GMown E</td><td>1060       </td><td>2</td><td>1</td><td> 52.00</td></tr>\n",
              "\t<tr><td>Super built-up  Area</td><td>Ready To Move</td><td>Kenchenahalli        </td><td>2 BHK    </td><td>AriosPa</td><td>1015       </td><td>2</td><td>2</td><td> 60.00</td></tr>\n",
              "\t<tr><td>Super built-up  Area</td><td>18-Dec       </td><td>Whitefield           </td><td>4 BHK    </td><td>Prtates</td><td>2830 - 2882</td><td>5</td><td>0</td><td>154.50</td></tr>\n",
              "\t<tr><td>Plot  Area          </td><td>Ready To Move</td><td>Hosakerehalli        </td><td>5 Bedroom</td><td>       </td><td>1500       </td><td>6</td><td>2</td><td>145.00</td></tr>\n",
              "\t<tr><td>Super built-up  Area</td><td>Ready To Move</td><td>Kothanur             </td><td>3 BHK    </td><td>       </td><td>1454       </td><td>3</td><td>3</td><td> 71.50</td></tr>\n",
              "\t<tr><td>Super built-up  Area</td><td>Ready To Move</td><td>Annaiah Reddy Layout </td><td>2 BHK    </td><td>       </td><td>1075       </td><td>2</td><td>2</td><td> 48.00</td></tr>\n",
              "\t<tr><td>Plot  Area          </td><td>Ready To Move</td><td>Vidyaranyapura       </td><td>5 Bedroom</td><td>       </td><td>774        </td><td>5</td><td>3</td><td> 70.00</td></tr>\n",
              "\t<tr><td>Super built-up  Area</td><td>Ready To Move</td><td>Raja Rajeshwari Nagar</td><td>2 BHK    </td><td>GrrvaGr</td><td>1187       </td><td>2</td><td>2</td><td> 40.14</td></tr>\n",
              "\t<tr><td>Carpet  Area        </td><td>Ready To Move</td><td>Hulimavu             </td><td>1 BHK    </td><td>       </td><td>500        </td><td>1</td><td>3</td><td>220.00</td></tr>\n",
              "\t<tr><td>Plot  Area          </td><td>Ready To Move</td><td>Rajarajeshwari Nagara</td><td>4 Bedroom</td><td>       </td><td>1200       </td><td>5</td><td>0</td><td>325.00</td></tr>\n",
              "\t<tr><td>Built-up  Area      </td><td>Ready To Move</td><td>Billekahalli         </td><td>3 BHK    </td><td>       </td><td>1805       </td><td>3</td><td>3</td><td>134.00</td></tr>\n",
              "\t<tr><td>Built-up  Area      </td><td>Ready To Move</td><td>Bannerghatta Road    </td><td>3 BHK    </td><td>Baanise</td><td>1527       </td><td>3</td><td>1</td><td>142.00</td></tr>\n",
              "\t<tr><td>Super built-up  Area</td><td>Ready To Move</td><td>Yeshwanthpur         </td><td>3 BHK    </td><td>IBityin</td><td>1675       </td><td>3</td><td>0</td><td> 92.13</td></tr>\n",
              "\t<tr><td>Super built-up  Area</td><td>Ready To Move</td><td>Rachenahalli         </td><td>2 BHK    </td><td>       </td><td>1050       </td><td>2</td><td>2</td><td> 52.71</td></tr>\n",
              "\t<tr><td>Plot  Area          </td><td>Ready To Move</td><td>Ramamurthy Nagar     </td><td>7 Bedroom</td><td>       </td><td>1500       </td><td>9</td><td>2</td><td>250.00</td></tr>\n",
              "\t<tr><td>Super built-up  Area</td><td>Ready To Move</td><td>Bellandur            </td><td>2 BHK    </td><td>       </td><td>1262       </td><td>2</td><td>2</td><td> 47.00</td></tr>\n",
              "\t<tr><td>Super built-up  Area</td><td>Ready To Move</td><td>Uttarahalli          </td><td>3 BHK    </td><td>Aklia R</td><td>1345       </td><td>2</td><td>1</td><td> 57.00</td></tr>\n",
              "\t<tr><td>Super built-up  Area</td><td>Ready To Move</td><td>Green Glen Layout    </td><td>3 BHK    </td><td>SoosePr</td><td>1715       </td><td>3</td><td>3</td><td>112.00</td></tr>\n",
              "\t<tr><td>Built-up  Area      </td><td>Ready To Move</td><td>Whitefield           </td><td>5 Bedroom</td><td>ArsiaEx</td><td>3453       </td><td>4</td><td>0</td><td>231.00</td></tr>\n",
              "\t<tr><td>Super built-up  Area</td><td>Ready To Move</td><td>Richards Town        </td><td>4 BHK    </td><td>       </td><td>3600       </td><td>5</td><td>0</td><td>400.00</td></tr>\n",
              "\t<tr><td>Built-up  Area      </td><td>Ready To Move</td><td>Raja Rajeshwari Nagar</td><td>2 BHK    </td><td>Mahla T</td><td>1141       </td><td>2</td><td>1</td><td> 60.00</td></tr>\n",
              "\t<tr><td>Super built-up  Area</td><td>18-Jun       </td><td>Padmanabhanagar      </td><td>4 BHK    </td><td>SollyCl</td><td>4689       </td><td>4</td><td>1</td><td>488.00</td></tr>\n",
              "\t<tr><td>Super built-up  Area</td><td>Ready To Move</td><td>Doddathoguru         </td><td>1 BHK    </td><td>       </td><td>550        </td><td>1</td><td>1</td><td> 17.00</td></tr>\n",
              "</tbody>\n",
              "</table>\n"
            ],
            "text/markdown": "\nA data.frame: 13320 × 9\n\n| area_type &lt;chr&gt; | availability &lt;chr&gt; | location &lt;chr&gt; | size &lt;chr&gt; | society &lt;chr&gt; | total_sqft &lt;chr&gt; | bath &lt;int&gt; | balcony &lt;dbl&gt; | price &lt;dbl&gt; |\n|---|---|---|---|---|---|---|---|---|\n| Super built-up  Area | 19-Dec        | Electronic City Phase II | 2 BHK     | Coomee  | 1056 | 2 | 1 |  39.07 |\n| Plot  Area           | Ready To Move | Chikka Tirupathi         | 4 Bedroom | Theanmp | 2600 | 5 | 3 | 120.00 |\n| Built-up  Area       | Ready To Move | Uttarahalli              | 3 BHK     | <!----> | 1440 | 2 | 3 |  62.00 |\n| Super built-up  Area | Ready To Move | Lingadheeranahalli       | 3 BHK     | Soiewre | 1521 | 3 | 1 |  95.00 |\n| Super built-up  Area | Ready To Move | Kothanur                 | 2 BHK     | <!----> | 1200 | 2 | 1 |  51.00 |\n| Super built-up  Area | Ready To Move | Whitefield               | 2 BHK     | DuenaTa | 1170 | 2 | 1 |  38.00 |\n| Super built-up  Area | 18-May        | Old Airport Road         | 4 BHK     | Jaades  | 2732 | 4 | 0 | 204.00 |\n| Super built-up  Area | Ready To Move | Rajaji Nagar             | 4 BHK     | Brway G | 3300 | 4 | 0 | 600.00 |\n| Super built-up  Area | Ready To Move | Marathahalli             | 3 BHK     | <!----> | 1310 | 3 | 1 |  63.25 |\n| Plot  Area           | Ready To Move | Gandhi Bazar             | 6 Bedroom | <!----> | 1020 | 6 | 0 | 370.00 |\n| Super built-up  Area | 18-Feb        | Whitefield               | 3 BHK     | <!----> | 1800 | 2 | 2 |  70.00 |\n| Plot  Area           | Ready To Move | Whitefield               | 4 Bedroom | Prrry M | 2785 | 5 | 3 | 295.00 |\n| Super built-up  Area | Ready To Move | 7th Phase JP Nagar       | 2 BHK     | Shncyes | 1000 | 2 | 1 |  38.00 |\n| Built-up  Area       | Ready To Move | Gottigere                | 2 BHK     | <!----> | 1100 | 2 | 2 |  40.00 |\n| Plot  Area           | Ready To Move | Sarjapur                 | 3 Bedroom | Skityer | 2250 | 3 | 2 | 148.00 |\n| Super built-up  Area | Ready To Move | Mysore Road              | 2 BHK     | PrntaEn | 1175 | 2 | 2 |  73.50 |\n| Super built-up  Area | Ready To Move | Bisuvanahalli            | 3 BHK     | Prityel | 1180 | 3 | 2 |  48.00 |\n| Super built-up  Area | Ready To Move | Raja Rajeshwari Nagar    | 3 BHK     | GrrvaGr | 1540 | 3 | 3 |  60.00 |\n| Super built-up  Area | Ready To Move | Ramakrishnappa Layout    | 3 BHK     | PeBayle | 2770 | 4 | 2 | 290.00 |\n| Super built-up  Area | Ready To Move | Manayata Tech Park       | 2 BHK     | <!----> | 1100 | 2 | 2 |  48.00 |\n| Built-up  Area       | Ready To Move | Kengeri                  | 1 BHK     | <!----> | 600  | 1 | 1 |  15.00 |\n| Super built-up  Area | 19-Dec        | Binny Pete               | 3 BHK     | She 2rk | 1755 | 3 | 1 | 122.00 |\n| Plot  Area           | Ready To Move | Thanisandra              | 4 Bedroom | Soitya  | 2800 | 5 | 2 | 380.00 |\n| Super built-up  Area | Ready To Move | Bellandur                | 3 BHK     | <!----> | 1767 | 3 | 1 | 103.00 |\n| Super built-up  Area | 18-Nov        |  Thanisandra             | 1 RK      | Bhe 2ko | 510  | 1 | 0 |  25.25 |\n| Super built-up  Area | 18-May        | Mangammanapalya          | 3 BHK     | <!----> | 1250 | 3 | 2 |  56.00 |\n| Super built-up  Area | Ready To Move | Electronic City          | 2 BHK     | Itelaa  | 660  | 1 | 1 |  23.10 |\n| Built-up  Area       | 20-Dec        | Whitefield               | 3 BHK     | <!----> | 1610 | 3 | 2 |  81.00 |\n| Super built-up  Area | 17-Oct        | Ramagondanahalli         | 2 BHK     | ViistLa | 1151 | 2 | 2 |  48.77 |\n| Super built-up  Area | Ready To Move | Electronic City          | 3 BHK     | KBityo  | 1025 | 2 | 1 |  47.00 |\n| ⋮ | ⋮ | ⋮ | ⋮ | ⋮ | ⋮ | ⋮ | ⋮ | ⋮ |\n| Super built-up  Area | Ready To Move | Sarjapur  Road        | 4 BHK     | Maana E | 4050        | 2 | 1 | 450.00 |\n| Plot  Area           | 18-Jan        | Weavers Colony        | 1 Bedroom | <!----> | 812         | 1 | 0 |  26.00 |\n| Super built-up  Area | 18-Jul        | Udayapur Village      | 3 BHK     | Plowsri | 1440        | 2 | 2 |  63.93 |\n| Super built-up  Area | Ready To Move | Sarjapur  Road        | 4 BHK     | Puallhi | 2425        | 5 | 1 | 195.00 |\n| Super built-up  Area | Ready To Move | Sultan Palaya         | 4 BHK     | RSntsAp | 2200        | 3 | 3 |  80.00 |\n| Super built-up  Area | 18-Feb        | Haralur Road          | 3 BHK     | SNnia E | 1810        | 3 | 2 | 112.00 |\n| Super built-up  Area | Ready To Move | Cox Town              | 2 BHK     | <!----> | 1200        | 2 | 2 | 140.00 |\n| Super built-up  Area | Ready To Move | Electronic City       | 2 BHK     | GMown E | 1060        | 2 | 1 |  52.00 |\n| Super built-up  Area | Ready To Move | Kenchenahalli         | 2 BHK     | AriosPa | 1015        | 2 | 2 |  60.00 |\n| Super built-up  Area | 18-Dec        | Whitefield            | 4 BHK     | Prtates | 2830 - 2882 | 5 | 0 | 154.50 |\n| Plot  Area           | Ready To Move | Hosakerehalli         | 5 Bedroom | <!----> | 1500        | 6 | 2 | 145.00 |\n| Super built-up  Area | Ready To Move | Kothanur              | 3 BHK     | <!----> | 1454        | 3 | 3 |  71.50 |\n| Super built-up  Area | Ready To Move | Annaiah Reddy Layout  | 2 BHK     | <!----> | 1075        | 2 | 2 |  48.00 |\n| Plot  Area           | Ready To Move | Vidyaranyapura        | 5 Bedroom | <!----> | 774         | 5 | 3 |  70.00 |\n| Super built-up  Area | Ready To Move | Raja Rajeshwari Nagar | 2 BHK     | GrrvaGr | 1187        | 2 | 2 |  40.14 |\n| Carpet  Area         | Ready To Move | Hulimavu              | 1 BHK     | <!----> | 500         | 1 | 3 | 220.00 |\n| Plot  Area           | Ready To Move | Rajarajeshwari Nagara | 4 Bedroom | <!----> | 1200        | 5 | 0 | 325.00 |\n| Built-up  Area       | Ready To Move | Billekahalli          | 3 BHK     | <!----> | 1805        | 3 | 3 | 134.00 |\n| Built-up  Area       | Ready To Move | Bannerghatta Road     | 3 BHK     | Baanise | 1527        | 3 | 1 | 142.00 |\n| Super built-up  Area | Ready To Move | Yeshwanthpur          | 3 BHK     | IBityin | 1675        | 3 | 0 |  92.13 |\n| Super built-up  Area | Ready To Move | Rachenahalli          | 2 BHK     | <!----> | 1050        | 2 | 2 |  52.71 |\n| Plot  Area           | Ready To Move | Ramamurthy Nagar      | 7 Bedroom | <!----> | 1500        | 9 | 2 | 250.00 |\n| Super built-up  Area | Ready To Move | Bellandur             | 2 BHK     | <!----> | 1262        | 2 | 2 |  47.00 |\n| Super built-up  Area | Ready To Move | Uttarahalli           | 3 BHK     | Aklia R | 1345        | 2 | 1 |  57.00 |\n| Super built-up  Area | Ready To Move | Green Glen Layout     | 3 BHK     | SoosePr | 1715        | 3 | 3 | 112.00 |\n| Built-up  Area       | Ready To Move | Whitefield            | 5 Bedroom | ArsiaEx | 3453        | 4 | 0 | 231.00 |\n| Super built-up  Area | Ready To Move | Richards Town         | 4 BHK     | <!----> | 3600        | 5 | 0 | 400.00 |\n| Built-up  Area       | Ready To Move | Raja Rajeshwari Nagar | 2 BHK     | Mahla T | 1141        | 2 | 1 |  60.00 |\n| Super built-up  Area | 18-Jun        | Padmanabhanagar       | 4 BHK     | SollyCl | 4689        | 4 | 1 | 488.00 |\n| Super built-up  Area | Ready To Move | Doddathoguru          | 1 BHK     | <!----> | 550         | 1 | 1 |  17.00 |\n\n",
            "text/latex": "A data.frame: 13320 × 9\n\\begin{tabular}{lllllllll}\n area\\_type & availability & location & size & society & total\\_sqft & bath & balcony & price\\\\\n <chr> & <chr> & <chr> & <chr> & <chr> & <chr> & <int> & <dbl> & <dbl>\\\\\n\\hline\n\t Super built-up  Area & 19-Dec        & Electronic City Phase II & 2 BHK     & Coomee  & 1056 & 2 & 1 &  39.07\\\\\n\t Plot  Area           & Ready To Move & Chikka Tirupathi         & 4 Bedroom & Theanmp & 2600 & 5 & 3 & 120.00\\\\\n\t Built-up  Area       & Ready To Move & Uttarahalli              & 3 BHK     &         & 1440 & 2 & 3 &  62.00\\\\\n\t Super built-up  Area & Ready To Move & Lingadheeranahalli       & 3 BHK     & Soiewre & 1521 & 3 & 1 &  95.00\\\\\n\t Super built-up  Area & Ready To Move & Kothanur                 & 2 BHK     &         & 1200 & 2 & 1 &  51.00\\\\\n\t Super built-up  Area & Ready To Move & Whitefield               & 2 BHK     & DuenaTa & 1170 & 2 & 1 &  38.00\\\\\n\t Super built-up  Area & 18-May        & Old Airport Road         & 4 BHK     & Jaades  & 2732 & 4 & 0 & 204.00\\\\\n\t Super built-up  Area & Ready To Move & Rajaji Nagar             & 4 BHK     & Brway G & 3300 & 4 & 0 & 600.00\\\\\n\t Super built-up  Area & Ready To Move & Marathahalli             & 3 BHK     &         & 1310 & 3 & 1 &  63.25\\\\\n\t Plot  Area           & Ready To Move & Gandhi Bazar             & 6 Bedroom &         & 1020 & 6 & 0 & 370.00\\\\\n\t Super built-up  Area & 18-Feb        & Whitefield               & 3 BHK     &         & 1800 & 2 & 2 &  70.00\\\\\n\t Plot  Area           & Ready To Move & Whitefield               & 4 Bedroom & Prrry M & 2785 & 5 & 3 & 295.00\\\\\n\t Super built-up  Area & Ready To Move & 7th Phase JP Nagar       & 2 BHK     & Shncyes & 1000 & 2 & 1 &  38.00\\\\\n\t Built-up  Area       & Ready To Move & Gottigere                & 2 BHK     &         & 1100 & 2 & 2 &  40.00\\\\\n\t Plot  Area           & Ready To Move & Sarjapur                 & 3 Bedroom & Skityer & 2250 & 3 & 2 & 148.00\\\\\n\t Super built-up  Area & Ready To Move & Mysore Road              & 2 BHK     & PrntaEn & 1175 & 2 & 2 &  73.50\\\\\n\t Super built-up  Area & Ready To Move & Bisuvanahalli            & 3 BHK     & Prityel & 1180 & 3 & 2 &  48.00\\\\\n\t Super built-up  Area & Ready To Move & Raja Rajeshwari Nagar    & 3 BHK     & GrrvaGr & 1540 & 3 & 3 &  60.00\\\\\n\t Super built-up  Area & Ready To Move & Ramakrishnappa Layout    & 3 BHK     & PeBayle & 2770 & 4 & 2 & 290.00\\\\\n\t Super built-up  Area & Ready To Move & Manayata Tech Park       & 2 BHK     &         & 1100 & 2 & 2 &  48.00\\\\\n\t Built-up  Area       & Ready To Move & Kengeri                  & 1 BHK     &         & 600  & 1 & 1 &  15.00\\\\\n\t Super built-up  Area & 19-Dec        & Binny Pete               & 3 BHK     & She 2rk & 1755 & 3 & 1 & 122.00\\\\\n\t Plot  Area           & Ready To Move & Thanisandra              & 4 Bedroom & Soitya  & 2800 & 5 & 2 & 380.00\\\\\n\t Super built-up  Area & Ready To Move & Bellandur                & 3 BHK     &         & 1767 & 3 & 1 & 103.00\\\\\n\t Super built-up  Area & 18-Nov        &  Thanisandra             & 1 RK      & Bhe 2ko & 510  & 1 & 0 &  25.25\\\\\n\t Super built-up  Area & 18-May        & Mangammanapalya          & 3 BHK     &         & 1250 & 3 & 2 &  56.00\\\\\n\t Super built-up  Area & Ready To Move & Electronic City          & 2 BHK     & Itelaa  & 660  & 1 & 1 &  23.10\\\\\n\t Built-up  Area       & 20-Dec        & Whitefield               & 3 BHK     &         & 1610 & 3 & 2 &  81.00\\\\\n\t Super built-up  Area & 17-Oct        & Ramagondanahalli         & 2 BHK     & ViistLa & 1151 & 2 & 2 &  48.77\\\\\n\t Super built-up  Area & Ready To Move & Electronic City          & 3 BHK     & KBityo  & 1025 & 2 & 1 &  47.00\\\\\n\t ⋮ & ⋮ & ⋮ & ⋮ & ⋮ & ⋮ & ⋮ & ⋮ & ⋮\\\\\n\t Super built-up  Area & Ready To Move & Sarjapur  Road        & 4 BHK     & Maana E & 4050        & 2 & 1 & 450.00\\\\\n\t Plot  Area           & 18-Jan        & Weavers Colony        & 1 Bedroom &         & 812         & 1 & 0 &  26.00\\\\\n\t Super built-up  Area & 18-Jul        & Udayapur Village      & 3 BHK     & Plowsri & 1440        & 2 & 2 &  63.93\\\\\n\t Super built-up  Area & Ready To Move & Sarjapur  Road        & 4 BHK     & Puallhi & 2425        & 5 & 1 & 195.00\\\\\n\t Super built-up  Area & Ready To Move & Sultan Palaya         & 4 BHK     & RSntsAp & 2200        & 3 & 3 &  80.00\\\\\n\t Super built-up  Area & 18-Feb        & Haralur Road          & 3 BHK     & SNnia E & 1810        & 3 & 2 & 112.00\\\\\n\t Super built-up  Area & Ready To Move & Cox Town              & 2 BHK     &         & 1200        & 2 & 2 & 140.00\\\\\n\t Super built-up  Area & Ready To Move & Electronic City       & 2 BHK     & GMown E & 1060        & 2 & 1 &  52.00\\\\\n\t Super built-up  Area & Ready To Move & Kenchenahalli         & 2 BHK     & AriosPa & 1015        & 2 & 2 &  60.00\\\\\n\t Super built-up  Area & 18-Dec        & Whitefield            & 4 BHK     & Prtates & 2830 - 2882 & 5 & 0 & 154.50\\\\\n\t Plot  Area           & Ready To Move & Hosakerehalli         & 5 Bedroom &         & 1500        & 6 & 2 & 145.00\\\\\n\t Super built-up  Area & Ready To Move & Kothanur              & 3 BHK     &         & 1454        & 3 & 3 &  71.50\\\\\n\t Super built-up  Area & Ready To Move & Annaiah Reddy Layout  & 2 BHK     &         & 1075        & 2 & 2 &  48.00\\\\\n\t Plot  Area           & Ready To Move & Vidyaranyapura        & 5 Bedroom &         & 774         & 5 & 3 &  70.00\\\\\n\t Super built-up  Area & Ready To Move & Raja Rajeshwari Nagar & 2 BHK     & GrrvaGr & 1187        & 2 & 2 &  40.14\\\\\n\t Carpet  Area         & Ready To Move & Hulimavu              & 1 BHK     &         & 500         & 1 & 3 & 220.00\\\\\n\t Plot  Area           & Ready To Move & Rajarajeshwari Nagara & 4 Bedroom &         & 1200        & 5 & 0 & 325.00\\\\\n\t Built-up  Area       & Ready To Move & Billekahalli          & 3 BHK     &         & 1805        & 3 & 3 & 134.00\\\\\n\t Built-up  Area       & Ready To Move & Bannerghatta Road     & 3 BHK     & Baanise & 1527        & 3 & 1 & 142.00\\\\\n\t Super built-up  Area & Ready To Move & Yeshwanthpur          & 3 BHK     & IBityin & 1675        & 3 & 0 &  92.13\\\\\n\t Super built-up  Area & Ready To Move & Rachenahalli          & 2 BHK     &         & 1050        & 2 & 2 &  52.71\\\\\n\t Plot  Area           & Ready To Move & Ramamurthy Nagar      & 7 Bedroom &         & 1500        & 9 & 2 & 250.00\\\\\n\t Super built-up  Area & Ready To Move & Bellandur             & 2 BHK     &         & 1262        & 2 & 2 &  47.00\\\\\n\t Super built-up  Area & Ready To Move & Uttarahalli           & 3 BHK     & Aklia R & 1345        & 2 & 1 &  57.00\\\\\n\t Super built-up  Area & Ready To Move & Green Glen Layout     & 3 BHK     & SoosePr & 1715        & 3 & 3 & 112.00\\\\\n\t Built-up  Area       & Ready To Move & Whitefield            & 5 Bedroom & ArsiaEx & 3453        & 4 & 0 & 231.00\\\\\n\t Super built-up  Area & Ready To Move & Richards Town         & 4 BHK     &         & 3600        & 5 & 0 & 400.00\\\\\n\t Built-up  Area       & Ready To Move & Raja Rajeshwari Nagar & 2 BHK     & Mahla T & 1141        & 2 & 1 &  60.00\\\\\n\t Super built-up  Area & 18-Jun        & Padmanabhanagar       & 4 BHK     & SollyCl & 4689        & 4 & 1 & 488.00\\\\\n\t Super built-up  Area & Ready To Move & Doddathoguru          & 1 BHK     &         & 550         & 1 & 1 &  17.00\\\\\n\\end{tabular}\n",
            "text/plain": [
              "      area_type            availability  location                 size     \n",
              "1     Super built-up  Area 19-Dec        Electronic City Phase II 2 BHK    \n",
              "2     Plot  Area           Ready To Move Chikka Tirupathi         4 Bedroom\n",
              "3     Built-up  Area       Ready To Move Uttarahalli              3 BHK    \n",
              "4     Super built-up  Area Ready To Move Lingadheeranahalli       3 BHK    \n",
              "5     Super built-up  Area Ready To Move Kothanur                 2 BHK    \n",
              "6     Super built-up  Area Ready To Move Whitefield               2 BHK    \n",
              "7     Super built-up  Area 18-May        Old Airport Road         4 BHK    \n",
              "8     Super built-up  Area Ready To Move Rajaji Nagar             4 BHK    \n",
              "9     Super built-up  Area Ready To Move Marathahalli             3 BHK    \n",
              "10    Plot  Area           Ready To Move Gandhi Bazar             6 Bedroom\n",
              "11    Super built-up  Area 18-Feb        Whitefield               3 BHK    \n",
              "12    Plot  Area           Ready To Move Whitefield               4 Bedroom\n",
              "13    Super built-up  Area Ready To Move 7th Phase JP Nagar       2 BHK    \n",
              "14    Built-up  Area       Ready To Move Gottigere                2 BHK    \n",
              "15    Plot  Area           Ready To Move Sarjapur                 3 Bedroom\n",
              "16    Super built-up  Area Ready To Move Mysore Road              2 BHK    \n",
              "17    Super built-up  Area Ready To Move Bisuvanahalli            3 BHK    \n",
              "18    Super built-up  Area Ready To Move Raja Rajeshwari Nagar    3 BHK    \n",
              "19    Super built-up  Area Ready To Move Ramakrishnappa Layout    3 BHK    \n",
              "20    Super built-up  Area Ready To Move Manayata Tech Park       2 BHK    \n",
              "21    Built-up  Area       Ready To Move Kengeri                  1 BHK    \n",
              "22    Super built-up  Area 19-Dec        Binny Pete               3 BHK    \n",
              "23    Plot  Area           Ready To Move Thanisandra              4 Bedroom\n",
              "24    Super built-up  Area Ready To Move Bellandur                3 BHK    \n",
              "25    Super built-up  Area 18-Nov         Thanisandra             1 RK     \n",
              "26    Super built-up  Area 18-May        Mangammanapalya          3 BHK    \n",
              "27    Super built-up  Area Ready To Move Electronic City          2 BHK    \n",
              "28    Built-up  Area       20-Dec        Whitefield               3 BHK    \n",
              "29    Super built-up  Area 17-Oct        Ramagondanahalli         2 BHK    \n",
              "30    Super built-up  Area Ready To Move Electronic City          3 BHK    \n",
              "⋮     ⋮                    ⋮             ⋮                        ⋮        \n",
              "13291 Super built-up  Area Ready To Move Sarjapur  Road           4 BHK    \n",
              "13292 Plot  Area           18-Jan        Weavers Colony           1 Bedroom\n",
              "13293 Super built-up  Area 18-Jul        Udayapur Village         3 BHK    \n",
              "13294 Super built-up  Area Ready To Move Sarjapur  Road           4 BHK    \n",
              "13295 Super built-up  Area Ready To Move Sultan Palaya            4 BHK    \n",
              "13296 Super built-up  Area 18-Feb        Haralur Road             3 BHK    \n",
              "13297 Super built-up  Area Ready To Move Cox Town                 2 BHK    \n",
              "13298 Super built-up  Area Ready To Move Electronic City          2 BHK    \n",
              "13299 Super built-up  Area Ready To Move Kenchenahalli            2 BHK    \n",
              "13300 Super built-up  Area 18-Dec        Whitefield               4 BHK    \n",
              "13301 Plot  Area           Ready To Move Hosakerehalli            5 Bedroom\n",
              "13302 Super built-up  Area Ready To Move Kothanur                 3 BHK    \n",
              "13303 Super built-up  Area Ready To Move Annaiah Reddy Layout     2 BHK    \n",
              "13304 Plot  Area           Ready To Move Vidyaranyapura           5 Bedroom\n",
              "13305 Super built-up  Area Ready To Move Raja Rajeshwari Nagar    2 BHK    \n",
              "13306 Carpet  Area         Ready To Move Hulimavu                 1 BHK    \n",
              "13307 Plot  Area           Ready To Move Rajarajeshwari Nagara    4 Bedroom\n",
              "13308 Built-up  Area       Ready To Move Billekahalli             3 BHK    \n",
              "13309 Built-up  Area       Ready To Move Bannerghatta Road        3 BHK    \n",
              "13310 Super built-up  Area Ready To Move Yeshwanthpur             3 BHK    \n",
              "13311 Super built-up  Area Ready To Move Rachenahalli             2 BHK    \n",
              "13312 Plot  Area           Ready To Move Ramamurthy Nagar         7 Bedroom\n",
              "13313 Super built-up  Area Ready To Move Bellandur                2 BHK    \n",
              "13314 Super built-up  Area Ready To Move Uttarahalli              3 BHK    \n",
              "13315 Super built-up  Area Ready To Move Green Glen Layout        3 BHK    \n",
              "13316 Built-up  Area       Ready To Move Whitefield               5 Bedroom\n",
              "13317 Super built-up  Area Ready To Move Richards Town            4 BHK    \n",
              "13318 Built-up  Area       Ready To Move Raja Rajeshwari Nagar    2 BHK    \n",
              "13319 Super built-up  Area 18-Jun        Padmanabhanagar          4 BHK    \n",
              "13320 Super built-up  Area Ready To Move Doddathoguru             1 BHK    \n",
              "      society total_sqft  bath balcony price \n",
              "1     Coomee  1056        2    1        39.07\n",
              "2     Theanmp 2600        5    3       120.00\n",
              "3             1440        2    3        62.00\n",
              "4     Soiewre 1521        3    1        95.00\n",
              "5             1200        2    1        51.00\n",
              "6     DuenaTa 1170        2    1        38.00\n",
              "7     Jaades  2732        4    0       204.00\n",
              "8     Brway G 3300        4    0       600.00\n",
              "9             1310        3    1        63.25\n",
              "10            1020        6    0       370.00\n",
              "11            1800        2    2        70.00\n",
              "12    Prrry M 2785        5    3       295.00\n",
              "13    Shncyes 1000        2    1        38.00\n",
              "14            1100        2    2        40.00\n",
              "15    Skityer 2250        3    2       148.00\n",
              "16    PrntaEn 1175        2    2        73.50\n",
              "17    Prityel 1180        3    2        48.00\n",
              "18    GrrvaGr 1540        3    3        60.00\n",
              "19    PeBayle 2770        4    2       290.00\n",
              "20            1100        2    2        48.00\n",
              "21            600         1    1        15.00\n",
              "22    She 2rk 1755        3    1       122.00\n",
              "23    Soitya  2800        5    2       380.00\n",
              "24            1767        3    1       103.00\n",
              "25    Bhe 2ko 510         1    0        25.25\n",
              "26            1250        3    2        56.00\n",
              "27    Itelaa  660         1    1        23.10\n",
              "28            1610        3    2        81.00\n",
              "29    ViistLa 1151        2    2        48.77\n",
              "30    KBityo  1025        2    1        47.00\n",
              "⋮     ⋮       ⋮           ⋮    ⋮       ⋮     \n",
              "13291 Maana E 4050        2    1       450.00\n",
              "13292         812         1    0        26.00\n",
              "13293 Plowsri 1440        2    2        63.93\n",
              "13294 Puallhi 2425        5    1       195.00\n",
              "13295 RSntsAp 2200        3    3        80.00\n",
              "13296 SNnia E 1810        3    2       112.00\n",
              "13297         1200        2    2       140.00\n",
              "13298 GMown E 1060        2    1        52.00\n",
              "13299 AriosPa 1015        2    2        60.00\n",
              "13300 Prtates 2830 - 2882 5    0       154.50\n",
              "13301         1500        6    2       145.00\n",
              "13302         1454        3    3        71.50\n",
              "13303         1075        2    2        48.00\n",
              "13304         774         5    3        70.00\n",
              "13305 GrrvaGr 1187        2    2        40.14\n",
              "13306         500         1    3       220.00\n",
              "13307         1200        5    0       325.00\n",
              "13308         1805        3    3       134.00\n",
              "13309 Baanise 1527        3    1       142.00\n",
              "13310 IBityin 1675        3    0        92.13\n",
              "13311         1050        2    2        52.71\n",
              "13312         1500        9    2       250.00\n",
              "13313         1262        2    2        47.00\n",
              "13314 Aklia R 1345        2    1        57.00\n",
              "13315 SoosePr 1715        3    3       112.00\n",
              "13316 ArsiaEx 3453        4    0       231.00\n",
              "13317         3600        5    0       400.00\n",
              "13318 Mahla T 1141        2    1        60.00\n",
              "13319 SollyCl 4689        4    1       488.00\n",
              "13320         550         1    1        17.00"
            ]
          },
          "metadata": {}
        }
      ]
    },
    {
      "cell_type": "code",
      "source": [
        "hp_data$bath <- ifelse(is.na(hp_data$bath), 0, hp_data$bath)"
      ],
      "metadata": {
        "id": "nVCPsVGzlI6L"
      },
      "execution_count": 42,
      "outputs": []
    },
    {
      "cell_type": "code",
      "source": [
        "sum(is.na(hp_data$society))"
      ],
      "metadata": {
        "colab": {
          "base_uri": "https://localhost:8080/",
          "height": 34
        },
        "id": "Y1W7pdu3lRna",
        "outputId": "b739d88e-619d-4a9f-b527-f2449ba711fd"
      },
      "execution_count": 43,
      "outputs": [
        {
          "output_type": "display_data",
          "data": {
            "text/html": [
              "0"
            ],
            "text/markdown": "0",
            "text/latex": "0",
            "text/plain": [
              "[1] 0"
            ]
          },
          "metadata": {}
        }
      ]
    },
    {
      "cell_type": "code",
      "source": [
        "sum(is.na(hp_data))"
      ],
      "metadata": {
        "colab": {
          "base_uri": "https://localhost:8080/",
          "height": 34
        },
        "id": "9jZBrAdGlmOn",
        "outputId": "b5710534-f1af-43a2-9f3b-ad18a1893d7f"
      },
      "execution_count": 44,
      "outputs": [
        {
          "output_type": "display_data",
          "data": {
            "text/html": [
              "0"
            ],
            "text/markdown": "0",
            "text/latex": "0",
            "text/plain": [
              "[1] 0"
            ]
          },
          "metadata": {}
        }
      ]
    },
    {
      "cell_type": "code",
      "source": [],
      "metadata": {
        "id": "PMqzT4bKlqEl"
      },
      "execution_count": 45,
      "outputs": []
    },
    {
      "cell_type": "code",
      "source": [
        "hp_data"
      ],
      "metadata": {
        "colab": {
          "base_uri": "https://localhost:8080/",
          "height": 1000
        },
        "id": "C7VCx9dSl2Zs",
        "outputId": "7dfe26c6-af12-4752-b113-e933e31f6b5a"
      },
      "execution_count": 46,
      "outputs": [
        {
          "output_type": "display_data",
          "data": {
            "text/html": [
              "<table class=\"dataframe\">\n",
              "<caption>A data.frame: 13320 × 9</caption>\n",
              "<thead>\n",
              "\t<tr><th scope=col>area_type</th><th scope=col>availability</th><th scope=col>location</th><th scope=col>size</th><th scope=col>society</th><th scope=col>total_sqft</th><th scope=col>bath</th><th scope=col>balcony</th><th scope=col>price</th></tr>\n",
              "\t<tr><th scope=col>&lt;chr&gt;</th><th scope=col>&lt;chr&gt;</th><th scope=col>&lt;chr&gt;</th><th scope=col>&lt;chr&gt;</th><th scope=col>&lt;chr&gt;</th><th scope=col>&lt;chr&gt;</th><th scope=col>&lt;dbl&gt;</th><th scope=col>&lt;dbl&gt;</th><th scope=col>&lt;dbl&gt;</th></tr>\n",
              "</thead>\n",
              "<tbody>\n",
              "\t<tr><td>Super built-up  Area</td><td>19-Dec       </td><td>Electronic City Phase II</td><td>2 BHK    </td><td>Coomee </td><td>1056</td><td>2</td><td>1</td><td> 39.07</td></tr>\n",
              "\t<tr><td>Plot  Area          </td><td>Ready To Move</td><td>Chikka Tirupathi        </td><td>4 Bedroom</td><td>Theanmp</td><td>2600</td><td>5</td><td>3</td><td>120.00</td></tr>\n",
              "\t<tr><td>Built-up  Area      </td><td>Ready To Move</td><td>Uttarahalli             </td><td>3 BHK    </td><td>       </td><td>1440</td><td>2</td><td>3</td><td> 62.00</td></tr>\n",
              "\t<tr><td>Super built-up  Area</td><td>Ready To Move</td><td>Lingadheeranahalli      </td><td>3 BHK    </td><td>Soiewre</td><td>1521</td><td>3</td><td>1</td><td> 95.00</td></tr>\n",
              "\t<tr><td>Super built-up  Area</td><td>Ready To Move</td><td>Kothanur                </td><td>2 BHK    </td><td>       </td><td>1200</td><td>2</td><td>1</td><td> 51.00</td></tr>\n",
              "\t<tr><td>Super built-up  Area</td><td>Ready To Move</td><td>Whitefield              </td><td>2 BHK    </td><td>DuenaTa</td><td>1170</td><td>2</td><td>1</td><td> 38.00</td></tr>\n",
              "\t<tr><td>Super built-up  Area</td><td>18-May       </td><td>Old Airport Road        </td><td>4 BHK    </td><td>Jaades </td><td>2732</td><td>4</td><td>0</td><td>204.00</td></tr>\n",
              "\t<tr><td>Super built-up  Area</td><td>Ready To Move</td><td>Rajaji Nagar            </td><td>4 BHK    </td><td>Brway G</td><td>3300</td><td>4</td><td>0</td><td>600.00</td></tr>\n",
              "\t<tr><td>Super built-up  Area</td><td>Ready To Move</td><td>Marathahalli            </td><td>3 BHK    </td><td>       </td><td>1310</td><td>3</td><td>1</td><td> 63.25</td></tr>\n",
              "\t<tr><td>Plot  Area          </td><td>Ready To Move</td><td>Gandhi Bazar            </td><td>6 Bedroom</td><td>       </td><td>1020</td><td>6</td><td>0</td><td>370.00</td></tr>\n",
              "\t<tr><td>Super built-up  Area</td><td>18-Feb       </td><td>Whitefield              </td><td>3 BHK    </td><td>       </td><td>1800</td><td>2</td><td>2</td><td> 70.00</td></tr>\n",
              "\t<tr><td>Plot  Area          </td><td>Ready To Move</td><td>Whitefield              </td><td>4 Bedroom</td><td>Prrry M</td><td>2785</td><td>5</td><td>3</td><td>295.00</td></tr>\n",
              "\t<tr><td>Super built-up  Area</td><td>Ready To Move</td><td>7th Phase JP Nagar      </td><td>2 BHK    </td><td>Shncyes</td><td>1000</td><td>2</td><td>1</td><td> 38.00</td></tr>\n",
              "\t<tr><td>Built-up  Area      </td><td>Ready To Move</td><td>Gottigere               </td><td>2 BHK    </td><td>       </td><td>1100</td><td>2</td><td>2</td><td> 40.00</td></tr>\n",
              "\t<tr><td>Plot  Area          </td><td>Ready To Move</td><td>Sarjapur                </td><td>3 Bedroom</td><td>Skityer</td><td>2250</td><td>3</td><td>2</td><td>148.00</td></tr>\n",
              "\t<tr><td>Super built-up  Area</td><td>Ready To Move</td><td>Mysore Road             </td><td>2 BHK    </td><td>PrntaEn</td><td>1175</td><td>2</td><td>2</td><td> 73.50</td></tr>\n",
              "\t<tr><td>Super built-up  Area</td><td>Ready To Move</td><td>Bisuvanahalli           </td><td>3 BHK    </td><td>Prityel</td><td>1180</td><td>3</td><td>2</td><td> 48.00</td></tr>\n",
              "\t<tr><td>Super built-up  Area</td><td>Ready To Move</td><td>Raja Rajeshwari Nagar   </td><td>3 BHK    </td><td>GrrvaGr</td><td>1540</td><td>3</td><td>3</td><td> 60.00</td></tr>\n",
              "\t<tr><td>Super built-up  Area</td><td>Ready To Move</td><td>Ramakrishnappa Layout   </td><td>3 BHK    </td><td>PeBayle</td><td>2770</td><td>4</td><td>2</td><td>290.00</td></tr>\n",
              "\t<tr><td>Super built-up  Area</td><td>Ready To Move</td><td>Manayata Tech Park      </td><td>2 BHK    </td><td>       </td><td>1100</td><td>2</td><td>2</td><td> 48.00</td></tr>\n",
              "\t<tr><td>Built-up  Area      </td><td>Ready To Move</td><td>Kengeri                 </td><td>1 BHK    </td><td>       </td><td>600 </td><td>1</td><td>1</td><td> 15.00</td></tr>\n",
              "\t<tr><td>Super built-up  Area</td><td>19-Dec       </td><td>Binny Pete              </td><td>3 BHK    </td><td>She 2rk</td><td>1755</td><td>3</td><td>1</td><td>122.00</td></tr>\n",
              "\t<tr><td>Plot  Area          </td><td>Ready To Move</td><td>Thanisandra             </td><td>4 Bedroom</td><td>Soitya </td><td>2800</td><td>5</td><td>2</td><td>380.00</td></tr>\n",
              "\t<tr><td>Super built-up  Area</td><td>Ready To Move</td><td>Bellandur               </td><td>3 BHK    </td><td>       </td><td>1767</td><td>3</td><td>1</td><td>103.00</td></tr>\n",
              "\t<tr><td>Super built-up  Area</td><td>18-Nov       </td><td> Thanisandra            </td><td>1 RK     </td><td>Bhe 2ko</td><td>510 </td><td>1</td><td>0</td><td> 25.25</td></tr>\n",
              "\t<tr><td>Super built-up  Area</td><td>18-May       </td><td>Mangammanapalya         </td><td>3 BHK    </td><td>       </td><td>1250</td><td>3</td><td>2</td><td> 56.00</td></tr>\n",
              "\t<tr><td>Super built-up  Area</td><td>Ready To Move</td><td>Electronic City         </td><td>2 BHK    </td><td>Itelaa </td><td>660 </td><td>1</td><td>1</td><td> 23.10</td></tr>\n",
              "\t<tr><td>Built-up  Area      </td><td>20-Dec       </td><td>Whitefield              </td><td>3 BHK    </td><td>       </td><td>1610</td><td>3</td><td>2</td><td> 81.00</td></tr>\n",
              "\t<tr><td>Super built-up  Area</td><td>17-Oct       </td><td>Ramagondanahalli        </td><td>2 BHK    </td><td>ViistLa</td><td>1151</td><td>2</td><td>2</td><td> 48.77</td></tr>\n",
              "\t<tr><td>Super built-up  Area</td><td>Ready To Move</td><td>Electronic City         </td><td>3 BHK    </td><td>KBityo </td><td>1025</td><td>2</td><td>1</td><td> 47.00</td></tr>\n",
              "\t<tr><td>⋮</td><td>⋮</td><td>⋮</td><td>⋮</td><td>⋮</td><td>⋮</td><td>⋮</td><td>⋮</td><td>⋮</td></tr>\n",
              "\t<tr><td>Super built-up  Area</td><td>Ready To Move</td><td>Sarjapur  Road       </td><td>4 BHK    </td><td>Maana E</td><td>4050       </td><td>2</td><td>1</td><td>450.00</td></tr>\n",
              "\t<tr><td>Plot  Area          </td><td>18-Jan       </td><td>Weavers Colony       </td><td>1 Bedroom</td><td>       </td><td>812        </td><td>1</td><td>0</td><td> 26.00</td></tr>\n",
              "\t<tr><td>Super built-up  Area</td><td>18-Jul       </td><td>Udayapur Village     </td><td>3 BHK    </td><td>Plowsri</td><td>1440       </td><td>2</td><td>2</td><td> 63.93</td></tr>\n",
              "\t<tr><td>Super built-up  Area</td><td>Ready To Move</td><td>Sarjapur  Road       </td><td>4 BHK    </td><td>Puallhi</td><td>2425       </td><td>5</td><td>1</td><td>195.00</td></tr>\n",
              "\t<tr><td>Super built-up  Area</td><td>Ready To Move</td><td>Sultan Palaya        </td><td>4 BHK    </td><td>RSntsAp</td><td>2200       </td><td>3</td><td>3</td><td> 80.00</td></tr>\n",
              "\t<tr><td>Super built-up  Area</td><td>18-Feb       </td><td>Haralur Road         </td><td>3 BHK    </td><td>SNnia E</td><td>1810       </td><td>3</td><td>2</td><td>112.00</td></tr>\n",
              "\t<tr><td>Super built-up  Area</td><td>Ready To Move</td><td>Cox Town             </td><td>2 BHK    </td><td>       </td><td>1200       </td><td>2</td><td>2</td><td>140.00</td></tr>\n",
              "\t<tr><td>Super built-up  Area</td><td>Ready To Move</td><td>Electronic City      </td><td>2 BHK    </td><td>GMown E</td><td>1060       </td><td>2</td><td>1</td><td> 52.00</td></tr>\n",
              "\t<tr><td>Super built-up  Area</td><td>Ready To Move</td><td>Kenchenahalli        </td><td>2 BHK    </td><td>AriosPa</td><td>1015       </td><td>2</td><td>2</td><td> 60.00</td></tr>\n",
              "\t<tr><td>Super built-up  Area</td><td>18-Dec       </td><td>Whitefield           </td><td>4 BHK    </td><td>Prtates</td><td>2830 - 2882</td><td>5</td><td>0</td><td>154.50</td></tr>\n",
              "\t<tr><td>Plot  Area          </td><td>Ready To Move</td><td>Hosakerehalli        </td><td>5 Bedroom</td><td>       </td><td>1500       </td><td>6</td><td>2</td><td>145.00</td></tr>\n",
              "\t<tr><td>Super built-up  Area</td><td>Ready To Move</td><td>Kothanur             </td><td>3 BHK    </td><td>       </td><td>1454       </td><td>3</td><td>3</td><td> 71.50</td></tr>\n",
              "\t<tr><td>Super built-up  Area</td><td>Ready To Move</td><td>Annaiah Reddy Layout </td><td>2 BHK    </td><td>       </td><td>1075       </td><td>2</td><td>2</td><td> 48.00</td></tr>\n",
              "\t<tr><td>Plot  Area          </td><td>Ready To Move</td><td>Vidyaranyapura       </td><td>5 Bedroom</td><td>       </td><td>774        </td><td>5</td><td>3</td><td> 70.00</td></tr>\n",
              "\t<tr><td>Super built-up  Area</td><td>Ready To Move</td><td>Raja Rajeshwari Nagar</td><td>2 BHK    </td><td>GrrvaGr</td><td>1187       </td><td>2</td><td>2</td><td> 40.14</td></tr>\n",
              "\t<tr><td>Carpet  Area        </td><td>Ready To Move</td><td>Hulimavu             </td><td>1 BHK    </td><td>       </td><td>500        </td><td>1</td><td>3</td><td>220.00</td></tr>\n",
              "\t<tr><td>Plot  Area          </td><td>Ready To Move</td><td>Rajarajeshwari Nagara</td><td>4 Bedroom</td><td>       </td><td>1200       </td><td>5</td><td>0</td><td>325.00</td></tr>\n",
              "\t<tr><td>Built-up  Area      </td><td>Ready To Move</td><td>Billekahalli         </td><td>3 BHK    </td><td>       </td><td>1805       </td><td>3</td><td>3</td><td>134.00</td></tr>\n",
              "\t<tr><td>Built-up  Area      </td><td>Ready To Move</td><td>Bannerghatta Road    </td><td>3 BHK    </td><td>Baanise</td><td>1527       </td><td>3</td><td>1</td><td>142.00</td></tr>\n",
              "\t<tr><td>Super built-up  Area</td><td>Ready To Move</td><td>Yeshwanthpur         </td><td>3 BHK    </td><td>IBityin</td><td>1675       </td><td>3</td><td>0</td><td> 92.13</td></tr>\n",
              "\t<tr><td>Super built-up  Area</td><td>Ready To Move</td><td>Rachenahalli         </td><td>2 BHK    </td><td>       </td><td>1050       </td><td>2</td><td>2</td><td> 52.71</td></tr>\n",
              "\t<tr><td>Plot  Area          </td><td>Ready To Move</td><td>Ramamurthy Nagar     </td><td>7 Bedroom</td><td>       </td><td>1500       </td><td>9</td><td>2</td><td>250.00</td></tr>\n",
              "\t<tr><td>Super built-up  Area</td><td>Ready To Move</td><td>Bellandur            </td><td>2 BHK    </td><td>       </td><td>1262       </td><td>2</td><td>2</td><td> 47.00</td></tr>\n",
              "\t<tr><td>Super built-up  Area</td><td>Ready To Move</td><td>Uttarahalli          </td><td>3 BHK    </td><td>Aklia R</td><td>1345       </td><td>2</td><td>1</td><td> 57.00</td></tr>\n",
              "\t<tr><td>Super built-up  Area</td><td>Ready To Move</td><td>Green Glen Layout    </td><td>3 BHK    </td><td>SoosePr</td><td>1715       </td><td>3</td><td>3</td><td>112.00</td></tr>\n",
              "\t<tr><td>Built-up  Area      </td><td>Ready To Move</td><td>Whitefield           </td><td>5 Bedroom</td><td>ArsiaEx</td><td>3453       </td><td>4</td><td>0</td><td>231.00</td></tr>\n",
              "\t<tr><td>Super built-up  Area</td><td>Ready To Move</td><td>Richards Town        </td><td>4 BHK    </td><td>       </td><td>3600       </td><td>5</td><td>0</td><td>400.00</td></tr>\n",
              "\t<tr><td>Built-up  Area      </td><td>Ready To Move</td><td>Raja Rajeshwari Nagar</td><td>2 BHK    </td><td>Mahla T</td><td>1141       </td><td>2</td><td>1</td><td> 60.00</td></tr>\n",
              "\t<tr><td>Super built-up  Area</td><td>18-Jun       </td><td>Padmanabhanagar      </td><td>4 BHK    </td><td>SollyCl</td><td>4689       </td><td>4</td><td>1</td><td>488.00</td></tr>\n",
              "\t<tr><td>Super built-up  Area</td><td>Ready To Move</td><td>Doddathoguru         </td><td>1 BHK    </td><td>       </td><td>550        </td><td>1</td><td>1</td><td> 17.00</td></tr>\n",
              "</tbody>\n",
              "</table>\n"
            ],
            "text/markdown": "\nA data.frame: 13320 × 9\n\n| area_type &lt;chr&gt; | availability &lt;chr&gt; | location &lt;chr&gt; | size &lt;chr&gt; | society &lt;chr&gt; | total_sqft &lt;chr&gt; | bath &lt;dbl&gt; | balcony &lt;dbl&gt; | price &lt;dbl&gt; |\n|---|---|---|---|---|---|---|---|---|\n| Super built-up  Area | 19-Dec        | Electronic City Phase II | 2 BHK     | Coomee  | 1056 | 2 | 1 |  39.07 |\n| Plot  Area           | Ready To Move | Chikka Tirupathi         | 4 Bedroom | Theanmp | 2600 | 5 | 3 | 120.00 |\n| Built-up  Area       | Ready To Move | Uttarahalli              | 3 BHK     | <!----> | 1440 | 2 | 3 |  62.00 |\n| Super built-up  Area | Ready To Move | Lingadheeranahalli       | 3 BHK     | Soiewre | 1521 | 3 | 1 |  95.00 |\n| Super built-up  Area | Ready To Move | Kothanur                 | 2 BHK     | <!----> | 1200 | 2 | 1 |  51.00 |\n| Super built-up  Area | Ready To Move | Whitefield               | 2 BHK     | DuenaTa | 1170 | 2 | 1 |  38.00 |\n| Super built-up  Area | 18-May        | Old Airport Road         | 4 BHK     | Jaades  | 2732 | 4 | 0 | 204.00 |\n| Super built-up  Area | Ready To Move | Rajaji Nagar             | 4 BHK     | Brway G | 3300 | 4 | 0 | 600.00 |\n| Super built-up  Area | Ready To Move | Marathahalli             | 3 BHK     | <!----> | 1310 | 3 | 1 |  63.25 |\n| Plot  Area           | Ready To Move | Gandhi Bazar             | 6 Bedroom | <!----> | 1020 | 6 | 0 | 370.00 |\n| Super built-up  Area | 18-Feb        | Whitefield               | 3 BHK     | <!----> | 1800 | 2 | 2 |  70.00 |\n| Plot  Area           | Ready To Move | Whitefield               | 4 Bedroom | Prrry M | 2785 | 5 | 3 | 295.00 |\n| Super built-up  Area | Ready To Move | 7th Phase JP Nagar       | 2 BHK     | Shncyes | 1000 | 2 | 1 |  38.00 |\n| Built-up  Area       | Ready To Move | Gottigere                | 2 BHK     | <!----> | 1100 | 2 | 2 |  40.00 |\n| Plot  Area           | Ready To Move | Sarjapur                 | 3 Bedroom | Skityer | 2250 | 3 | 2 | 148.00 |\n| Super built-up  Area | Ready To Move | Mysore Road              | 2 BHK     | PrntaEn | 1175 | 2 | 2 |  73.50 |\n| Super built-up  Area | Ready To Move | Bisuvanahalli            | 3 BHK     | Prityel | 1180 | 3 | 2 |  48.00 |\n| Super built-up  Area | Ready To Move | Raja Rajeshwari Nagar    | 3 BHK     | GrrvaGr | 1540 | 3 | 3 |  60.00 |\n| Super built-up  Area | Ready To Move | Ramakrishnappa Layout    | 3 BHK     | PeBayle | 2770 | 4 | 2 | 290.00 |\n| Super built-up  Area | Ready To Move | Manayata Tech Park       | 2 BHK     | <!----> | 1100 | 2 | 2 |  48.00 |\n| Built-up  Area       | Ready To Move | Kengeri                  | 1 BHK     | <!----> | 600  | 1 | 1 |  15.00 |\n| Super built-up  Area | 19-Dec        | Binny Pete               | 3 BHK     | She 2rk | 1755 | 3 | 1 | 122.00 |\n| Plot  Area           | Ready To Move | Thanisandra              | 4 Bedroom | Soitya  | 2800 | 5 | 2 | 380.00 |\n| Super built-up  Area | Ready To Move | Bellandur                | 3 BHK     | <!----> | 1767 | 3 | 1 | 103.00 |\n| Super built-up  Area | 18-Nov        |  Thanisandra             | 1 RK      | Bhe 2ko | 510  | 1 | 0 |  25.25 |\n| Super built-up  Area | 18-May        | Mangammanapalya          | 3 BHK     | <!----> | 1250 | 3 | 2 |  56.00 |\n| Super built-up  Area | Ready To Move | Electronic City          | 2 BHK     | Itelaa  | 660  | 1 | 1 |  23.10 |\n| Built-up  Area       | 20-Dec        | Whitefield               | 3 BHK     | <!----> | 1610 | 3 | 2 |  81.00 |\n| Super built-up  Area | 17-Oct        | Ramagondanahalli         | 2 BHK     | ViistLa | 1151 | 2 | 2 |  48.77 |\n| Super built-up  Area | Ready To Move | Electronic City          | 3 BHK     | KBityo  | 1025 | 2 | 1 |  47.00 |\n| ⋮ | ⋮ | ⋮ | ⋮ | ⋮ | ⋮ | ⋮ | ⋮ | ⋮ |\n| Super built-up  Area | Ready To Move | Sarjapur  Road        | 4 BHK     | Maana E | 4050        | 2 | 1 | 450.00 |\n| Plot  Area           | 18-Jan        | Weavers Colony        | 1 Bedroom | <!----> | 812         | 1 | 0 |  26.00 |\n| Super built-up  Area | 18-Jul        | Udayapur Village      | 3 BHK     | Plowsri | 1440        | 2 | 2 |  63.93 |\n| Super built-up  Area | Ready To Move | Sarjapur  Road        | 4 BHK     | Puallhi | 2425        | 5 | 1 | 195.00 |\n| Super built-up  Area | Ready To Move | Sultan Palaya         | 4 BHK     | RSntsAp | 2200        | 3 | 3 |  80.00 |\n| Super built-up  Area | 18-Feb        | Haralur Road          | 3 BHK     | SNnia E | 1810        | 3 | 2 | 112.00 |\n| Super built-up  Area | Ready To Move | Cox Town              | 2 BHK     | <!----> | 1200        | 2 | 2 | 140.00 |\n| Super built-up  Area | Ready To Move | Electronic City       | 2 BHK     | GMown E | 1060        | 2 | 1 |  52.00 |\n| Super built-up  Area | Ready To Move | Kenchenahalli         | 2 BHK     | AriosPa | 1015        | 2 | 2 |  60.00 |\n| Super built-up  Area | 18-Dec        | Whitefield            | 4 BHK     | Prtates | 2830 - 2882 | 5 | 0 | 154.50 |\n| Plot  Area           | Ready To Move | Hosakerehalli         | 5 Bedroom | <!----> | 1500        | 6 | 2 | 145.00 |\n| Super built-up  Area | Ready To Move | Kothanur              | 3 BHK     | <!----> | 1454        | 3 | 3 |  71.50 |\n| Super built-up  Area | Ready To Move | Annaiah Reddy Layout  | 2 BHK     | <!----> | 1075        | 2 | 2 |  48.00 |\n| Plot  Area           | Ready To Move | Vidyaranyapura        | 5 Bedroom | <!----> | 774         | 5 | 3 |  70.00 |\n| Super built-up  Area | Ready To Move | Raja Rajeshwari Nagar | 2 BHK     | GrrvaGr | 1187        | 2 | 2 |  40.14 |\n| Carpet  Area         | Ready To Move | Hulimavu              | 1 BHK     | <!----> | 500         | 1 | 3 | 220.00 |\n| Plot  Area           | Ready To Move | Rajarajeshwari Nagara | 4 Bedroom | <!----> | 1200        | 5 | 0 | 325.00 |\n| Built-up  Area       | Ready To Move | Billekahalli          | 3 BHK     | <!----> | 1805        | 3 | 3 | 134.00 |\n| Built-up  Area       | Ready To Move | Bannerghatta Road     | 3 BHK     | Baanise | 1527        | 3 | 1 | 142.00 |\n| Super built-up  Area | Ready To Move | Yeshwanthpur          | 3 BHK     | IBityin | 1675        | 3 | 0 |  92.13 |\n| Super built-up  Area | Ready To Move | Rachenahalli          | 2 BHK     | <!----> | 1050        | 2 | 2 |  52.71 |\n| Plot  Area           | Ready To Move | Ramamurthy Nagar      | 7 Bedroom | <!----> | 1500        | 9 | 2 | 250.00 |\n| Super built-up  Area | Ready To Move | Bellandur             | 2 BHK     | <!----> | 1262        | 2 | 2 |  47.00 |\n| Super built-up  Area | Ready To Move | Uttarahalli           | 3 BHK     | Aklia R | 1345        | 2 | 1 |  57.00 |\n| Super built-up  Area | Ready To Move | Green Glen Layout     | 3 BHK     | SoosePr | 1715        | 3 | 3 | 112.00 |\n| Built-up  Area       | Ready To Move | Whitefield            | 5 Bedroom | ArsiaEx | 3453        | 4 | 0 | 231.00 |\n| Super built-up  Area | Ready To Move | Richards Town         | 4 BHK     | <!----> | 3600        | 5 | 0 | 400.00 |\n| Built-up  Area       | Ready To Move | Raja Rajeshwari Nagar | 2 BHK     | Mahla T | 1141        | 2 | 1 |  60.00 |\n| Super built-up  Area | 18-Jun        | Padmanabhanagar       | 4 BHK     | SollyCl | 4689        | 4 | 1 | 488.00 |\n| Super built-up  Area | Ready To Move | Doddathoguru          | 1 BHK     | <!----> | 550         | 1 | 1 |  17.00 |\n\n",
            "text/latex": "A data.frame: 13320 × 9\n\\begin{tabular}{lllllllll}\n area\\_type & availability & location & size & society & total\\_sqft & bath & balcony & price\\\\\n <chr> & <chr> & <chr> & <chr> & <chr> & <chr> & <dbl> & <dbl> & <dbl>\\\\\n\\hline\n\t Super built-up  Area & 19-Dec        & Electronic City Phase II & 2 BHK     & Coomee  & 1056 & 2 & 1 &  39.07\\\\\n\t Plot  Area           & Ready To Move & Chikka Tirupathi         & 4 Bedroom & Theanmp & 2600 & 5 & 3 & 120.00\\\\\n\t Built-up  Area       & Ready To Move & Uttarahalli              & 3 BHK     &         & 1440 & 2 & 3 &  62.00\\\\\n\t Super built-up  Area & Ready To Move & Lingadheeranahalli       & 3 BHK     & Soiewre & 1521 & 3 & 1 &  95.00\\\\\n\t Super built-up  Area & Ready To Move & Kothanur                 & 2 BHK     &         & 1200 & 2 & 1 &  51.00\\\\\n\t Super built-up  Area & Ready To Move & Whitefield               & 2 BHK     & DuenaTa & 1170 & 2 & 1 &  38.00\\\\\n\t Super built-up  Area & 18-May        & Old Airport Road         & 4 BHK     & Jaades  & 2732 & 4 & 0 & 204.00\\\\\n\t Super built-up  Area & Ready To Move & Rajaji Nagar             & 4 BHK     & Brway G & 3300 & 4 & 0 & 600.00\\\\\n\t Super built-up  Area & Ready To Move & Marathahalli             & 3 BHK     &         & 1310 & 3 & 1 &  63.25\\\\\n\t Plot  Area           & Ready To Move & Gandhi Bazar             & 6 Bedroom &         & 1020 & 6 & 0 & 370.00\\\\\n\t Super built-up  Area & 18-Feb        & Whitefield               & 3 BHK     &         & 1800 & 2 & 2 &  70.00\\\\\n\t Plot  Area           & Ready To Move & Whitefield               & 4 Bedroom & Prrry M & 2785 & 5 & 3 & 295.00\\\\\n\t Super built-up  Area & Ready To Move & 7th Phase JP Nagar       & 2 BHK     & Shncyes & 1000 & 2 & 1 &  38.00\\\\\n\t Built-up  Area       & Ready To Move & Gottigere                & 2 BHK     &         & 1100 & 2 & 2 &  40.00\\\\\n\t Plot  Area           & Ready To Move & Sarjapur                 & 3 Bedroom & Skityer & 2250 & 3 & 2 & 148.00\\\\\n\t Super built-up  Area & Ready To Move & Mysore Road              & 2 BHK     & PrntaEn & 1175 & 2 & 2 &  73.50\\\\\n\t Super built-up  Area & Ready To Move & Bisuvanahalli            & 3 BHK     & Prityel & 1180 & 3 & 2 &  48.00\\\\\n\t Super built-up  Area & Ready To Move & Raja Rajeshwari Nagar    & 3 BHK     & GrrvaGr & 1540 & 3 & 3 &  60.00\\\\\n\t Super built-up  Area & Ready To Move & Ramakrishnappa Layout    & 3 BHK     & PeBayle & 2770 & 4 & 2 & 290.00\\\\\n\t Super built-up  Area & Ready To Move & Manayata Tech Park       & 2 BHK     &         & 1100 & 2 & 2 &  48.00\\\\\n\t Built-up  Area       & Ready To Move & Kengeri                  & 1 BHK     &         & 600  & 1 & 1 &  15.00\\\\\n\t Super built-up  Area & 19-Dec        & Binny Pete               & 3 BHK     & She 2rk & 1755 & 3 & 1 & 122.00\\\\\n\t Plot  Area           & Ready To Move & Thanisandra              & 4 Bedroom & Soitya  & 2800 & 5 & 2 & 380.00\\\\\n\t Super built-up  Area & Ready To Move & Bellandur                & 3 BHK     &         & 1767 & 3 & 1 & 103.00\\\\\n\t Super built-up  Area & 18-Nov        &  Thanisandra             & 1 RK      & Bhe 2ko & 510  & 1 & 0 &  25.25\\\\\n\t Super built-up  Area & 18-May        & Mangammanapalya          & 3 BHK     &         & 1250 & 3 & 2 &  56.00\\\\\n\t Super built-up  Area & Ready To Move & Electronic City          & 2 BHK     & Itelaa  & 660  & 1 & 1 &  23.10\\\\\n\t Built-up  Area       & 20-Dec        & Whitefield               & 3 BHK     &         & 1610 & 3 & 2 &  81.00\\\\\n\t Super built-up  Area & 17-Oct        & Ramagondanahalli         & 2 BHK     & ViistLa & 1151 & 2 & 2 &  48.77\\\\\n\t Super built-up  Area & Ready To Move & Electronic City          & 3 BHK     & KBityo  & 1025 & 2 & 1 &  47.00\\\\\n\t ⋮ & ⋮ & ⋮ & ⋮ & ⋮ & ⋮ & ⋮ & ⋮ & ⋮\\\\\n\t Super built-up  Area & Ready To Move & Sarjapur  Road        & 4 BHK     & Maana E & 4050        & 2 & 1 & 450.00\\\\\n\t Plot  Area           & 18-Jan        & Weavers Colony        & 1 Bedroom &         & 812         & 1 & 0 &  26.00\\\\\n\t Super built-up  Area & 18-Jul        & Udayapur Village      & 3 BHK     & Plowsri & 1440        & 2 & 2 &  63.93\\\\\n\t Super built-up  Area & Ready To Move & Sarjapur  Road        & 4 BHK     & Puallhi & 2425        & 5 & 1 & 195.00\\\\\n\t Super built-up  Area & Ready To Move & Sultan Palaya         & 4 BHK     & RSntsAp & 2200        & 3 & 3 &  80.00\\\\\n\t Super built-up  Area & 18-Feb        & Haralur Road          & 3 BHK     & SNnia E & 1810        & 3 & 2 & 112.00\\\\\n\t Super built-up  Area & Ready To Move & Cox Town              & 2 BHK     &         & 1200        & 2 & 2 & 140.00\\\\\n\t Super built-up  Area & Ready To Move & Electronic City       & 2 BHK     & GMown E & 1060        & 2 & 1 &  52.00\\\\\n\t Super built-up  Area & Ready To Move & Kenchenahalli         & 2 BHK     & AriosPa & 1015        & 2 & 2 &  60.00\\\\\n\t Super built-up  Area & 18-Dec        & Whitefield            & 4 BHK     & Prtates & 2830 - 2882 & 5 & 0 & 154.50\\\\\n\t Plot  Area           & Ready To Move & Hosakerehalli         & 5 Bedroom &         & 1500        & 6 & 2 & 145.00\\\\\n\t Super built-up  Area & Ready To Move & Kothanur              & 3 BHK     &         & 1454        & 3 & 3 &  71.50\\\\\n\t Super built-up  Area & Ready To Move & Annaiah Reddy Layout  & 2 BHK     &         & 1075        & 2 & 2 &  48.00\\\\\n\t Plot  Area           & Ready To Move & Vidyaranyapura        & 5 Bedroom &         & 774         & 5 & 3 &  70.00\\\\\n\t Super built-up  Area & Ready To Move & Raja Rajeshwari Nagar & 2 BHK     & GrrvaGr & 1187        & 2 & 2 &  40.14\\\\\n\t Carpet  Area         & Ready To Move & Hulimavu              & 1 BHK     &         & 500         & 1 & 3 & 220.00\\\\\n\t Plot  Area           & Ready To Move & Rajarajeshwari Nagara & 4 Bedroom &         & 1200        & 5 & 0 & 325.00\\\\\n\t Built-up  Area       & Ready To Move & Billekahalli          & 3 BHK     &         & 1805        & 3 & 3 & 134.00\\\\\n\t Built-up  Area       & Ready To Move & Bannerghatta Road     & 3 BHK     & Baanise & 1527        & 3 & 1 & 142.00\\\\\n\t Super built-up  Area & Ready To Move & Yeshwanthpur          & 3 BHK     & IBityin & 1675        & 3 & 0 &  92.13\\\\\n\t Super built-up  Area & Ready To Move & Rachenahalli          & 2 BHK     &         & 1050        & 2 & 2 &  52.71\\\\\n\t Plot  Area           & Ready To Move & Ramamurthy Nagar      & 7 Bedroom &         & 1500        & 9 & 2 & 250.00\\\\\n\t Super built-up  Area & Ready To Move & Bellandur             & 2 BHK     &         & 1262        & 2 & 2 &  47.00\\\\\n\t Super built-up  Area & Ready To Move & Uttarahalli           & 3 BHK     & Aklia R & 1345        & 2 & 1 &  57.00\\\\\n\t Super built-up  Area & Ready To Move & Green Glen Layout     & 3 BHK     & SoosePr & 1715        & 3 & 3 & 112.00\\\\\n\t Built-up  Area       & Ready To Move & Whitefield            & 5 Bedroom & ArsiaEx & 3453        & 4 & 0 & 231.00\\\\\n\t Super built-up  Area & Ready To Move & Richards Town         & 4 BHK     &         & 3600        & 5 & 0 & 400.00\\\\\n\t Built-up  Area       & Ready To Move & Raja Rajeshwari Nagar & 2 BHK     & Mahla T & 1141        & 2 & 1 &  60.00\\\\\n\t Super built-up  Area & 18-Jun        & Padmanabhanagar       & 4 BHK     & SollyCl & 4689        & 4 & 1 & 488.00\\\\\n\t Super built-up  Area & Ready To Move & Doddathoguru          & 1 BHK     &         & 550         & 1 & 1 &  17.00\\\\\n\\end{tabular}\n",
            "text/plain": [
              "      area_type            availability  location                 size     \n",
              "1     Super built-up  Area 19-Dec        Electronic City Phase II 2 BHK    \n",
              "2     Plot  Area           Ready To Move Chikka Tirupathi         4 Bedroom\n",
              "3     Built-up  Area       Ready To Move Uttarahalli              3 BHK    \n",
              "4     Super built-up  Area Ready To Move Lingadheeranahalli       3 BHK    \n",
              "5     Super built-up  Area Ready To Move Kothanur                 2 BHK    \n",
              "6     Super built-up  Area Ready To Move Whitefield               2 BHK    \n",
              "7     Super built-up  Area 18-May        Old Airport Road         4 BHK    \n",
              "8     Super built-up  Area Ready To Move Rajaji Nagar             4 BHK    \n",
              "9     Super built-up  Area Ready To Move Marathahalli             3 BHK    \n",
              "10    Plot  Area           Ready To Move Gandhi Bazar             6 Bedroom\n",
              "11    Super built-up  Area 18-Feb        Whitefield               3 BHK    \n",
              "12    Plot  Area           Ready To Move Whitefield               4 Bedroom\n",
              "13    Super built-up  Area Ready To Move 7th Phase JP Nagar       2 BHK    \n",
              "14    Built-up  Area       Ready To Move Gottigere                2 BHK    \n",
              "15    Plot  Area           Ready To Move Sarjapur                 3 Bedroom\n",
              "16    Super built-up  Area Ready To Move Mysore Road              2 BHK    \n",
              "17    Super built-up  Area Ready To Move Bisuvanahalli            3 BHK    \n",
              "18    Super built-up  Area Ready To Move Raja Rajeshwari Nagar    3 BHK    \n",
              "19    Super built-up  Area Ready To Move Ramakrishnappa Layout    3 BHK    \n",
              "20    Super built-up  Area Ready To Move Manayata Tech Park       2 BHK    \n",
              "21    Built-up  Area       Ready To Move Kengeri                  1 BHK    \n",
              "22    Super built-up  Area 19-Dec        Binny Pete               3 BHK    \n",
              "23    Plot  Area           Ready To Move Thanisandra              4 Bedroom\n",
              "24    Super built-up  Area Ready To Move Bellandur                3 BHK    \n",
              "25    Super built-up  Area 18-Nov         Thanisandra             1 RK     \n",
              "26    Super built-up  Area 18-May        Mangammanapalya          3 BHK    \n",
              "27    Super built-up  Area Ready To Move Electronic City          2 BHK    \n",
              "28    Built-up  Area       20-Dec        Whitefield               3 BHK    \n",
              "29    Super built-up  Area 17-Oct        Ramagondanahalli         2 BHK    \n",
              "30    Super built-up  Area Ready To Move Electronic City          3 BHK    \n",
              "⋮     ⋮                    ⋮             ⋮                        ⋮        \n",
              "13291 Super built-up  Area Ready To Move Sarjapur  Road           4 BHK    \n",
              "13292 Plot  Area           18-Jan        Weavers Colony           1 Bedroom\n",
              "13293 Super built-up  Area 18-Jul        Udayapur Village         3 BHK    \n",
              "13294 Super built-up  Area Ready To Move Sarjapur  Road           4 BHK    \n",
              "13295 Super built-up  Area Ready To Move Sultan Palaya            4 BHK    \n",
              "13296 Super built-up  Area 18-Feb        Haralur Road             3 BHK    \n",
              "13297 Super built-up  Area Ready To Move Cox Town                 2 BHK    \n",
              "13298 Super built-up  Area Ready To Move Electronic City          2 BHK    \n",
              "13299 Super built-up  Area Ready To Move Kenchenahalli            2 BHK    \n",
              "13300 Super built-up  Area 18-Dec        Whitefield               4 BHK    \n",
              "13301 Plot  Area           Ready To Move Hosakerehalli            5 Bedroom\n",
              "13302 Super built-up  Area Ready To Move Kothanur                 3 BHK    \n",
              "13303 Super built-up  Area Ready To Move Annaiah Reddy Layout     2 BHK    \n",
              "13304 Plot  Area           Ready To Move Vidyaranyapura           5 Bedroom\n",
              "13305 Super built-up  Area Ready To Move Raja Rajeshwari Nagar    2 BHK    \n",
              "13306 Carpet  Area         Ready To Move Hulimavu                 1 BHK    \n",
              "13307 Plot  Area           Ready To Move Rajarajeshwari Nagara    4 Bedroom\n",
              "13308 Built-up  Area       Ready To Move Billekahalli             3 BHK    \n",
              "13309 Built-up  Area       Ready To Move Bannerghatta Road        3 BHK    \n",
              "13310 Super built-up  Area Ready To Move Yeshwanthpur             3 BHK    \n",
              "13311 Super built-up  Area Ready To Move Rachenahalli             2 BHK    \n",
              "13312 Plot  Area           Ready To Move Ramamurthy Nagar         7 Bedroom\n",
              "13313 Super built-up  Area Ready To Move Bellandur                2 BHK    \n",
              "13314 Super built-up  Area Ready To Move Uttarahalli              3 BHK    \n",
              "13315 Super built-up  Area Ready To Move Green Glen Layout        3 BHK    \n",
              "13316 Built-up  Area       Ready To Move Whitefield               5 Bedroom\n",
              "13317 Super built-up  Area Ready To Move Richards Town            4 BHK    \n",
              "13318 Built-up  Area       Ready To Move Raja Rajeshwari Nagar    2 BHK    \n",
              "13319 Super built-up  Area 18-Jun        Padmanabhanagar          4 BHK    \n",
              "13320 Super built-up  Area Ready To Move Doddathoguru             1 BHK    \n",
              "      society total_sqft  bath balcony price \n",
              "1     Coomee  1056        2    1        39.07\n",
              "2     Theanmp 2600        5    3       120.00\n",
              "3             1440        2    3        62.00\n",
              "4     Soiewre 1521        3    1        95.00\n",
              "5             1200        2    1        51.00\n",
              "6     DuenaTa 1170        2    1        38.00\n",
              "7     Jaades  2732        4    0       204.00\n",
              "8     Brway G 3300        4    0       600.00\n",
              "9             1310        3    1        63.25\n",
              "10            1020        6    0       370.00\n",
              "11            1800        2    2        70.00\n",
              "12    Prrry M 2785        5    3       295.00\n",
              "13    Shncyes 1000        2    1        38.00\n",
              "14            1100        2    2        40.00\n",
              "15    Skityer 2250        3    2       148.00\n",
              "16    PrntaEn 1175        2    2        73.50\n",
              "17    Prityel 1180        3    2        48.00\n",
              "18    GrrvaGr 1540        3    3        60.00\n",
              "19    PeBayle 2770        4    2       290.00\n",
              "20            1100        2    2        48.00\n",
              "21            600         1    1        15.00\n",
              "22    She 2rk 1755        3    1       122.00\n",
              "23    Soitya  2800        5    2       380.00\n",
              "24            1767        3    1       103.00\n",
              "25    Bhe 2ko 510         1    0        25.25\n",
              "26            1250        3    2        56.00\n",
              "27    Itelaa  660         1    1        23.10\n",
              "28            1610        3    2        81.00\n",
              "29    ViistLa 1151        2    2        48.77\n",
              "30    KBityo  1025        2    1        47.00\n",
              "⋮     ⋮       ⋮           ⋮    ⋮       ⋮     \n",
              "13291 Maana E 4050        2    1       450.00\n",
              "13292         812         1    0        26.00\n",
              "13293 Plowsri 1440        2    2        63.93\n",
              "13294 Puallhi 2425        5    1       195.00\n",
              "13295 RSntsAp 2200        3    3        80.00\n",
              "13296 SNnia E 1810        3    2       112.00\n",
              "13297         1200        2    2       140.00\n",
              "13298 GMown E 1060        2    1        52.00\n",
              "13299 AriosPa 1015        2    2        60.00\n",
              "13300 Prtates 2830 - 2882 5    0       154.50\n",
              "13301         1500        6    2       145.00\n",
              "13302         1454        3    3        71.50\n",
              "13303         1075        2    2        48.00\n",
              "13304         774         5    3        70.00\n",
              "13305 GrrvaGr 1187        2    2        40.14\n",
              "13306         500         1    3       220.00\n",
              "13307         1200        5    0       325.00\n",
              "13308         1805        3    3       134.00\n",
              "13309 Baanise 1527        3    1       142.00\n",
              "13310 IBityin 1675        3    0        92.13\n",
              "13311         1050        2    2        52.71\n",
              "13312         1500        9    2       250.00\n",
              "13313         1262        2    2        47.00\n",
              "13314 Aklia R 1345        2    1        57.00\n",
              "13315 SoosePr 1715        3    3       112.00\n",
              "13316 ArsiaEx 3453        4    0       231.00\n",
              "13317         3600        5    0       400.00\n",
              "13318 Mahla T 1141        2    1        60.00\n",
              "13319 SollyCl 4689        4    1       488.00\n",
              "13320         550         1    1        17.00"
            ]
          },
          "metadata": {}
        }
      ]
    },
    {
      "cell_type": "code",
      "source": [
        "hp_data <- subset(hp_data, select = -society)"
      ],
      "metadata": {
        "id": "BCgKHLJnl3Tw"
      },
      "execution_count": 48,
      "outputs": []
    },
    {
      "cell_type": "code",
      "source": [
        "hp_data"
      ],
      "metadata": {
        "colab": {
          "base_uri": "https://localhost:8080/",
          "height": 1000
        },
        "id": "y7LAOx_sny5i",
        "outputId": "60dc82e1-6c65-4b6f-b8ab-514b726a09ee"
      },
      "execution_count": 49,
      "outputs": [
        {
          "output_type": "display_data",
          "data": {
            "text/html": [
              "<table class=\"dataframe\">\n",
              "<caption>A data.frame: 13320 × 8</caption>\n",
              "<thead>\n",
              "\t<tr><th></th><th scope=col>area_type</th><th scope=col>availability</th><th scope=col>location</th><th scope=col>size</th><th scope=col>total_sqft</th><th scope=col>bath</th><th scope=col>balcony</th><th scope=col>price</th></tr>\n",
              "\t<tr><th></th><th scope=col>&lt;chr&gt;</th><th scope=col>&lt;chr&gt;</th><th scope=col>&lt;chr&gt;</th><th scope=col>&lt;chr&gt;</th><th scope=col>&lt;chr&gt;</th><th scope=col>&lt;dbl&gt;</th><th scope=col>&lt;dbl&gt;</th><th scope=col>&lt;dbl&gt;</th></tr>\n",
              "</thead>\n",
              "<tbody>\n",
              "\t<tr><th scope=row>1</th><td>Super built-up  Area</td><td>19-Dec       </td><td>Electronic City Phase II</td><td>2 BHK    </td><td>1056</td><td>2</td><td>1</td><td> 39.07</td></tr>\n",
              "\t<tr><th scope=row>2</th><td>Plot  Area          </td><td>Ready To Move</td><td>Chikka Tirupathi        </td><td>4 Bedroom</td><td>2600</td><td>5</td><td>3</td><td>120.00</td></tr>\n",
              "\t<tr><th scope=row>3</th><td>Built-up  Area      </td><td>Ready To Move</td><td>Uttarahalli             </td><td>3 BHK    </td><td>1440</td><td>2</td><td>3</td><td> 62.00</td></tr>\n",
              "\t<tr><th scope=row>4</th><td>Super built-up  Area</td><td>Ready To Move</td><td>Lingadheeranahalli      </td><td>3 BHK    </td><td>1521</td><td>3</td><td>1</td><td> 95.00</td></tr>\n",
              "\t<tr><th scope=row>5</th><td>Super built-up  Area</td><td>Ready To Move</td><td>Kothanur                </td><td>2 BHK    </td><td>1200</td><td>2</td><td>1</td><td> 51.00</td></tr>\n",
              "\t<tr><th scope=row>6</th><td>Super built-up  Area</td><td>Ready To Move</td><td>Whitefield              </td><td>2 BHK    </td><td>1170</td><td>2</td><td>1</td><td> 38.00</td></tr>\n",
              "\t<tr><th scope=row>7</th><td>Super built-up  Area</td><td>18-May       </td><td>Old Airport Road        </td><td>4 BHK    </td><td>2732</td><td>4</td><td>0</td><td>204.00</td></tr>\n",
              "\t<tr><th scope=row>8</th><td>Super built-up  Area</td><td>Ready To Move</td><td>Rajaji Nagar            </td><td>4 BHK    </td><td>3300</td><td>4</td><td>0</td><td>600.00</td></tr>\n",
              "\t<tr><th scope=row>9</th><td>Super built-up  Area</td><td>Ready To Move</td><td>Marathahalli            </td><td>3 BHK    </td><td>1310</td><td>3</td><td>1</td><td> 63.25</td></tr>\n",
              "\t<tr><th scope=row>10</th><td>Plot  Area          </td><td>Ready To Move</td><td>Gandhi Bazar            </td><td>6 Bedroom</td><td>1020</td><td>6</td><td>0</td><td>370.00</td></tr>\n",
              "\t<tr><th scope=row>11</th><td>Super built-up  Area</td><td>18-Feb       </td><td>Whitefield              </td><td>3 BHK    </td><td>1800</td><td>2</td><td>2</td><td> 70.00</td></tr>\n",
              "\t<tr><th scope=row>12</th><td>Plot  Area          </td><td>Ready To Move</td><td>Whitefield              </td><td>4 Bedroom</td><td>2785</td><td>5</td><td>3</td><td>295.00</td></tr>\n",
              "\t<tr><th scope=row>13</th><td>Super built-up  Area</td><td>Ready To Move</td><td>7th Phase JP Nagar      </td><td>2 BHK    </td><td>1000</td><td>2</td><td>1</td><td> 38.00</td></tr>\n",
              "\t<tr><th scope=row>14</th><td>Built-up  Area      </td><td>Ready To Move</td><td>Gottigere               </td><td>2 BHK    </td><td>1100</td><td>2</td><td>2</td><td> 40.00</td></tr>\n",
              "\t<tr><th scope=row>15</th><td>Plot  Area          </td><td>Ready To Move</td><td>Sarjapur                </td><td>3 Bedroom</td><td>2250</td><td>3</td><td>2</td><td>148.00</td></tr>\n",
              "\t<tr><th scope=row>16</th><td>Super built-up  Area</td><td>Ready To Move</td><td>Mysore Road             </td><td>2 BHK    </td><td>1175</td><td>2</td><td>2</td><td> 73.50</td></tr>\n",
              "\t<tr><th scope=row>17</th><td>Super built-up  Area</td><td>Ready To Move</td><td>Bisuvanahalli           </td><td>3 BHK    </td><td>1180</td><td>3</td><td>2</td><td> 48.00</td></tr>\n",
              "\t<tr><th scope=row>18</th><td>Super built-up  Area</td><td>Ready To Move</td><td>Raja Rajeshwari Nagar   </td><td>3 BHK    </td><td>1540</td><td>3</td><td>3</td><td> 60.00</td></tr>\n",
              "\t<tr><th scope=row>19</th><td>Super built-up  Area</td><td>Ready To Move</td><td>Ramakrishnappa Layout   </td><td>3 BHK    </td><td>2770</td><td>4</td><td>2</td><td>290.00</td></tr>\n",
              "\t<tr><th scope=row>20</th><td>Super built-up  Area</td><td>Ready To Move</td><td>Manayata Tech Park      </td><td>2 BHK    </td><td>1100</td><td>2</td><td>2</td><td> 48.00</td></tr>\n",
              "\t<tr><th scope=row>21</th><td>Built-up  Area      </td><td>Ready To Move</td><td>Kengeri                 </td><td>1 BHK    </td><td>600 </td><td>1</td><td>1</td><td> 15.00</td></tr>\n",
              "\t<tr><th scope=row>22</th><td>Super built-up  Area</td><td>19-Dec       </td><td>Binny Pete              </td><td>3 BHK    </td><td>1755</td><td>3</td><td>1</td><td>122.00</td></tr>\n",
              "\t<tr><th scope=row>23</th><td>Plot  Area          </td><td>Ready To Move</td><td>Thanisandra             </td><td>4 Bedroom</td><td>2800</td><td>5</td><td>2</td><td>380.00</td></tr>\n",
              "\t<tr><th scope=row>24</th><td>Super built-up  Area</td><td>Ready To Move</td><td>Bellandur               </td><td>3 BHK    </td><td>1767</td><td>3</td><td>1</td><td>103.00</td></tr>\n",
              "\t<tr><th scope=row>25</th><td>Super built-up  Area</td><td>18-Nov       </td><td> Thanisandra            </td><td>1 RK     </td><td>510 </td><td>1</td><td>0</td><td> 25.25</td></tr>\n",
              "\t<tr><th scope=row>26</th><td>Super built-up  Area</td><td>18-May       </td><td>Mangammanapalya         </td><td>3 BHK    </td><td>1250</td><td>3</td><td>2</td><td> 56.00</td></tr>\n",
              "\t<tr><th scope=row>27</th><td>Super built-up  Area</td><td>Ready To Move</td><td>Electronic City         </td><td>2 BHK    </td><td>660 </td><td>1</td><td>1</td><td> 23.10</td></tr>\n",
              "\t<tr><th scope=row>28</th><td>Built-up  Area      </td><td>20-Dec       </td><td>Whitefield              </td><td>3 BHK    </td><td>1610</td><td>3</td><td>2</td><td> 81.00</td></tr>\n",
              "\t<tr><th scope=row>29</th><td>Super built-up  Area</td><td>17-Oct       </td><td>Ramagondanahalli        </td><td>2 BHK    </td><td>1151</td><td>2</td><td>2</td><td> 48.77</td></tr>\n",
              "\t<tr><th scope=row>30</th><td>Super built-up  Area</td><td>Ready To Move</td><td>Electronic City         </td><td>3 BHK    </td><td>1025</td><td>2</td><td>1</td><td> 47.00</td></tr>\n",
              "\t<tr><th scope=row>⋮</th><td>⋮</td><td>⋮</td><td>⋮</td><td>⋮</td><td>⋮</td><td>⋮</td><td>⋮</td><td>⋮</td></tr>\n",
              "\t<tr><th scope=row>13291</th><td>Super built-up  Area</td><td>Ready To Move</td><td>Sarjapur  Road       </td><td>4 BHK    </td><td>4050       </td><td>2</td><td>1</td><td>450.00</td></tr>\n",
              "\t<tr><th scope=row>13292</th><td>Plot  Area          </td><td>18-Jan       </td><td>Weavers Colony       </td><td>1 Bedroom</td><td>812        </td><td>1</td><td>0</td><td> 26.00</td></tr>\n",
              "\t<tr><th scope=row>13293</th><td>Super built-up  Area</td><td>18-Jul       </td><td>Udayapur Village     </td><td>3 BHK    </td><td>1440       </td><td>2</td><td>2</td><td> 63.93</td></tr>\n",
              "\t<tr><th scope=row>13294</th><td>Super built-up  Area</td><td>Ready To Move</td><td>Sarjapur  Road       </td><td>4 BHK    </td><td>2425       </td><td>5</td><td>1</td><td>195.00</td></tr>\n",
              "\t<tr><th scope=row>13295</th><td>Super built-up  Area</td><td>Ready To Move</td><td>Sultan Palaya        </td><td>4 BHK    </td><td>2200       </td><td>3</td><td>3</td><td> 80.00</td></tr>\n",
              "\t<tr><th scope=row>13296</th><td>Super built-up  Area</td><td>18-Feb       </td><td>Haralur Road         </td><td>3 BHK    </td><td>1810       </td><td>3</td><td>2</td><td>112.00</td></tr>\n",
              "\t<tr><th scope=row>13297</th><td>Super built-up  Area</td><td>Ready To Move</td><td>Cox Town             </td><td>2 BHK    </td><td>1200       </td><td>2</td><td>2</td><td>140.00</td></tr>\n",
              "\t<tr><th scope=row>13298</th><td>Super built-up  Area</td><td>Ready To Move</td><td>Electronic City      </td><td>2 BHK    </td><td>1060       </td><td>2</td><td>1</td><td> 52.00</td></tr>\n",
              "\t<tr><th scope=row>13299</th><td>Super built-up  Area</td><td>Ready To Move</td><td>Kenchenahalli        </td><td>2 BHK    </td><td>1015       </td><td>2</td><td>2</td><td> 60.00</td></tr>\n",
              "\t<tr><th scope=row>13300</th><td>Super built-up  Area</td><td>18-Dec       </td><td>Whitefield           </td><td>4 BHK    </td><td>2830 - 2882</td><td>5</td><td>0</td><td>154.50</td></tr>\n",
              "\t<tr><th scope=row>13301</th><td>Plot  Area          </td><td>Ready To Move</td><td>Hosakerehalli        </td><td>5 Bedroom</td><td>1500       </td><td>6</td><td>2</td><td>145.00</td></tr>\n",
              "\t<tr><th scope=row>13302</th><td>Super built-up  Area</td><td>Ready To Move</td><td>Kothanur             </td><td>3 BHK    </td><td>1454       </td><td>3</td><td>3</td><td> 71.50</td></tr>\n",
              "\t<tr><th scope=row>13303</th><td>Super built-up  Area</td><td>Ready To Move</td><td>Annaiah Reddy Layout </td><td>2 BHK    </td><td>1075       </td><td>2</td><td>2</td><td> 48.00</td></tr>\n",
              "\t<tr><th scope=row>13304</th><td>Plot  Area          </td><td>Ready To Move</td><td>Vidyaranyapura       </td><td>5 Bedroom</td><td>774        </td><td>5</td><td>3</td><td> 70.00</td></tr>\n",
              "\t<tr><th scope=row>13305</th><td>Super built-up  Area</td><td>Ready To Move</td><td>Raja Rajeshwari Nagar</td><td>2 BHK    </td><td>1187       </td><td>2</td><td>2</td><td> 40.14</td></tr>\n",
              "\t<tr><th scope=row>13306</th><td>Carpet  Area        </td><td>Ready To Move</td><td>Hulimavu             </td><td>1 BHK    </td><td>500        </td><td>1</td><td>3</td><td>220.00</td></tr>\n",
              "\t<tr><th scope=row>13307</th><td>Plot  Area          </td><td>Ready To Move</td><td>Rajarajeshwari Nagara</td><td>4 Bedroom</td><td>1200       </td><td>5</td><td>0</td><td>325.00</td></tr>\n",
              "\t<tr><th scope=row>13308</th><td>Built-up  Area      </td><td>Ready To Move</td><td>Billekahalli         </td><td>3 BHK    </td><td>1805       </td><td>3</td><td>3</td><td>134.00</td></tr>\n",
              "\t<tr><th scope=row>13309</th><td>Built-up  Area      </td><td>Ready To Move</td><td>Bannerghatta Road    </td><td>3 BHK    </td><td>1527       </td><td>3</td><td>1</td><td>142.00</td></tr>\n",
              "\t<tr><th scope=row>13310</th><td>Super built-up  Area</td><td>Ready To Move</td><td>Yeshwanthpur         </td><td>3 BHK    </td><td>1675       </td><td>3</td><td>0</td><td> 92.13</td></tr>\n",
              "\t<tr><th scope=row>13311</th><td>Super built-up  Area</td><td>Ready To Move</td><td>Rachenahalli         </td><td>2 BHK    </td><td>1050       </td><td>2</td><td>2</td><td> 52.71</td></tr>\n",
              "\t<tr><th scope=row>13312</th><td>Plot  Area          </td><td>Ready To Move</td><td>Ramamurthy Nagar     </td><td>7 Bedroom</td><td>1500       </td><td>9</td><td>2</td><td>250.00</td></tr>\n",
              "\t<tr><th scope=row>13313</th><td>Super built-up  Area</td><td>Ready To Move</td><td>Bellandur            </td><td>2 BHK    </td><td>1262       </td><td>2</td><td>2</td><td> 47.00</td></tr>\n",
              "\t<tr><th scope=row>13314</th><td>Super built-up  Area</td><td>Ready To Move</td><td>Uttarahalli          </td><td>3 BHK    </td><td>1345       </td><td>2</td><td>1</td><td> 57.00</td></tr>\n",
              "\t<tr><th scope=row>13315</th><td>Super built-up  Area</td><td>Ready To Move</td><td>Green Glen Layout    </td><td>3 BHK    </td><td>1715       </td><td>3</td><td>3</td><td>112.00</td></tr>\n",
              "\t<tr><th scope=row>13316</th><td>Built-up  Area      </td><td>Ready To Move</td><td>Whitefield           </td><td>5 Bedroom</td><td>3453       </td><td>4</td><td>0</td><td>231.00</td></tr>\n",
              "\t<tr><th scope=row>13317</th><td>Super built-up  Area</td><td>Ready To Move</td><td>Richards Town        </td><td>4 BHK    </td><td>3600       </td><td>5</td><td>0</td><td>400.00</td></tr>\n",
              "\t<tr><th scope=row>13318</th><td>Built-up  Area      </td><td>Ready To Move</td><td>Raja Rajeshwari Nagar</td><td>2 BHK    </td><td>1141       </td><td>2</td><td>1</td><td> 60.00</td></tr>\n",
              "\t<tr><th scope=row>13319</th><td>Super built-up  Area</td><td>18-Jun       </td><td>Padmanabhanagar      </td><td>4 BHK    </td><td>4689       </td><td>4</td><td>1</td><td>488.00</td></tr>\n",
              "\t<tr><th scope=row>13320</th><td>Super built-up  Area</td><td>Ready To Move</td><td>Doddathoguru         </td><td>1 BHK    </td><td>550        </td><td>1</td><td>1</td><td> 17.00</td></tr>\n",
              "</tbody>\n",
              "</table>\n"
            ],
            "text/markdown": "\nA data.frame: 13320 × 8\n\n| <!--/--> | area_type &lt;chr&gt; | availability &lt;chr&gt; | location &lt;chr&gt; | size &lt;chr&gt; | total_sqft &lt;chr&gt; | bath &lt;dbl&gt; | balcony &lt;dbl&gt; | price &lt;dbl&gt; |\n|---|---|---|---|---|---|---|---|---|\n| 1 | Super built-up  Area | 19-Dec        | Electronic City Phase II | 2 BHK     | 1056 | 2 | 1 |  39.07 |\n| 2 | Plot  Area           | Ready To Move | Chikka Tirupathi         | 4 Bedroom | 2600 | 5 | 3 | 120.00 |\n| 3 | Built-up  Area       | Ready To Move | Uttarahalli              | 3 BHK     | 1440 | 2 | 3 |  62.00 |\n| 4 | Super built-up  Area | Ready To Move | Lingadheeranahalli       | 3 BHK     | 1521 | 3 | 1 |  95.00 |\n| 5 | Super built-up  Area | Ready To Move | Kothanur                 | 2 BHK     | 1200 | 2 | 1 |  51.00 |\n| 6 | Super built-up  Area | Ready To Move | Whitefield               | 2 BHK     | 1170 | 2 | 1 |  38.00 |\n| 7 | Super built-up  Area | 18-May        | Old Airport Road         | 4 BHK     | 2732 | 4 | 0 | 204.00 |\n| 8 | Super built-up  Area | Ready To Move | Rajaji Nagar             | 4 BHK     | 3300 | 4 | 0 | 600.00 |\n| 9 | Super built-up  Area | Ready To Move | Marathahalli             | 3 BHK     | 1310 | 3 | 1 |  63.25 |\n| 10 | Plot  Area           | Ready To Move | Gandhi Bazar             | 6 Bedroom | 1020 | 6 | 0 | 370.00 |\n| 11 | Super built-up  Area | 18-Feb        | Whitefield               | 3 BHK     | 1800 | 2 | 2 |  70.00 |\n| 12 | Plot  Area           | Ready To Move | Whitefield               | 4 Bedroom | 2785 | 5 | 3 | 295.00 |\n| 13 | Super built-up  Area | Ready To Move | 7th Phase JP Nagar       | 2 BHK     | 1000 | 2 | 1 |  38.00 |\n| 14 | Built-up  Area       | Ready To Move | Gottigere                | 2 BHK     | 1100 | 2 | 2 |  40.00 |\n| 15 | Plot  Area           | Ready To Move | Sarjapur                 | 3 Bedroom | 2250 | 3 | 2 | 148.00 |\n| 16 | Super built-up  Area | Ready To Move | Mysore Road              | 2 BHK     | 1175 | 2 | 2 |  73.50 |\n| 17 | Super built-up  Area | Ready To Move | Bisuvanahalli            | 3 BHK     | 1180 | 3 | 2 |  48.00 |\n| 18 | Super built-up  Area | Ready To Move | Raja Rajeshwari Nagar    | 3 BHK     | 1540 | 3 | 3 |  60.00 |\n| 19 | Super built-up  Area | Ready To Move | Ramakrishnappa Layout    | 3 BHK     | 2770 | 4 | 2 | 290.00 |\n| 20 | Super built-up  Area | Ready To Move | Manayata Tech Park       | 2 BHK     | 1100 | 2 | 2 |  48.00 |\n| 21 | Built-up  Area       | Ready To Move | Kengeri                  | 1 BHK     | 600  | 1 | 1 |  15.00 |\n| 22 | Super built-up  Area | 19-Dec        | Binny Pete               | 3 BHK     | 1755 | 3 | 1 | 122.00 |\n| 23 | Plot  Area           | Ready To Move | Thanisandra              | 4 Bedroom | 2800 | 5 | 2 | 380.00 |\n| 24 | Super built-up  Area | Ready To Move | Bellandur                | 3 BHK     | 1767 | 3 | 1 | 103.00 |\n| 25 | Super built-up  Area | 18-Nov        |  Thanisandra             | 1 RK      | 510  | 1 | 0 |  25.25 |\n| 26 | Super built-up  Area | 18-May        | Mangammanapalya          | 3 BHK     | 1250 | 3 | 2 |  56.00 |\n| 27 | Super built-up  Area | Ready To Move | Electronic City          | 2 BHK     | 660  | 1 | 1 |  23.10 |\n| 28 | Built-up  Area       | 20-Dec        | Whitefield               | 3 BHK     | 1610 | 3 | 2 |  81.00 |\n| 29 | Super built-up  Area | 17-Oct        | Ramagondanahalli         | 2 BHK     | 1151 | 2 | 2 |  48.77 |\n| 30 | Super built-up  Area | Ready To Move | Electronic City          | 3 BHK     | 1025 | 2 | 1 |  47.00 |\n| ⋮ | ⋮ | ⋮ | ⋮ | ⋮ | ⋮ | ⋮ | ⋮ | ⋮ |\n| 13291 | Super built-up  Area | Ready To Move | Sarjapur  Road        | 4 BHK     | 4050        | 2 | 1 | 450.00 |\n| 13292 | Plot  Area           | 18-Jan        | Weavers Colony        | 1 Bedroom | 812         | 1 | 0 |  26.00 |\n| 13293 | Super built-up  Area | 18-Jul        | Udayapur Village      | 3 BHK     | 1440        | 2 | 2 |  63.93 |\n| 13294 | Super built-up  Area | Ready To Move | Sarjapur  Road        | 4 BHK     | 2425        | 5 | 1 | 195.00 |\n| 13295 | Super built-up  Area | Ready To Move | Sultan Palaya         | 4 BHK     | 2200        | 3 | 3 |  80.00 |\n| 13296 | Super built-up  Area | 18-Feb        | Haralur Road          | 3 BHK     | 1810        | 3 | 2 | 112.00 |\n| 13297 | Super built-up  Area | Ready To Move | Cox Town              | 2 BHK     | 1200        | 2 | 2 | 140.00 |\n| 13298 | Super built-up  Area | Ready To Move | Electronic City       | 2 BHK     | 1060        | 2 | 1 |  52.00 |\n| 13299 | Super built-up  Area | Ready To Move | Kenchenahalli         | 2 BHK     | 1015        | 2 | 2 |  60.00 |\n| 13300 | Super built-up  Area | 18-Dec        | Whitefield            | 4 BHK     | 2830 - 2882 | 5 | 0 | 154.50 |\n| 13301 | Plot  Area           | Ready To Move | Hosakerehalli         | 5 Bedroom | 1500        | 6 | 2 | 145.00 |\n| 13302 | Super built-up  Area | Ready To Move | Kothanur              | 3 BHK     | 1454        | 3 | 3 |  71.50 |\n| 13303 | Super built-up  Area | Ready To Move | Annaiah Reddy Layout  | 2 BHK     | 1075        | 2 | 2 |  48.00 |\n| 13304 | Plot  Area           | Ready To Move | Vidyaranyapura        | 5 Bedroom | 774         | 5 | 3 |  70.00 |\n| 13305 | Super built-up  Area | Ready To Move | Raja Rajeshwari Nagar | 2 BHK     | 1187        | 2 | 2 |  40.14 |\n| 13306 | Carpet  Area         | Ready To Move | Hulimavu              | 1 BHK     | 500         | 1 | 3 | 220.00 |\n| 13307 | Plot  Area           | Ready To Move | Rajarajeshwari Nagara | 4 Bedroom | 1200        | 5 | 0 | 325.00 |\n| 13308 | Built-up  Area       | Ready To Move | Billekahalli          | 3 BHK     | 1805        | 3 | 3 | 134.00 |\n| 13309 | Built-up  Area       | Ready To Move | Bannerghatta Road     | 3 BHK     | 1527        | 3 | 1 | 142.00 |\n| 13310 | Super built-up  Area | Ready To Move | Yeshwanthpur          | 3 BHK     | 1675        | 3 | 0 |  92.13 |\n| 13311 | Super built-up  Area | Ready To Move | Rachenahalli          | 2 BHK     | 1050        | 2 | 2 |  52.71 |\n| 13312 | Plot  Area           | Ready To Move | Ramamurthy Nagar      | 7 Bedroom | 1500        | 9 | 2 | 250.00 |\n| 13313 | Super built-up  Area | Ready To Move | Bellandur             | 2 BHK     | 1262        | 2 | 2 |  47.00 |\n| 13314 | Super built-up  Area | Ready To Move | Uttarahalli           | 3 BHK     | 1345        | 2 | 1 |  57.00 |\n| 13315 | Super built-up  Area | Ready To Move | Green Glen Layout     | 3 BHK     | 1715        | 3 | 3 | 112.00 |\n| 13316 | Built-up  Area       | Ready To Move | Whitefield            | 5 Bedroom | 3453        | 4 | 0 | 231.00 |\n| 13317 | Super built-up  Area | Ready To Move | Richards Town         | 4 BHK     | 3600        | 5 | 0 | 400.00 |\n| 13318 | Built-up  Area       | Ready To Move | Raja Rajeshwari Nagar | 2 BHK     | 1141        | 2 | 1 |  60.00 |\n| 13319 | Super built-up  Area | 18-Jun        | Padmanabhanagar       | 4 BHK     | 4689        | 4 | 1 | 488.00 |\n| 13320 | Super built-up  Area | Ready To Move | Doddathoguru          | 1 BHK     | 550         | 1 | 1 |  17.00 |\n\n",
            "text/latex": "A data.frame: 13320 × 8\n\\begin{tabular}{r|llllllll}\n  & area\\_type & availability & location & size & total\\_sqft & bath & balcony & price\\\\\n  & <chr> & <chr> & <chr> & <chr> & <chr> & <dbl> & <dbl> & <dbl>\\\\\n\\hline\n\t1 & Super built-up  Area & 19-Dec        & Electronic City Phase II & 2 BHK     & 1056 & 2 & 1 &  39.07\\\\\n\t2 & Plot  Area           & Ready To Move & Chikka Tirupathi         & 4 Bedroom & 2600 & 5 & 3 & 120.00\\\\\n\t3 & Built-up  Area       & Ready To Move & Uttarahalli              & 3 BHK     & 1440 & 2 & 3 &  62.00\\\\\n\t4 & Super built-up  Area & Ready To Move & Lingadheeranahalli       & 3 BHK     & 1521 & 3 & 1 &  95.00\\\\\n\t5 & Super built-up  Area & Ready To Move & Kothanur                 & 2 BHK     & 1200 & 2 & 1 &  51.00\\\\\n\t6 & Super built-up  Area & Ready To Move & Whitefield               & 2 BHK     & 1170 & 2 & 1 &  38.00\\\\\n\t7 & Super built-up  Area & 18-May        & Old Airport Road         & 4 BHK     & 2732 & 4 & 0 & 204.00\\\\\n\t8 & Super built-up  Area & Ready To Move & Rajaji Nagar             & 4 BHK     & 3300 & 4 & 0 & 600.00\\\\\n\t9 & Super built-up  Area & Ready To Move & Marathahalli             & 3 BHK     & 1310 & 3 & 1 &  63.25\\\\\n\t10 & Plot  Area           & Ready To Move & Gandhi Bazar             & 6 Bedroom & 1020 & 6 & 0 & 370.00\\\\\n\t11 & Super built-up  Area & 18-Feb        & Whitefield               & 3 BHK     & 1800 & 2 & 2 &  70.00\\\\\n\t12 & Plot  Area           & Ready To Move & Whitefield               & 4 Bedroom & 2785 & 5 & 3 & 295.00\\\\\n\t13 & Super built-up  Area & Ready To Move & 7th Phase JP Nagar       & 2 BHK     & 1000 & 2 & 1 &  38.00\\\\\n\t14 & Built-up  Area       & Ready To Move & Gottigere                & 2 BHK     & 1100 & 2 & 2 &  40.00\\\\\n\t15 & Plot  Area           & Ready To Move & Sarjapur                 & 3 Bedroom & 2250 & 3 & 2 & 148.00\\\\\n\t16 & Super built-up  Area & Ready To Move & Mysore Road              & 2 BHK     & 1175 & 2 & 2 &  73.50\\\\\n\t17 & Super built-up  Area & Ready To Move & Bisuvanahalli            & 3 BHK     & 1180 & 3 & 2 &  48.00\\\\\n\t18 & Super built-up  Area & Ready To Move & Raja Rajeshwari Nagar    & 3 BHK     & 1540 & 3 & 3 &  60.00\\\\\n\t19 & Super built-up  Area & Ready To Move & Ramakrishnappa Layout    & 3 BHK     & 2770 & 4 & 2 & 290.00\\\\\n\t20 & Super built-up  Area & Ready To Move & Manayata Tech Park       & 2 BHK     & 1100 & 2 & 2 &  48.00\\\\\n\t21 & Built-up  Area       & Ready To Move & Kengeri                  & 1 BHK     & 600  & 1 & 1 &  15.00\\\\\n\t22 & Super built-up  Area & 19-Dec        & Binny Pete               & 3 BHK     & 1755 & 3 & 1 & 122.00\\\\\n\t23 & Plot  Area           & Ready To Move & Thanisandra              & 4 Bedroom & 2800 & 5 & 2 & 380.00\\\\\n\t24 & Super built-up  Area & Ready To Move & Bellandur                & 3 BHK     & 1767 & 3 & 1 & 103.00\\\\\n\t25 & Super built-up  Area & 18-Nov        &  Thanisandra             & 1 RK      & 510  & 1 & 0 &  25.25\\\\\n\t26 & Super built-up  Area & 18-May        & Mangammanapalya          & 3 BHK     & 1250 & 3 & 2 &  56.00\\\\\n\t27 & Super built-up  Area & Ready To Move & Electronic City          & 2 BHK     & 660  & 1 & 1 &  23.10\\\\\n\t28 & Built-up  Area       & 20-Dec        & Whitefield               & 3 BHK     & 1610 & 3 & 2 &  81.00\\\\\n\t29 & Super built-up  Area & 17-Oct        & Ramagondanahalli         & 2 BHK     & 1151 & 2 & 2 &  48.77\\\\\n\t30 & Super built-up  Area & Ready To Move & Electronic City          & 3 BHK     & 1025 & 2 & 1 &  47.00\\\\\n\t⋮ & ⋮ & ⋮ & ⋮ & ⋮ & ⋮ & ⋮ & ⋮ & ⋮\\\\\n\t13291 & Super built-up  Area & Ready To Move & Sarjapur  Road        & 4 BHK     & 4050        & 2 & 1 & 450.00\\\\\n\t13292 & Plot  Area           & 18-Jan        & Weavers Colony        & 1 Bedroom & 812         & 1 & 0 &  26.00\\\\\n\t13293 & Super built-up  Area & 18-Jul        & Udayapur Village      & 3 BHK     & 1440        & 2 & 2 &  63.93\\\\\n\t13294 & Super built-up  Area & Ready To Move & Sarjapur  Road        & 4 BHK     & 2425        & 5 & 1 & 195.00\\\\\n\t13295 & Super built-up  Area & Ready To Move & Sultan Palaya         & 4 BHK     & 2200        & 3 & 3 &  80.00\\\\\n\t13296 & Super built-up  Area & 18-Feb        & Haralur Road          & 3 BHK     & 1810        & 3 & 2 & 112.00\\\\\n\t13297 & Super built-up  Area & Ready To Move & Cox Town              & 2 BHK     & 1200        & 2 & 2 & 140.00\\\\\n\t13298 & Super built-up  Area & Ready To Move & Electronic City       & 2 BHK     & 1060        & 2 & 1 &  52.00\\\\\n\t13299 & Super built-up  Area & Ready To Move & Kenchenahalli         & 2 BHK     & 1015        & 2 & 2 &  60.00\\\\\n\t13300 & Super built-up  Area & 18-Dec        & Whitefield            & 4 BHK     & 2830 - 2882 & 5 & 0 & 154.50\\\\\n\t13301 & Plot  Area           & Ready To Move & Hosakerehalli         & 5 Bedroom & 1500        & 6 & 2 & 145.00\\\\\n\t13302 & Super built-up  Area & Ready To Move & Kothanur              & 3 BHK     & 1454        & 3 & 3 &  71.50\\\\\n\t13303 & Super built-up  Area & Ready To Move & Annaiah Reddy Layout  & 2 BHK     & 1075        & 2 & 2 &  48.00\\\\\n\t13304 & Plot  Area           & Ready To Move & Vidyaranyapura        & 5 Bedroom & 774         & 5 & 3 &  70.00\\\\\n\t13305 & Super built-up  Area & Ready To Move & Raja Rajeshwari Nagar & 2 BHK     & 1187        & 2 & 2 &  40.14\\\\\n\t13306 & Carpet  Area         & Ready To Move & Hulimavu              & 1 BHK     & 500         & 1 & 3 & 220.00\\\\\n\t13307 & Plot  Area           & Ready To Move & Rajarajeshwari Nagara & 4 Bedroom & 1200        & 5 & 0 & 325.00\\\\\n\t13308 & Built-up  Area       & Ready To Move & Billekahalli          & 3 BHK     & 1805        & 3 & 3 & 134.00\\\\\n\t13309 & Built-up  Area       & Ready To Move & Bannerghatta Road     & 3 BHK     & 1527        & 3 & 1 & 142.00\\\\\n\t13310 & Super built-up  Area & Ready To Move & Yeshwanthpur          & 3 BHK     & 1675        & 3 & 0 &  92.13\\\\\n\t13311 & Super built-up  Area & Ready To Move & Rachenahalli          & 2 BHK     & 1050        & 2 & 2 &  52.71\\\\\n\t13312 & Plot  Area           & Ready To Move & Ramamurthy Nagar      & 7 Bedroom & 1500        & 9 & 2 & 250.00\\\\\n\t13313 & Super built-up  Area & Ready To Move & Bellandur             & 2 BHK     & 1262        & 2 & 2 &  47.00\\\\\n\t13314 & Super built-up  Area & Ready To Move & Uttarahalli           & 3 BHK     & 1345        & 2 & 1 &  57.00\\\\\n\t13315 & Super built-up  Area & Ready To Move & Green Glen Layout     & 3 BHK     & 1715        & 3 & 3 & 112.00\\\\\n\t13316 & Built-up  Area       & Ready To Move & Whitefield            & 5 Bedroom & 3453        & 4 & 0 & 231.00\\\\\n\t13317 & Super built-up  Area & Ready To Move & Richards Town         & 4 BHK     & 3600        & 5 & 0 & 400.00\\\\\n\t13318 & Built-up  Area       & Ready To Move & Raja Rajeshwari Nagar & 2 BHK     & 1141        & 2 & 1 &  60.00\\\\\n\t13319 & Super built-up  Area & 18-Jun        & Padmanabhanagar       & 4 BHK     & 4689        & 4 & 1 & 488.00\\\\\n\t13320 & Super built-up  Area & Ready To Move & Doddathoguru          & 1 BHK     & 550         & 1 & 1 &  17.00\\\\\n\\end{tabular}\n",
            "text/plain": [
              "      area_type            availability  location                 size     \n",
              "1     Super built-up  Area 19-Dec        Electronic City Phase II 2 BHK    \n",
              "2     Plot  Area           Ready To Move Chikka Tirupathi         4 Bedroom\n",
              "3     Built-up  Area       Ready To Move Uttarahalli              3 BHK    \n",
              "4     Super built-up  Area Ready To Move Lingadheeranahalli       3 BHK    \n",
              "5     Super built-up  Area Ready To Move Kothanur                 2 BHK    \n",
              "6     Super built-up  Area Ready To Move Whitefield               2 BHK    \n",
              "7     Super built-up  Area 18-May        Old Airport Road         4 BHK    \n",
              "8     Super built-up  Area Ready To Move Rajaji Nagar             4 BHK    \n",
              "9     Super built-up  Area Ready To Move Marathahalli             3 BHK    \n",
              "10    Plot  Area           Ready To Move Gandhi Bazar             6 Bedroom\n",
              "11    Super built-up  Area 18-Feb        Whitefield               3 BHK    \n",
              "12    Plot  Area           Ready To Move Whitefield               4 Bedroom\n",
              "13    Super built-up  Area Ready To Move 7th Phase JP Nagar       2 BHK    \n",
              "14    Built-up  Area       Ready To Move Gottigere                2 BHK    \n",
              "15    Plot  Area           Ready To Move Sarjapur                 3 Bedroom\n",
              "16    Super built-up  Area Ready To Move Mysore Road              2 BHK    \n",
              "17    Super built-up  Area Ready To Move Bisuvanahalli            3 BHK    \n",
              "18    Super built-up  Area Ready To Move Raja Rajeshwari Nagar    3 BHK    \n",
              "19    Super built-up  Area Ready To Move Ramakrishnappa Layout    3 BHK    \n",
              "20    Super built-up  Area Ready To Move Manayata Tech Park       2 BHK    \n",
              "21    Built-up  Area       Ready To Move Kengeri                  1 BHK    \n",
              "22    Super built-up  Area 19-Dec        Binny Pete               3 BHK    \n",
              "23    Plot  Area           Ready To Move Thanisandra              4 Bedroom\n",
              "24    Super built-up  Area Ready To Move Bellandur                3 BHK    \n",
              "25    Super built-up  Area 18-Nov         Thanisandra             1 RK     \n",
              "26    Super built-up  Area 18-May        Mangammanapalya          3 BHK    \n",
              "27    Super built-up  Area Ready To Move Electronic City          2 BHK    \n",
              "28    Built-up  Area       20-Dec        Whitefield               3 BHK    \n",
              "29    Super built-up  Area 17-Oct        Ramagondanahalli         2 BHK    \n",
              "30    Super built-up  Area Ready To Move Electronic City          3 BHK    \n",
              "⋮     ⋮                    ⋮             ⋮                        ⋮        \n",
              "13291 Super built-up  Area Ready To Move Sarjapur  Road           4 BHK    \n",
              "13292 Plot  Area           18-Jan        Weavers Colony           1 Bedroom\n",
              "13293 Super built-up  Area 18-Jul        Udayapur Village         3 BHK    \n",
              "13294 Super built-up  Area Ready To Move Sarjapur  Road           4 BHK    \n",
              "13295 Super built-up  Area Ready To Move Sultan Palaya            4 BHK    \n",
              "13296 Super built-up  Area 18-Feb        Haralur Road             3 BHK    \n",
              "13297 Super built-up  Area Ready To Move Cox Town                 2 BHK    \n",
              "13298 Super built-up  Area Ready To Move Electronic City          2 BHK    \n",
              "13299 Super built-up  Area Ready To Move Kenchenahalli            2 BHK    \n",
              "13300 Super built-up  Area 18-Dec        Whitefield               4 BHK    \n",
              "13301 Plot  Area           Ready To Move Hosakerehalli            5 Bedroom\n",
              "13302 Super built-up  Area Ready To Move Kothanur                 3 BHK    \n",
              "13303 Super built-up  Area Ready To Move Annaiah Reddy Layout     2 BHK    \n",
              "13304 Plot  Area           Ready To Move Vidyaranyapura           5 Bedroom\n",
              "13305 Super built-up  Area Ready To Move Raja Rajeshwari Nagar    2 BHK    \n",
              "13306 Carpet  Area         Ready To Move Hulimavu                 1 BHK    \n",
              "13307 Plot  Area           Ready To Move Rajarajeshwari Nagara    4 Bedroom\n",
              "13308 Built-up  Area       Ready To Move Billekahalli             3 BHK    \n",
              "13309 Built-up  Area       Ready To Move Bannerghatta Road        3 BHK    \n",
              "13310 Super built-up  Area Ready To Move Yeshwanthpur             3 BHK    \n",
              "13311 Super built-up  Area Ready To Move Rachenahalli             2 BHK    \n",
              "13312 Plot  Area           Ready To Move Ramamurthy Nagar         7 Bedroom\n",
              "13313 Super built-up  Area Ready To Move Bellandur                2 BHK    \n",
              "13314 Super built-up  Area Ready To Move Uttarahalli              3 BHK    \n",
              "13315 Super built-up  Area Ready To Move Green Glen Layout        3 BHK    \n",
              "13316 Built-up  Area       Ready To Move Whitefield               5 Bedroom\n",
              "13317 Super built-up  Area Ready To Move Richards Town            4 BHK    \n",
              "13318 Built-up  Area       Ready To Move Raja Rajeshwari Nagar    2 BHK    \n",
              "13319 Super built-up  Area 18-Jun        Padmanabhanagar          4 BHK    \n",
              "13320 Super built-up  Area Ready To Move Doddathoguru             1 BHK    \n",
              "      total_sqft  bath balcony price \n",
              "1     1056        2    1        39.07\n",
              "2     2600        5    3       120.00\n",
              "3     1440        2    3        62.00\n",
              "4     1521        3    1        95.00\n",
              "5     1200        2    1        51.00\n",
              "6     1170        2    1        38.00\n",
              "7     2732        4    0       204.00\n",
              "8     3300        4    0       600.00\n",
              "9     1310        3    1        63.25\n",
              "10    1020        6    0       370.00\n",
              "11    1800        2    2        70.00\n",
              "12    2785        5    3       295.00\n",
              "13    1000        2    1        38.00\n",
              "14    1100        2    2        40.00\n",
              "15    2250        3    2       148.00\n",
              "16    1175        2    2        73.50\n",
              "17    1180        3    2        48.00\n",
              "18    1540        3    3        60.00\n",
              "19    2770        4    2       290.00\n",
              "20    1100        2    2        48.00\n",
              "21    600         1    1        15.00\n",
              "22    1755        3    1       122.00\n",
              "23    2800        5    2       380.00\n",
              "24    1767        3    1       103.00\n",
              "25    510         1    0        25.25\n",
              "26    1250        3    2        56.00\n",
              "27    660         1    1        23.10\n",
              "28    1610        3    2        81.00\n",
              "29    1151        2    2        48.77\n",
              "30    1025        2    1        47.00\n",
              "⋮     ⋮           ⋮    ⋮       ⋮     \n",
              "13291 4050        2    1       450.00\n",
              "13292 812         1    0        26.00\n",
              "13293 1440        2    2        63.93\n",
              "13294 2425        5    1       195.00\n",
              "13295 2200        3    3        80.00\n",
              "13296 1810        3    2       112.00\n",
              "13297 1200        2    2       140.00\n",
              "13298 1060        2    1        52.00\n",
              "13299 1015        2    2        60.00\n",
              "13300 2830 - 2882 5    0       154.50\n",
              "13301 1500        6    2       145.00\n",
              "13302 1454        3    3        71.50\n",
              "13303 1075        2    2        48.00\n",
              "13304 774         5    3        70.00\n",
              "13305 1187        2    2        40.14\n",
              "13306 500         1    3       220.00\n",
              "13307 1200        5    0       325.00\n",
              "13308 1805        3    3       134.00\n",
              "13309 1527        3    1       142.00\n",
              "13310 1675        3    0        92.13\n",
              "13311 1050        2    2        52.71\n",
              "13312 1500        9    2       250.00\n",
              "13313 1262        2    2        47.00\n",
              "13314 1345        2    1        57.00\n",
              "13315 1715        3    3       112.00\n",
              "13316 3453        4    0       231.00\n",
              "13317 3600        5    0       400.00\n",
              "13318 1141        2    1        60.00\n",
              "13319 4689        4    1       488.00\n",
              "13320 550         1    1        17.00"
            ]
          },
          "metadata": {}
        }
      ]
    },
    {
      "cell_type": "code",
      "source": [
        "hp_data <- subset(hp_data, select = -availability)"
      ],
      "metadata": {
        "id": "NdhaOoCjpxnu"
      },
      "execution_count": 68,
      "outputs": []
    },
    {
      "cell_type": "code",
      "source": [
        "hp_data <- subset(hp_data, select = -area_type)"
      ],
      "metadata": {
        "id": "aDBrID61n6a5"
      },
      "execution_count": 50,
      "outputs": []
    },
    {
      "cell_type": "code",
      "source": [
        "hp_data"
      ],
      "metadata": {
        "colab": {
          "base_uri": "https://localhost:8080/",
          "height": 1000
        },
        "id": "lLh4C_hdn-95",
        "outputId": "f2605db4-7bd9-4c9c-a6fd-fc093160ae61"
      },
      "execution_count": 69,
      "outputs": [
        {
          "output_type": "display_data",
          "data": {
            "text/html": [
              "<table class=\"dataframe\">\n",
              "<caption>A data.frame: 13320 × 6</caption>\n",
              "<thead>\n",
              "\t<tr><th></th><th scope=col>location</th><th scope=col>size</th><th scope=col>total_sqft</th><th scope=col>bath</th><th scope=col>balcony</th><th scope=col>price</th></tr>\n",
              "\t<tr><th></th><th scope=col>&lt;chr&gt;</th><th scope=col>&lt;chr&gt;</th><th scope=col>&lt;chr&gt;</th><th scope=col>&lt;dbl&gt;</th><th scope=col>&lt;dbl&gt;</th><th scope=col>&lt;dbl&gt;</th></tr>\n",
              "</thead>\n",
              "<tbody>\n",
              "\t<tr><th scope=row>1</th><td>Electronic City Phase II</td><td>2 BHK    </td><td>1056</td><td>2</td><td>1</td><td> 39.07</td></tr>\n",
              "\t<tr><th scope=row>2</th><td>Chikka Tirupathi        </td><td>4 Bedroom</td><td>2600</td><td>5</td><td>3</td><td>120.00</td></tr>\n",
              "\t<tr><th scope=row>3</th><td>Uttarahalli             </td><td>3 BHK    </td><td>1440</td><td>2</td><td>3</td><td> 62.00</td></tr>\n",
              "\t<tr><th scope=row>4</th><td>Lingadheeranahalli      </td><td>3 BHK    </td><td>1521</td><td>3</td><td>1</td><td> 95.00</td></tr>\n",
              "\t<tr><th scope=row>5</th><td>Kothanur                </td><td>2 BHK    </td><td>1200</td><td>2</td><td>1</td><td> 51.00</td></tr>\n",
              "\t<tr><th scope=row>6</th><td>Whitefield              </td><td>2 BHK    </td><td>1170</td><td>2</td><td>1</td><td> 38.00</td></tr>\n",
              "\t<tr><th scope=row>7</th><td>Old Airport Road        </td><td>4 BHK    </td><td>2732</td><td>4</td><td>0</td><td>204.00</td></tr>\n",
              "\t<tr><th scope=row>8</th><td>Rajaji Nagar            </td><td>4 BHK    </td><td>3300</td><td>4</td><td>0</td><td>600.00</td></tr>\n",
              "\t<tr><th scope=row>9</th><td>Marathahalli            </td><td>3 BHK    </td><td>1310</td><td>3</td><td>1</td><td> 63.25</td></tr>\n",
              "\t<tr><th scope=row>10</th><td>Gandhi Bazar            </td><td>6 Bedroom</td><td>1020</td><td>6</td><td>0</td><td>370.00</td></tr>\n",
              "\t<tr><th scope=row>11</th><td>Whitefield              </td><td>3 BHK    </td><td>1800</td><td>2</td><td>2</td><td> 70.00</td></tr>\n",
              "\t<tr><th scope=row>12</th><td>Whitefield              </td><td>4 Bedroom</td><td>2785</td><td>5</td><td>3</td><td>295.00</td></tr>\n",
              "\t<tr><th scope=row>13</th><td>7th Phase JP Nagar      </td><td>2 BHK    </td><td>1000</td><td>2</td><td>1</td><td> 38.00</td></tr>\n",
              "\t<tr><th scope=row>14</th><td>Gottigere               </td><td>2 BHK    </td><td>1100</td><td>2</td><td>2</td><td> 40.00</td></tr>\n",
              "\t<tr><th scope=row>15</th><td>Sarjapur                </td><td>3 Bedroom</td><td>2250</td><td>3</td><td>2</td><td>148.00</td></tr>\n",
              "\t<tr><th scope=row>16</th><td>Mysore Road             </td><td>2 BHK    </td><td>1175</td><td>2</td><td>2</td><td> 73.50</td></tr>\n",
              "\t<tr><th scope=row>17</th><td>Bisuvanahalli           </td><td>3 BHK    </td><td>1180</td><td>3</td><td>2</td><td> 48.00</td></tr>\n",
              "\t<tr><th scope=row>18</th><td>Raja Rajeshwari Nagar   </td><td>3 BHK    </td><td>1540</td><td>3</td><td>3</td><td> 60.00</td></tr>\n",
              "\t<tr><th scope=row>19</th><td>Ramakrishnappa Layout   </td><td>3 BHK    </td><td>2770</td><td>4</td><td>2</td><td>290.00</td></tr>\n",
              "\t<tr><th scope=row>20</th><td>Manayata Tech Park      </td><td>2 BHK    </td><td>1100</td><td>2</td><td>2</td><td> 48.00</td></tr>\n",
              "\t<tr><th scope=row>21</th><td>Kengeri                 </td><td>1 BHK    </td><td>600 </td><td>1</td><td>1</td><td> 15.00</td></tr>\n",
              "\t<tr><th scope=row>22</th><td>Binny Pete              </td><td>3 BHK    </td><td>1755</td><td>3</td><td>1</td><td>122.00</td></tr>\n",
              "\t<tr><th scope=row>23</th><td>Thanisandra             </td><td>4 Bedroom</td><td>2800</td><td>5</td><td>2</td><td>380.00</td></tr>\n",
              "\t<tr><th scope=row>24</th><td>Bellandur               </td><td>3 BHK    </td><td>1767</td><td>3</td><td>1</td><td>103.00</td></tr>\n",
              "\t<tr><th scope=row>25</th><td> Thanisandra            </td><td>1 RK     </td><td>510 </td><td>1</td><td>0</td><td> 25.25</td></tr>\n",
              "\t<tr><th scope=row>26</th><td>Mangammanapalya         </td><td>3 BHK    </td><td>1250</td><td>3</td><td>2</td><td> 56.00</td></tr>\n",
              "\t<tr><th scope=row>27</th><td>Electronic City         </td><td>2 BHK    </td><td>660 </td><td>1</td><td>1</td><td> 23.10</td></tr>\n",
              "\t<tr><th scope=row>28</th><td>Whitefield              </td><td>3 BHK    </td><td>1610</td><td>3</td><td>2</td><td> 81.00</td></tr>\n",
              "\t<tr><th scope=row>29</th><td>Ramagondanahalli        </td><td>2 BHK    </td><td>1151</td><td>2</td><td>2</td><td> 48.77</td></tr>\n",
              "\t<tr><th scope=row>30</th><td>Electronic City         </td><td>3 BHK    </td><td>1025</td><td>2</td><td>1</td><td> 47.00</td></tr>\n",
              "\t<tr><th scope=row>⋮</th><td>⋮</td><td>⋮</td><td>⋮</td><td>⋮</td><td>⋮</td><td>⋮</td></tr>\n",
              "\t<tr><th scope=row>13291</th><td>Sarjapur  Road       </td><td>4 BHK    </td><td>4050       </td><td>2</td><td>1</td><td>450.00</td></tr>\n",
              "\t<tr><th scope=row>13292</th><td>Weavers Colony       </td><td>1 Bedroom</td><td>812        </td><td>1</td><td>0</td><td> 26.00</td></tr>\n",
              "\t<tr><th scope=row>13293</th><td>Udayapur Village     </td><td>3 BHK    </td><td>1440       </td><td>2</td><td>2</td><td> 63.93</td></tr>\n",
              "\t<tr><th scope=row>13294</th><td>Sarjapur  Road       </td><td>4 BHK    </td><td>2425       </td><td>5</td><td>1</td><td>195.00</td></tr>\n",
              "\t<tr><th scope=row>13295</th><td>Sultan Palaya        </td><td>4 BHK    </td><td>2200       </td><td>3</td><td>3</td><td> 80.00</td></tr>\n",
              "\t<tr><th scope=row>13296</th><td>Haralur Road         </td><td>3 BHK    </td><td>1810       </td><td>3</td><td>2</td><td>112.00</td></tr>\n",
              "\t<tr><th scope=row>13297</th><td>Cox Town             </td><td>2 BHK    </td><td>1200       </td><td>2</td><td>2</td><td>140.00</td></tr>\n",
              "\t<tr><th scope=row>13298</th><td>Electronic City      </td><td>2 BHK    </td><td>1060       </td><td>2</td><td>1</td><td> 52.00</td></tr>\n",
              "\t<tr><th scope=row>13299</th><td>Kenchenahalli        </td><td>2 BHK    </td><td>1015       </td><td>2</td><td>2</td><td> 60.00</td></tr>\n",
              "\t<tr><th scope=row>13300</th><td>Whitefield           </td><td>4 BHK    </td><td>2830 - 2882</td><td>5</td><td>0</td><td>154.50</td></tr>\n",
              "\t<tr><th scope=row>13301</th><td>Hosakerehalli        </td><td>5 Bedroom</td><td>1500       </td><td>6</td><td>2</td><td>145.00</td></tr>\n",
              "\t<tr><th scope=row>13302</th><td>Kothanur             </td><td>3 BHK    </td><td>1454       </td><td>3</td><td>3</td><td> 71.50</td></tr>\n",
              "\t<tr><th scope=row>13303</th><td>Annaiah Reddy Layout </td><td>2 BHK    </td><td>1075       </td><td>2</td><td>2</td><td> 48.00</td></tr>\n",
              "\t<tr><th scope=row>13304</th><td>Vidyaranyapura       </td><td>5 Bedroom</td><td>774        </td><td>5</td><td>3</td><td> 70.00</td></tr>\n",
              "\t<tr><th scope=row>13305</th><td>Raja Rajeshwari Nagar</td><td>2 BHK    </td><td>1187       </td><td>2</td><td>2</td><td> 40.14</td></tr>\n",
              "\t<tr><th scope=row>13306</th><td>Hulimavu             </td><td>1 BHK    </td><td>500        </td><td>1</td><td>3</td><td>220.00</td></tr>\n",
              "\t<tr><th scope=row>13307</th><td>Rajarajeshwari Nagara</td><td>4 Bedroom</td><td>1200       </td><td>5</td><td>0</td><td>325.00</td></tr>\n",
              "\t<tr><th scope=row>13308</th><td>Billekahalli         </td><td>3 BHK    </td><td>1805       </td><td>3</td><td>3</td><td>134.00</td></tr>\n",
              "\t<tr><th scope=row>13309</th><td>Bannerghatta Road    </td><td>3 BHK    </td><td>1527       </td><td>3</td><td>1</td><td>142.00</td></tr>\n",
              "\t<tr><th scope=row>13310</th><td>Yeshwanthpur         </td><td>3 BHK    </td><td>1675       </td><td>3</td><td>0</td><td> 92.13</td></tr>\n",
              "\t<tr><th scope=row>13311</th><td>Rachenahalli         </td><td>2 BHK    </td><td>1050       </td><td>2</td><td>2</td><td> 52.71</td></tr>\n",
              "\t<tr><th scope=row>13312</th><td>Ramamurthy Nagar     </td><td>7 Bedroom</td><td>1500       </td><td>9</td><td>2</td><td>250.00</td></tr>\n",
              "\t<tr><th scope=row>13313</th><td>Bellandur            </td><td>2 BHK    </td><td>1262       </td><td>2</td><td>2</td><td> 47.00</td></tr>\n",
              "\t<tr><th scope=row>13314</th><td>Uttarahalli          </td><td>3 BHK    </td><td>1345       </td><td>2</td><td>1</td><td> 57.00</td></tr>\n",
              "\t<tr><th scope=row>13315</th><td>Green Glen Layout    </td><td>3 BHK    </td><td>1715       </td><td>3</td><td>3</td><td>112.00</td></tr>\n",
              "\t<tr><th scope=row>13316</th><td>Whitefield           </td><td>5 Bedroom</td><td>3453       </td><td>4</td><td>0</td><td>231.00</td></tr>\n",
              "\t<tr><th scope=row>13317</th><td>Richards Town        </td><td>4 BHK    </td><td>3600       </td><td>5</td><td>0</td><td>400.00</td></tr>\n",
              "\t<tr><th scope=row>13318</th><td>Raja Rajeshwari Nagar</td><td>2 BHK    </td><td>1141       </td><td>2</td><td>1</td><td> 60.00</td></tr>\n",
              "\t<tr><th scope=row>13319</th><td>Padmanabhanagar      </td><td>4 BHK    </td><td>4689       </td><td>4</td><td>1</td><td>488.00</td></tr>\n",
              "\t<tr><th scope=row>13320</th><td>Doddathoguru         </td><td>1 BHK    </td><td>550        </td><td>1</td><td>1</td><td> 17.00</td></tr>\n",
              "</tbody>\n",
              "</table>\n"
            ],
            "text/markdown": "\nA data.frame: 13320 × 6\n\n| <!--/--> | location &lt;chr&gt; | size &lt;chr&gt; | total_sqft &lt;chr&gt; | bath &lt;dbl&gt; | balcony &lt;dbl&gt; | price &lt;dbl&gt; |\n|---|---|---|---|---|---|---|\n| 1 | Electronic City Phase II | 2 BHK     | 1056 | 2 | 1 |  39.07 |\n| 2 | Chikka Tirupathi         | 4 Bedroom | 2600 | 5 | 3 | 120.00 |\n| 3 | Uttarahalli              | 3 BHK     | 1440 | 2 | 3 |  62.00 |\n| 4 | Lingadheeranahalli       | 3 BHK     | 1521 | 3 | 1 |  95.00 |\n| 5 | Kothanur                 | 2 BHK     | 1200 | 2 | 1 |  51.00 |\n| 6 | Whitefield               | 2 BHK     | 1170 | 2 | 1 |  38.00 |\n| 7 | Old Airport Road         | 4 BHK     | 2732 | 4 | 0 | 204.00 |\n| 8 | Rajaji Nagar             | 4 BHK     | 3300 | 4 | 0 | 600.00 |\n| 9 | Marathahalli             | 3 BHK     | 1310 | 3 | 1 |  63.25 |\n| 10 | Gandhi Bazar             | 6 Bedroom | 1020 | 6 | 0 | 370.00 |\n| 11 | Whitefield               | 3 BHK     | 1800 | 2 | 2 |  70.00 |\n| 12 | Whitefield               | 4 Bedroom | 2785 | 5 | 3 | 295.00 |\n| 13 | 7th Phase JP Nagar       | 2 BHK     | 1000 | 2 | 1 |  38.00 |\n| 14 | Gottigere                | 2 BHK     | 1100 | 2 | 2 |  40.00 |\n| 15 | Sarjapur                 | 3 Bedroom | 2250 | 3 | 2 | 148.00 |\n| 16 | Mysore Road              | 2 BHK     | 1175 | 2 | 2 |  73.50 |\n| 17 | Bisuvanahalli            | 3 BHK     | 1180 | 3 | 2 |  48.00 |\n| 18 | Raja Rajeshwari Nagar    | 3 BHK     | 1540 | 3 | 3 |  60.00 |\n| 19 | Ramakrishnappa Layout    | 3 BHK     | 2770 | 4 | 2 | 290.00 |\n| 20 | Manayata Tech Park       | 2 BHK     | 1100 | 2 | 2 |  48.00 |\n| 21 | Kengeri                  | 1 BHK     | 600  | 1 | 1 |  15.00 |\n| 22 | Binny Pete               | 3 BHK     | 1755 | 3 | 1 | 122.00 |\n| 23 | Thanisandra              | 4 Bedroom | 2800 | 5 | 2 | 380.00 |\n| 24 | Bellandur                | 3 BHK     | 1767 | 3 | 1 | 103.00 |\n| 25 |  Thanisandra             | 1 RK      | 510  | 1 | 0 |  25.25 |\n| 26 | Mangammanapalya          | 3 BHK     | 1250 | 3 | 2 |  56.00 |\n| 27 | Electronic City          | 2 BHK     | 660  | 1 | 1 |  23.10 |\n| 28 | Whitefield               | 3 BHK     | 1610 | 3 | 2 |  81.00 |\n| 29 | Ramagondanahalli         | 2 BHK     | 1151 | 2 | 2 |  48.77 |\n| 30 | Electronic City          | 3 BHK     | 1025 | 2 | 1 |  47.00 |\n| ⋮ | ⋮ | ⋮ | ⋮ | ⋮ | ⋮ | ⋮ |\n| 13291 | Sarjapur  Road        | 4 BHK     | 4050        | 2 | 1 | 450.00 |\n| 13292 | Weavers Colony        | 1 Bedroom | 812         | 1 | 0 |  26.00 |\n| 13293 | Udayapur Village      | 3 BHK     | 1440        | 2 | 2 |  63.93 |\n| 13294 | Sarjapur  Road        | 4 BHK     | 2425        | 5 | 1 | 195.00 |\n| 13295 | Sultan Palaya         | 4 BHK     | 2200        | 3 | 3 |  80.00 |\n| 13296 | Haralur Road          | 3 BHK     | 1810        | 3 | 2 | 112.00 |\n| 13297 | Cox Town              | 2 BHK     | 1200        | 2 | 2 | 140.00 |\n| 13298 | Electronic City       | 2 BHK     | 1060        | 2 | 1 |  52.00 |\n| 13299 | Kenchenahalli         | 2 BHK     | 1015        | 2 | 2 |  60.00 |\n| 13300 | Whitefield            | 4 BHK     | 2830 - 2882 | 5 | 0 | 154.50 |\n| 13301 | Hosakerehalli         | 5 Bedroom | 1500        | 6 | 2 | 145.00 |\n| 13302 | Kothanur              | 3 BHK     | 1454        | 3 | 3 |  71.50 |\n| 13303 | Annaiah Reddy Layout  | 2 BHK     | 1075        | 2 | 2 |  48.00 |\n| 13304 | Vidyaranyapura        | 5 Bedroom | 774         | 5 | 3 |  70.00 |\n| 13305 | Raja Rajeshwari Nagar | 2 BHK     | 1187        | 2 | 2 |  40.14 |\n| 13306 | Hulimavu              | 1 BHK     | 500         | 1 | 3 | 220.00 |\n| 13307 | Rajarajeshwari Nagara | 4 Bedroom | 1200        | 5 | 0 | 325.00 |\n| 13308 | Billekahalli          | 3 BHK     | 1805        | 3 | 3 | 134.00 |\n| 13309 | Bannerghatta Road     | 3 BHK     | 1527        | 3 | 1 | 142.00 |\n| 13310 | Yeshwanthpur          | 3 BHK     | 1675        | 3 | 0 |  92.13 |\n| 13311 | Rachenahalli          | 2 BHK     | 1050        | 2 | 2 |  52.71 |\n| 13312 | Ramamurthy Nagar      | 7 Bedroom | 1500        | 9 | 2 | 250.00 |\n| 13313 | Bellandur             | 2 BHK     | 1262        | 2 | 2 |  47.00 |\n| 13314 | Uttarahalli           | 3 BHK     | 1345        | 2 | 1 |  57.00 |\n| 13315 | Green Glen Layout     | 3 BHK     | 1715        | 3 | 3 | 112.00 |\n| 13316 | Whitefield            | 5 Bedroom | 3453        | 4 | 0 | 231.00 |\n| 13317 | Richards Town         | 4 BHK     | 3600        | 5 | 0 | 400.00 |\n| 13318 | Raja Rajeshwari Nagar | 2 BHK     | 1141        | 2 | 1 |  60.00 |\n| 13319 | Padmanabhanagar       | 4 BHK     | 4689        | 4 | 1 | 488.00 |\n| 13320 | Doddathoguru          | 1 BHK     | 550         | 1 | 1 |  17.00 |\n\n",
            "text/latex": "A data.frame: 13320 × 6\n\\begin{tabular}{r|llllll}\n  & location & size & total\\_sqft & bath & balcony & price\\\\\n  & <chr> & <chr> & <chr> & <dbl> & <dbl> & <dbl>\\\\\n\\hline\n\t1 & Electronic City Phase II & 2 BHK     & 1056 & 2 & 1 &  39.07\\\\\n\t2 & Chikka Tirupathi         & 4 Bedroom & 2600 & 5 & 3 & 120.00\\\\\n\t3 & Uttarahalli              & 3 BHK     & 1440 & 2 & 3 &  62.00\\\\\n\t4 & Lingadheeranahalli       & 3 BHK     & 1521 & 3 & 1 &  95.00\\\\\n\t5 & Kothanur                 & 2 BHK     & 1200 & 2 & 1 &  51.00\\\\\n\t6 & Whitefield               & 2 BHK     & 1170 & 2 & 1 &  38.00\\\\\n\t7 & Old Airport Road         & 4 BHK     & 2732 & 4 & 0 & 204.00\\\\\n\t8 & Rajaji Nagar             & 4 BHK     & 3300 & 4 & 0 & 600.00\\\\\n\t9 & Marathahalli             & 3 BHK     & 1310 & 3 & 1 &  63.25\\\\\n\t10 & Gandhi Bazar             & 6 Bedroom & 1020 & 6 & 0 & 370.00\\\\\n\t11 & Whitefield               & 3 BHK     & 1800 & 2 & 2 &  70.00\\\\\n\t12 & Whitefield               & 4 Bedroom & 2785 & 5 & 3 & 295.00\\\\\n\t13 & 7th Phase JP Nagar       & 2 BHK     & 1000 & 2 & 1 &  38.00\\\\\n\t14 & Gottigere                & 2 BHK     & 1100 & 2 & 2 &  40.00\\\\\n\t15 & Sarjapur                 & 3 Bedroom & 2250 & 3 & 2 & 148.00\\\\\n\t16 & Mysore Road              & 2 BHK     & 1175 & 2 & 2 &  73.50\\\\\n\t17 & Bisuvanahalli            & 3 BHK     & 1180 & 3 & 2 &  48.00\\\\\n\t18 & Raja Rajeshwari Nagar    & 3 BHK     & 1540 & 3 & 3 &  60.00\\\\\n\t19 & Ramakrishnappa Layout    & 3 BHK     & 2770 & 4 & 2 & 290.00\\\\\n\t20 & Manayata Tech Park       & 2 BHK     & 1100 & 2 & 2 &  48.00\\\\\n\t21 & Kengeri                  & 1 BHK     & 600  & 1 & 1 &  15.00\\\\\n\t22 & Binny Pete               & 3 BHK     & 1755 & 3 & 1 & 122.00\\\\\n\t23 & Thanisandra              & 4 Bedroom & 2800 & 5 & 2 & 380.00\\\\\n\t24 & Bellandur                & 3 BHK     & 1767 & 3 & 1 & 103.00\\\\\n\t25 &  Thanisandra             & 1 RK      & 510  & 1 & 0 &  25.25\\\\\n\t26 & Mangammanapalya          & 3 BHK     & 1250 & 3 & 2 &  56.00\\\\\n\t27 & Electronic City          & 2 BHK     & 660  & 1 & 1 &  23.10\\\\\n\t28 & Whitefield               & 3 BHK     & 1610 & 3 & 2 &  81.00\\\\\n\t29 & Ramagondanahalli         & 2 BHK     & 1151 & 2 & 2 &  48.77\\\\\n\t30 & Electronic City          & 3 BHK     & 1025 & 2 & 1 &  47.00\\\\\n\t⋮ & ⋮ & ⋮ & ⋮ & ⋮ & ⋮ & ⋮\\\\\n\t13291 & Sarjapur  Road        & 4 BHK     & 4050        & 2 & 1 & 450.00\\\\\n\t13292 & Weavers Colony        & 1 Bedroom & 812         & 1 & 0 &  26.00\\\\\n\t13293 & Udayapur Village      & 3 BHK     & 1440        & 2 & 2 &  63.93\\\\\n\t13294 & Sarjapur  Road        & 4 BHK     & 2425        & 5 & 1 & 195.00\\\\\n\t13295 & Sultan Palaya         & 4 BHK     & 2200        & 3 & 3 &  80.00\\\\\n\t13296 & Haralur Road          & 3 BHK     & 1810        & 3 & 2 & 112.00\\\\\n\t13297 & Cox Town              & 2 BHK     & 1200        & 2 & 2 & 140.00\\\\\n\t13298 & Electronic City       & 2 BHK     & 1060        & 2 & 1 &  52.00\\\\\n\t13299 & Kenchenahalli         & 2 BHK     & 1015        & 2 & 2 &  60.00\\\\\n\t13300 & Whitefield            & 4 BHK     & 2830 - 2882 & 5 & 0 & 154.50\\\\\n\t13301 & Hosakerehalli         & 5 Bedroom & 1500        & 6 & 2 & 145.00\\\\\n\t13302 & Kothanur              & 3 BHK     & 1454        & 3 & 3 &  71.50\\\\\n\t13303 & Annaiah Reddy Layout  & 2 BHK     & 1075        & 2 & 2 &  48.00\\\\\n\t13304 & Vidyaranyapura        & 5 Bedroom & 774         & 5 & 3 &  70.00\\\\\n\t13305 & Raja Rajeshwari Nagar & 2 BHK     & 1187        & 2 & 2 &  40.14\\\\\n\t13306 & Hulimavu              & 1 BHK     & 500         & 1 & 3 & 220.00\\\\\n\t13307 & Rajarajeshwari Nagara & 4 Bedroom & 1200        & 5 & 0 & 325.00\\\\\n\t13308 & Billekahalli          & 3 BHK     & 1805        & 3 & 3 & 134.00\\\\\n\t13309 & Bannerghatta Road     & 3 BHK     & 1527        & 3 & 1 & 142.00\\\\\n\t13310 & Yeshwanthpur          & 3 BHK     & 1675        & 3 & 0 &  92.13\\\\\n\t13311 & Rachenahalli          & 2 BHK     & 1050        & 2 & 2 &  52.71\\\\\n\t13312 & Ramamurthy Nagar      & 7 Bedroom & 1500        & 9 & 2 & 250.00\\\\\n\t13313 & Bellandur             & 2 BHK     & 1262        & 2 & 2 &  47.00\\\\\n\t13314 & Uttarahalli           & 3 BHK     & 1345        & 2 & 1 &  57.00\\\\\n\t13315 & Green Glen Layout     & 3 BHK     & 1715        & 3 & 3 & 112.00\\\\\n\t13316 & Whitefield            & 5 Bedroom & 3453        & 4 & 0 & 231.00\\\\\n\t13317 & Richards Town         & 4 BHK     & 3600        & 5 & 0 & 400.00\\\\\n\t13318 & Raja Rajeshwari Nagar & 2 BHK     & 1141        & 2 & 1 &  60.00\\\\\n\t13319 & Padmanabhanagar       & 4 BHK     & 4689        & 4 & 1 & 488.00\\\\\n\t13320 & Doddathoguru          & 1 BHK     & 550         & 1 & 1 &  17.00\\\\\n\\end{tabular}\n",
            "text/plain": [
              "      location                 size      total_sqft  bath balcony price \n",
              "1     Electronic City Phase II 2 BHK     1056        2    1        39.07\n",
              "2     Chikka Tirupathi         4 Bedroom 2600        5    3       120.00\n",
              "3     Uttarahalli              3 BHK     1440        2    3        62.00\n",
              "4     Lingadheeranahalli       3 BHK     1521        3    1        95.00\n",
              "5     Kothanur                 2 BHK     1200        2    1        51.00\n",
              "6     Whitefield               2 BHK     1170        2    1        38.00\n",
              "7     Old Airport Road         4 BHK     2732        4    0       204.00\n",
              "8     Rajaji Nagar             4 BHK     3300        4    0       600.00\n",
              "9     Marathahalli             3 BHK     1310        3    1        63.25\n",
              "10    Gandhi Bazar             6 Bedroom 1020        6    0       370.00\n",
              "11    Whitefield               3 BHK     1800        2    2        70.00\n",
              "12    Whitefield               4 Bedroom 2785        5    3       295.00\n",
              "13    7th Phase JP Nagar       2 BHK     1000        2    1        38.00\n",
              "14    Gottigere                2 BHK     1100        2    2        40.00\n",
              "15    Sarjapur                 3 Bedroom 2250        3    2       148.00\n",
              "16    Mysore Road              2 BHK     1175        2    2        73.50\n",
              "17    Bisuvanahalli            3 BHK     1180        3    2        48.00\n",
              "18    Raja Rajeshwari Nagar    3 BHK     1540        3    3        60.00\n",
              "19    Ramakrishnappa Layout    3 BHK     2770        4    2       290.00\n",
              "20    Manayata Tech Park       2 BHK     1100        2    2        48.00\n",
              "21    Kengeri                  1 BHK     600         1    1        15.00\n",
              "22    Binny Pete               3 BHK     1755        3    1       122.00\n",
              "23    Thanisandra              4 Bedroom 2800        5    2       380.00\n",
              "24    Bellandur                3 BHK     1767        3    1       103.00\n",
              "25     Thanisandra             1 RK      510         1    0        25.25\n",
              "26    Mangammanapalya          3 BHK     1250        3    2        56.00\n",
              "27    Electronic City          2 BHK     660         1    1        23.10\n",
              "28    Whitefield               3 BHK     1610        3    2        81.00\n",
              "29    Ramagondanahalli         2 BHK     1151        2    2        48.77\n",
              "30    Electronic City          3 BHK     1025        2    1        47.00\n",
              "⋮     ⋮                        ⋮         ⋮           ⋮    ⋮       ⋮     \n",
              "13291 Sarjapur  Road           4 BHK     4050        2    1       450.00\n",
              "13292 Weavers Colony           1 Bedroom 812         1    0        26.00\n",
              "13293 Udayapur Village         3 BHK     1440        2    2        63.93\n",
              "13294 Sarjapur  Road           4 BHK     2425        5    1       195.00\n",
              "13295 Sultan Palaya            4 BHK     2200        3    3        80.00\n",
              "13296 Haralur Road             3 BHK     1810        3    2       112.00\n",
              "13297 Cox Town                 2 BHK     1200        2    2       140.00\n",
              "13298 Electronic City          2 BHK     1060        2    1        52.00\n",
              "13299 Kenchenahalli            2 BHK     1015        2    2        60.00\n",
              "13300 Whitefield               4 BHK     2830 - 2882 5    0       154.50\n",
              "13301 Hosakerehalli            5 Bedroom 1500        6    2       145.00\n",
              "13302 Kothanur                 3 BHK     1454        3    3        71.50\n",
              "13303 Annaiah Reddy Layout     2 BHK     1075        2    2        48.00\n",
              "13304 Vidyaranyapura           5 Bedroom 774         5    3        70.00\n",
              "13305 Raja Rajeshwari Nagar    2 BHK     1187        2    2        40.14\n",
              "13306 Hulimavu                 1 BHK     500         1    3       220.00\n",
              "13307 Rajarajeshwari Nagara    4 Bedroom 1200        5    0       325.00\n",
              "13308 Billekahalli             3 BHK     1805        3    3       134.00\n",
              "13309 Bannerghatta Road        3 BHK     1527        3    1       142.00\n",
              "13310 Yeshwanthpur             3 BHK     1675        3    0        92.13\n",
              "13311 Rachenahalli             2 BHK     1050        2    2        52.71\n",
              "13312 Ramamurthy Nagar         7 Bedroom 1500        9    2       250.00\n",
              "13313 Bellandur                2 BHK     1262        2    2        47.00\n",
              "13314 Uttarahalli              3 BHK     1345        2    1        57.00\n",
              "13315 Green Glen Layout        3 BHK     1715        3    3       112.00\n",
              "13316 Whitefield               5 Bedroom 3453        4    0       231.00\n",
              "13317 Richards Town            4 BHK     3600        5    0       400.00\n",
              "13318 Raja Rajeshwari Nagar    2 BHK     1141        2    1        60.00\n",
              "13319 Padmanabhanagar          4 BHK     4689        4    1       488.00\n",
              "13320 Doddathoguru             1 BHK     550         1    1        17.00"
            ]
          },
          "metadata": {}
        }
      ]
    },
    {
      "cell_type": "code",
      "source": [
        "set.seed(123) # for reproducibility\n",
        "train <- createDataPartition(hp_data$price, p = 0.8, list = FALSE)\n",
        "train_data <- hp_data[train, ]\n",
        "test_data <- hp_data[-train, ]"
      ],
      "metadata": {
        "id": "nHJpMV7Sn_qk"
      },
      "execution_count": 70,
      "outputs": []
    },
    {
      "cell_type": "code",
      "source": [
        "randomf_model <- randomForest(price ~., data = train_data, ntree = 500)"
      ],
      "metadata": {
        "id": "6mDcm_YPoR3j"
      },
      "execution_count": 71,
      "outputs": []
    },
    {
      "cell_type": "code",
      "source": [
        "predictions <- predict(randomf_model, newdata = test_data)"
      ],
      "metadata": {
        "id": "keQSxk1xoVSh"
      },
      "execution_count": 72,
      "outputs": []
    },
    {
      "cell_type": "code",
      "source": [
        "Mean_Square_error <- rmse(test_data$price, predictions)"
      ],
      "metadata": {
        "id": "u1WC3MNDomtM"
      },
      "execution_count": 86,
      "outputs": []
    },
    {
      "cell_type": "code",
      "source": [
        "print(paste(\"Root Mean Square Error:\", Mean_Square_error))"
      ],
      "metadata": {
        "colab": {
          "base_uri": "https://localhost:8080/"
        },
        "id": "qVav081tooMS",
        "outputId": "03ff6b73-87f7-4772-924f-861e8a4b4c8b"
      },
      "execution_count": 87,
      "outputs": [
        {
          "output_type": "stream",
          "name": "stdout",
          "text": [
            "[1] \"Root Mean Square Error: 130.886849812285\"\n"
          ]
        }
      ]
    },
    {
      "cell_type": "code",
      "source": [
        "print(importance(randomf_model))"
      ],
      "metadata": {
        "colab": {
          "base_uri": "https://localhost:8080/"
        },
        "id": "hJwI9pdvopqu",
        "outputId": "c28137bc-626d-41ce-91fe-ece6052b9843"
      },
      "execution_count": 75,
      "outputs": [
        {
          "output_type": "stream",
          "name": "stdout",
          "text": [
            "           IncNodePurity\n",
            "location        21218455\n",
            "size            34438012\n",
            "total_sqft      41702595\n",
            "bath            35965422\n",
            "balcony          5165004\n"
          ]
        }
      ]
    },
    {
      "cell_type": "code",
      "source": [
        "summary(randomf_model)"
      ],
      "metadata": {
        "colab": {
          "base_uri": "https://localhost:8080/",
          "height": 347
        },
        "id": "tCRnsYctos22",
        "outputId": "bd533dd2-d5dd-4394-abea-3e6e40adf450"
      },
      "execution_count": 76,
      "outputs": [
        {
          "output_type": "display_data",
          "data": {
            "text/plain": [
              "                Length Class  Mode     \n",
              "call                4  -none- call     \n",
              "type                1  -none- character\n",
              "predicted       10658  -none- numeric  \n",
              "mse               500  -none- numeric  \n",
              "rsq               500  -none- numeric  \n",
              "oob.times       10658  -none- numeric  \n",
              "importance          5  -none- numeric  \n",
              "importanceSD        0  -none- NULL     \n",
              "localImportance     0  -none- NULL     \n",
              "proximity           0  -none- NULL     \n",
              "ntree               1  -none- numeric  \n",
              "mtry                1  -none- numeric  \n",
              "forest             11  -none- list     \n",
              "coefs               0  -none- NULL     \n",
              "y               10658  -none- numeric  \n",
              "test                0  -none- NULL     \n",
              "inbag               0  -none- NULL     \n",
              "terms               3  terms  call     "
            ]
          },
          "metadata": {}
        }
      ]
    },
    {
      "cell_type": "code",
      "source": [
        "new_df <- data.frame(\n",
        "  total_sqft = 2600, # Provide the area of the house\n",
        "  location = \"Chikka Tirupathi\", # Provide the location of the house\n",
        "  bath\t = 5,\n",
        "  balcony = 3,\n",
        "  size = '4 Bedroom'\n",
        ")"
      ],
      "metadata": {
        "id": "MkvDXG5powZx"
      },
      "execution_count": 91,
      "outputs": []
    },
    {
      "cell_type": "code",
      "source": [
        "prediction_price<- predict(randomf_model, newdata = new_df)"
      ],
      "metadata": {
        "id": "ThaqDPPVpP58"
      },
      "execution_count": 92,
      "outputs": []
    },
    {
      "cell_type": "code",
      "source": [
        "print(paste(\"Predicted house price for YourCity:\", prediction_price))\n"
      ],
      "metadata": {
        "colab": {
          "base_uri": "https://localhost:8080/"
        },
        "id": "MyVg6DlupRHb",
        "outputId": "add5e5de-e38a-4825-9450-6815e2bd1e1b"
      },
      "execution_count": 93,
      "outputs": [
        {
          "output_type": "stream",
          "name": "stdout",
          "text": [
            "[1] \"Predicted house price for YourCity: 340.813676897698\"\n"
          ]
        }
      ]
    },
    {
      "cell_type": "code",
      "source": [],
      "metadata": {
        "id": "ple1_clxph4J"
      },
      "execution_count": null,
      "outputs": []
    }
  ]
}