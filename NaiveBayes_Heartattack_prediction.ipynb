{
  "nbformat": 4,
  "nbformat_minor": 0,
  "metadata": {
    "colab": {
      "provenance": [],
      "gpuType": "T4"
    },
    "kernelspec": {
      "name": "ir",
      "display_name": "R"
    },
    "language_info": {
      "name": "R"
    },
    "accelerator": "GPU"
  },
  "cells": [
    {
      "cell_type": "code",
      "source": [
        "heart_data <- read.csv('/content/heart_attack_prediction_dataset.csv')"
      ],
      "metadata": {
        "id": "b3zpd8ORU9Hp"
      },
      "execution_count": 17,
      "outputs": []
    },
    {
      "cell_type": "code",
      "source": [
        "heart_data"
      ],
      "metadata": {
        "colab": {
          "base_uri": "https://localhost:8080/",
          "height": 1000
        },
        "id": "IXm6kkBaVNHK",
        "outputId": "220f7349-d422-4594-8695-21960ecb8256"
      },
      "execution_count": 18,
      "outputs": [
        {
          "output_type": "display_data",
          "data": {
            "text/html": [
              "<table class=\"dataframe\">\n",
              "<caption>A data.frame: 8763 × 26</caption>\n",
              "<thead>\n",
              "\t<tr><th scope=col>Patient.ID</th><th scope=col>Age</th><th scope=col>Sex</th><th scope=col>Cholesterol</th><th scope=col>Blood.Pressure</th><th scope=col>Heart.Rate</th><th scope=col>Diabetes</th><th scope=col>Family.History</th><th scope=col>Smoking</th><th scope=col>Obesity</th><th scope=col>⋯</th><th scope=col>Sedentary.Hours.Per.Day</th><th scope=col>Income</th><th scope=col>BMI</th><th scope=col>Triglycerides</th><th scope=col>Physical.Activity.Days.Per.Week</th><th scope=col>Sleep.Hours.Per.Day</th><th scope=col>Country</th><th scope=col>Continent</th><th scope=col>Hemisphere</th><th scope=col>Heart.Attack.Risk</th></tr>\n",
              "\t<tr><th scope=col>&lt;chr&gt;</th><th scope=col>&lt;int&gt;</th><th scope=col>&lt;chr&gt;</th><th scope=col>&lt;int&gt;</th><th scope=col>&lt;chr&gt;</th><th scope=col>&lt;int&gt;</th><th scope=col>&lt;int&gt;</th><th scope=col>&lt;int&gt;</th><th scope=col>&lt;int&gt;</th><th scope=col>&lt;int&gt;</th><th scope=col>⋯</th><th scope=col>&lt;dbl&gt;</th><th scope=col>&lt;int&gt;</th><th scope=col>&lt;dbl&gt;</th><th scope=col>&lt;int&gt;</th><th scope=col>&lt;int&gt;</th><th scope=col>&lt;int&gt;</th><th scope=col>&lt;chr&gt;</th><th scope=col>&lt;chr&gt;</th><th scope=col>&lt;chr&gt;</th><th scope=col>&lt;int&gt;</th></tr>\n",
              "</thead>\n",
              "<tbody>\n",
              "\t<tr><td>BMW7812</td><td>67</td><td>Male  </td><td>208</td><td>158/88 </td><td> 72</td><td>0</td><td>0</td><td>1</td><td>0</td><td>⋯</td><td> 6.615001</td><td>261404</td><td>31.25123</td><td>286</td><td>0</td><td> 6</td><td>Argentina    </td><td>South America</td><td>Southern Hemisphere</td><td>0</td></tr>\n",
              "\t<tr><td>CZE1114</td><td>21</td><td>Male  </td><td>389</td><td>165/93 </td><td> 98</td><td>1</td><td>1</td><td>1</td><td>1</td><td>⋯</td><td> 4.963459</td><td>285768</td><td>27.19497</td><td>235</td><td>1</td><td> 7</td><td>Canada       </td><td>North America</td><td>Northern Hemisphere</td><td>0</td></tr>\n",
              "\t<tr><td>BNI9906</td><td>21</td><td>Female</td><td>324</td><td>174/99 </td><td> 72</td><td>1</td><td>0</td><td>0</td><td>0</td><td>⋯</td><td> 9.463426</td><td>235282</td><td>28.17657</td><td>587</td><td>4</td><td> 4</td><td>France       </td><td>Europe       </td><td>Northern Hemisphere</td><td>0</td></tr>\n",
              "\t<tr><td>JLN3497</td><td>84</td><td>Male  </td><td>383</td><td>163/100</td><td> 73</td><td>1</td><td>1</td><td>1</td><td>0</td><td>⋯</td><td> 7.648981</td><td>125640</td><td>36.46470</td><td>378</td><td>3</td><td> 4</td><td>Canada       </td><td>North America</td><td>Northern Hemisphere</td><td>0</td></tr>\n",
              "\t<tr><td>GFO8847</td><td>66</td><td>Male  </td><td>318</td><td>91/88  </td><td> 93</td><td>1</td><td>1</td><td>1</td><td>1</td><td>⋯</td><td> 1.514821</td><td>160555</td><td>21.80914</td><td>231</td><td>1</td><td> 5</td><td>Thailand     </td><td>Asia         </td><td>Northern Hemisphere</td><td>0</td></tr>\n",
              "\t<tr><td>ZOO7941</td><td>54</td><td>Female</td><td>297</td><td>172/86 </td><td> 48</td><td>1</td><td>1</td><td>1</td><td>0</td><td>⋯</td><td> 7.798752</td><td>241339</td><td>20.14684</td><td>795</td><td>5</td><td>10</td><td>Germany      </td><td>Europe       </td><td>Northern Hemisphere</td><td>1</td></tr>\n",
              "\t<tr><td>WYV0966</td><td>90</td><td>Male  </td><td>358</td><td>102/73 </td><td> 84</td><td>0</td><td>0</td><td>1</td><td>0</td><td>⋯</td><td> 0.627356</td><td>190450</td><td>28.88581</td><td>284</td><td>4</td><td>10</td><td>Canada       </td><td>North America</td><td>Northern Hemisphere</td><td>1</td></tr>\n",
              "\t<tr><td>XXM0972</td><td>84</td><td>Male  </td><td>220</td><td>131/68 </td><td>107</td><td>0</td><td>0</td><td>1</td><td>1</td><td>⋯</td><td>10.543780</td><td>122093</td><td>22.22186</td><td>370</td><td>6</td><td> 7</td><td>Japan        </td><td>Asia         </td><td>Northern Hemisphere</td><td>1</td></tr>\n",
              "\t<tr><td>XCQ5937</td><td>20</td><td>Male  </td><td>145</td><td>144/105</td><td> 68</td><td>1</td><td>0</td><td>1</td><td>1</td><td>⋯</td><td>11.348787</td><td> 25086</td><td>35.80990</td><td>790</td><td>7</td><td> 4</td><td>Brazil       </td><td>South America</td><td>Southern Hemisphere</td><td>0</td></tr>\n",
              "\t<tr><td>FTJ5456</td><td>43</td><td>Female</td><td>248</td><td>160/70 </td><td> 55</td><td>0</td><td>1</td><td>1</td><td>1</td><td>⋯</td><td> 4.055115</td><td>209703</td><td>22.55892</td><td>232</td><td>7</td><td> 7</td><td>Japan        </td><td>Asia         </td><td>Northern Hemisphere</td><td>0</td></tr>\n",
              "\t<tr><td>HSD6283</td><td>73</td><td>Female</td><td>373</td><td>107/69 </td><td> 97</td><td>1</td><td>1</td><td>1</td><td>0</td><td>⋯</td><td> 8.919879</td><td> 50030</td><td>22.86791</td><td>469</td><td>0</td><td> 4</td><td>South Africa </td><td>Africa       </td><td>Southern Hemisphere</td><td>0</td></tr>\n",
              "\t<tr><td>YSP0073</td><td>71</td><td>Male  </td><td>374</td><td>158/71 </td><td> 70</td><td>1</td><td>1</td><td>1</td><td>1</td><td>⋯</td><td> 7.227338</td><td>163066</td><td>32.48535</td><td>523</td><td>4</td><td> 8</td><td>United States</td><td>North America</td><td>Northern Hemisphere</td><td>0</td></tr>\n",
              "\t<tr><td>FPS0415</td><td>77</td><td>Male  </td><td>228</td><td>101/72 </td><td> 68</td><td>1</td><td>1</td><td>1</td><td>1</td><td>⋯</td><td>10.917524</td><td> 29886</td><td>35.10224</td><td>590</td><td>7</td><td> 6</td><td>Vietnam      </td><td>Asia         </td><td>Northern Hemisphere</td><td>1</td></tr>\n",
              "\t<tr><td>YYU9565</td><td>60</td><td>Male  </td><td>259</td><td>169/72 </td><td> 85</td><td>1</td><td>1</td><td>1</td><td>0</td><td>⋯</td><td> 8.727417</td><td>292173</td><td>25.56490</td><td>506</td><td>1</td><td> 4</td><td>China        </td><td>Asia         </td><td>Northern Hemisphere</td><td>1</td></tr>\n",
              "\t<tr><td>VTW9069</td><td>88</td><td>Male  </td><td>297</td><td>112/81 </td><td>102</td><td>1</td><td>1</td><td>1</td><td>0</td><td>⋯</td><td>10.425490</td><td>165300</td><td>25.49174</td><td>635</td><td>3</td><td> 6</td><td>China        </td><td>Asia         </td><td>Northern Hemisphere</td><td>0</td></tr>\n",
              "\t<tr><td>DCY3282</td><td>73</td><td>Male  </td><td>122</td><td>114/88 </td><td> 97</td><td>1</td><td>1</td><td>1</td><td>0</td><td>⋯</td><td>10.086479</td><td>265839</td><td>36.52440</td><td>773</td><td>5</td><td> 8</td><td>Italy        </td><td>Europe       </td><td>Southern Hemisphere</td><td>1</td></tr>\n",
              "\t<tr><td>DXB2434</td><td>69</td><td>Male  </td><td>379</td><td>173/75 </td><td> 40</td><td>1</td><td>1</td><td>1</td><td>1</td><td>⋯</td><td> 9.060509</td><td>267997</td><td>28.33275</td><td> 68</td><td>3</td><td> 6</td><td>Brazil       </td><td>South America</td><td>Southern Hemisphere</td><td>0</td></tr>\n",
              "\t<tr><td>COP0566</td><td>38</td><td>Male  </td><td>166</td><td>120/74 </td><td> 56</td><td>1</td><td>0</td><td>1</td><td>1</td><td>⋯</td><td> 3.660749</td><td> 48376</td><td>29.51739</td><td>402</td><td>0</td><td> 6</td><td>Thailand     </td><td>Asia         </td><td>Northern Hemisphere</td><td>0</td></tr>\n",
              "\t<tr><td>XBI0592</td><td>50</td><td>Female</td><td>303</td><td>120/100</td><td>104</td><td>1</td><td>0</td><td>1</td><td>0</td><td>⋯</td><td> 7.586984</td><td> 21501</td><td>25.96435</td><td>517</td><td>1</td><td> 5</td><td>United States</td><td>North America</td><td>Northern Hemisphere</td><td>1</td></tr>\n",
              "\t<tr><td>RQX1211</td><td>60</td><td>Male  </td><td>145</td><td>160/98 </td><td> 71</td><td>1</td><td>0</td><td>1</td><td>0</td><td>⋯</td><td> 5.994228</td><td>234966</td><td>29.16232</td><td>247</td><td>7</td><td> 7</td><td>Canada       </td><td>North America</td><td>Northern Hemisphere</td><td>0</td></tr>\n",
              "\t<tr><td>MBI0008</td><td>66</td><td>Male  </td><td>340</td><td>180/101</td><td> 69</td><td>1</td><td>0</td><td>1</td><td>1</td><td>⋯</td><td> 6.218069</td><td>156946</td><td>38.08867</td><td>747</td><td>1</td><td>10</td><td>Canada       </td><td>North America</td><td>Northern Hemisphere</td><td>0</td></tr>\n",
              "\t<tr><td>RVN4963</td><td>45</td><td>Male  </td><td>294</td><td>130/84 </td><td> 66</td><td>0</td><td>0</td><td>1</td><td>1</td><td>⋯</td><td> 7.007392</td><td>216565</td><td>25.12060</td><td>360</td><td>4</td><td> 6</td><td>France       </td><td>Europe       </td><td>Northern Hemisphere</td><td>1</td></tr>\n",
              "\t<tr><td>LBY7992</td><td>50</td><td>Male  </td><td>359</td><td>175/60 </td><td> 97</td><td>0</td><td>1</td><td>1</td><td>0</td><td>⋯</td><td> 4.045831</td><td>278301</td><td>34.65109</td><td>358</td><td>4</td><td> 8</td><td>Spain        </td><td>Europe       </td><td>Southern Hemisphere</td><td>0</td></tr>\n",
              "\t<tr><td>RDI3071</td><td>84</td><td>Male  </td><td>202</td><td>173/109</td><td> 81</td><td>1</td><td>1</td><td>1</td><td>0</td><td>⋯</td><td> 7.118935</td><td> 95237</td><td>29.63411</td><td>526</td><td>0</td><td> 9</td><td>Brazil       </td><td>South America</td><td>Southern Hemisphere</td><td>0</td></tr>\n",
              "\t<tr><td>NCU1956</td><td>36</td><td>Male  </td><td>133</td><td>161/90 </td><td> 97</td><td>1</td><td>0</td><td>1</td><td>1</td><td>⋯</td><td>10.963544</td><td>223132</td><td>22.38680</td><td>605</td><td>5</td><td>10</td><td>Canada       </td><td>North America</td><td>Northern Hemisphere</td><td>0</td></tr>\n",
              "\t<tr><td>MSW4208</td><td>90</td><td>Male  </td><td>159</td><td>140/95 </td><td> 52</td><td>0</td><td>0</td><td>1</td><td>0</td><td>⋯</td><td> 1.216510</td><td>110213</td><td>26.07203</td><td>667</td><td>4</td><td> 5</td><td>Spain        </td><td>Europe       </td><td>Southern Hemisphere</td><td>0</td></tr>\n",
              "\t<tr><td>TTO9115</td><td>48</td><td>Male  </td><td>271</td><td>148/105</td><td>105</td><td>0</td><td>1</td><td>1</td><td>0</td><td>⋯</td><td> 8.478895</td><td>139560</td><td>21.58220</td><td>316</td><td>3</td><td> 8</td><td>Thailand     </td><td>Asia         </td><td>Northern Hemisphere</td><td>0</td></tr>\n",
              "\t<tr><td>JDP9221</td><td>40</td><td>Male  </td><td>273</td><td>160/76 </td><td> 96</td><td>0</td><td>0</td><td>1</td><td>1</td><td>⋯</td><td> 4.547242</td><td>178241</td><td>26.41705</td><td>551</td><td>4</td><td> 6</td><td>France       </td><td>Europe       </td><td>Northern Hemisphere</td><td>0</td></tr>\n",
              "\t<tr><td>FFF6730</td><td>79</td><td>Female</td><td>328</td><td>113/78 </td><td> 74</td><td>0</td><td>0</td><td>1</td><td>0</td><td>⋯</td><td> 5.209267</td><td> 98663</td><td>31.63320</td><td>482</td><td>4</td><td> 6</td><td>China        </td><td>Asia         </td><td>Northern Hemisphere</td><td>0</td></tr>\n",
              "\t<tr><td>DWN2141</td><td>63</td><td>Male  </td><td>154</td><td>99/81  </td><td>102</td><td>1</td><td>0</td><td>1</td><td>1</td><td>⋯</td><td> 7.268385</td><td>247960</td><td>39.27337</td><td>718</td><td>4</td><td>10</td><td>India        </td><td>Asia         </td><td>Northern Hemisphere</td><td>0</td></tr>\n",
              "\t<tr><td>⋮</td><td>⋮</td><td>⋮</td><td>⋮</td><td>⋮</td><td>⋮</td><td>⋮</td><td>⋮</td><td>⋮</td><td>⋮</td><td>⋱</td><td>⋮</td><td>⋮</td><td>⋮</td><td>⋮</td><td>⋮</td><td>⋮</td><td>⋮</td><td>⋮</td><td>⋮</td><td>⋮</td></tr>\n",
              "\t<tr><td>ESH4892</td><td>71</td><td>Female</td><td>312</td><td>153/84 </td><td> 90</td><td>0</td><td>0</td><td>1</td><td>1</td><td>⋯</td><td> 9.51361908</td><td>212271</td><td>18.28499</td><td>514</td><td>2</td><td> 7</td><td>Germany       </td><td>Europe       </td><td>Northern Hemisphere</td><td>0</td></tr>\n",
              "\t<tr><td>BEO4583</td><td>20</td><td>Female</td><td>323</td><td>99/84  </td><td> 70</td><td>0</td><td>1</td><td>0</td><td>1</td><td>⋯</td><td>11.45953419</td><td> 65554</td><td>28.93662</td><td>765</td><td>6</td><td> 8</td><td>United States </td><td>North America</td><td>Northern Hemisphere</td><td>0</td></tr>\n",
              "\t<tr><td>HQE8147</td><td>43</td><td>Male  </td><td>128</td><td>107/105</td><td> 94</td><td>1</td><td>0</td><td>1</td><td>0</td><td>⋯</td><td> 5.50201723</td><td>181445</td><td>19.32122</td><td>526</td><td>0</td><td> 7</td><td>Germany       </td><td>Europe       </td><td>Northern Hemisphere</td><td>0</td></tr>\n",
              "\t<tr><td>MDG8156</td><td>28</td><td>Male  </td><td>220</td><td>146/68 </td><td> 56</td><td>1</td><td>0</td><td>1</td><td>0</td><td>⋯</td><td> 1.11167152</td><td>232535</td><td>35.23703</td><td> 31</td><td>6</td><td> 6</td><td>Spain         </td><td>Europe       </td><td>Southern Hemisphere</td><td>1</td></tr>\n",
              "\t<tr><td>TZL7940</td><td>25</td><td>Male  </td><td>382</td><td>140/92 </td><td> 76</td><td>0</td><td>0</td><td>1</td><td>0</td><td>⋯</td><td> 4.94241401</td><td> 94686</td><td>33.03815</td><td>784</td><td>4</td><td> 5</td><td>Brazil        </td><td>South America</td><td>Southern Hemisphere</td><td>1</td></tr>\n",
              "\t<tr><td>XGB9531</td><td>88</td><td>Male  </td><td>146</td><td>157/97 </td><td> 78</td><td>0</td><td>0</td><td>1</td><td>0</td><td>⋯</td><td> 6.29101106</td><td>255313</td><td>23.41885</td><td>446</td><td>6</td><td>10</td><td>Spain         </td><td>Europe       </td><td>Southern Hemisphere</td><td>0</td></tr>\n",
              "\t<tr><td>TRA1650</td><td>74</td><td>Female</td><td>306</td><td>125/101</td><td> 84</td><td>0</td><td>0</td><td>1</td><td>1</td><td>⋯</td><td> 2.98215736</td><td> 80750</td><td>21.27990</td><td>418</td><td>0</td><td> 5</td><td>South Africa  </td><td>Africa       </td><td>Southern Hemisphere</td><td>1</td></tr>\n",
              "\t<tr><td>BLA5043</td><td>59</td><td>Male  </td><td>148</td><td>149/76 </td><td>108</td><td>1</td><td>1</td><td>1</td><td>0</td><td>⋯</td><td>11.58477492</td><td> 97001</td><td>26.33483</td><td>500</td><td>7</td><td> 6</td><td>South Africa  </td><td>Africa       </td><td>Southern Hemisphere</td><td>0</td></tr>\n",
              "\t<tr><td>NTL8842</td><td>45</td><td>Female</td><td>166</td><td>98/60  </td><td> 63</td><td>0</td><td>0</td><td>1</td><td>1</td><td>⋯</td><td>10.34525944</td><td> 87050</td><td>29.64083</td><td> 74</td><td>1</td><td> 6</td><td>New Zealand   </td><td>Australia    </td><td>Southern Hemisphere</td><td>0</td></tr>\n",
              "\t<tr><td>AEX7905</td><td>35</td><td>Male  </td><td>323</td><td>164/74 </td><td> 84</td><td>1</td><td>0</td><td>1</td><td>0</td><td>⋯</td><td>11.38951182</td><td>174193</td><td>34.37813</td><td>761</td><td>5</td><td> 5</td><td>Australia     </td><td>Australia    </td><td>Southern Hemisphere</td><td>0</td></tr>\n",
              "\t<tr><td>FPL5366</td><td>64</td><td>Female</td><td>338</td><td>173/105</td><td> 79</td><td>1</td><td>1</td><td>1</td><td>1</td><td>⋯</td><td> 5.36559474</td><td> 88834</td><td>25.53455</td><td> 93</td><td>6</td><td> 4</td><td>Brazil        </td><td>South America</td><td>Southern Hemisphere</td><td>0</td></tr>\n",
              "\t<tr><td>VXA0409</td><td>83</td><td>Male  </td><td>322</td><td>91/69  </td><td> 67</td><td>1</td><td>1</td><td>1</td><td>0</td><td>⋯</td><td>11.15550463</td><td>277472</td><td>28.87316</td><td>518</td><td>6</td><td> 6</td><td>Vietnam       </td><td>Asia         </td><td>Northern Hemisphere</td><td>1</td></tr>\n",
              "\t<tr><td>ASE6283</td><td>80</td><td>Male  </td><td>144</td><td>176/82 </td><td> 57</td><td>1</td><td>1</td><td>1</td><td>0</td><td>⋯</td><td> 2.55233229</td><td>251796</td><td>25.00040</td><td> 59</td><td>2</td><td>10</td><td>South Africa  </td><td>Africa       </td><td>Southern Hemisphere</td><td>1</td></tr>\n",
              "\t<tr><td>FFT2368</td><td>62</td><td>Female</td><td>263</td><td>105/98 </td><td> 62</td><td>0</td><td>1</td><td>1</td><td>1</td><td>⋯</td><td> 0.83796398</td><td>252847</td><td>37.36441</td><td>512</td><td>3</td><td> 5</td><td>Brazil        </td><td>South America</td><td>Southern Hemisphere</td><td>1</td></tr>\n",
              "\t<tr><td>BBS4075</td><td>24</td><td>Male  </td><td>396</td><td>118/89 </td><td> 45</td><td>0</td><td>0</td><td>1</td><td>1</td><td>⋯</td><td>11.46786787</td><td>219922</td><td>38.43630</td><td> 51</td><td>1</td><td> 8</td><td>China         </td><td>Asia         </td><td>Northern Hemisphere</td><td>1</td></tr>\n",
              "\t<tr><td>GQZ5013</td><td>81</td><td>Male  </td><td>137</td><td>143/64 </td><td> 61</td><td>1</td><td>0</td><td>1</td><td>1</td><td>⋯</td><td> 6.76694825</td><td> 50533</td><td>35.07439</td><td>191</td><td>3</td><td>10</td><td>Spain         </td><td>Europe       </td><td>Southern Hemisphere</td><td>0</td></tr>\n",
              "\t<tr><td>GNE7873</td><td>60</td><td>Male  </td><td>156</td><td>111/96 </td><td> 83</td><td>1</td><td>1</td><td>1</td><td>0</td><td>⋯</td><td> 6.18967348</td><td>291495</td><td>26.60538</td><td>572</td><td>1</td><td>10</td><td>South Africa  </td><td>Africa       </td><td>Southern Hemisphere</td><td>0</td></tr>\n",
              "\t<tr><td>FDK8693</td><td>34</td><td>Female</td><td>304</td><td>102/92 </td><td> 93</td><td>0</td><td>1</td><td>0</td><td>1</td><td>⋯</td><td> 6.90003667</td><td>223874</td><td>22.41849</td><td>791</td><td>4</td><td> 5</td><td>China         </td><td>Asia         </td><td>Northern Hemisphere</td><td>0</td></tr>\n",
              "\t<tr><td>SVO4635</td><td>75</td><td>Male  </td><td>176</td><td>102/89 </td><td> 78</td><td>0</td><td>0</td><td>1</td><td>1</td><td>⋯</td><td> 6.63498834</td><td>228009</td><td>23.79328</td><td>748</td><td>5</td><td> 8</td><td>Spain         </td><td>Europe       </td><td>Southern Hemisphere</td><td>1</td></tr>\n",
              "\t<tr><td>UBM5982</td><td>65</td><td>Male  </td><td>150</td><td>152/99 </td><td>106</td><td>1</td><td>0</td><td>1</td><td>0</td><td>⋯</td><td> 7.32535608</td><td> 55934</td><td>22.71055</td><td> 83</td><td>1</td><td> 5</td><td>Argentina     </td><td>South America</td><td>Southern Hemisphere</td><td>0</td></tr>\n",
              "\t<tr><td>NVC8704</td><td>82</td><td>Male  </td><td>311</td><td>126/108</td><td> 87</td><td>0</td><td>1</td><td>1</td><td>1</td><td>⋯</td><td> 8.40297714</td><td>141521</td><td>27.69424</td><td>515</td><td>1</td><td> 5</td><td>Australia     </td><td>Australia    </td><td>Southern Hemisphere</td><td>1</td></tr>\n",
              "\t<tr><td>LZM3606</td><td>80</td><td>Female</td><td>383</td><td>153/96 </td><td> 91</td><td>1</td><td>1</td><td>1</td><td>0</td><td>⋯</td><td> 8.23488302</td><td>101341</td><td>20.49045</td><td>174</td><td>3</td><td> 4</td><td>Argentina     </td><td>South America</td><td>Southern Hemisphere</td><td>1</td></tr>\n",
              "\t<tr><td>KQR8949</td><td>25</td><td>Male  </td><td>307</td><td>137/94 </td><td> 78</td><td>0</td><td>1</td><td>1</td><td>0</td><td>⋯</td><td>10.51677451</td><td> 79211</td><td>33.46936</td><td>296</td><td>7</td><td> 5</td><td>Spain         </td><td>Europe       </td><td>Southern Hemisphere</td><td>0</td></tr>\n",
              "\t<tr><td>BUE0416</td><td>22</td><td>Male  </td><td>347</td><td>115/87 </td><td>108</td><td>0</td><td>1</td><td>1</td><td>0</td><td>⋯</td><td> 6.78675047</td><td>230235</td><td>20.29505</td><td>641</td><td>2</td><td> 9</td><td>Canada        </td><td>North America</td><td>Northern Hemisphere</td><td>1</td></tr>\n",
              "\t<tr><td>YDX2478</td><td>59</td><td>Female</td><td>378</td><td>93/78  </td><td> 99</td><td>0</td><td>1</td><td>1</td><td>1</td><td>⋯</td><td> 7.49523056</td><td> 70415</td><td>39.97606</td><td>158</td><td>1</td><td> 9</td><td>China         </td><td>Asia         </td><td>Northern Hemisphere</td><td>0</td></tr>\n",
              "\t<tr><td>MSV9918</td><td>60</td><td>Male  </td><td>121</td><td>94/76  </td><td> 61</td><td>1</td><td>1</td><td>1</td><td>0</td><td>⋯</td><td>10.80637321</td><td>235420</td><td>19.65589</td><td> 67</td><td>7</td><td> 7</td><td>Thailand      </td><td>Asia         </td><td>Northern Hemisphere</td><td>0</td></tr>\n",
              "\t<tr><td>QSV6764</td><td>28</td><td>Female</td><td>120</td><td>157/102</td><td> 73</td><td>1</td><td>0</td><td>0</td><td>1</td><td>⋯</td><td> 3.83303806</td><td>217881</td><td>23.99387</td><td>617</td><td>4</td><td> 9</td><td>Canada        </td><td>North America</td><td>Northern Hemisphere</td><td>0</td></tr>\n",
              "\t<tr><td>XKA5925</td><td>47</td><td>Male  </td><td>250</td><td>161/75 </td><td>105</td><td>0</td><td>1</td><td>1</td><td>1</td><td>⋯</td><td> 2.37521373</td><td> 36998</td><td>35.40615</td><td>527</td><td>4</td><td> 4</td><td>Brazil        </td><td>South America</td><td>Southern Hemisphere</td><td>1</td></tr>\n",
              "\t<tr><td>EPE6801</td><td>36</td><td>Male  </td><td>178</td><td>119/67 </td><td> 60</td><td>1</td><td>0</td><td>1</td><td>0</td><td>⋯</td><td> 0.02910426</td><td>209943</td><td>27.29402</td><td>114</td><td>2</td><td> 8</td><td>Brazil        </td><td>South America</td><td>Southern Hemisphere</td><td>0</td></tr>\n",
              "\t<tr><td>ZWN9666</td><td>25</td><td>Female</td><td>356</td><td>138/67 </td><td> 75</td><td>1</td><td>1</td><td>0</td><td>0</td><td>⋯</td><td> 9.00523438</td><td>247338</td><td>32.91415</td><td>180</td><td>7</td><td> 4</td><td>United Kingdom</td><td>Europe       </td><td>Northern Hemisphere</td><td>1</td></tr>\n",
              "</tbody>\n",
              "</table>\n"
            ],
            "text/markdown": "\nA data.frame: 8763 × 26\n\n| Patient.ID &lt;chr&gt; | Age &lt;int&gt; | Sex &lt;chr&gt; | Cholesterol &lt;int&gt; | Blood.Pressure &lt;chr&gt; | Heart.Rate &lt;int&gt; | Diabetes &lt;int&gt; | Family.History &lt;int&gt; | Smoking &lt;int&gt; | Obesity &lt;int&gt; | ⋯ ⋯ | Sedentary.Hours.Per.Day &lt;dbl&gt; | Income &lt;int&gt; | BMI &lt;dbl&gt; | Triglycerides &lt;int&gt; | Physical.Activity.Days.Per.Week &lt;int&gt; | Sleep.Hours.Per.Day &lt;int&gt; | Country &lt;chr&gt; | Continent &lt;chr&gt; | Hemisphere &lt;chr&gt; | Heart.Attack.Risk &lt;int&gt; |\n|---|---|---|---|---|---|---|---|---|---|---|---|---|---|---|---|---|---|---|---|---|\n| BMW7812 | 67 | Male   | 208 | 158/88  |  72 | 0 | 0 | 1 | 0 | ⋯ |  6.615001 | 261404 | 31.25123 | 286 | 0 |  6 | Argentina     | South America | Southern Hemisphere | 0 |\n| CZE1114 | 21 | Male   | 389 | 165/93  |  98 | 1 | 1 | 1 | 1 | ⋯ |  4.963459 | 285768 | 27.19497 | 235 | 1 |  7 | Canada        | North America | Northern Hemisphere | 0 |\n| BNI9906 | 21 | Female | 324 | 174/99  |  72 | 1 | 0 | 0 | 0 | ⋯ |  9.463426 | 235282 | 28.17657 | 587 | 4 |  4 | France        | Europe        | Northern Hemisphere | 0 |\n| JLN3497 | 84 | Male   | 383 | 163/100 |  73 | 1 | 1 | 1 | 0 | ⋯ |  7.648981 | 125640 | 36.46470 | 378 | 3 |  4 | Canada        | North America | Northern Hemisphere | 0 |\n| GFO8847 | 66 | Male   | 318 | 91/88   |  93 | 1 | 1 | 1 | 1 | ⋯ |  1.514821 | 160555 | 21.80914 | 231 | 1 |  5 | Thailand      | Asia          | Northern Hemisphere | 0 |\n| ZOO7941 | 54 | Female | 297 | 172/86  |  48 | 1 | 1 | 1 | 0 | ⋯ |  7.798752 | 241339 | 20.14684 | 795 | 5 | 10 | Germany       | Europe        | Northern Hemisphere | 1 |\n| WYV0966 | 90 | Male   | 358 | 102/73  |  84 | 0 | 0 | 1 | 0 | ⋯ |  0.627356 | 190450 | 28.88581 | 284 | 4 | 10 | Canada        | North America | Northern Hemisphere | 1 |\n| XXM0972 | 84 | Male   | 220 | 131/68  | 107 | 0 | 0 | 1 | 1 | ⋯ | 10.543780 | 122093 | 22.22186 | 370 | 6 |  7 | Japan         | Asia          | Northern Hemisphere | 1 |\n| XCQ5937 | 20 | Male   | 145 | 144/105 |  68 | 1 | 0 | 1 | 1 | ⋯ | 11.348787 |  25086 | 35.80990 | 790 | 7 |  4 | Brazil        | South America | Southern Hemisphere | 0 |\n| FTJ5456 | 43 | Female | 248 | 160/70  |  55 | 0 | 1 | 1 | 1 | ⋯ |  4.055115 | 209703 | 22.55892 | 232 | 7 |  7 | Japan         | Asia          | Northern Hemisphere | 0 |\n| HSD6283 | 73 | Female | 373 | 107/69  |  97 | 1 | 1 | 1 | 0 | ⋯ |  8.919879 |  50030 | 22.86791 | 469 | 0 |  4 | South Africa  | Africa        | Southern Hemisphere | 0 |\n| YSP0073 | 71 | Male   | 374 | 158/71  |  70 | 1 | 1 | 1 | 1 | ⋯ |  7.227338 | 163066 | 32.48535 | 523 | 4 |  8 | United States | North America | Northern Hemisphere | 0 |\n| FPS0415 | 77 | Male   | 228 | 101/72  |  68 | 1 | 1 | 1 | 1 | ⋯ | 10.917524 |  29886 | 35.10224 | 590 | 7 |  6 | Vietnam       | Asia          | Northern Hemisphere | 1 |\n| YYU9565 | 60 | Male   | 259 | 169/72  |  85 | 1 | 1 | 1 | 0 | ⋯ |  8.727417 | 292173 | 25.56490 | 506 | 1 |  4 | China         | Asia          | Northern Hemisphere | 1 |\n| VTW9069 | 88 | Male   | 297 | 112/81  | 102 | 1 | 1 | 1 | 0 | ⋯ | 10.425490 | 165300 | 25.49174 | 635 | 3 |  6 | China         | Asia          | Northern Hemisphere | 0 |\n| DCY3282 | 73 | Male   | 122 | 114/88  |  97 | 1 | 1 | 1 | 0 | ⋯ | 10.086479 | 265839 | 36.52440 | 773 | 5 |  8 | Italy         | Europe        | Southern Hemisphere | 1 |\n| DXB2434 | 69 | Male   | 379 | 173/75  |  40 | 1 | 1 | 1 | 1 | ⋯ |  9.060509 | 267997 | 28.33275 |  68 | 3 |  6 | Brazil        | South America | Southern Hemisphere | 0 |\n| COP0566 | 38 | Male   | 166 | 120/74  |  56 | 1 | 0 | 1 | 1 | ⋯ |  3.660749 |  48376 | 29.51739 | 402 | 0 |  6 | Thailand      | Asia          | Northern Hemisphere | 0 |\n| XBI0592 | 50 | Female | 303 | 120/100 | 104 | 1 | 0 | 1 | 0 | ⋯ |  7.586984 |  21501 | 25.96435 | 517 | 1 |  5 | United States | North America | Northern Hemisphere | 1 |\n| RQX1211 | 60 | Male   | 145 | 160/98  |  71 | 1 | 0 | 1 | 0 | ⋯ |  5.994228 | 234966 | 29.16232 | 247 | 7 |  7 | Canada        | North America | Northern Hemisphere | 0 |\n| MBI0008 | 66 | Male   | 340 | 180/101 |  69 | 1 | 0 | 1 | 1 | ⋯ |  6.218069 | 156946 | 38.08867 | 747 | 1 | 10 | Canada        | North America | Northern Hemisphere | 0 |\n| RVN4963 | 45 | Male   | 294 | 130/84  |  66 | 0 | 0 | 1 | 1 | ⋯ |  7.007392 | 216565 | 25.12060 | 360 | 4 |  6 | France        | Europe        | Northern Hemisphere | 1 |\n| LBY7992 | 50 | Male   | 359 | 175/60  |  97 | 0 | 1 | 1 | 0 | ⋯ |  4.045831 | 278301 | 34.65109 | 358 | 4 |  8 | Spain         | Europe        | Southern Hemisphere | 0 |\n| RDI3071 | 84 | Male   | 202 | 173/109 |  81 | 1 | 1 | 1 | 0 | ⋯ |  7.118935 |  95237 | 29.63411 | 526 | 0 |  9 | Brazil        | South America | Southern Hemisphere | 0 |\n| NCU1956 | 36 | Male   | 133 | 161/90  |  97 | 1 | 0 | 1 | 1 | ⋯ | 10.963544 | 223132 | 22.38680 | 605 | 5 | 10 | Canada        | North America | Northern Hemisphere | 0 |\n| MSW4208 | 90 | Male   | 159 | 140/95  |  52 | 0 | 0 | 1 | 0 | ⋯ |  1.216510 | 110213 | 26.07203 | 667 | 4 |  5 | Spain         | Europe        | Southern Hemisphere | 0 |\n| TTO9115 | 48 | Male   | 271 | 148/105 | 105 | 0 | 1 | 1 | 0 | ⋯ |  8.478895 | 139560 | 21.58220 | 316 | 3 |  8 | Thailand      | Asia          | Northern Hemisphere | 0 |\n| JDP9221 | 40 | Male   | 273 | 160/76  |  96 | 0 | 0 | 1 | 1 | ⋯ |  4.547242 | 178241 | 26.41705 | 551 | 4 |  6 | France        | Europe        | Northern Hemisphere | 0 |\n| FFF6730 | 79 | Female | 328 | 113/78  |  74 | 0 | 0 | 1 | 0 | ⋯ |  5.209267 |  98663 | 31.63320 | 482 | 4 |  6 | China         | Asia          | Northern Hemisphere | 0 |\n| DWN2141 | 63 | Male   | 154 | 99/81   | 102 | 1 | 0 | 1 | 1 | ⋯ |  7.268385 | 247960 | 39.27337 | 718 | 4 | 10 | India         | Asia          | Northern Hemisphere | 0 |\n| ⋮ | ⋮ | ⋮ | ⋮ | ⋮ | ⋮ | ⋮ | ⋮ | ⋮ | ⋮ | ⋱ | ⋮ | ⋮ | ⋮ | ⋮ | ⋮ | ⋮ | ⋮ | ⋮ | ⋮ | ⋮ |\n| ESH4892 | 71 | Female | 312 | 153/84  |  90 | 0 | 0 | 1 | 1 | ⋯ |  9.51361908 | 212271 | 18.28499 | 514 | 2 |  7 | Germany        | Europe        | Northern Hemisphere | 0 |\n| BEO4583 | 20 | Female | 323 | 99/84   |  70 | 0 | 1 | 0 | 1 | ⋯ | 11.45953419 |  65554 | 28.93662 | 765 | 6 |  8 | United States  | North America | Northern Hemisphere | 0 |\n| HQE8147 | 43 | Male   | 128 | 107/105 |  94 | 1 | 0 | 1 | 0 | ⋯ |  5.50201723 | 181445 | 19.32122 | 526 | 0 |  7 | Germany        | Europe        | Northern Hemisphere | 0 |\n| MDG8156 | 28 | Male   | 220 | 146/68  |  56 | 1 | 0 | 1 | 0 | ⋯ |  1.11167152 | 232535 | 35.23703 |  31 | 6 |  6 | Spain          | Europe        | Southern Hemisphere | 1 |\n| TZL7940 | 25 | Male   | 382 | 140/92  |  76 | 0 | 0 | 1 | 0 | ⋯ |  4.94241401 |  94686 | 33.03815 | 784 | 4 |  5 | Brazil         | South America | Southern Hemisphere | 1 |\n| XGB9531 | 88 | Male   | 146 | 157/97  |  78 | 0 | 0 | 1 | 0 | ⋯ |  6.29101106 | 255313 | 23.41885 | 446 | 6 | 10 | Spain          | Europe        | Southern Hemisphere | 0 |\n| TRA1650 | 74 | Female | 306 | 125/101 |  84 | 0 | 0 | 1 | 1 | ⋯ |  2.98215736 |  80750 | 21.27990 | 418 | 0 |  5 | South Africa   | Africa        | Southern Hemisphere | 1 |\n| BLA5043 | 59 | Male   | 148 | 149/76  | 108 | 1 | 1 | 1 | 0 | ⋯ | 11.58477492 |  97001 | 26.33483 | 500 | 7 |  6 | South Africa   | Africa        | Southern Hemisphere | 0 |\n| NTL8842 | 45 | Female | 166 | 98/60   |  63 | 0 | 0 | 1 | 1 | ⋯ | 10.34525944 |  87050 | 29.64083 |  74 | 1 |  6 | New Zealand    | Australia     | Southern Hemisphere | 0 |\n| AEX7905 | 35 | Male   | 323 | 164/74  |  84 | 1 | 0 | 1 | 0 | ⋯ | 11.38951182 | 174193 | 34.37813 | 761 | 5 |  5 | Australia      | Australia     | Southern Hemisphere | 0 |\n| FPL5366 | 64 | Female | 338 | 173/105 |  79 | 1 | 1 | 1 | 1 | ⋯ |  5.36559474 |  88834 | 25.53455 |  93 | 6 |  4 | Brazil         | South America | Southern Hemisphere | 0 |\n| VXA0409 | 83 | Male   | 322 | 91/69   |  67 | 1 | 1 | 1 | 0 | ⋯ | 11.15550463 | 277472 | 28.87316 | 518 | 6 |  6 | Vietnam        | Asia          | Northern Hemisphere | 1 |\n| ASE6283 | 80 | Male   | 144 | 176/82  |  57 | 1 | 1 | 1 | 0 | ⋯ |  2.55233229 | 251796 | 25.00040 |  59 | 2 | 10 | South Africa   | Africa        | Southern Hemisphere | 1 |\n| FFT2368 | 62 | Female | 263 | 105/98  |  62 | 0 | 1 | 1 | 1 | ⋯ |  0.83796398 | 252847 | 37.36441 | 512 | 3 |  5 | Brazil         | South America | Southern Hemisphere | 1 |\n| BBS4075 | 24 | Male   | 396 | 118/89  |  45 | 0 | 0 | 1 | 1 | ⋯ | 11.46786787 | 219922 | 38.43630 |  51 | 1 |  8 | China          | Asia          | Northern Hemisphere | 1 |\n| GQZ5013 | 81 | Male   | 137 | 143/64  |  61 | 1 | 0 | 1 | 1 | ⋯ |  6.76694825 |  50533 | 35.07439 | 191 | 3 | 10 | Spain          | Europe        | Southern Hemisphere | 0 |\n| GNE7873 | 60 | Male   | 156 | 111/96  |  83 | 1 | 1 | 1 | 0 | ⋯ |  6.18967348 | 291495 | 26.60538 | 572 | 1 | 10 | South Africa   | Africa        | Southern Hemisphere | 0 |\n| FDK8693 | 34 | Female | 304 | 102/92  |  93 | 0 | 1 | 0 | 1 | ⋯ |  6.90003667 | 223874 | 22.41849 | 791 | 4 |  5 | China          | Asia          | Northern Hemisphere | 0 |\n| SVO4635 | 75 | Male   | 176 | 102/89  |  78 | 0 | 0 | 1 | 1 | ⋯ |  6.63498834 | 228009 | 23.79328 | 748 | 5 |  8 | Spain          | Europe        | Southern Hemisphere | 1 |\n| UBM5982 | 65 | Male   | 150 | 152/99  | 106 | 1 | 0 | 1 | 0 | ⋯ |  7.32535608 |  55934 | 22.71055 |  83 | 1 |  5 | Argentina      | South America | Southern Hemisphere | 0 |\n| NVC8704 | 82 | Male   | 311 | 126/108 |  87 | 0 | 1 | 1 | 1 | ⋯ |  8.40297714 | 141521 | 27.69424 | 515 | 1 |  5 | Australia      | Australia     | Southern Hemisphere | 1 |\n| LZM3606 | 80 | Female | 383 | 153/96  |  91 | 1 | 1 | 1 | 0 | ⋯ |  8.23488302 | 101341 | 20.49045 | 174 | 3 |  4 | Argentina      | South America | Southern Hemisphere | 1 |\n| KQR8949 | 25 | Male   | 307 | 137/94  |  78 | 0 | 1 | 1 | 0 | ⋯ | 10.51677451 |  79211 | 33.46936 | 296 | 7 |  5 | Spain          | Europe        | Southern Hemisphere | 0 |\n| BUE0416 | 22 | Male   | 347 | 115/87  | 108 | 0 | 1 | 1 | 0 | ⋯ |  6.78675047 | 230235 | 20.29505 | 641 | 2 |  9 | Canada         | North America | Northern Hemisphere | 1 |\n| YDX2478 | 59 | Female | 378 | 93/78   |  99 | 0 | 1 | 1 | 1 | ⋯ |  7.49523056 |  70415 | 39.97606 | 158 | 1 |  9 | China          | Asia          | Northern Hemisphere | 0 |\n| MSV9918 | 60 | Male   | 121 | 94/76   |  61 | 1 | 1 | 1 | 0 | ⋯ | 10.80637321 | 235420 | 19.65589 |  67 | 7 |  7 | Thailand       | Asia          | Northern Hemisphere | 0 |\n| QSV6764 | 28 | Female | 120 | 157/102 |  73 | 1 | 0 | 0 | 1 | ⋯ |  3.83303806 | 217881 | 23.99387 | 617 | 4 |  9 | Canada         | North America | Northern Hemisphere | 0 |\n| XKA5925 | 47 | Male   | 250 | 161/75  | 105 | 0 | 1 | 1 | 1 | ⋯ |  2.37521373 |  36998 | 35.40615 | 527 | 4 |  4 | Brazil         | South America | Southern Hemisphere | 1 |\n| EPE6801 | 36 | Male   | 178 | 119/67  |  60 | 1 | 0 | 1 | 0 | ⋯ |  0.02910426 | 209943 | 27.29402 | 114 | 2 |  8 | Brazil         | South America | Southern Hemisphere | 0 |\n| ZWN9666 | 25 | Female | 356 | 138/67  |  75 | 1 | 1 | 0 | 0 | ⋯ |  9.00523438 | 247338 | 32.91415 | 180 | 7 |  4 | United Kingdom | Europe        | Northern Hemisphere | 1 |\n\n",
            "text/latex": "A data.frame: 8763 × 26\n\\begin{tabular}{lllllllllllllllllllll}\n Patient.ID & Age & Sex & Cholesterol & Blood.Pressure & Heart.Rate & Diabetes & Family.History & Smoking & Obesity & ⋯ & Sedentary.Hours.Per.Day & Income & BMI & Triglycerides & Physical.Activity.Days.Per.Week & Sleep.Hours.Per.Day & Country & Continent & Hemisphere & Heart.Attack.Risk\\\\\n <chr> & <int> & <chr> & <int> & <chr> & <int> & <int> & <int> & <int> & <int> & ⋯ & <dbl> & <int> & <dbl> & <int> & <int> & <int> & <chr> & <chr> & <chr> & <int>\\\\\n\\hline\n\t BMW7812 & 67 & Male   & 208 & 158/88  &  72 & 0 & 0 & 1 & 0 & ⋯ &  6.615001 & 261404 & 31.25123 & 286 & 0 &  6 & Argentina     & South America & Southern Hemisphere & 0\\\\\n\t CZE1114 & 21 & Male   & 389 & 165/93  &  98 & 1 & 1 & 1 & 1 & ⋯ &  4.963459 & 285768 & 27.19497 & 235 & 1 &  7 & Canada        & North America & Northern Hemisphere & 0\\\\\n\t BNI9906 & 21 & Female & 324 & 174/99  &  72 & 1 & 0 & 0 & 0 & ⋯ &  9.463426 & 235282 & 28.17657 & 587 & 4 &  4 & France        & Europe        & Northern Hemisphere & 0\\\\\n\t JLN3497 & 84 & Male   & 383 & 163/100 &  73 & 1 & 1 & 1 & 0 & ⋯ &  7.648981 & 125640 & 36.46470 & 378 & 3 &  4 & Canada        & North America & Northern Hemisphere & 0\\\\\n\t GFO8847 & 66 & Male   & 318 & 91/88   &  93 & 1 & 1 & 1 & 1 & ⋯ &  1.514821 & 160555 & 21.80914 & 231 & 1 &  5 & Thailand      & Asia          & Northern Hemisphere & 0\\\\\n\t ZOO7941 & 54 & Female & 297 & 172/86  &  48 & 1 & 1 & 1 & 0 & ⋯ &  7.798752 & 241339 & 20.14684 & 795 & 5 & 10 & Germany       & Europe        & Northern Hemisphere & 1\\\\\n\t WYV0966 & 90 & Male   & 358 & 102/73  &  84 & 0 & 0 & 1 & 0 & ⋯ &  0.627356 & 190450 & 28.88581 & 284 & 4 & 10 & Canada        & North America & Northern Hemisphere & 1\\\\\n\t XXM0972 & 84 & Male   & 220 & 131/68  & 107 & 0 & 0 & 1 & 1 & ⋯ & 10.543780 & 122093 & 22.22186 & 370 & 6 &  7 & Japan         & Asia          & Northern Hemisphere & 1\\\\\n\t XCQ5937 & 20 & Male   & 145 & 144/105 &  68 & 1 & 0 & 1 & 1 & ⋯ & 11.348787 &  25086 & 35.80990 & 790 & 7 &  4 & Brazil        & South America & Southern Hemisphere & 0\\\\\n\t FTJ5456 & 43 & Female & 248 & 160/70  &  55 & 0 & 1 & 1 & 1 & ⋯ &  4.055115 & 209703 & 22.55892 & 232 & 7 &  7 & Japan         & Asia          & Northern Hemisphere & 0\\\\\n\t HSD6283 & 73 & Female & 373 & 107/69  &  97 & 1 & 1 & 1 & 0 & ⋯ &  8.919879 &  50030 & 22.86791 & 469 & 0 &  4 & South Africa  & Africa        & Southern Hemisphere & 0\\\\\n\t YSP0073 & 71 & Male   & 374 & 158/71  &  70 & 1 & 1 & 1 & 1 & ⋯ &  7.227338 & 163066 & 32.48535 & 523 & 4 &  8 & United States & North America & Northern Hemisphere & 0\\\\\n\t FPS0415 & 77 & Male   & 228 & 101/72  &  68 & 1 & 1 & 1 & 1 & ⋯ & 10.917524 &  29886 & 35.10224 & 590 & 7 &  6 & Vietnam       & Asia          & Northern Hemisphere & 1\\\\\n\t YYU9565 & 60 & Male   & 259 & 169/72  &  85 & 1 & 1 & 1 & 0 & ⋯ &  8.727417 & 292173 & 25.56490 & 506 & 1 &  4 & China         & Asia          & Northern Hemisphere & 1\\\\\n\t VTW9069 & 88 & Male   & 297 & 112/81  & 102 & 1 & 1 & 1 & 0 & ⋯ & 10.425490 & 165300 & 25.49174 & 635 & 3 &  6 & China         & Asia          & Northern Hemisphere & 0\\\\\n\t DCY3282 & 73 & Male   & 122 & 114/88  &  97 & 1 & 1 & 1 & 0 & ⋯ & 10.086479 & 265839 & 36.52440 & 773 & 5 &  8 & Italy         & Europe        & Southern Hemisphere & 1\\\\\n\t DXB2434 & 69 & Male   & 379 & 173/75  &  40 & 1 & 1 & 1 & 1 & ⋯ &  9.060509 & 267997 & 28.33275 &  68 & 3 &  6 & Brazil        & South America & Southern Hemisphere & 0\\\\\n\t COP0566 & 38 & Male   & 166 & 120/74  &  56 & 1 & 0 & 1 & 1 & ⋯ &  3.660749 &  48376 & 29.51739 & 402 & 0 &  6 & Thailand      & Asia          & Northern Hemisphere & 0\\\\\n\t XBI0592 & 50 & Female & 303 & 120/100 & 104 & 1 & 0 & 1 & 0 & ⋯ &  7.586984 &  21501 & 25.96435 & 517 & 1 &  5 & United States & North America & Northern Hemisphere & 1\\\\\n\t RQX1211 & 60 & Male   & 145 & 160/98  &  71 & 1 & 0 & 1 & 0 & ⋯ &  5.994228 & 234966 & 29.16232 & 247 & 7 &  7 & Canada        & North America & Northern Hemisphere & 0\\\\\n\t MBI0008 & 66 & Male   & 340 & 180/101 &  69 & 1 & 0 & 1 & 1 & ⋯ &  6.218069 & 156946 & 38.08867 & 747 & 1 & 10 & Canada        & North America & Northern Hemisphere & 0\\\\\n\t RVN4963 & 45 & Male   & 294 & 130/84  &  66 & 0 & 0 & 1 & 1 & ⋯ &  7.007392 & 216565 & 25.12060 & 360 & 4 &  6 & France        & Europe        & Northern Hemisphere & 1\\\\\n\t LBY7992 & 50 & Male   & 359 & 175/60  &  97 & 0 & 1 & 1 & 0 & ⋯ &  4.045831 & 278301 & 34.65109 & 358 & 4 &  8 & Spain         & Europe        & Southern Hemisphere & 0\\\\\n\t RDI3071 & 84 & Male   & 202 & 173/109 &  81 & 1 & 1 & 1 & 0 & ⋯ &  7.118935 &  95237 & 29.63411 & 526 & 0 &  9 & Brazil        & South America & Southern Hemisphere & 0\\\\\n\t NCU1956 & 36 & Male   & 133 & 161/90  &  97 & 1 & 0 & 1 & 1 & ⋯ & 10.963544 & 223132 & 22.38680 & 605 & 5 & 10 & Canada        & North America & Northern Hemisphere & 0\\\\\n\t MSW4208 & 90 & Male   & 159 & 140/95  &  52 & 0 & 0 & 1 & 0 & ⋯ &  1.216510 & 110213 & 26.07203 & 667 & 4 &  5 & Spain         & Europe        & Southern Hemisphere & 0\\\\\n\t TTO9115 & 48 & Male   & 271 & 148/105 & 105 & 0 & 1 & 1 & 0 & ⋯ &  8.478895 & 139560 & 21.58220 & 316 & 3 &  8 & Thailand      & Asia          & Northern Hemisphere & 0\\\\\n\t JDP9221 & 40 & Male   & 273 & 160/76  &  96 & 0 & 0 & 1 & 1 & ⋯ &  4.547242 & 178241 & 26.41705 & 551 & 4 &  6 & France        & Europe        & Northern Hemisphere & 0\\\\\n\t FFF6730 & 79 & Female & 328 & 113/78  &  74 & 0 & 0 & 1 & 0 & ⋯ &  5.209267 &  98663 & 31.63320 & 482 & 4 &  6 & China         & Asia          & Northern Hemisphere & 0\\\\\n\t DWN2141 & 63 & Male   & 154 & 99/81   & 102 & 1 & 0 & 1 & 1 & ⋯ &  7.268385 & 247960 & 39.27337 & 718 & 4 & 10 & India         & Asia          & Northern Hemisphere & 0\\\\\n\t ⋮ & ⋮ & ⋮ & ⋮ & ⋮ & ⋮ & ⋮ & ⋮ & ⋮ & ⋮ & ⋱ & ⋮ & ⋮ & ⋮ & ⋮ & ⋮ & ⋮ & ⋮ & ⋮ & ⋮ & ⋮\\\\\n\t ESH4892 & 71 & Female & 312 & 153/84  &  90 & 0 & 0 & 1 & 1 & ⋯ &  9.51361908 & 212271 & 18.28499 & 514 & 2 &  7 & Germany        & Europe        & Northern Hemisphere & 0\\\\\n\t BEO4583 & 20 & Female & 323 & 99/84   &  70 & 0 & 1 & 0 & 1 & ⋯ & 11.45953419 &  65554 & 28.93662 & 765 & 6 &  8 & United States  & North America & Northern Hemisphere & 0\\\\\n\t HQE8147 & 43 & Male   & 128 & 107/105 &  94 & 1 & 0 & 1 & 0 & ⋯ &  5.50201723 & 181445 & 19.32122 & 526 & 0 &  7 & Germany        & Europe        & Northern Hemisphere & 0\\\\\n\t MDG8156 & 28 & Male   & 220 & 146/68  &  56 & 1 & 0 & 1 & 0 & ⋯ &  1.11167152 & 232535 & 35.23703 &  31 & 6 &  6 & Spain          & Europe        & Southern Hemisphere & 1\\\\\n\t TZL7940 & 25 & Male   & 382 & 140/92  &  76 & 0 & 0 & 1 & 0 & ⋯ &  4.94241401 &  94686 & 33.03815 & 784 & 4 &  5 & Brazil         & South America & Southern Hemisphere & 1\\\\\n\t XGB9531 & 88 & Male   & 146 & 157/97  &  78 & 0 & 0 & 1 & 0 & ⋯ &  6.29101106 & 255313 & 23.41885 & 446 & 6 & 10 & Spain          & Europe        & Southern Hemisphere & 0\\\\\n\t TRA1650 & 74 & Female & 306 & 125/101 &  84 & 0 & 0 & 1 & 1 & ⋯ &  2.98215736 &  80750 & 21.27990 & 418 & 0 &  5 & South Africa   & Africa        & Southern Hemisphere & 1\\\\\n\t BLA5043 & 59 & Male   & 148 & 149/76  & 108 & 1 & 1 & 1 & 0 & ⋯ & 11.58477492 &  97001 & 26.33483 & 500 & 7 &  6 & South Africa   & Africa        & Southern Hemisphere & 0\\\\\n\t NTL8842 & 45 & Female & 166 & 98/60   &  63 & 0 & 0 & 1 & 1 & ⋯ & 10.34525944 &  87050 & 29.64083 &  74 & 1 &  6 & New Zealand    & Australia     & Southern Hemisphere & 0\\\\\n\t AEX7905 & 35 & Male   & 323 & 164/74  &  84 & 1 & 0 & 1 & 0 & ⋯ & 11.38951182 & 174193 & 34.37813 & 761 & 5 &  5 & Australia      & Australia     & Southern Hemisphere & 0\\\\\n\t FPL5366 & 64 & Female & 338 & 173/105 &  79 & 1 & 1 & 1 & 1 & ⋯ &  5.36559474 &  88834 & 25.53455 &  93 & 6 &  4 & Brazil         & South America & Southern Hemisphere & 0\\\\\n\t VXA0409 & 83 & Male   & 322 & 91/69   &  67 & 1 & 1 & 1 & 0 & ⋯ & 11.15550463 & 277472 & 28.87316 & 518 & 6 &  6 & Vietnam        & Asia          & Northern Hemisphere & 1\\\\\n\t ASE6283 & 80 & Male   & 144 & 176/82  &  57 & 1 & 1 & 1 & 0 & ⋯ &  2.55233229 & 251796 & 25.00040 &  59 & 2 & 10 & South Africa   & Africa        & Southern Hemisphere & 1\\\\\n\t FFT2368 & 62 & Female & 263 & 105/98  &  62 & 0 & 1 & 1 & 1 & ⋯ &  0.83796398 & 252847 & 37.36441 & 512 & 3 &  5 & Brazil         & South America & Southern Hemisphere & 1\\\\\n\t BBS4075 & 24 & Male   & 396 & 118/89  &  45 & 0 & 0 & 1 & 1 & ⋯ & 11.46786787 & 219922 & 38.43630 &  51 & 1 &  8 & China          & Asia          & Northern Hemisphere & 1\\\\\n\t GQZ5013 & 81 & Male   & 137 & 143/64  &  61 & 1 & 0 & 1 & 1 & ⋯ &  6.76694825 &  50533 & 35.07439 & 191 & 3 & 10 & Spain          & Europe        & Southern Hemisphere & 0\\\\\n\t GNE7873 & 60 & Male   & 156 & 111/96  &  83 & 1 & 1 & 1 & 0 & ⋯ &  6.18967348 & 291495 & 26.60538 & 572 & 1 & 10 & South Africa   & Africa        & Southern Hemisphere & 0\\\\\n\t FDK8693 & 34 & Female & 304 & 102/92  &  93 & 0 & 1 & 0 & 1 & ⋯ &  6.90003667 & 223874 & 22.41849 & 791 & 4 &  5 & China          & Asia          & Northern Hemisphere & 0\\\\\n\t SVO4635 & 75 & Male   & 176 & 102/89  &  78 & 0 & 0 & 1 & 1 & ⋯ &  6.63498834 & 228009 & 23.79328 & 748 & 5 &  8 & Spain          & Europe        & Southern Hemisphere & 1\\\\\n\t UBM5982 & 65 & Male   & 150 & 152/99  & 106 & 1 & 0 & 1 & 0 & ⋯ &  7.32535608 &  55934 & 22.71055 &  83 & 1 &  5 & Argentina      & South America & Southern Hemisphere & 0\\\\\n\t NVC8704 & 82 & Male   & 311 & 126/108 &  87 & 0 & 1 & 1 & 1 & ⋯ &  8.40297714 & 141521 & 27.69424 & 515 & 1 &  5 & Australia      & Australia     & Southern Hemisphere & 1\\\\\n\t LZM3606 & 80 & Female & 383 & 153/96  &  91 & 1 & 1 & 1 & 0 & ⋯ &  8.23488302 & 101341 & 20.49045 & 174 & 3 &  4 & Argentina      & South America & Southern Hemisphere & 1\\\\\n\t KQR8949 & 25 & Male   & 307 & 137/94  &  78 & 0 & 1 & 1 & 0 & ⋯ & 10.51677451 &  79211 & 33.46936 & 296 & 7 &  5 & Spain          & Europe        & Southern Hemisphere & 0\\\\\n\t BUE0416 & 22 & Male   & 347 & 115/87  & 108 & 0 & 1 & 1 & 0 & ⋯ &  6.78675047 & 230235 & 20.29505 & 641 & 2 &  9 & Canada         & North America & Northern Hemisphere & 1\\\\\n\t YDX2478 & 59 & Female & 378 & 93/78   &  99 & 0 & 1 & 1 & 1 & ⋯ &  7.49523056 &  70415 & 39.97606 & 158 & 1 &  9 & China          & Asia          & Northern Hemisphere & 0\\\\\n\t MSV9918 & 60 & Male   & 121 & 94/76   &  61 & 1 & 1 & 1 & 0 & ⋯ & 10.80637321 & 235420 & 19.65589 &  67 & 7 &  7 & Thailand       & Asia          & Northern Hemisphere & 0\\\\\n\t QSV6764 & 28 & Female & 120 & 157/102 &  73 & 1 & 0 & 0 & 1 & ⋯ &  3.83303806 & 217881 & 23.99387 & 617 & 4 &  9 & Canada         & North America & Northern Hemisphere & 0\\\\\n\t XKA5925 & 47 & Male   & 250 & 161/75  & 105 & 0 & 1 & 1 & 1 & ⋯ &  2.37521373 &  36998 & 35.40615 & 527 & 4 &  4 & Brazil         & South America & Southern Hemisphere & 1\\\\\n\t EPE6801 & 36 & Male   & 178 & 119/67  &  60 & 1 & 0 & 1 & 0 & ⋯ &  0.02910426 & 209943 & 27.29402 & 114 & 2 &  8 & Brazil         & South America & Southern Hemisphere & 0\\\\\n\t ZWN9666 & 25 & Female & 356 & 138/67  &  75 & 1 & 1 & 0 & 0 & ⋯ &  9.00523438 & 247338 & 32.91415 & 180 & 7 &  4 & United Kingdom & Europe        & Northern Hemisphere & 1\\\\\n\\end{tabular}\n",
            "text/plain": [
              "     Patient.ID Age Sex    Cholesterol Blood.Pressure Heart.Rate Diabetes\n",
              "1    BMW7812    67  Male   208         158/88          72        0       \n",
              "2    CZE1114    21  Male   389         165/93          98        1       \n",
              "3    BNI9906    21  Female 324         174/99          72        1       \n",
              "4    JLN3497    84  Male   383         163/100         73        1       \n",
              "5    GFO8847    66  Male   318         91/88           93        1       \n",
              "6    ZOO7941    54  Female 297         172/86          48        1       \n",
              "7    WYV0966    90  Male   358         102/73          84        0       \n",
              "8    XXM0972    84  Male   220         131/68         107        0       \n",
              "9    XCQ5937    20  Male   145         144/105         68        1       \n",
              "10   FTJ5456    43  Female 248         160/70          55        0       \n",
              "11   HSD6283    73  Female 373         107/69          97        1       \n",
              "12   YSP0073    71  Male   374         158/71          70        1       \n",
              "13   FPS0415    77  Male   228         101/72          68        1       \n",
              "14   YYU9565    60  Male   259         169/72          85        1       \n",
              "15   VTW9069    88  Male   297         112/81         102        1       \n",
              "16   DCY3282    73  Male   122         114/88          97        1       \n",
              "17   DXB2434    69  Male   379         173/75          40        1       \n",
              "18   COP0566    38  Male   166         120/74          56        1       \n",
              "19   XBI0592    50  Female 303         120/100        104        1       \n",
              "20   RQX1211    60  Male   145         160/98          71        1       \n",
              "21   MBI0008    66  Male   340         180/101         69        1       \n",
              "22   RVN4963    45  Male   294         130/84          66        0       \n",
              "23   LBY7992    50  Male   359         175/60          97        0       \n",
              "24   RDI3071    84  Male   202         173/109         81        1       \n",
              "25   NCU1956    36  Male   133         161/90          97        1       \n",
              "26   MSW4208    90  Male   159         140/95          52        0       \n",
              "27   TTO9115    48  Male   271         148/105        105        0       \n",
              "28   JDP9221    40  Male   273         160/76          96        0       \n",
              "29   FFF6730    79  Female 328         113/78          74        0       \n",
              "30   DWN2141    63  Male   154         99/81          102        1       \n",
              "⋮    ⋮          ⋮   ⋮      ⋮           ⋮              ⋮          ⋮       \n",
              "8734 ESH4892    71  Female 312         153/84          90        0       \n",
              "8735 BEO4583    20  Female 323         99/84           70        0       \n",
              "8736 HQE8147    43  Male   128         107/105         94        1       \n",
              "8737 MDG8156    28  Male   220         146/68          56        1       \n",
              "8738 TZL7940    25  Male   382         140/92          76        0       \n",
              "8739 XGB9531    88  Male   146         157/97          78        0       \n",
              "8740 TRA1650    74  Female 306         125/101         84        0       \n",
              "8741 BLA5043    59  Male   148         149/76         108        1       \n",
              "8742 NTL8842    45  Female 166         98/60           63        0       \n",
              "8743 AEX7905    35  Male   323         164/74          84        1       \n",
              "8744 FPL5366    64  Female 338         173/105         79        1       \n",
              "8745 VXA0409    83  Male   322         91/69           67        1       \n",
              "8746 ASE6283    80  Male   144         176/82          57        1       \n",
              "8747 FFT2368    62  Female 263         105/98          62        0       \n",
              "8748 BBS4075    24  Male   396         118/89          45        0       \n",
              "8749 GQZ5013    81  Male   137         143/64          61        1       \n",
              "8750 GNE7873    60  Male   156         111/96          83        1       \n",
              "8751 FDK8693    34  Female 304         102/92          93        0       \n",
              "8752 SVO4635    75  Male   176         102/89          78        0       \n",
              "8753 UBM5982    65  Male   150         152/99         106        1       \n",
              "8754 NVC8704    82  Male   311         126/108         87        0       \n",
              "8755 LZM3606    80  Female 383         153/96          91        1       \n",
              "8756 KQR8949    25  Male   307         137/94          78        0       \n",
              "8757 BUE0416    22  Male   347         115/87         108        0       \n",
              "8758 YDX2478    59  Female 378         93/78           99        0       \n",
              "8759 MSV9918    60  Male   121         94/76           61        1       \n",
              "8760 QSV6764    28  Female 120         157/102         73        1       \n",
              "8761 XKA5925    47  Male   250         161/75         105        0       \n",
              "8762 EPE6801    36  Male   178         119/67          60        1       \n",
              "8763 ZWN9666    25  Female 356         138/67          75        1       \n",
              "     Family.History Smoking Obesity ⋯ Sedentary.Hours.Per.Day Income BMI     \n",
              "1    0              1       0       ⋯  6.615001               261404 31.25123\n",
              "2    1              1       1       ⋯  4.963459               285768 27.19497\n",
              "3    0              0       0       ⋯  9.463426               235282 28.17657\n",
              "4    1              1       0       ⋯  7.648981               125640 36.46470\n",
              "5    1              1       1       ⋯  1.514821               160555 21.80914\n",
              "6    1              1       0       ⋯  7.798752               241339 20.14684\n",
              "7    0              1       0       ⋯  0.627356               190450 28.88581\n",
              "8    0              1       1       ⋯ 10.543780               122093 22.22186\n",
              "9    0              1       1       ⋯ 11.348787                25086 35.80990\n",
              "10   1              1       1       ⋯  4.055115               209703 22.55892\n",
              "11   1              1       0       ⋯  8.919879                50030 22.86791\n",
              "12   1              1       1       ⋯  7.227338               163066 32.48535\n",
              "13   1              1       1       ⋯ 10.917524                29886 35.10224\n",
              "14   1              1       0       ⋯  8.727417               292173 25.56490\n",
              "15   1              1       0       ⋯ 10.425490               165300 25.49174\n",
              "16   1              1       0       ⋯ 10.086479               265839 36.52440\n",
              "17   1              1       1       ⋯  9.060509               267997 28.33275\n",
              "18   0              1       1       ⋯  3.660749                48376 29.51739\n",
              "19   0              1       0       ⋯  7.586984                21501 25.96435\n",
              "20   0              1       0       ⋯  5.994228               234966 29.16232\n",
              "21   0              1       1       ⋯  6.218069               156946 38.08867\n",
              "22   0              1       1       ⋯  7.007392               216565 25.12060\n",
              "23   1              1       0       ⋯  4.045831               278301 34.65109\n",
              "24   1              1       0       ⋯  7.118935                95237 29.63411\n",
              "25   0              1       1       ⋯ 10.963544               223132 22.38680\n",
              "26   0              1       0       ⋯  1.216510               110213 26.07203\n",
              "27   1              1       0       ⋯  8.478895               139560 21.58220\n",
              "28   0              1       1       ⋯  4.547242               178241 26.41705\n",
              "29   0              1       0       ⋯  5.209267                98663 31.63320\n",
              "30   0              1       1       ⋯  7.268385               247960 39.27337\n",
              "⋮    ⋮              ⋮       ⋮       ⋱ ⋮                       ⋮      ⋮       \n",
              "8734 0              1       1       ⋯  9.51361908             212271 18.28499\n",
              "8735 1              0       1       ⋯ 11.45953419              65554 28.93662\n",
              "8736 0              1       0       ⋯  5.50201723             181445 19.32122\n",
              "8737 0              1       0       ⋯  1.11167152             232535 35.23703\n",
              "8738 0              1       0       ⋯  4.94241401              94686 33.03815\n",
              "8739 0              1       0       ⋯  6.29101106             255313 23.41885\n",
              "8740 0              1       1       ⋯  2.98215736              80750 21.27990\n",
              "8741 1              1       0       ⋯ 11.58477492              97001 26.33483\n",
              "8742 0              1       1       ⋯ 10.34525944              87050 29.64083\n",
              "8743 0              1       0       ⋯ 11.38951182             174193 34.37813\n",
              "8744 1              1       1       ⋯  5.36559474              88834 25.53455\n",
              "8745 1              1       0       ⋯ 11.15550463             277472 28.87316\n",
              "8746 1              1       0       ⋯  2.55233229             251796 25.00040\n",
              "8747 1              1       1       ⋯  0.83796398             252847 37.36441\n",
              "8748 0              1       1       ⋯ 11.46786787             219922 38.43630\n",
              "8749 0              1       1       ⋯  6.76694825              50533 35.07439\n",
              "8750 1              1       0       ⋯  6.18967348             291495 26.60538\n",
              "8751 1              0       1       ⋯  6.90003667             223874 22.41849\n",
              "8752 0              1       1       ⋯  6.63498834             228009 23.79328\n",
              "8753 0              1       0       ⋯  7.32535608              55934 22.71055\n",
              "8754 1              1       1       ⋯  8.40297714             141521 27.69424\n",
              "8755 1              1       0       ⋯  8.23488302             101341 20.49045\n",
              "8756 1              1       0       ⋯ 10.51677451              79211 33.46936\n",
              "8757 1              1       0       ⋯  6.78675047             230235 20.29505\n",
              "8758 1              1       1       ⋯  7.49523056              70415 39.97606\n",
              "8759 1              1       0       ⋯ 10.80637321             235420 19.65589\n",
              "8760 0              0       1       ⋯  3.83303806             217881 23.99387\n",
              "8761 1              1       1       ⋯  2.37521373              36998 35.40615\n",
              "8762 0              1       0       ⋯  0.02910426             209943 27.29402\n",
              "8763 1              0       0       ⋯  9.00523438             247338 32.91415\n",
              "     Triglycerides Physical.Activity.Days.Per.Week Sleep.Hours.Per.Day\n",
              "1    286           0                                6                 \n",
              "2    235           1                                7                 \n",
              "3    587           4                                4                 \n",
              "4    378           3                                4                 \n",
              "5    231           1                                5                 \n",
              "6    795           5                               10                 \n",
              "7    284           4                               10                 \n",
              "8    370           6                                7                 \n",
              "9    790           7                                4                 \n",
              "10   232           7                                7                 \n",
              "11   469           0                                4                 \n",
              "12   523           4                                8                 \n",
              "13   590           7                                6                 \n",
              "14   506           1                                4                 \n",
              "15   635           3                                6                 \n",
              "16   773           5                                8                 \n",
              "17    68           3                                6                 \n",
              "18   402           0                                6                 \n",
              "19   517           1                                5                 \n",
              "20   247           7                                7                 \n",
              "21   747           1                               10                 \n",
              "22   360           4                                6                 \n",
              "23   358           4                                8                 \n",
              "24   526           0                                9                 \n",
              "25   605           5                               10                 \n",
              "26   667           4                                5                 \n",
              "27   316           3                                8                 \n",
              "28   551           4                                6                 \n",
              "29   482           4                                6                 \n",
              "30   718           4                               10                 \n",
              "⋮    ⋮             ⋮                               ⋮                  \n",
              "8734 514           2                                7                 \n",
              "8735 765           6                                8                 \n",
              "8736 526           0                                7                 \n",
              "8737  31           6                                6                 \n",
              "8738 784           4                                5                 \n",
              "8739 446           6                               10                 \n",
              "8740 418           0                                5                 \n",
              "8741 500           7                                6                 \n",
              "8742  74           1                                6                 \n",
              "8743 761           5                                5                 \n",
              "8744  93           6                                4                 \n",
              "8745 518           6                                6                 \n",
              "8746  59           2                               10                 \n",
              "8747 512           3                                5                 \n",
              "8748  51           1                                8                 \n",
              "8749 191           3                               10                 \n",
              "8750 572           1                               10                 \n",
              "8751 791           4                                5                 \n",
              "8752 748           5                                8                 \n",
              "8753  83           1                                5                 \n",
              "8754 515           1                                5                 \n",
              "8755 174           3                                4                 \n",
              "8756 296           7                                5                 \n",
              "8757 641           2                                9                 \n",
              "8758 158           1                                9                 \n",
              "8759  67           7                                7                 \n",
              "8760 617           4                                9                 \n",
              "8761 527           4                                4                 \n",
              "8762 114           2                                8                 \n",
              "8763 180           7                                4                 \n",
              "     Country        Continent     Hemisphere          Heart.Attack.Risk\n",
              "1    Argentina      South America Southern Hemisphere 0                \n",
              "2    Canada         North America Northern Hemisphere 0                \n",
              "3    France         Europe        Northern Hemisphere 0                \n",
              "4    Canada         North America Northern Hemisphere 0                \n",
              "5    Thailand       Asia          Northern Hemisphere 0                \n",
              "6    Germany        Europe        Northern Hemisphere 1                \n",
              "7    Canada         North America Northern Hemisphere 1                \n",
              "8    Japan          Asia          Northern Hemisphere 1                \n",
              "9    Brazil         South America Southern Hemisphere 0                \n",
              "10   Japan          Asia          Northern Hemisphere 0                \n",
              "11   South Africa   Africa        Southern Hemisphere 0                \n",
              "12   United States  North America Northern Hemisphere 0                \n",
              "13   Vietnam        Asia          Northern Hemisphere 1                \n",
              "14   China          Asia          Northern Hemisphere 1                \n",
              "15   China          Asia          Northern Hemisphere 0                \n",
              "16   Italy          Europe        Southern Hemisphere 1                \n",
              "17   Brazil         South America Southern Hemisphere 0                \n",
              "18   Thailand       Asia          Northern Hemisphere 0                \n",
              "19   United States  North America Northern Hemisphere 1                \n",
              "20   Canada         North America Northern Hemisphere 0                \n",
              "21   Canada         North America Northern Hemisphere 0                \n",
              "22   France         Europe        Northern Hemisphere 1                \n",
              "23   Spain          Europe        Southern Hemisphere 0                \n",
              "24   Brazil         South America Southern Hemisphere 0                \n",
              "25   Canada         North America Northern Hemisphere 0                \n",
              "26   Spain          Europe        Southern Hemisphere 0                \n",
              "27   Thailand       Asia          Northern Hemisphere 0                \n",
              "28   France         Europe        Northern Hemisphere 0                \n",
              "29   China          Asia          Northern Hemisphere 0                \n",
              "30   India          Asia          Northern Hemisphere 0                \n",
              "⋮    ⋮              ⋮             ⋮                   ⋮                \n",
              "8734 Germany        Europe        Northern Hemisphere 0                \n",
              "8735 United States  North America Northern Hemisphere 0                \n",
              "8736 Germany        Europe        Northern Hemisphere 0                \n",
              "8737 Spain          Europe        Southern Hemisphere 1                \n",
              "8738 Brazil         South America Southern Hemisphere 1                \n",
              "8739 Spain          Europe        Southern Hemisphere 0                \n",
              "8740 South Africa   Africa        Southern Hemisphere 1                \n",
              "8741 South Africa   Africa        Southern Hemisphere 0                \n",
              "8742 New Zealand    Australia     Southern Hemisphere 0                \n",
              "8743 Australia      Australia     Southern Hemisphere 0                \n",
              "8744 Brazil         South America Southern Hemisphere 0                \n",
              "8745 Vietnam        Asia          Northern Hemisphere 1                \n",
              "8746 South Africa   Africa        Southern Hemisphere 1                \n",
              "8747 Brazil         South America Southern Hemisphere 1                \n",
              "8748 China          Asia          Northern Hemisphere 1                \n",
              "8749 Spain          Europe        Southern Hemisphere 0                \n",
              "8750 South Africa   Africa        Southern Hemisphere 0                \n",
              "8751 China          Asia          Northern Hemisphere 0                \n",
              "8752 Spain          Europe        Southern Hemisphere 1                \n",
              "8753 Argentina      South America Southern Hemisphere 0                \n",
              "8754 Australia      Australia     Southern Hemisphere 1                \n",
              "8755 Argentina      South America Southern Hemisphere 1                \n",
              "8756 Spain          Europe        Southern Hemisphere 0                \n",
              "8757 Canada         North America Northern Hemisphere 1                \n",
              "8758 China          Asia          Northern Hemisphere 0                \n",
              "8759 Thailand       Asia          Northern Hemisphere 0                \n",
              "8760 Canada         North America Northern Hemisphere 0                \n",
              "8761 Brazil         South America Southern Hemisphere 1                \n",
              "8762 Brazil         South America Southern Hemisphere 0                \n",
              "8763 United Kingdom Europe        Northern Hemisphere 1                "
            ]
          },
          "metadata": {}
        }
      ]
    },
    {
      "cell_type": "code",
      "source": [
        "dim(heart_data)"
      ],
      "metadata": {
        "colab": {
          "base_uri": "https://localhost:8080/",
          "height": 34
        },
        "id": "T1jjfHjWVN6g",
        "outputId": "923b1f5c-961f-4680-a3ea-5298d1540b20"
      },
      "execution_count": 19,
      "outputs": [
        {
          "output_type": "display_data",
          "data": {
            "text/html": [
              "<style>\n",
              ".list-inline {list-style: none; margin:0; padding: 0}\n",
              ".list-inline>li {display: inline-block}\n",
              ".list-inline>li:not(:last-child)::after {content: \"\\00b7\"; padding: 0 .5ex}\n",
              "</style>\n",
              "<ol class=list-inline><li>8763</li><li>26</li></ol>\n"
            ],
            "text/markdown": "1. 8763\n2. 26\n\n\n",
            "text/latex": "\\begin{enumerate*}\n\\item 8763\n\\item 26\n\\end{enumerate*}\n",
            "text/plain": [
              "[1] 8763   26"
            ]
          },
          "metadata": {}
        }
      ]
    },
    {
      "cell_type": "code",
      "source": [
        "summary(heart_data)"
      ],
      "metadata": {
        "colab": {
          "base_uri": "https://localhost:8080/",
          "height": 868
        },
        "id": "iCaJCNuHVPB1",
        "outputId": "28fb6858-9641-4e44-d52b-b0e6ec80dc09"
      },
      "execution_count": 20,
      "outputs": [
        {
          "output_type": "display_data",
          "data": {
            "text/plain": [
              "  Patient.ID             Age            Sex             Cholesterol   \n",
              " Length:8763        Min.   :18.00   Length:8763        Min.   :120.0  \n",
              " Class :character   1st Qu.:35.00   Class :character   1st Qu.:192.0  \n",
              " Mode  :character   Median :54.00   Mode  :character   Median :259.0  \n",
              "                    Mean   :53.71                      Mean   :259.9  \n",
              "                    3rd Qu.:72.00                      3rd Qu.:330.0  \n",
              "                    Max.   :90.00                      Max.   :400.0  \n",
              " Blood.Pressure       Heart.Rate        Diabetes      Family.History \n",
              " Length:8763        Min.   : 40.00   Min.   :0.0000   Min.   :0.000  \n",
              " Class :character   1st Qu.: 57.00   1st Qu.:0.0000   1st Qu.:0.000  \n",
              " Mode  :character   Median : 75.00   Median :1.0000   Median :0.000  \n",
              "                    Mean   : 75.02   Mean   :0.6523   Mean   :0.493  \n",
              "                    3rd Qu.: 93.00   3rd Qu.:1.0000   3rd Qu.:1.000  \n",
              "                    Max.   :110.00   Max.   :1.0000   Max.   :1.000  \n",
              "    Smoking          Obesity       Alcohol.Consumption Exercise.Hours.Per.Week\n",
              " Min.   :0.0000   Min.   :0.0000   Min.   :0.0000      Min.   : 0.002442      \n",
              " 1st Qu.:1.0000   1st Qu.:0.0000   1st Qu.:0.0000      1st Qu.: 4.981579      \n",
              " Median :1.0000   Median :1.0000   Median :1.0000      Median :10.069559      \n",
              " Mean   :0.8968   Mean   :0.5014   Mean   :0.5981      Mean   :10.014284      \n",
              " 3rd Qu.:1.0000   3rd Qu.:1.0000   3rd Qu.:1.0000      3rd Qu.:15.050018      \n",
              " Max.   :1.0000   Max.   :1.0000   Max.   :1.0000      Max.   :19.998709      \n",
              "     Diet           Previous.Heart.Problems Medication.Use    Stress.Level  \n",
              " Length:8763        Min.   :0.0000          Min.   :0.0000   Min.   : 1.00  \n",
              " Class :character   1st Qu.:0.0000          1st Qu.:0.0000   1st Qu.: 3.00  \n",
              " Mode  :character   Median :0.0000          Median :0.0000   Median : 5.00  \n",
              "                    Mean   :0.4958          Mean   :0.4983   Mean   : 5.47  \n",
              "                    3rd Qu.:1.0000          3rd Qu.:1.0000   3rd Qu.: 8.00  \n",
              "                    Max.   :1.0000          Max.   :1.0000   Max.   :10.00  \n",
              " Sedentary.Hours.Per.Day     Income            BMI        Triglycerides  \n",
              " Min.   : 0.001263       Min.   : 20062   Min.   :18.00   Min.   : 30.0  \n",
              " 1st Qu.: 2.998794       1st Qu.: 88310   1st Qu.:23.42   1st Qu.:225.5  \n",
              " Median : 5.933622       Median :157866   Median :28.77   Median :417.0  \n",
              " Mean   : 5.993690       Mean   :158263   Mean   :28.89   Mean   :417.7  \n",
              " 3rd Qu.: 9.019124       3rd Qu.:227749   3rd Qu.:34.32   3rd Qu.:612.0  \n",
              " Max.   :11.999313       Max.   :299954   Max.   :40.00   Max.   :800.0  \n",
              " Physical.Activity.Days.Per.Week Sleep.Hours.Per.Day   Country         \n",
              " Min.   :0.00                    Min.   : 4.000      Length:8763       \n",
              " 1st Qu.:2.00                    1st Qu.: 5.000      Class :character  \n",
              " Median :3.00                    Median : 7.000      Mode  :character  \n",
              " Mean   :3.49                    Mean   : 7.024                        \n",
              " 3rd Qu.:5.00                    3rd Qu.: 9.000                        \n",
              " Max.   :7.00                    Max.   :10.000                        \n",
              "  Continent          Hemisphere        Heart.Attack.Risk\n",
              " Length:8763        Length:8763        Min.   :0.0000   \n",
              " Class :character   Class :character   1st Qu.:0.0000   \n",
              " Mode  :character   Mode  :character   Median :0.0000   \n",
              "                                       Mean   :0.3582   \n",
              "                                       3rd Qu.:1.0000   \n",
              "                                       Max.   :1.0000   "
            ]
          },
          "metadata": {}
        }
      ]
    },
    {
      "cell_type": "code",
      "source": [
        "str(heart_data)"
      ],
      "metadata": {
        "colab": {
          "base_uri": "https://localhost:8080/"
        },
        "id": "S2r5HeQWVQEP",
        "outputId": "95eb8c20-0947-450b-c6d3-c83f799181be"
      },
      "execution_count": 21,
      "outputs": [
        {
          "output_type": "stream",
          "name": "stdout",
          "text": [
            "'data.frame':\t8763 obs. of  26 variables:\n",
            " $ Patient.ID                     : chr  \"BMW7812\" \"CZE1114\" \"BNI9906\" \"JLN3497\" ...\n",
            " $ Age                            : int  67 21 21 84 66 54 90 84 20 43 ...\n",
            " $ Sex                            : chr  \"Male\" \"Male\" \"Female\" \"Male\" ...\n",
            " $ Cholesterol                    : int  208 389 324 383 318 297 358 220 145 248 ...\n",
            " $ Blood.Pressure                 : chr  \"158/88\" \"165/93\" \"174/99\" \"163/100\" ...\n",
            " $ Heart.Rate                     : int  72 98 72 73 93 48 84 107 68 55 ...\n",
            " $ Diabetes                       : int  0 1 1 1 1 1 0 0 1 0 ...\n",
            " $ Family.History                 : int  0 1 0 1 1 1 0 0 0 1 ...\n",
            " $ Smoking                        : int  1 1 0 1 1 1 1 1 1 1 ...\n",
            " $ Obesity                        : int  0 1 0 0 1 0 0 1 1 1 ...\n",
            " $ Alcohol.Consumption            : int  0 1 0 1 0 1 1 1 0 1 ...\n",
            " $ Exercise.Hours.Per.Week        : num  4.17 1.81 2.08 9.83 5.8 ...\n",
            " $ Diet                           : chr  \"Average\" \"Unhealthy\" \"Healthy\" \"Average\" ...\n",
            " $ Previous.Heart.Problems        : int  0 1 1 1 1 1 0 0 0 0 ...\n",
            " $ Medication.Use                 : int  0 0 1 0 0 1 0 1 0 0 ...\n",
            " $ Stress.Level                   : int  9 1 9 9 6 2 7 4 5 4 ...\n",
            " $ Sedentary.Hours.Per.Day        : num  6.62 4.96 9.46 7.65 1.51 ...\n",
            " $ Income                         : int  261404 285768 235282 125640 160555 241339 190450 122093 25086 209703 ...\n",
            " $ BMI                            : num  31.3 27.2 28.2 36.5 21.8 ...\n",
            " $ Triglycerides                  : int  286 235 587 378 231 795 284 370 790 232 ...\n",
            " $ Physical.Activity.Days.Per.Week: int  0 1 4 3 1 5 4 6 7 7 ...\n",
            " $ Sleep.Hours.Per.Day            : int  6 7 4 4 5 10 10 7 4 7 ...\n",
            " $ Country                        : chr  \"Argentina\" \"Canada\" \"France\" \"Canada\" ...\n",
            " $ Continent                      : chr  \"South America\" \"North America\" \"Europe\" \"North America\" ...\n",
            " $ Hemisphere                     : chr  \"Southern Hemisphere\" \"Northern Hemisphere\" \"Northern Hemisphere\" \"Northern Hemisphere\" ...\n",
            " $ Heart.Attack.Risk              : int  0 0 0 0 0 1 1 1 0 0 ...\n"
          ]
        }
      ]
    },
    {
      "cell_type": "code",
      "source": [
        "install.packages(\"e1071\")"
      ],
      "metadata": {
        "colab": {
          "base_uri": "https://localhost:8080/"
        },
        "id": "5Gu-Gfj-VR3y",
        "outputId": "73bf238f-e18e-4199-c4e4-19772729d123"
      },
      "execution_count": 6,
      "outputs": [
        {
          "output_type": "stream",
          "name": "stderr",
          "text": [
            "Installing package into ‘/usr/local/lib/R/site-library’\n",
            "(as ‘lib’ is unspecified)\n",
            "\n",
            "also installing the dependency ‘proxy’\n",
            "\n",
            "\n"
          ]
        }
      ]
    },
    {
      "cell_type": "code",
      "source": [
        "install.packages(\"caret\")"
      ],
      "metadata": {
        "colab": {
          "base_uri": "https://localhost:8080/"
        },
        "id": "4PsG7KQlVdoi",
        "outputId": "489a45e6-9860-42af-90a5-0bc35ab35522"
      },
      "execution_count": 7,
      "outputs": [
        {
          "output_type": "stream",
          "name": "stderr",
          "text": [
            "Installing package into ‘/usr/local/lib/R/site-library’\n",
            "(as ‘lib’ is unspecified)\n",
            "\n",
            "also installing the dependencies ‘listenv’, ‘parallelly’, ‘future’, ‘globals’, ‘shape’, ‘future.apply’, ‘numDeriv’, ‘progressr’, ‘SQUAREM’, ‘diagram’, ‘lava’, ‘prodlim’, ‘iterators’, ‘Rcpp’, ‘clock’, ‘gower’, ‘hardhat’, ‘ipred’, ‘timeDate’, ‘foreach’, ‘ModelMetrics’, ‘plyr’, ‘pROC’, ‘recipes’, ‘reshape2’\n",
            "\n",
            "\n"
          ]
        }
      ]
    },
    {
      "cell_type": "code",
      "source": [
        "library(e1071)\n",
        "library(caret)"
      ],
      "metadata": {
        "colab": {
          "base_uri": "https://localhost:8080/"
        },
        "id": "aLGMV-gPVjqA",
        "outputId": "b4fa6a38-4e1f-4891-ba91-3fa7fb7a2bff"
      },
      "execution_count": 8,
      "outputs": [
        {
          "output_type": "stream",
          "name": "stderr",
          "text": [
            "Loading required package: ggplot2\n",
            "\n",
            "Loading required package: lattice\n",
            "\n"
          ]
        }
      ]
    },
    {
      "cell_type": "code",
      "source": [
        "heart_data <- subset(heart_data, select = -c(Patient.ID, Country, Continent, Income))"
      ],
      "metadata": {
        "id": "ZwWogSHqXD_0"
      },
      "execution_count": 22,
      "outputs": []
    },
    {
      "cell_type": "code",
      "source": [
        "str(heart_data)\n"
      ],
      "metadata": {
        "colab": {
          "base_uri": "https://localhost:8080/"
        },
        "id": "uAm6ZkgSYQZb",
        "outputId": "37c8372e-77b1-44f0-e2a8-b43ce6cbd41a"
      },
      "execution_count": 25,
      "outputs": [
        {
          "output_type": "stream",
          "name": "stdout",
          "text": [
            "'data.frame':\t8763 obs. of  22 variables:\n",
            " $ Age                            : int  67 21 21 84 66 54 90 84 20 43 ...\n",
            " $ Sex                            : chr  \"Male\" \"Male\" \"Female\" \"Male\" ...\n",
            " $ Cholesterol                    : int  208 389 324 383 318 297 358 220 145 248 ...\n",
            " $ Blood.Pressure                 : Factor w/ 3915 levels \"100/100\",\"100/102\",..: 2511 2816 3225 2690 3564 3124 117 1347 1891 2580 ...\n",
            " $ Heart.Rate                     : int  72 98 72 73 93 48 84 107 68 55 ...\n",
            " $ Diabetes                       : int  0 1 1 1 1 1 0 0 1 0 ...\n",
            " $ Family.History                 : int  0 1 0 1 1 1 0 0 0 1 ...\n",
            " $ Smoking                        : int  1 1 0 1 1 1 1 1 1 1 ...\n",
            " $ Obesity                        : int  0 1 0 0 1 0 0 1 1 1 ...\n",
            " $ Alcohol.Consumption            : int  0 1 0 1 0 1 1 1 0 1 ...\n",
            " $ Exercise.Hours.Per.Week        : num  4.17 1.81 2.08 9.83 5.8 ...\n",
            " $ Diet                           : chr  \"Average\" \"Unhealthy\" \"Healthy\" \"Average\" ...\n",
            " $ Previous.Heart.Problems        : int  0 1 1 1 1 1 0 0 0 0 ...\n",
            " $ Medication.Use                 : int  0 0 1 0 0 1 0 1 0 0 ...\n",
            " $ Stress.Level                   : int  9 1 9 9 6 2 7 4 5 4 ...\n",
            " $ Sedentary.Hours.Per.Day        : num  6.62 4.96 9.46 7.65 1.51 ...\n",
            " $ BMI                            : num  31.3 27.2 28.2 36.5 21.8 ...\n",
            " $ Triglycerides                  : int  286 235 587 378 231 795 284 370 790 232 ...\n",
            " $ Physical.Activity.Days.Per.Week: int  0 1 4 3 1 5 4 6 7 7 ...\n",
            " $ Sleep.Hours.Per.Day            : int  6 7 4 4 5 10 10 7 4 7 ...\n",
            " $ Hemisphere                     : chr  \"Southern Hemisphere\" \"Northern Hemisphere\" \"Northern Hemisphere\" \"Northern Hemisphere\" ...\n",
            " $ Heart.Attack.Risk              : int  0 0 0 0 0 1 1 1 0 0 ...\n"
          ]
        }
      ]
    },
    {
      "cell_type": "code",
      "source": [
        "heart_data$Blood.Pressure <- as.factor(heart_data$Blood.Pressure)"
      ],
      "metadata": {
        "id": "uwUX615gZXzo"
      },
      "execution_count": 24,
      "outputs": []
    },
    {
      "cell_type": "code",
      "source": [
        "sum(is.na(heart_data))"
      ],
      "metadata": {
        "colab": {
          "base_uri": "https://localhost:8080/",
          "height": 34
        },
        "id": "VFuEAh19ZXuI",
        "outputId": "5abf50b5-7de1-4b1f-fd9c-1c6f4184e97e"
      },
      "execution_count": 26,
      "outputs": [
        {
          "output_type": "display_data",
          "data": {
            "text/html": [
              "0"
            ],
            "text/markdown": "0",
            "text/latex": "0",
            "text/plain": [
              "[1] 0"
            ]
          },
          "metadata": {}
        }
      ]
    },
    {
      "cell_type": "code",
      "source": [],
      "metadata": {
        "id": "UfMroqKaZXq1"
      },
      "execution_count": 27,
      "outputs": []
    },
    {
      "cell_type": "code",
      "source": [
        "set.seed(123)"
      ],
      "metadata": {
        "id": "wxERv0lgYUWF"
      },
      "execution_count": 28,
      "outputs": []
    },
    {
      "cell_type": "code",
      "source": [
        "train_index <- createDataPartition(heart_data$Heart.Attack.Risk, p = 0.7, list = FALSE)\n",
        "train_data <- heart_data[train_index, ]\n",
        "test_data <- heart_data[-train_index, ]"
      ],
      "metadata": {
        "id": "Koe3GKwnbHo-"
      },
      "execution_count": 29,
      "outputs": []
    },
    {
      "cell_type": "code",
      "source": [
        "train_data"
      ],
      "metadata": {
        "colab": {
          "base_uri": "https://localhost:8080/",
          "height": 1000
        },
        "id": "1mifDrMrbJfZ",
        "outputId": "581215f0-a1a9-4a86-9212-0c8dbd1e03e0"
      },
      "execution_count": 30,
      "outputs": [
        {
          "output_type": "display_data",
          "data": {
            "text/html": [
              "<table class=\"dataframe\">\n",
              "<caption>A data.frame: 6135 × 22</caption>\n",
              "<thead>\n",
              "\t<tr><th></th><th scope=col>Age</th><th scope=col>Sex</th><th scope=col>Cholesterol</th><th scope=col>Blood.Pressure</th><th scope=col>Heart.Rate</th><th scope=col>Diabetes</th><th scope=col>Family.History</th><th scope=col>Smoking</th><th scope=col>Obesity</th><th scope=col>Alcohol.Consumption</th><th scope=col>⋯</th><th scope=col>Previous.Heart.Problems</th><th scope=col>Medication.Use</th><th scope=col>Stress.Level</th><th scope=col>Sedentary.Hours.Per.Day</th><th scope=col>BMI</th><th scope=col>Triglycerides</th><th scope=col>Physical.Activity.Days.Per.Week</th><th scope=col>Sleep.Hours.Per.Day</th><th scope=col>Hemisphere</th><th scope=col>Heart.Attack.Risk</th></tr>\n",
              "\t<tr><th></th><th scope=col>&lt;int&gt;</th><th scope=col>&lt;chr&gt;</th><th scope=col>&lt;int&gt;</th><th scope=col>&lt;fct&gt;</th><th scope=col>&lt;int&gt;</th><th scope=col>&lt;int&gt;</th><th scope=col>&lt;int&gt;</th><th scope=col>&lt;int&gt;</th><th scope=col>&lt;int&gt;</th><th scope=col>&lt;int&gt;</th><th scope=col>⋯</th><th scope=col>&lt;int&gt;</th><th scope=col>&lt;int&gt;</th><th scope=col>&lt;int&gt;</th><th scope=col>&lt;dbl&gt;</th><th scope=col>&lt;dbl&gt;</th><th scope=col>&lt;int&gt;</th><th scope=col>&lt;int&gt;</th><th scope=col>&lt;int&gt;</th><th scope=col>&lt;chr&gt;</th><th scope=col>&lt;int&gt;</th></tr>\n",
              "</thead>\n",
              "<tbody>\n",
              "\t<tr><th scope=row>1</th><td>67</td><td>Male  </td><td>208</td><td>158/88 </td><td> 72</td><td>0</td><td>0</td><td>1</td><td>0</td><td>0</td><td>⋯</td><td>0</td><td>0</td><td> 9</td><td> 6.6150015</td><td>31.25123</td><td>286</td><td>0</td><td> 6</td><td>Southern Hemisphere</td><td>0</td></tr>\n",
              "\t<tr><th scope=row>2</th><td>21</td><td>Male  </td><td>389</td><td>165/93 </td><td> 98</td><td>1</td><td>1</td><td>1</td><td>1</td><td>1</td><td>⋯</td><td>1</td><td>0</td><td> 1</td><td> 4.9634588</td><td>27.19497</td><td>235</td><td>1</td><td> 7</td><td>Northern Hemisphere</td><td>0</td></tr>\n",
              "\t<tr><th scope=row>5</th><td>66</td><td>Male  </td><td>318</td><td>91/88  </td><td> 93</td><td>1</td><td>1</td><td>1</td><td>1</td><td>0</td><td>⋯</td><td>1</td><td>0</td><td> 6</td><td> 1.5148209</td><td>21.80914</td><td>231</td><td>1</td><td> 5</td><td>Northern Hemisphere</td><td>0</td></tr>\n",
              "\t<tr><th scope=row>6</th><td>54</td><td>Female</td><td>297</td><td>172/86 </td><td> 48</td><td>1</td><td>1</td><td>1</td><td>0</td><td>1</td><td>⋯</td><td>1</td><td>1</td><td> 2</td><td> 7.7987524</td><td>20.14684</td><td>795</td><td>5</td><td>10</td><td>Northern Hemisphere</td><td>1</td></tr>\n",
              "\t<tr><th scope=row>9</th><td>20</td><td>Male  </td><td>145</td><td>144/105</td><td> 68</td><td>1</td><td>0</td><td>1</td><td>1</td><td>0</td><td>⋯</td><td>0</td><td>0</td><td> 5</td><td>11.3487869</td><td>35.80990</td><td>790</td><td>7</td><td> 4</td><td>Southern Hemisphere</td><td>0</td></tr>\n",
              "\t<tr><th scope=row>11</th><td>73</td><td>Female</td><td>373</td><td>107/69 </td><td> 97</td><td>1</td><td>1</td><td>1</td><td>0</td><td>1</td><td>⋯</td><td>1</td><td>1</td><td> 8</td><td> 8.9198792</td><td>22.86791</td><td>469</td><td>0</td><td> 4</td><td>Southern Hemisphere</td><td>0</td></tr>\n",
              "\t<tr><th scope=row>13</th><td>77</td><td>Male  </td><td>228</td><td>101/72 </td><td> 68</td><td>1</td><td>1</td><td>1</td><td>1</td><td>1</td><td>⋯</td><td>0</td><td>0</td><td> 9</td><td>10.9175243</td><td>35.10224</td><td>590</td><td>7</td><td> 6</td><td>Northern Hemisphere</td><td>1</td></tr>\n",
              "\t<tr><th scope=row>16</th><td>73</td><td>Male  </td><td>122</td><td>114/88 </td><td> 97</td><td>1</td><td>1</td><td>1</td><td>0</td><td>1</td><td>⋯</td><td>0</td><td>0</td><td> 5</td><td>10.0864790</td><td>36.52440</td><td>773</td><td>5</td><td> 8</td><td>Southern Hemisphere</td><td>1</td></tr>\n",
              "\t<tr><th scope=row>17</th><td>69</td><td>Male  </td><td>379</td><td>173/75 </td><td> 40</td><td>1</td><td>1</td><td>1</td><td>1</td><td>1</td><td>⋯</td><td>1</td><td>0</td><td> 5</td><td> 9.0605086</td><td>28.33275</td><td> 68</td><td>3</td><td> 6</td><td>Southern Hemisphere</td><td>0</td></tr>\n",
              "\t<tr><th scope=row>18</th><td>38</td><td>Male  </td><td>166</td><td>120/74 </td><td> 56</td><td>1</td><td>0</td><td>1</td><td>1</td><td>0</td><td>⋯</td><td>0</td><td>1</td><td> 9</td><td> 3.6607488</td><td>29.51739</td><td>402</td><td>0</td><td> 6</td><td>Northern Hemisphere</td><td>0</td></tr>\n",
              "\t<tr><th scope=row>20</th><td>60</td><td>Male  </td><td>145</td><td>160/98 </td><td> 71</td><td>1</td><td>0</td><td>1</td><td>0</td><td>1</td><td>⋯</td><td>1</td><td>0</td><td> 8</td><td> 5.9942279</td><td>29.16232</td><td>247</td><td>7</td><td> 7</td><td>Northern Hemisphere</td><td>0</td></tr>\n",
              "\t<tr><th scope=row>21</th><td>66</td><td>Male  </td><td>340</td><td>180/101</td><td> 69</td><td>1</td><td>0</td><td>1</td><td>1</td><td>0</td><td>⋯</td><td>1</td><td>1</td><td> 1</td><td> 6.2180692</td><td>38.08867</td><td>747</td><td>1</td><td>10</td><td>Northern Hemisphere</td><td>0</td></tr>\n",
              "\t<tr><th scope=row>23</th><td>50</td><td>Male  </td><td>359</td><td>175/60 </td><td> 97</td><td>0</td><td>1</td><td>1</td><td>0</td><td>1</td><td>⋯</td><td>1</td><td>0</td><td> 2</td><td> 4.0458313</td><td>34.65109</td><td>358</td><td>4</td><td> 8</td><td>Southern Hemisphere</td><td>0</td></tr>\n",
              "\t<tr><th scope=row>25</th><td>36</td><td>Male  </td><td>133</td><td>161/90 </td><td> 97</td><td>1</td><td>0</td><td>1</td><td>1</td><td>1</td><td>⋯</td><td>1</td><td>0</td><td>10</td><td>10.9635441</td><td>22.38680</td><td>605</td><td>5</td><td>10</td><td>Northern Hemisphere</td><td>0</td></tr>\n",
              "\t<tr><th scope=row>26</th><td>90</td><td>Male  </td><td>159</td><td>140/95 </td><td> 52</td><td>0</td><td>0</td><td>1</td><td>0</td><td>1</td><td>⋯</td><td>0</td><td>1</td><td> 2</td><td> 1.2165104</td><td>26.07203</td><td>667</td><td>4</td><td> 5</td><td>Southern Hemisphere</td><td>0</td></tr>\n",
              "\t<tr><th scope=row>27</th><td>48</td><td>Male  </td><td>271</td><td>148/105</td><td>105</td><td>0</td><td>1</td><td>1</td><td>0</td><td>1</td><td>⋯</td><td>1</td><td>0</td><td> 4</td><td> 8.4788954</td><td>21.58220</td><td>316</td><td>3</td><td> 8</td><td>Northern Hemisphere</td><td>0</td></tr>\n",
              "\t<tr><th scope=row>30</th><td>63</td><td>Male  </td><td>154</td><td>99/81  </td><td>102</td><td>1</td><td>0</td><td>1</td><td>1</td><td>0</td><td>⋯</td><td>1</td><td>1</td><td> 1</td><td> 7.2683845</td><td>39.27337</td><td>718</td><td>4</td><td>10</td><td>Northern Hemisphere</td><td>0</td></tr>\n",
              "\t<tr><th scope=row>31</th><td>27</td><td>Female</td><td>135</td><td>120/77 </td><td> 49</td><td>1</td><td>1</td><td>0</td><td>0</td><td>1</td><td>⋯</td><td>0</td><td>0</td><td> 6</td><td> 9.1203294</td><td>22.77886</td><td>297</td><td>1</td><td>10</td><td>Southern Hemisphere</td><td>1</td></tr>\n",
              "\t<tr><th scope=row>32</th><td>25</td><td>Male  </td><td>197</td><td>178/72 </td><td> 45</td><td>0</td><td>1</td><td>1</td><td>0</td><td>1</td><td>⋯</td><td>1</td><td>1</td><td> 1</td><td> 1.4198882</td><td>18.52220</td><td>661</td><td>0</td><td> 6</td><td>Southern Hemisphere</td><td>0</td></tr>\n",
              "\t<tr><th scope=row>35</th><td>42</td><td>Male  </td><td>360</td><td>103/107</td><td> 44</td><td>1</td><td>0</td><td>1</td><td>1</td><td>1</td><td>⋯</td><td>0</td><td>0</td><td> 5</td><td> 9.5809396</td><td>29.70188</td><td>586</td><td>1</td><td> 4</td><td>Northern Hemisphere</td><td>1</td></tr>\n",
              "\t<tr><th scope=row>36</th><td>52</td><td>Female</td><td>360</td><td>94/60  </td><td>106</td><td>1</td><td>0</td><td>1</td><td>1</td><td>0</td><td>⋯</td><td>0</td><td>0</td><td> 3</td><td> 7.6956395</td><td>27.09585</td><td>743</td><td>4</td><td> 5</td><td>Southern Hemisphere</td><td>1</td></tr>\n",
              "\t<tr><th scope=row>38</th><td>29</td><td>Female</td><td>201</td><td>134/60 </td><td> 86</td><td>0</td><td>0</td><td>0</td><td>1</td><td>1</td><td>⋯</td><td>1</td><td>0</td><td> 6</td><td>10.9655170</td><td>33.78768</td><td>785</td><td>0</td><td>10</td><td>Southern Hemisphere</td><td>0</td></tr>\n",
              "\t<tr><th scope=row>41</th><td>30</td><td>Female</td><td>135</td><td>104/96 </td><td>101</td><td>0</td><td>0</td><td>0</td><td>0</td><td>1</td><td>⋯</td><td>1</td><td>1</td><td> 8</td><td> 9.7503872</td><td>27.47436</td><td>519</td><td>1</td><td> 5</td><td>Southern Hemisphere</td><td>0</td></tr>\n",
              "\t<tr><th scope=row>44</th><td>44</td><td>Male  </td><td>121</td><td>115/109</td><td> 51</td><td>1</td><td>0</td><td>1</td><td>1</td><td>1</td><td>⋯</td><td>0</td><td>0</td><td> 7</td><td> 5.2589149</td><td>27.09419</td><td>158</td><td>4</td><td>10</td><td>Northern Hemisphere</td><td>1</td></tr>\n",
              "\t<tr><th scope=row>45</th><td>50</td><td>Male  </td><td>190</td><td>149/73 </td><td> 43</td><td>1</td><td>1</td><td>1</td><td>0</td><td>0</td><td>⋯</td><td>0</td><td>0</td><td> 5</td><td> 0.8709749</td><td>25.76903</td><td>679</td><td>7</td><td> 9</td><td>Northern Hemisphere</td><td>0</td></tr>\n",
              "\t<tr><th scope=row>49</th><td>85</td><td>Male  </td><td>336</td><td>114/92 </td><td> 73</td><td>1</td><td>1</td><td>1</td><td>0</td><td>1</td><td>⋯</td><td>0</td><td>1</td><td> 1</td><td>10.3821494</td><td>25.58301</td><td>584</td><td>7</td><td>10</td><td>Northern Hemisphere</td><td>0</td></tr>\n",
              "\t<tr><th scope=row>51</th><td>56</td><td>Male  </td><td>180</td><td>173/108</td><td> 94</td><td>1</td><td>1</td><td>1</td><td>1</td><td>1</td><td>⋯</td><td>1</td><td>0</td><td> 7</td><td> 5.8553396</td><td>18.29173</td><td>741</td><td>6</td><td> 7</td><td>Southern Hemisphere</td><td>0</td></tr>\n",
              "\t<tr><th scope=row>52</th><td>36</td><td>Male  </td><td>203</td><td>173/109</td><td>101</td><td>1</td><td>1</td><td>1</td><td>0</td><td>0</td><td>⋯</td><td>1</td><td>0</td><td> 8</td><td>10.8569953</td><td>28.00714</td><td>523</td><td>2</td><td> 6</td><td>Northern Hemisphere</td><td>1</td></tr>\n",
              "\t<tr><th scope=row>54</th><td>67</td><td>Male  </td><td>222</td><td>159/79 </td><td>105</td><td>1</td><td>1</td><td>1</td><td>1</td><td>0</td><td>⋯</td><td>1</td><td>1</td><td> 1</td><td> 0.8615397</td><td>37.25875</td><td> 92</td><td>0</td><td> 8</td><td>Southern Hemisphere</td><td>0</td></tr>\n",
              "\t<tr><th scope=row>55</th><td>31</td><td>Male  </td><td>243</td><td>100/80 </td><td> 92</td><td>1</td><td>1</td><td>1</td><td>1</td><td>1</td><td>⋯</td><td>0</td><td>1</td><td> 2</td><td> 7.2471669</td><td>30.99030</td><td>410</td><td>7</td><td> 9</td><td>Northern Hemisphere</td><td>0</td></tr>\n",
              "\t<tr><th scope=row>⋮</th><td>⋮</td><td>⋮</td><td>⋮</td><td>⋮</td><td>⋮</td><td>⋮</td><td>⋮</td><td>⋮</td><td>⋮</td><td>⋮</td><td>⋱</td><td>⋮</td><td>⋮</td><td>⋮</td><td>⋮</td><td>⋮</td><td>⋮</td><td>⋮</td><td>⋮</td><td>⋮</td><td>⋮</td></tr>\n",
              "\t<tr><th scope=row>8718</th><td>45</td><td>Female</td><td>368</td><td>180/94 </td><td> 87</td><td>1</td><td>0</td><td>1</td><td>1</td><td>1</td><td>⋯</td><td>0</td><td>0</td><td>10</td><td>10.12211162</td><td>39.67641</td><td>564</td><td>2</td><td> 5</td><td>Northern Hemisphere</td><td>0</td></tr>\n",
              "\t<tr><th scope=row>8720</th><td>81</td><td>Male  </td><td>234</td><td>99/60  </td><td>101</td><td>1</td><td>1</td><td>1</td><td>0</td><td>1</td><td>⋯</td><td>0</td><td>1</td><td>10</td><td> 9.87821465</td><td>20.34680</td><td>260</td><td>6</td><td> 5</td><td>Southern Hemisphere</td><td>0</td></tr>\n",
              "\t<tr><th scope=row>8721</th><td>31</td><td>Male  </td><td>322</td><td>174/63 </td><td> 59</td><td>1</td><td>1</td><td>1</td><td>0</td><td>1</td><td>⋯</td><td>1</td><td>0</td><td> 1</td><td> 1.74664133</td><td>37.32887</td><td>731</td><td>3</td><td>10</td><td>Northern Hemisphere</td><td>0</td></tr>\n",
              "\t<tr><th scope=row>8722</th><td>85</td><td>Male  </td><td>200</td><td>167/101</td><td> 65</td><td>1</td><td>1</td><td>1</td><td>1</td><td>1</td><td>⋯</td><td>1</td><td>0</td><td> 1</td><td> 5.68269942</td><td>31.12279</td><td>214</td><td>1</td><td>10</td><td>Northern Hemisphere</td><td>1</td></tr>\n",
              "\t<tr><th scope=row>8724</th><td>67</td><td>Male  </td><td>292</td><td>106/92 </td><td> 58</td><td>1</td><td>1</td><td>1</td><td>1</td><td>1</td><td>⋯</td><td>0</td><td>1</td><td> 4</td><td> 8.10958734</td><td>23.58313</td><td>334</td><td>2</td><td>10</td><td>Southern Hemisphere</td><td>0</td></tr>\n",
              "\t<tr><th scope=row>8726</th><td>55</td><td>Female</td><td>179</td><td>160/88 </td><td> 64</td><td>1</td><td>0</td><td>1</td><td>0</td><td>1</td><td>⋯</td><td>0</td><td>0</td><td> 2</td><td> 8.95824064</td><td>20.67309</td><td>171</td><td>7</td><td> 5</td><td>Northern Hemisphere</td><td>0</td></tr>\n",
              "\t<tr><th scope=row>8728</th><td>52</td><td>Female</td><td>286</td><td>148/100</td><td> 49</td><td>0</td><td>0</td><td>1</td><td>1</td><td>1</td><td>⋯</td><td>0</td><td>0</td><td> 4</td><td>11.66810951</td><td>28.44078</td><td>314</td><td>7</td><td> 5</td><td>Northern Hemisphere</td><td>0</td></tr>\n",
              "\t<tr><th scope=row>8732</th><td>28</td><td>Male  </td><td>207</td><td>166/103</td><td> 72</td><td>0</td><td>1</td><td>1</td><td>1</td><td>1</td><td>⋯</td><td>1</td><td>0</td><td> 5</td><td> 8.23787728</td><td>18.73269</td><td>161</td><td>4</td><td> 6</td><td>Southern Hemisphere</td><td>0</td></tr>\n",
              "\t<tr><th scope=row>8735</th><td>20</td><td>Female</td><td>323</td><td>99/84  </td><td> 70</td><td>0</td><td>1</td><td>0</td><td>1</td><td>0</td><td>⋯</td><td>0</td><td>0</td><td>10</td><td>11.45953419</td><td>28.93662</td><td>765</td><td>6</td><td> 8</td><td>Northern Hemisphere</td><td>0</td></tr>\n",
              "\t<tr><th scope=row>8736</th><td>43</td><td>Male  </td><td>128</td><td>107/105</td><td> 94</td><td>1</td><td>0</td><td>1</td><td>0</td><td>1</td><td>⋯</td><td>1</td><td>1</td><td> 3</td><td> 5.50201723</td><td>19.32122</td><td>526</td><td>0</td><td> 7</td><td>Northern Hemisphere</td><td>0</td></tr>\n",
              "\t<tr><th scope=row>8737</th><td>28</td><td>Male  </td><td>220</td><td>146/68 </td><td> 56</td><td>1</td><td>0</td><td>1</td><td>0</td><td>1</td><td>⋯</td><td>1</td><td>1</td><td>10</td><td> 1.11167152</td><td>35.23703</td><td> 31</td><td>6</td><td> 6</td><td>Southern Hemisphere</td><td>1</td></tr>\n",
              "\t<tr><th scope=row>8739</th><td>88</td><td>Male  </td><td>146</td><td>157/97 </td><td> 78</td><td>0</td><td>0</td><td>1</td><td>0</td><td>1</td><td>⋯</td><td>1</td><td>1</td><td> 7</td><td> 6.29101106</td><td>23.41885</td><td>446</td><td>6</td><td>10</td><td>Southern Hemisphere</td><td>0</td></tr>\n",
              "\t<tr><th scope=row>8740</th><td>74</td><td>Female</td><td>306</td><td>125/101</td><td> 84</td><td>0</td><td>0</td><td>1</td><td>1</td><td>0</td><td>⋯</td><td>0</td><td>1</td><td> 4</td><td> 2.98215736</td><td>21.27990</td><td>418</td><td>0</td><td> 5</td><td>Southern Hemisphere</td><td>1</td></tr>\n",
              "\t<tr><th scope=row>8741</th><td>59</td><td>Male  </td><td>148</td><td>149/76 </td><td>108</td><td>1</td><td>1</td><td>1</td><td>0</td><td>1</td><td>⋯</td><td>1</td><td>1</td><td> 6</td><td>11.58477492</td><td>26.33483</td><td>500</td><td>7</td><td> 6</td><td>Southern Hemisphere</td><td>0</td></tr>\n",
              "\t<tr><th scope=row>8743</th><td>35</td><td>Male  </td><td>323</td><td>164/74 </td><td> 84</td><td>1</td><td>0</td><td>1</td><td>0</td><td>0</td><td>⋯</td><td>1</td><td>0</td><td> 3</td><td>11.38951182</td><td>34.37813</td><td>761</td><td>5</td><td> 5</td><td>Southern Hemisphere</td><td>0</td></tr>\n",
              "\t<tr><th scope=row>8745</th><td>83</td><td>Male  </td><td>322</td><td>91/69  </td><td> 67</td><td>1</td><td>1</td><td>1</td><td>0</td><td>1</td><td>⋯</td><td>1</td><td>0</td><td> 5</td><td>11.15550463</td><td>28.87316</td><td>518</td><td>6</td><td> 6</td><td>Northern Hemisphere</td><td>1</td></tr>\n",
              "\t<tr><th scope=row>8746</th><td>80</td><td>Male  </td><td>144</td><td>176/82 </td><td> 57</td><td>1</td><td>1</td><td>1</td><td>0</td><td>1</td><td>⋯</td><td>0</td><td>1</td><td> 7</td><td> 2.55233229</td><td>25.00040</td><td> 59</td><td>2</td><td>10</td><td>Southern Hemisphere</td><td>1</td></tr>\n",
              "\t<tr><th scope=row>8747</th><td>62</td><td>Female</td><td>263</td><td>105/98 </td><td> 62</td><td>0</td><td>1</td><td>1</td><td>1</td><td>0</td><td>⋯</td><td>1</td><td>0</td><td> 6</td><td> 0.83796398</td><td>37.36441</td><td>512</td><td>3</td><td> 5</td><td>Southern Hemisphere</td><td>1</td></tr>\n",
              "\t<tr><th scope=row>8750</th><td>60</td><td>Male  </td><td>156</td><td>111/96 </td><td> 83</td><td>1</td><td>1</td><td>1</td><td>0</td><td>1</td><td>⋯</td><td>0</td><td>1</td><td>10</td><td> 6.18967348</td><td>26.60538</td><td>572</td><td>1</td><td>10</td><td>Southern Hemisphere</td><td>0</td></tr>\n",
              "\t<tr><th scope=row>8751</th><td>34</td><td>Female</td><td>304</td><td>102/92 </td><td> 93</td><td>0</td><td>1</td><td>0</td><td>1</td><td>1</td><td>⋯</td><td>0</td><td>0</td><td>10</td><td> 6.90003667</td><td>22.41849</td><td>791</td><td>4</td><td> 5</td><td>Northern Hemisphere</td><td>0</td></tr>\n",
              "\t<tr><th scope=row>8752</th><td>75</td><td>Male  </td><td>176</td><td>102/89 </td><td> 78</td><td>0</td><td>0</td><td>1</td><td>1</td><td>1</td><td>⋯</td><td>0</td><td>0</td><td> 3</td><td> 6.63498834</td><td>23.79328</td><td>748</td><td>5</td><td> 8</td><td>Southern Hemisphere</td><td>1</td></tr>\n",
              "\t<tr><th scope=row>8753</th><td>65</td><td>Male  </td><td>150</td><td>152/99 </td><td>106</td><td>1</td><td>0</td><td>1</td><td>0</td><td>1</td><td>⋯</td><td>1</td><td>0</td><td>10</td><td> 7.32535608</td><td>22.71055</td><td> 83</td><td>1</td><td> 5</td><td>Southern Hemisphere</td><td>0</td></tr>\n",
              "\t<tr><th scope=row>8754</th><td>82</td><td>Male  </td><td>311</td><td>126/108</td><td> 87</td><td>0</td><td>1</td><td>1</td><td>1</td><td>1</td><td>⋯</td><td>1</td><td>0</td><td> 7</td><td> 8.40297714</td><td>27.69424</td><td>515</td><td>1</td><td> 5</td><td>Southern Hemisphere</td><td>1</td></tr>\n",
              "\t<tr><th scope=row>8756</th><td>25</td><td>Male  </td><td>307</td><td>137/94 </td><td> 78</td><td>0</td><td>1</td><td>1</td><td>0</td><td>1</td><td>⋯</td><td>0</td><td>0</td><td> 3</td><td>10.51677451</td><td>33.46936</td><td>296</td><td>7</td><td> 5</td><td>Southern Hemisphere</td><td>0</td></tr>\n",
              "\t<tr><th scope=row>8757</th><td>22</td><td>Male  </td><td>347</td><td>115/87 </td><td>108</td><td>0</td><td>1</td><td>1</td><td>0</td><td>1</td><td>⋯</td><td>1</td><td>1</td><td> 1</td><td> 6.78675047</td><td>20.29505</td><td>641</td><td>2</td><td> 9</td><td>Northern Hemisphere</td><td>1</td></tr>\n",
              "\t<tr><th scope=row>8758</th><td>59</td><td>Female</td><td>378</td><td>93/78  </td><td> 99</td><td>0</td><td>1</td><td>1</td><td>1</td><td>0</td><td>⋯</td><td>0</td><td>0</td><td> 4</td><td> 7.49523056</td><td>39.97606</td><td>158</td><td>1</td><td> 9</td><td>Northern Hemisphere</td><td>0</td></tr>\n",
              "\t<tr><th scope=row>8759</th><td>60</td><td>Male  </td><td>121</td><td>94/76  </td><td> 61</td><td>1</td><td>1</td><td>1</td><td>0</td><td>1</td><td>⋯</td><td>1</td><td>1</td><td> 8</td><td>10.80637321</td><td>19.65589</td><td> 67</td><td>7</td><td> 7</td><td>Northern Hemisphere</td><td>0</td></tr>\n",
              "\t<tr><th scope=row>8761</th><td>47</td><td>Male  </td><td>250</td><td>161/75 </td><td>105</td><td>0</td><td>1</td><td>1</td><td>1</td><td>1</td><td>⋯</td><td>1</td><td>0</td><td> 5</td><td> 2.37521373</td><td>35.40615</td><td>527</td><td>4</td><td> 4</td><td>Southern Hemisphere</td><td>1</td></tr>\n",
              "\t<tr><th scope=row>8762</th><td>36</td><td>Male  </td><td>178</td><td>119/67 </td><td> 60</td><td>1</td><td>0</td><td>1</td><td>0</td><td>0</td><td>⋯</td><td>1</td><td>1</td><td> 5</td><td> 0.02910426</td><td>27.29402</td><td>114</td><td>2</td><td> 8</td><td>Southern Hemisphere</td><td>0</td></tr>\n",
              "\t<tr><th scope=row>8763</th><td>25</td><td>Female</td><td>356</td><td>138/67 </td><td> 75</td><td>1</td><td>1</td><td>0</td><td>0</td><td>1</td><td>⋯</td><td>0</td><td>0</td><td> 8</td><td> 9.00523438</td><td>32.91415</td><td>180</td><td>7</td><td> 4</td><td>Northern Hemisphere</td><td>1</td></tr>\n",
              "</tbody>\n",
              "</table>\n"
            ],
            "text/markdown": "\nA data.frame: 6135 × 22\n\n| <!--/--> | Age &lt;int&gt; | Sex &lt;chr&gt; | Cholesterol &lt;int&gt; | Blood.Pressure &lt;fct&gt; | Heart.Rate &lt;int&gt; | Diabetes &lt;int&gt; | Family.History &lt;int&gt; | Smoking &lt;int&gt; | Obesity &lt;int&gt; | Alcohol.Consumption &lt;int&gt; | ⋯ ⋯ | Previous.Heart.Problems &lt;int&gt; | Medication.Use &lt;int&gt; | Stress.Level &lt;int&gt; | Sedentary.Hours.Per.Day &lt;dbl&gt; | BMI &lt;dbl&gt; | Triglycerides &lt;int&gt; | Physical.Activity.Days.Per.Week &lt;int&gt; | Sleep.Hours.Per.Day &lt;int&gt; | Hemisphere &lt;chr&gt; | Heart.Attack.Risk &lt;int&gt; |\n|---|---|---|---|---|---|---|---|---|---|---|---|---|---|---|---|---|---|---|---|---|---|\n| 1 | 67 | Male   | 208 | 158/88  |  72 | 0 | 0 | 1 | 0 | 0 | ⋯ | 0 | 0 |  9 |  6.6150015 | 31.25123 | 286 | 0 |  6 | Southern Hemisphere | 0 |\n| 2 | 21 | Male   | 389 | 165/93  |  98 | 1 | 1 | 1 | 1 | 1 | ⋯ | 1 | 0 |  1 |  4.9634588 | 27.19497 | 235 | 1 |  7 | Northern Hemisphere | 0 |\n| 5 | 66 | Male   | 318 | 91/88   |  93 | 1 | 1 | 1 | 1 | 0 | ⋯ | 1 | 0 |  6 |  1.5148209 | 21.80914 | 231 | 1 |  5 | Northern Hemisphere | 0 |\n| 6 | 54 | Female | 297 | 172/86  |  48 | 1 | 1 | 1 | 0 | 1 | ⋯ | 1 | 1 |  2 |  7.7987524 | 20.14684 | 795 | 5 | 10 | Northern Hemisphere | 1 |\n| 9 | 20 | Male   | 145 | 144/105 |  68 | 1 | 0 | 1 | 1 | 0 | ⋯ | 0 | 0 |  5 | 11.3487869 | 35.80990 | 790 | 7 |  4 | Southern Hemisphere | 0 |\n| 11 | 73 | Female | 373 | 107/69  |  97 | 1 | 1 | 1 | 0 | 1 | ⋯ | 1 | 1 |  8 |  8.9198792 | 22.86791 | 469 | 0 |  4 | Southern Hemisphere | 0 |\n| 13 | 77 | Male   | 228 | 101/72  |  68 | 1 | 1 | 1 | 1 | 1 | ⋯ | 0 | 0 |  9 | 10.9175243 | 35.10224 | 590 | 7 |  6 | Northern Hemisphere | 1 |\n| 16 | 73 | Male   | 122 | 114/88  |  97 | 1 | 1 | 1 | 0 | 1 | ⋯ | 0 | 0 |  5 | 10.0864790 | 36.52440 | 773 | 5 |  8 | Southern Hemisphere | 1 |\n| 17 | 69 | Male   | 379 | 173/75  |  40 | 1 | 1 | 1 | 1 | 1 | ⋯ | 1 | 0 |  5 |  9.0605086 | 28.33275 |  68 | 3 |  6 | Southern Hemisphere | 0 |\n| 18 | 38 | Male   | 166 | 120/74  |  56 | 1 | 0 | 1 | 1 | 0 | ⋯ | 0 | 1 |  9 |  3.6607488 | 29.51739 | 402 | 0 |  6 | Northern Hemisphere | 0 |\n| 20 | 60 | Male   | 145 | 160/98  |  71 | 1 | 0 | 1 | 0 | 1 | ⋯ | 1 | 0 |  8 |  5.9942279 | 29.16232 | 247 | 7 |  7 | Northern Hemisphere | 0 |\n| 21 | 66 | Male   | 340 | 180/101 |  69 | 1 | 0 | 1 | 1 | 0 | ⋯ | 1 | 1 |  1 |  6.2180692 | 38.08867 | 747 | 1 | 10 | Northern Hemisphere | 0 |\n| 23 | 50 | Male   | 359 | 175/60  |  97 | 0 | 1 | 1 | 0 | 1 | ⋯ | 1 | 0 |  2 |  4.0458313 | 34.65109 | 358 | 4 |  8 | Southern Hemisphere | 0 |\n| 25 | 36 | Male   | 133 | 161/90  |  97 | 1 | 0 | 1 | 1 | 1 | ⋯ | 1 | 0 | 10 | 10.9635441 | 22.38680 | 605 | 5 | 10 | Northern Hemisphere | 0 |\n| 26 | 90 | Male   | 159 | 140/95  |  52 | 0 | 0 | 1 | 0 | 1 | ⋯ | 0 | 1 |  2 |  1.2165104 | 26.07203 | 667 | 4 |  5 | Southern Hemisphere | 0 |\n| 27 | 48 | Male   | 271 | 148/105 | 105 | 0 | 1 | 1 | 0 | 1 | ⋯ | 1 | 0 |  4 |  8.4788954 | 21.58220 | 316 | 3 |  8 | Northern Hemisphere | 0 |\n| 30 | 63 | Male   | 154 | 99/81   | 102 | 1 | 0 | 1 | 1 | 0 | ⋯ | 1 | 1 |  1 |  7.2683845 | 39.27337 | 718 | 4 | 10 | Northern Hemisphere | 0 |\n| 31 | 27 | Female | 135 | 120/77  |  49 | 1 | 1 | 0 | 0 | 1 | ⋯ | 0 | 0 |  6 |  9.1203294 | 22.77886 | 297 | 1 | 10 | Southern Hemisphere | 1 |\n| 32 | 25 | Male   | 197 | 178/72  |  45 | 0 | 1 | 1 | 0 | 1 | ⋯ | 1 | 1 |  1 |  1.4198882 | 18.52220 | 661 | 0 |  6 | Southern Hemisphere | 0 |\n| 35 | 42 | Male   | 360 | 103/107 |  44 | 1 | 0 | 1 | 1 | 1 | ⋯ | 0 | 0 |  5 |  9.5809396 | 29.70188 | 586 | 1 |  4 | Northern Hemisphere | 1 |\n| 36 | 52 | Female | 360 | 94/60   | 106 | 1 | 0 | 1 | 1 | 0 | ⋯ | 0 | 0 |  3 |  7.6956395 | 27.09585 | 743 | 4 |  5 | Southern Hemisphere | 1 |\n| 38 | 29 | Female | 201 | 134/60  |  86 | 0 | 0 | 0 | 1 | 1 | ⋯ | 1 | 0 |  6 | 10.9655170 | 33.78768 | 785 | 0 | 10 | Southern Hemisphere | 0 |\n| 41 | 30 | Female | 135 | 104/96  | 101 | 0 | 0 | 0 | 0 | 1 | ⋯ | 1 | 1 |  8 |  9.7503872 | 27.47436 | 519 | 1 |  5 | Southern Hemisphere | 0 |\n| 44 | 44 | Male   | 121 | 115/109 |  51 | 1 | 0 | 1 | 1 | 1 | ⋯ | 0 | 0 |  7 |  5.2589149 | 27.09419 | 158 | 4 | 10 | Northern Hemisphere | 1 |\n| 45 | 50 | Male   | 190 | 149/73  |  43 | 1 | 1 | 1 | 0 | 0 | ⋯ | 0 | 0 |  5 |  0.8709749 | 25.76903 | 679 | 7 |  9 | Northern Hemisphere | 0 |\n| 49 | 85 | Male   | 336 | 114/92  |  73 | 1 | 1 | 1 | 0 | 1 | ⋯ | 0 | 1 |  1 | 10.3821494 | 25.58301 | 584 | 7 | 10 | Northern Hemisphere | 0 |\n| 51 | 56 | Male   | 180 | 173/108 |  94 | 1 | 1 | 1 | 1 | 1 | ⋯ | 1 | 0 |  7 |  5.8553396 | 18.29173 | 741 | 6 |  7 | Southern Hemisphere | 0 |\n| 52 | 36 | Male   | 203 | 173/109 | 101 | 1 | 1 | 1 | 0 | 0 | ⋯ | 1 | 0 |  8 | 10.8569953 | 28.00714 | 523 | 2 |  6 | Northern Hemisphere | 1 |\n| 54 | 67 | Male   | 222 | 159/79  | 105 | 1 | 1 | 1 | 1 | 0 | ⋯ | 1 | 1 |  1 |  0.8615397 | 37.25875 |  92 | 0 |  8 | Southern Hemisphere | 0 |\n| 55 | 31 | Male   | 243 | 100/80  |  92 | 1 | 1 | 1 | 1 | 1 | ⋯ | 0 | 1 |  2 |  7.2471669 | 30.99030 | 410 | 7 |  9 | Northern Hemisphere | 0 |\n| ⋮ | ⋮ | ⋮ | ⋮ | ⋮ | ⋮ | ⋮ | ⋮ | ⋮ | ⋮ | ⋮ | ⋱ | ⋮ | ⋮ | ⋮ | ⋮ | ⋮ | ⋮ | ⋮ | ⋮ | ⋮ | ⋮ |\n| 8718 | 45 | Female | 368 | 180/94  |  87 | 1 | 0 | 1 | 1 | 1 | ⋯ | 0 | 0 | 10 | 10.12211162 | 39.67641 | 564 | 2 |  5 | Northern Hemisphere | 0 |\n| 8720 | 81 | Male   | 234 | 99/60   | 101 | 1 | 1 | 1 | 0 | 1 | ⋯ | 0 | 1 | 10 |  9.87821465 | 20.34680 | 260 | 6 |  5 | Southern Hemisphere | 0 |\n| 8721 | 31 | Male   | 322 | 174/63  |  59 | 1 | 1 | 1 | 0 | 1 | ⋯ | 1 | 0 |  1 |  1.74664133 | 37.32887 | 731 | 3 | 10 | Northern Hemisphere | 0 |\n| 8722 | 85 | Male   | 200 | 167/101 |  65 | 1 | 1 | 1 | 1 | 1 | ⋯ | 1 | 0 |  1 |  5.68269942 | 31.12279 | 214 | 1 | 10 | Northern Hemisphere | 1 |\n| 8724 | 67 | Male   | 292 | 106/92  |  58 | 1 | 1 | 1 | 1 | 1 | ⋯ | 0 | 1 |  4 |  8.10958734 | 23.58313 | 334 | 2 | 10 | Southern Hemisphere | 0 |\n| 8726 | 55 | Female | 179 | 160/88  |  64 | 1 | 0 | 1 | 0 | 1 | ⋯ | 0 | 0 |  2 |  8.95824064 | 20.67309 | 171 | 7 |  5 | Northern Hemisphere | 0 |\n| 8728 | 52 | Female | 286 | 148/100 |  49 | 0 | 0 | 1 | 1 | 1 | ⋯ | 0 | 0 |  4 | 11.66810951 | 28.44078 | 314 | 7 |  5 | Northern Hemisphere | 0 |\n| 8732 | 28 | Male   | 207 | 166/103 |  72 | 0 | 1 | 1 | 1 | 1 | ⋯ | 1 | 0 |  5 |  8.23787728 | 18.73269 | 161 | 4 |  6 | Southern Hemisphere | 0 |\n| 8735 | 20 | Female | 323 | 99/84   |  70 | 0 | 1 | 0 | 1 | 0 | ⋯ | 0 | 0 | 10 | 11.45953419 | 28.93662 | 765 | 6 |  8 | Northern Hemisphere | 0 |\n| 8736 | 43 | Male   | 128 | 107/105 |  94 | 1 | 0 | 1 | 0 | 1 | ⋯ | 1 | 1 |  3 |  5.50201723 | 19.32122 | 526 | 0 |  7 | Northern Hemisphere | 0 |\n| 8737 | 28 | Male   | 220 | 146/68  |  56 | 1 | 0 | 1 | 0 | 1 | ⋯ | 1 | 1 | 10 |  1.11167152 | 35.23703 |  31 | 6 |  6 | Southern Hemisphere | 1 |\n| 8739 | 88 | Male   | 146 | 157/97  |  78 | 0 | 0 | 1 | 0 | 1 | ⋯ | 1 | 1 |  7 |  6.29101106 | 23.41885 | 446 | 6 | 10 | Southern Hemisphere | 0 |\n| 8740 | 74 | Female | 306 | 125/101 |  84 | 0 | 0 | 1 | 1 | 0 | ⋯ | 0 | 1 |  4 |  2.98215736 | 21.27990 | 418 | 0 |  5 | Southern Hemisphere | 1 |\n| 8741 | 59 | Male   | 148 | 149/76  | 108 | 1 | 1 | 1 | 0 | 1 | ⋯ | 1 | 1 |  6 | 11.58477492 | 26.33483 | 500 | 7 |  6 | Southern Hemisphere | 0 |\n| 8743 | 35 | Male   | 323 | 164/74  |  84 | 1 | 0 | 1 | 0 | 0 | ⋯ | 1 | 0 |  3 | 11.38951182 | 34.37813 | 761 | 5 |  5 | Southern Hemisphere | 0 |\n| 8745 | 83 | Male   | 322 | 91/69   |  67 | 1 | 1 | 1 | 0 | 1 | ⋯ | 1 | 0 |  5 | 11.15550463 | 28.87316 | 518 | 6 |  6 | Northern Hemisphere | 1 |\n| 8746 | 80 | Male   | 144 | 176/82  |  57 | 1 | 1 | 1 | 0 | 1 | ⋯ | 0 | 1 |  7 |  2.55233229 | 25.00040 |  59 | 2 | 10 | Southern Hemisphere | 1 |\n| 8747 | 62 | Female | 263 | 105/98  |  62 | 0 | 1 | 1 | 1 | 0 | ⋯ | 1 | 0 |  6 |  0.83796398 | 37.36441 | 512 | 3 |  5 | Southern Hemisphere | 1 |\n| 8750 | 60 | Male   | 156 | 111/96  |  83 | 1 | 1 | 1 | 0 | 1 | ⋯ | 0 | 1 | 10 |  6.18967348 | 26.60538 | 572 | 1 | 10 | Southern Hemisphere | 0 |\n| 8751 | 34 | Female | 304 | 102/92  |  93 | 0 | 1 | 0 | 1 | 1 | ⋯ | 0 | 0 | 10 |  6.90003667 | 22.41849 | 791 | 4 |  5 | Northern Hemisphere | 0 |\n| 8752 | 75 | Male   | 176 | 102/89  |  78 | 0 | 0 | 1 | 1 | 1 | ⋯ | 0 | 0 |  3 |  6.63498834 | 23.79328 | 748 | 5 |  8 | Southern Hemisphere | 1 |\n| 8753 | 65 | Male   | 150 | 152/99  | 106 | 1 | 0 | 1 | 0 | 1 | ⋯ | 1 | 0 | 10 |  7.32535608 | 22.71055 |  83 | 1 |  5 | Southern Hemisphere | 0 |\n| 8754 | 82 | Male   | 311 | 126/108 |  87 | 0 | 1 | 1 | 1 | 1 | ⋯ | 1 | 0 |  7 |  8.40297714 | 27.69424 | 515 | 1 |  5 | Southern Hemisphere | 1 |\n| 8756 | 25 | Male   | 307 | 137/94  |  78 | 0 | 1 | 1 | 0 | 1 | ⋯ | 0 | 0 |  3 | 10.51677451 | 33.46936 | 296 | 7 |  5 | Southern Hemisphere | 0 |\n| 8757 | 22 | Male   | 347 | 115/87  | 108 | 0 | 1 | 1 | 0 | 1 | ⋯ | 1 | 1 |  1 |  6.78675047 | 20.29505 | 641 | 2 |  9 | Northern Hemisphere | 1 |\n| 8758 | 59 | Female | 378 | 93/78   |  99 | 0 | 1 | 1 | 1 | 0 | ⋯ | 0 | 0 |  4 |  7.49523056 | 39.97606 | 158 | 1 |  9 | Northern Hemisphere | 0 |\n| 8759 | 60 | Male   | 121 | 94/76   |  61 | 1 | 1 | 1 | 0 | 1 | ⋯ | 1 | 1 |  8 | 10.80637321 | 19.65589 |  67 | 7 |  7 | Northern Hemisphere | 0 |\n| 8761 | 47 | Male   | 250 | 161/75  | 105 | 0 | 1 | 1 | 1 | 1 | ⋯ | 1 | 0 |  5 |  2.37521373 | 35.40615 | 527 | 4 |  4 | Southern Hemisphere | 1 |\n| 8762 | 36 | Male   | 178 | 119/67  |  60 | 1 | 0 | 1 | 0 | 0 | ⋯ | 1 | 1 |  5 |  0.02910426 | 27.29402 | 114 | 2 |  8 | Southern Hemisphere | 0 |\n| 8763 | 25 | Female | 356 | 138/67  |  75 | 1 | 1 | 0 | 0 | 1 | ⋯ | 0 | 0 |  8 |  9.00523438 | 32.91415 | 180 | 7 |  4 | Northern Hemisphere | 1 |\n\n",
            "text/latex": "A data.frame: 6135 × 22\n\\begin{tabular}{r|lllllllllllllllllllll}\n  & Age & Sex & Cholesterol & Blood.Pressure & Heart.Rate & Diabetes & Family.History & Smoking & Obesity & Alcohol.Consumption & ⋯ & Previous.Heart.Problems & Medication.Use & Stress.Level & Sedentary.Hours.Per.Day & BMI & Triglycerides & Physical.Activity.Days.Per.Week & Sleep.Hours.Per.Day & Hemisphere & Heart.Attack.Risk\\\\\n  & <int> & <chr> & <int> & <fct> & <int> & <int> & <int> & <int> & <int> & <int> & ⋯ & <int> & <int> & <int> & <dbl> & <dbl> & <int> & <int> & <int> & <chr> & <int>\\\\\n\\hline\n\t1 & 67 & Male   & 208 & 158/88  &  72 & 0 & 0 & 1 & 0 & 0 & ⋯ & 0 & 0 &  9 &  6.6150015 & 31.25123 & 286 & 0 &  6 & Southern Hemisphere & 0\\\\\n\t2 & 21 & Male   & 389 & 165/93  &  98 & 1 & 1 & 1 & 1 & 1 & ⋯ & 1 & 0 &  1 &  4.9634588 & 27.19497 & 235 & 1 &  7 & Northern Hemisphere & 0\\\\\n\t5 & 66 & Male   & 318 & 91/88   &  93 & 1 & 1 & 1 & 1 & 0 & ⋯ & 1 & 0 &  6 &  1.5148209 & 21.80914 & 231 & 1 &  5 & Northern Hemisphere & 0\\\\\n\t6 & 54 & Female & 297 & 172/86  &  48 & 1 & 1 & 1 & 0 & 1 & ⋯ & 1 & 1 &  2 &  7.7987524 & 20.14684 & 795 & 5 & 10 & Northern Hemisphere & 1\\\\\n\t9 & 20 & Male   & 145 & 144/105 &  68 & 1 & 0 & 1 & 1 & 0 & ⋯ & 0 & 0 &  5 & 11.3487869 & 35.80990 & 790 & 7 &  4 & Southern Hemisphere & 0\\\\\n\t11 & 73 & Female & 373 & 107/69  &  97 & 1 & 1 & 1 & 0 & 1 & ⋯ & 1 & 1 &  8 &  8.9198792 & 22.86791 & 469 & 0 &  4 & Southern Hemisphere & 0\\\\\n\t13 & 77 & Male   & 228 & 101/72  &  68 & 1 & 1 & 1 & 1 & 1 & ⋯ & 0 & 0 &  9 & 10.9175243 & 35.10224 & 590 & 7 &  6 & Northern Hemisphere & 1\\\\\n\t16 & 73 & Male   & 122 & 114/88  &  97 & 1 & 1 & 1 & 0 & 1 & ⋯ & 0 & 0 &  5 & 10.0864790 & 36.52440 & 773 & 5 &  8 & Southern Hemisphere & 1\\\\\n\t17 & 69 & Male   & 379 & 173/75  &  40 & 1 & 1 & 1 & 1 & 1 & ⋯ & 1 & 0 &  5 &  9.0605086 & 28.33275 &  68 & 3 &  6 & Southern Hemisphere & 0\\\\\n\t18 & 38 & Male   & 166 & 120/74  &  56 & 1 & 0 & 1 & 1 & 0 & ⋯ & 0 & 1 &  9 &  3.6607488 & 29.51739 & 402 & 0 &  6 & Northern Hemisphere & 0\\\\\n\t20 & 60 & Male   & 145 & 160/98  &  71 & 1 & 0 & 1 & 0 & 1 & ⋯ & 1 & 0 &  8 &  5.9942279 & 29.16232 & 247 & 7 &  7 & Northern Hemisphere & 0\\\\\n\t21 & 66 & Male   & 340 & 180/101 &  69 & 1 & 0 & 1 & 1 & 0 & ⋯ & 1 & 1 &  1 &  6.2180692 & 38.08867 & 747 & 1 & 10 & Northern Hemisphere & 0\\\\\n\t23 & 50 & Male   & 359 & 175/60  &  97 & 0 & 1 & 1 & 0 & 1 & ⋯ & 1 & 0 &  2 &  4.0458313 & 34.65109 & 358 & 4 &  8 & Southern Hemisphere & 0\\\\\n\t25 & 36 & Male   & 133 & 161/90  &  97 & 1 & 0 & 1 & 1 & 1 & ⋯ & 1 & 0 & 10 & 10.9635441 & 22.38680 & 605 & 5 & 10 & Northern Hemisphere & 0\\\\\n\t26 & 90 & Male   & 159 & 140/95  &  52 & 0 & 0 & 1 & 0 & 1 & ⋯ & 0 & 1 &  2 &  1.2165104 & 26.07203 & 667 & 4 &  5 & Southern Hemisphere & 0\\\\\n\t27 & 48 & Male   & 271 & 148/105 & 105 & 0 & 1 & 1 & 0 & 1 & ⋯ & 1 & 0 &  4 &  8.4788954 & 21.58220 & 316 & 3 &  8 & Northern Hemisphere & 0\\\\\n\t30 & 63 & Male   & 154 & 99/81   & 102 & 1 & 0 & 1 & 1 & 0 & ⋯ & 1 & 1 &  1 &  7.2683845 & 39.27337 & 718 & 4 & 10 & Northern Hemisphere & 0\\\\\n\t31 & 27 & Female & 135 & 120/77  &  49 & 1 & 1 & 0 & 0 & 1 & ⋯ & 0 & 0 &  6 &  9.1203294 & 22.77886 & 297 & 1 & 10 & Southern Hemisphere & 1\\\\\n\t32 & 25 & Male   & 197 & 178/72  &  45 & 0 & 1 & 1 & 0 & 1 & ⋯ & 1 & 1 &  1 &  1.4198882 & 18.52220 & 661 & 0 &  6 & Southern Hemisphere & 0\\\\\n\t35 & 42 & Male   & 360 & 103/107 &  44 & 1 & 0 & 1 & 1 & 1 & ⋯ & 0 & 0 &  5 &  9.5809396 & 29.70188 & 586 & 1 &  4 & Northern Hemisphere & 1\\\\\n\t36 & 52 & Female & 360 & 94/60   & 106 & 1 & 0 & 1 & 1 & 0 & ⋯ & 0 & 0 &  3 &  7.6956395 & 27.09585 & 743 & 4 &  5 & Southern Hemisphere & 1\\\\\n\t38 & 29 & Female & 201 & 134/60  &  86 & 0 & 0 & 0 & 1 & 1 & ⋯ & 1 & 0 &  6 & 10.9655170 & 33.78768 & 785 & 0 & 10 & Southern Hemisphere & 0\\\\\n\t41 & 30 & Female & 135 & 104/96  & 101 & 0 & 0 & 0 & 0 & 1 & ⋯ & 1 & 1 &  8 &  9.7503872 & 27.47436 & 519 & 1 &  5 & Southern Hemisphere & 0\\\\\n\t44 & 44 & Male   & 121 & 115/109 &  51 & 1 & 0 & 1 & 1 & 1 & ⋯ & 0 & 0 &  7 &  5.2589149 & 27.09419 & 158 & 4 & 10 & Northern Hemisphere & 1\\\\\n\t45 & 50 & Male   & 190 & 149/73  &  43 & 1 & 1 & 1 & 0 & 0 & ⋯ & 0 & 0 &  5 &  0.8709749 & 25.76903 & 679 & 7 &  9 & Northern Hemisphere & 0\\\\\n\t49 & 85 & Male   & 336 & 114/92  &  73 & 1 & 1 & 1 & 0 & 1 & ⋯ & 0 & 1 &  1 & 10.3821494 & 25.58301 & 584 & 7 & 10 & Northern Hemisphere & 0\\\\\n\t51 & 56 & Male   & 180 & 173/108 &  94 & 1 & 1 & 1 & 1 & 1 & ⋯ & 1 & 0 &  7 &  5.8553396 & 18.29173 & 741 & 6 &  7 & Southern Hemisphere & 0\\\\\n\t52 & 36 & Male   & 203 & 173/109 & 101 & 1 & 1 & 1 & 0 & 0 & ⋯ & 1 & 0 &  8 & 10.8569953 & 28.00714 & 523 & 2 &  6 & Northern Hemisphere & 1\\\\\n\t54 & 67 & Male   & 222 & 159/79  & 105 & 1 & 1 & 1 & 1 & 0 & ⋯ & 1 & 1 &  1 &  0.8615397 & 37.25875 &  92 & 0 &  8 & Southern Hemisphere & 0\\\\\n\t55 & 31 & Male   & 243 & 100/80  &  92 & 1 & 1 & 1 & 1 & 1 & ⋯ & 0 & 1 &  2 &  7.2471669 & 30.99030 & 410 & 7 &  9 & Northern Hemisphere & 0\\\\\n\t⋮ & ⋮ & ⋮ & ⋮ & ⋮ & ⋮ & ⋮ & ⋮ & ⋮ & ⋮ & ⋮ & ⋱ & ⋮ & ⋮ & ⋮ & ⋮ & ⋮ & ⋮ & ⋮ & ⋮ & ⋮ & ⋮\\\\\n\t8718 & 45 & Female & 368 & 180/94  &  87 & 1 & 0 & 1 & 1 & 1 & ⋯ & 0 & 0 & 10 & 10.12211162 & 39.67641 & 564 & 2 &  5 & Northern Hemisphere & 0\\\\\n\t8720 & 81 & Male   & 234 & 99/60   & 101 & 1 & 1 & 1 & 0 & 1 & ⋯ & 0 & 1 & 10 &  9.87821465 & 20.34680 & 260 & 6 &  5 & Southern Hemisphere & 0\\\\\n\t8721 & 31 & Male   & 322 & 174/63  &  59 & 1 & 1 & 1 & 0 & 1 & ⋯ & 1 & 0 &  1 &  1.74664133 & 37.32887 & 731 & 3 & 10 & Northern Hemisphere & 0\\\\\n\t8722 & 85 & Male   & 200 & 167/101 &  65 & 1 & 1 & 1 & 1 & 1 & ⋯ & 1 & 0 &  1 &  5.68269942 & 31.12279 & 214 & 1 & 10 & Northern Hemisphere & 1\\\\\n\t8724 & 67 & Male   & 292 & 106/92  &  58 & 1 & 1 & 1 & 1 & 1 & ⋯ & 0 & 1 &  4 &  8.10958734 & 23.58313 & 334 & 2 & 10 & Southern Hemisphere & 0\\\\\n\t8726 & 55 & Female & 179 & 160/88  &  64 & 1 & 0 & 1 & 0 & 1 & ⋯ & 0 & 0 &  2 &  8.95824064 & 20.67309 & 171 & 7 &  5 & Northern Hemisphere & 0\\\\\n\t8728 & 52 & Female & 286 & 148/100 &  49 & 0 & 0 & 1 & 1 & 1 & ⋯ & 0 & 0 &  4 & 11.66810951 & 28.44078 & 314 & 7 &  5 & Northern Hemisphere & 0\\\\\n\t8732 & 28 & Male   & 207 & 166/103 &  72 & 0 & 1 & 1 & 1 & 1 & ⋯ & 1 & 0 &  5 &  8.23787728 & 18.73269 & 161 & 4 &  6 & Southern Hemisphere & 0\\\\\n\t8735 & 20 & Female & 323 & 99/84   &  70 & 0 & 1 & 0 & 1 & 0 & ⋯ & 0 & 0 & 10 & 11.45953419 & 28.93662 & 765 & 6 &  8 & Northern Hemisphere & 0\\\\\n\t8736 & 43 & Male   & 128 & 107/105 &  94 & 1 & 0 & 1 & 0 & 1 & ⋯ & 1 & 1 &  3 &  5.50201723 & 19.32122 & 526 & 0 &  7 & Northern Hemisphere & 0\\\\\n\t8737 & 28 & Male   & 220 & 146/68  &  56 & 1 & 0 & 1 & 0 & 1 & ⋯ & 1 & 1 & 10 &  1.11167152 & 35.23703 &  31 & 6 &  6 & Southern Hemisphere & 1\\\\\n\t8739 & 88 & Male   & 146 & 157/97  &  78 & 0 & 0 & 1 & 0 & 1 & ⋯ & 1 & 1 &  7 &  6.29101106 & 23.41885 & 446 & 6 & 10 & Southern Hemisphere & 0\\\\\n\t8740 & 74 & Female & 306 & 125/101 &  84 & 0 & 0 & 1 & 1 & 0 & ⋯ & 0 & 1 &  4 &  2.98215736 & 21.27990 & 418 & 0 &  5 & Southern Hemisphere & 1\\\\\n\t8741 & 59 & Male   & 148 & 149/76  & 108 & 1 & 1 & 1 & 0 & 1 & ⋯ & 1 & 1 &  6 & 11.58477492 & 26.33483 & 500 & 7 &  6 & Southern Hemisphere & 0\\\\\n\t8743 & 35 & Male   & 323 & 164/74  &  84 & 1 & 0 & 1 & 0 & 0 & ⋯ & 1 & 0 &  3 & 11.38951182 & 34.37813 & 761 & 5 &  5 & Southern Hemisphere & 0\\\\\n\t8745 & 83 & Male   & 322 & 91/69   &  67 & 1 & 1 & 1 & 0 & 1 & ⋯ & 1 & 0 &  5 & 11.15550463 & 28.87316 & 518 & 6 &  6 & Northern Hemisphere & 1\\\\\n\t8746 & 80 & Male   & 144 & 176/82  &  57 & 1 & 1 & 1 & 0 & 1 & ⋯ & 0 & 1 &  7 &  2.55233229 & 25.00040 &  59 & 2 & 10 & Southern Hemisphere & 1\\\\\n\t8747 & 62 & Female & 263 & 105/98  &  62 & 0 & 1 & 1 & 1 & 0 & ⋯ & 1 & 0 &  6 &  0.83796398 & 37.36441 & 512 & 3 &  5 & Southern Hemisphere & 1\\\\\n\t8750 & 60 & Male   & 156 & 111/96  &  83 & 1 & 1 & 1 & 0 & 1 & ⋯ & 0 & 1 & 10 &  6.18967348 & 26.60538 & 572 & 1 & 10 & Southern Hemisphere & 0\\\\\n\t8751 & 34 & Female & 304 & 102/92  &  93 & 0 & 1 & 0 & 1 & 1 & ⋯ & 0 & 0 & 10 &  6.90003667 & 22.41849 & 791 & 4 &  5 & Northern Hemisphere & 0\\\\\n\t8752 & 75 & Male   & 176 & 102/89  &  78 & 0 & 0 & 1 & 1 & 1 & ⋯ & 0 & 0 &  3 &  6.63498834 & 23.79328 & 748 & 5 &  8 & Southern Hemisphere & 1\\\\\n\t8753 & 65 & Male   & 150 & 152/99  & 106 & 1 & 0 & 1 & 0 & 1 & ⋯ & 1 & 0 & 10 &  7.32535608 & 22.71055 &  83 & 1 &  5 & Southern Hemisphere & 0\\\\\n\t8754 & 82 & Male   & 311 & 126/108 &  87 & 0 & 1 & 1 & 1 & 1 & ⋯ & 1 & 0 &  7 &  8.40297714 & 27.69424 & 515 & 1 &  5 & Southern Hemisphere & 1\\\\\n\t8756 & 25 & Male   & 307 & 137/94  &  78 & 0 & 1 & 1 & 0 & 1 & ⋯ & 0 & 0 &  3 & 10.51677451 & 33.46936 & 296 & 7 &  5 & Southern Hemisphere & 0\\\\\n\t8757 & 22 & Male   & 347 & 115/87  & 108 & 0 & 1 & 1 & 0 & 1 & ⋯ & 1 & 1 &  1 &  6.78675047 & 20.29505 & 641 & 2 &  9 & Northern Hemisphere & 1\\\\\n\t8758 & 59 & Female & 378 & 93/78   &  99 & 0 & 1 & 1 & 1 & 0 & ⋯ & 0 & 0 &  4 &  7.49523056 & 39.97606 & 158 & 1 &  9 & Northern Hemisphere & 0\\\\\n\t8759 & 60 & Male   & 121 & 94/76   &  61 & 1 & 1 & 1 & 0 & 1 & ⋯ & 1 & 1 &  8 & 10.80637321 & 19.65589 &  67 & 7 &  7 & Northern Hemisphere & 0\\\\\n\t8761 & 47 & Male   & 250 & 161/75  & 105 & 0 & 1 & 1 & 1 & 1 & ⋯ & 1 & 0 &  5 &  2.37521373 & 35.40615 & 527 & 4 &  4 & Southern Hemisphere & 1\\\\\n\t8762 & 36 & Male   & 178 & 119/67  &  60 & 1 & 0 & 1 & 0 & 0 & ⋯ & 1 & 1 &  5 &  0.02910426 & 27.29402 & 114 & 2 &  8 & Southern Hemisphere & 0\\\\\n\t8763 & 25 & Female & 356 & 138/67  &  75 & 1 & 1 & 0 & 0 & 1 & ⋯ & 0 & 0 &  8 &  9.00523438 & 32.91415 & 180 & 7 &  4 & Northern Hemisphere & 1\\\\\n\\end{tabular}\n",
            "text/plain": [
              "     Age Sex    Cholesterol Blood.Pressure Heart.Rate Diabetes Family.History\n",
              "1    67  Male   208         158/88          72        0        0             \n",
              "2    21  Male   389         165/93          98        1        1             \n",
              "5    66  Male   318         91/88           93        1        1             \n",
              "6    54  Female 297         172/86          48        1        1             \n",
              "9    20  Male   145         144/105         68        1        0             \n",
              "11   73  Female 373         107/69          97        1        1             \n",
              "13   77  Male   228         101/72          68        1        1             \n",
              "16   73  Male   122         114/88          97        1        1             \n",
              "17   69  Male   379         173/75          40        1        1             \n",
              "18   38  Male   166         120/74          56        1        0             \n",
              "20   60  Male   145         160/98          71        1        0             \n",
              "21   66  Male   340         180/101         69        1        0             \n",
              "23   50  Male   359         175/60          97        0        1             \n",
              "25   36  Male   133         161/90          97        1        0             \n",
              "26   90  Male   159         140/95          52        0        0             \n",
              "27   48  Male   271         148/105        105        0        1             \n",
              "30   63  Male   154         99/81          102        1        0             \n",
              "31   27  Female 135         120/77          49        1        1             \n",
              "32   25  Male   197         178/72          45        0        1             \n",
              "35   42  Male   360         103/107         44        1        0             \n",
              "36   52  Female 360         94/60          106        1        0             \n",
              "38   29  Female 201         134/60          86        0        0             \n",
              "41   30  Female 135         104/96         101        0        0             \n",
              "44   44  Male   121         115/109         51        1        0             \n",
              "45   50  Male   190         149/73          43        1        1             \n",
              "49   85  Male   336         114/92          73        1        1             \n",
              "51   56  Male   180         173/108         94        1        1             \n",
              "52   36  Male   203         173/109        101        1        1             \n",
              "54   67  Male   222         159/79         105        1        1             \n",
              "55   31  Male   243         100/80          92        1        1             \n",
              "⋮    ⋮   ⋮      ⋮           ⋮              ⋮          ⋮        ⋮             \n",
              "8718 45  Female 368         180/94          87        1        0             \n",
              "8720 81  Male   234         99/60          101        1        1             \n",
              "8721 31  Male   322         174/63          59        1        1             \n",
              "8722 85  Male   200         167/101         65        1        1             \n",
              "8724 67  Male   292         106/92          58        1        1             \n",
              "8726 55  Female 179         160/88          64        1        0             \n",
              "8728 52  Female 286         148/100         49        0        0             \n",
              "8732 28  Male   207         166/103         72        0        1             \n",
              "8735 20  Female 323         99/84           70        0        1             \n",
              "8736 43  Male   128         107/105         94        1        0             \n",
              "8737 28  Male   220         146/68          56        1        0             \n",
              "8739 88  Male   146         157/97          78        0        0             \n",
              "8740 74  Female 306         125/101         84        0        0             \n",
              "8741 59  Male   148         149/76         108        1        1             \n",
              "8743 35  Male   323         164/74          84        1        0             \n",
              "8745 83  Male   322         91/69           67        1        1             \n",
              "8746 80  Male   144         176/82          57        1        1             \n",
              "8747 62  Female 263         105/98          62        0        1             \n",
              "8750 60  Male   156         111/96          83        1        1             \n",
              "8751 34  Female 304         102/92          93        0        1             \n",
              "8752 75  Male   176         102/89          78        0        0             \n",
              "8753 65  Male   150         152/99         106        1        0             \n",
              "8754 82  Male   311         126/108         87        0        1             \n",
              "8756 25  Male   307         137/94          78        0        1             \n",
              "8757 22  Male   347         115/87         108        0        1             \n",
              "8758 59  Female 378         93/78           99        0        1             \n",
              "8759 60  Male   121         94/76           61        1        1             \n",
              "8761 47  Male   250         161/75         105        0        1             \n",
              "8762 36  Male   178         119/67          60        1        0             \n",
              "8763 25  Female 356         138/67          75        1        1             \n",
              "     Smoking Obesity Alcohol.Consumption ⋯ Previous.Heart.Problems\n",
              "1    1       0       0                   ⋯ 0                      \n",
              "2    1       1       1                   ⋯ 1                      \n",
              "5    1       1       0                   ⋯ 1                      \n",
              "6    1       0       1                   ⋯ 1                      \n",
              "9    1       1       0                   ⋯ 0                      \n",
              "11   1       0       1                   ⋯ 1                      \n",
              "13   1       1       1                   ⋯ 0                      \n",
              "16   1       0       1                   ⋯ 0                      \n",
              "17   1       1       1                   ⋯ 1                      \n",
              "18   1       1       0                   ⋯ 0                      \n",
              "20   1       0       1                   ⋯ 1                      \n",
              "21   1       1       0                   ⋯ 1                      \n",
              "23   1       0       1                   ⋯ 1                      \n",
              "25   1       1       1                   ⋯ 1                      \n",
              "26   1       0       1                   ⋯ 0                      \n",
              "27   1       0       1                   ⋯ 1                      \n",
              "30   1       1       0                   ⋯ 1                      \n",
              "31   0       0       1                   ⋯ 0                      \n",
              "32   1       0       1                   ⋯ 1                      \n",
              "35   1       1       1                   ⋯ 0                      \n",
              "36   1       1       0                   ⋯ 0                      \n",
              "38   0       1       1                   ⋯ 1                      \n",
              "41   0       0       1                   ⋯ 1                      \n",
              "44   1       1       1                   ⋯ 0                      \n",
              "45   1       0       0                   ⋯ 0                      \n",
              "49   1       0       1                   ⋯ 0                      \n",
              "51   1       1       1                   ⋯ 1                      \n",
              "52   1       0       0                   ⋯ 1                      \n",
              "54   1       1       0                   ⋯ 1                      \n",
              "55   1       1       1                   ⋯ 0                      \n",
              "⋮    ⋮       ⋮       ⋮                   ⋱ ⋮                      \n",
              "8718 1       1       1                   ⋯ 0                      \n",
              "8720 1       0       1                   ⋯ 0                      \n",
              "8721 1       0       1                   ⋯ 1                      \n",
              "8722 1       1       1                   ⋯ 1                      \n",
              "8724 1       1       1                   ⋯ 0                      \n",
              "8726 1       0       1                   ⋯ 0                      \n",
              "8728 1       1       1                   ⋯ 0                      \n",
              "8732 1       1       1                   ⋯ 1                      \n",
              "8735 0       1       0                   ⋯ 0                      \n",
              "8736 1       0       1                   ⋯ 1                      \n",
              "8737 1       0       1                   ⋯ 1                      \n",
              "8739 1       0       1                   ⋯ 1                      \n",
              "8740 1       1       0                   ⋯ 0                      \n",
              "8741 1       0       1                   ⋯ 1                      \n",
              "8743 1       0       0                   ⋯ 1                      \n",
              "8745 1       0       1                   ⋯ 1                      \n",
              "8746 1       0       1                   ⋯ 0                      \n",
              "8747 1       1       0                   ⋯ 1                      \n",
              "8750 1       0       1                   ⋯ 0                      \n",
              "8751 0       1       1                   ⋯ 0                      \n",
              "8752 1       1       1                   ⋯ 0                      \n",
              "8753 1       0       1                   ⋯ 1                      \n",
              "8754 1       1       1                   ⋯ 1                      \n",
              "8756 1       0       1                   ⋯ 0                      \n",
              "8757 1       0       1                   ⋯ 1                      \n",
              "8758 1       1       0                   ⋯ 0                      \n",
              "8759 1       0       1                   ⋯ 1                      \n",
              "8761 1       1       1                   ⋯ 1                      \n",
              "8762 1       0       0                   ⋯ 1                      \n",
              "8763 0       0       1                   ⋯ 0                      \n",
              "     Medication.Use Stress.Level Sedentary.Hours.Per.Day BMI      Triglycerides\n",
              "1    0               9            6.6150015              31.25123 286          \n",
              "2    0               1            4.9634588              27.19497 235          \n",
              "5    0               6            1.5148209              21.80914 231          \n",
              "6    1               2            7.7987524              20.14684 795          \n",
              "9    0               5           11.3487869              35.80990 790          \n",
              "11   1               8            8.9198792              22.86791 469          \n",
              "13   0               9           10.9175243              35.10224 590          \n",
              "16   0               5           10.0864790              36.52440 773          \n",
              "17   0               5            9.0605086              28.33275  68          \n",
              "18   1               9            3.6607488              29.51739 402          \n",
              "20   0               8            5.9942279              29.16232 247          \n",
              "21   1               1            6.2180692              38.08867 747          \n",
              "23   0               2            4.0458313              34.65109 358          \n",
              "25   0              10           10.9635441              22.38680 605          \n",
              "26   1               2            1.2165104              26.07203 667          \n",
              "27   0               4            8.4788954              21.58220 316          \n",
              "30   1               1            7.2683845              39.27337 718          \n",
              "31   0               6            9.1203294              22.77886 297          \n",
              "32   1               1            1.4198882              18.52220 661          \n",
              "35   0               5            9.5809396              29.70188 586          \n",
              "36   0               3            7.6956395              27.09585 743          \n",
              "38   0               6           10.9655170              33.78768 785          \n",
              "41   1               8            9.7503872              27.47436 519          \n",
              "44   0               7            5.2589149              27.09419 158          \n",
              "45   0               5            0.8709749              25.76903 679          \n",
              "49   1               1           10.3821494              25.58301 584          \n",
              "51   0               7            5.8553396              18.29173 741          \n",
              "52   0               8           10.8569953              28.00714 523          \n",
              "54   1               1            0.8615397              37.25875  92          \n",
              "55   1               2            7.2471669              30.99030 410          \n",
              "⋮    ⋮              ⋮            ⋮                       ⋮        ⋮            \n",
              "8718 0              10           10.12211162             39.67641 564          \n",
              "8720 1              10            9.87821465             20.34680 260          \n",
              "8721 0               1            1.74664133             37.32887 731          \n",
              "8722 0               1            5.68269942             31.12279 214          \n",
              "8724 1               4            8.10958734             23.58313 334          \n",
              "8726 0               2            8.95824064             20.67309 171          \n",
              "8728 0               4           11.66810951             28.44078 314          \n",
              "8732 0               5            8.23787728             18.73269 161          \n",
              "8735 0              10           11.45953419             28.93662 765          \n",
              "8736 1               3            5.50201723             19.32122 526          \n",
              "8737 1              10            1.11167152             35.23703  31          \n",
              "8739 1               7            6.29101106             23.41885 446          \n",
              "8740 1               4            2.98215736             21.27990 418          \n",
              "8741 1               6           11.58477492             26.33483 500          \n",
              "8743 0               3           11.38951182             34.37813 761          \n",
              "8745 0               5           11.15550463             28.87316 518          \n",
              "8746 1               7            2.55233229             25.00040  59          \n",
              "8747 0               6            0.83796398             37.36441 512          \n",
              "8750 1              10            6.18967348             26.60538 572          \n",
              "8751 0              10            6.90003667             22.41849 791          \n",
              "8752 0               3            6.63498834             23.79328 748          \n",
              "8753 0              10            7.32535608             22.71055  83          \n",
              "8754 0               7            8.40297714             27.69424 515          \n",
              "8756 0               3           10.51677451             33.46936 296          \n",
              "8757 1               1            6.78675047             20.29505 641          \n",
              "8758 0               4            7.49523056             39.97606 158          \n",
              "8759 1               8           10.80637321             19.65589  67          \n",
              "8761 0               5            2.37521373             35.40615 527          \n",
              "8762 1               5            0.02910426             27.29402 114          \n",
              "8763 0               8            9.00523438             32.91415 180          \n",
              "     Physical.Activity.Days.Per.Week Sleep.Hours.Per.Day Hemisphere         \n",
              "1    0                                6                  Southern Hemisphere\n",
              "2    1                                7                  Northern Hemisphere\n",
              "5    1                                5                  Northern Hemisphere\n",
              "6    5                               10                  Northern Hemisphere\n",
              "9    7                                4                  Southern Hemisphere\n",
              "11   0                                4                  Southern Hemisphere\n",
              "13   7                                6                  Northern Hemisphere\n",
              "16   5                                8                  Southern Hemisphere\n",
              "17   3                                6                  Southern Hemisphere\n",
              "18   0                                6                  Northern Hemisphere\n",
              "20   7                                7                  Northern Hemisphere\n",
              "21   1                               10                  Northern Hemisphere\n",
              "23   4                                8                  Southern Hemisphere\n",
              "25   5                               10                  Northern Hemisphere\n",
              "26   4                                5                  Southern Hemisphere\n",
              "27   3                                8                  Northern Hemisphere\n",
              "30   4                               10                  Northern Hemisphere\n",
              "31   1                               10                  Southern Hemisphere\n",
              "32   0                                6                  Southern Hemisphere\n",
              "35   1                                4                  Northern Hemisphere\n",
              "36   4                                5                  Southern Hemisphere\n",
              "38   0                               10                  Southern Hemisphere\n",
              "41   1                                5                  Southern Hemisphere\n",
              "44   4                               10                  Northern Hemisphere\n",
              "45   7                                9                  Northern Hemisphere\n",
              "49   7                               10                  Northern Hemisphere\n",
              "51   6                                7                  Southern Hemisphere\n",
              "52   2                                6                  Northern Hemisphere\n",
              "54   0                                8                  Southern Hemisphere\n",
              "55   7                                9                  Northern Hemisphere\n",
              "⋮    ⋮                               ⋮                   ⋮                  \n",
              "8718 2                                5                  Northern Hemisphere\n",
              "8720 6                                5                  Southern Hemisphere\n",
              "8721 3                               10                  Northern Hemisphere\n",
              "8722 1                               10                  Northern Hemisphere\n",
              "8724 2                               10                  Southern Hemisphere\n",
              "8726 7                                5                  Northern Hemisphere\n",
              "8728 7                                5                  Northern Hemisphere\n",
              "8732 4                                6                  Southern Hemisphere\n",
              "8735 6                                8                  Northern Hemisphere\n",
              "8736 0                                7                  Northern Hemisphere\n",
              "8737 6                                6                  Southern Hemisphere\n",
              "8739 6                               10                  Southern Hemisphere\n",
              "8740 0                                5                  Southern Hemisphere\n",
              "8741 7                                6                  Southern Hemisphere\n",
              "8743 5                                5                  Southern Hemisphere\n",
              "8745 6                                6                  Northern Hemisphere\n",
              "8746 2                               10                  Southern Hemisphere\n",
              "8747 3                                5                  Southern Hemisphere\n",
              "8750 1                               10                  Southern Hemisphere\n",
              "8751 4                                5                  Northern Hemisphere\n",
              "8752 5                                8                  Southern Hemisphere\n",
              "8753 1                                5                  Southern Hemisphere\n",
              "8754 1                                5                  Southern Hemisphere\n",
              "8756 7                                5                  Southern Hemisphere\n",
              "8757 2                                9                  Northern Hemisphere\n",
              "8758 1                                9                  Northern Hemisphere\n",
              "8759 7                                7                  Northern Hemisphere\n",
              "8761 4                                4                  Southern Hemisphere\n",
              "8762 2                                8                  Southern Hemisphere\n",
              "8763 7                                4                  Northern Hemisphere\n",
              "     Heart.Attack.Risk\n",
              "1    0                \n",
              "2    0                \n",
              "5    0                \n",
              "6    1                \n",
              "9    0                \n",
              "11   0                \n",
              "13   1                \n",
              "16   1                \n",
              "17   0                \n",
              "18   0                \n",
              "20   0                \n",
              "21   0                \n",
              "23   0                \n",
              "25   0                \n",
              "26   0                \n",
              "27   0                \n",
              "30   0                \n",
              "31   1                \n",
              "32   0                \n",
              "35   1                \n",
              "36   1                \n",
              "38   0                \n",
              "41   0                \n",
              "44   1                \n",
              "45   0                \n",
              "49   0                \n",
              "51   0                \n",
              "52   1                \n",
              "54   0                \n",
              "55   0                \n",
              "⋮    ⋮                \n",
              "8718 0                \n",
              "8720 0                \n",
              "8721 0                \n",
              "8722 1                \n",
              "8724 0                \n",
              "8726 0                \n",
              "8728 0                \n",
              "8732 0                \n",
              "8735 0                \n",
              "8736 0                \n",
              "8737 1                \n",
              "8739 0                \n",
              "8740 1                \n",
              "8741 0                \n",
              "8743 0                \n",
              "8745 1                \n",
              "8746 1                \n",
              "8747 1                \n",
              "8750 0                \n",
              "8751 0                \n",
              "8752 1                \n",
              "8753 0                \n",
              "8754 1                \n",
              "8756 0                \n",
              "8757 1                \n",
              "8758 0                \n",
              "8759 0                \n",
              "8761 1                \n",
              "8762 0                \n",
              "8763 1                "
            ]
          },
          "metadata": {}
        }
      ]
    },
    {
      "cell_type": "code",
      "source": [
        "dim(train_data)"
      ],
      "metadata": {
        "colab": {
          "base_uri": "https://localhost:8080/",
          "height": 34
        },
        "id": "lgSIRz6CbLQ0",
        "outputId": "cae7be13-9f6e-4aa5-caef-a2acd03c1f43"
      },
      "execution_count": 31,
      "outputs": [
        {
          "output_type": "display_data",
          "data": {
            "text/html": [
              "<style>\n",
              ".list-inline {list-style: none; margin:0; padding: 0}\n",
              ".list-inline>li {display: inline-block}\n",
              ".list-inline>li:not(:last-child)::after {content: \"\\00b7\"; padding: 0 .5ex}\n",
              "</style>\n",
              "<ol class=list-inline><li>6135</li><li>22</li></ol>\n"
            ],
            "text/markdown": "1. 6135\n2. 22\n\n\n",
            "text/latex": "\\begin{enumerate*}\n\\item 6135\n\\item 22\n\\end{enumerate*}\n",
            "text/plain": [
              "[1] 6135   22"
            ]
          },
          "metadata": {}
        }
      ]
    },
    {
      "cell_type": "code",
      "source": [
        "dim(test_data)"
      ],
      "metadata": {
        "colab": {
          "base_uri": "https://localhost:8080/",
          "height": 34
        },
        "id": "DpybrQGcbNXC",
        "outputId": "78c2bad8-2bd6-48a7-b1a3-5060197d2f5d"
      },
      "execution_count": 32,
      "outputs": [
        {
          "output_type": "display_data",
          "data": {
            "text/html": [
              "<style>\n",
              ".list-inline {list-style: none; margin:0; padding: 0}\n",
              ".list-inline>li {display: inline-block}\n",
              ".list-inline>li:not(:last-child)::after {content: \"\\00b7\"; padding: 0 .5ex}\n",
              "</style>\n",
              "<ol class=list-inline><li>2628</li><li>22</li></ol>\n"
            ],
            "text/markdown": "1. 2628\n2. 22\n\n\n",
            "text/latex": "\\begin{enumerate*}\n\\item 2628\n\\item 22\n\\end{enumerate*}\n",
            "text/plain": [
              "[1] 2628   22"
            ]
          },
          "metadata": {}
        }
      ]
    },
    {
      "cell_type": "code",
      "source": [
        "naive_data <- naiveBayes(Heart.Attack.Risk ~ ., data = train_data)"
      ],
      "metadata": {
        "id": "rYRJoUI_bPjX"
      },
      "execution_count": 33,
      "outputs": []
    },
    {
      "cell_type": "code",
      "source": [
        "prediction <- predict(naive_data, newdata = test_data, type = \"class\")"
      ],
      "metadata": {
        "id": "mLc6C-yUcK_A"
      },
      "execution_count": 34,
      "outputs": []
    },
    {
      "cell_type": "code",
      "source": [
        "matrix_data <- table(test_data$Heart.Attack.Risk, prediction)"
      ],
      "metadata": {
        "id": "nEeTw62LcTxk"
      },
      "execution_count": 35,
      "outputs": []
    },
    {
      "cell_type": "code",
      "source": [
        "accuracy_of_data <- sum(diag(matrix_data)) / sum(matrix_data)"
      ],
      "metadata": {
        "id": "AfyjQ0qgcg24"
      },
      "execution_count": 36,
      "outputs": []
    },
    {
      "cell_type": "code",
      "source": [
        "print(\"Confusion Matrix:\")\n",
        "print(matrix_data)"
      ],
      "metadata": {
        "colab": {
          "base_uri": "https://localhost:8080/"
        },
        "id": "OT7vEgLIcvkr",
        "outputId": "003bd2e1-890f-46c7-99f1-b9634a305097"
      },
      "execution_count": 37,
      "outputs": [
        {
          "output_type": "stream",
          "name": "stdout",
          "text": [
            "[1] \"Confusion Matrix:\"\n",
            "   prediction\n",
            "       0    1\n",
            "  0 1070  628\n",
            "  1  562  368\n"
          ]
        }
      ]
    },
    {
      "cell_type": "markdown",
      "source": [
        "It shows true positives, true negative, false positives, false negatives for data as follows:\n",
        "\n",
        "\n",
        "*   1023 patients are having heart attack is predicted correctly\n",
        "*   391 patients are not having heart attack is predicted correctly\n",
        "\n",
        "\n",
        "*   641 patients are having heart attack is predicted inccorrectly\n",
        "*   573 patients are not having heart attack is predicted incorrectly\n",
        "\n",
        "\n",
        "\n"
      ],
      "metadata": {
        "id": "D1EAqtbVdbeY"
      }
    },
    {
      "cell_type": "code",
      "source": [
        "print(paste(\"Accuracy:\", accuracy_of_data))"
      ],
      "metadata": {
        "colab": {
          "base_uri": "https://localhost:8080/"
        },
        "id": "QY3QeD-cc2ge",
        "outputId": "0e360812-0cc1-45c6-f00c-4f0a5bf08351"
      },
      "execution_count": 38,
      "outputs": [
        {
          "output_type": "stream",
          "name": "stdout",
          "text": [
            "[1] \"Accuracy: 0.547184170471842\"\n"
          ]
        }
      ]
    },
    {
      "cell_type": "code",
      "source": [
        "summary(naive_data)"
      ],
      "metadata": {
        "colab": {
          "base_uri": "https://localhost:8080/",
          "height": 121
        },
        "id": "q6-gh5jGdC1k",
        "outputId": "9d277aa0-c3d2-4fbc-ab5d-2ab33783dabe"
      },
      "execution_count": 39,
      "outputs": [
        {
          "output_type": "display_data",
          "data": {
            "text/plain": [
              "          Length Class  Mode     \n",
              "apriori    2     table  numeric  \n",
              "tables    21     -none- list     \n",
              "levels     2     -none- character\n",
              "isnumeric 21     -none- logical  \n",
              "call       4     -none- call     "
            ]
          },
          "metadata": {}
        }
      ]
    },
    {
      "cell_type": "code",
      "source": [
        "matrix_data <- matrix(c(1023, 641, 573, 391), nrow = 2, byrow = TRUE)\n",
        "colnames(matrix_data) <- c(\"Predicted_0\", \"Predicted_1\")\n",
        "rownames(matrix_data) <- c(\"Actual_0\", \"Actual_1\")"
      ],
      "metadata": {
        "id": "XMOoRPBxd7xc"
      },
      "execution_count": 40,
      "outputs": []
    },
    {
      "cell_type": "code",
      "source": [
        "precision <- matrix_data[2, 2] / sum(matrix_data[, 2])\n",
        "recall <- matrix_data[2, 2] / sum(matrix_data[2, ])\n",
        "f1_score <- 2 * (precision * recall) / (precision + recall)"
      ],
      "metadata": {
        "id": "kNBDx0vCecuu"
      },
      "execution_count": 41,
      "outputs": []
    },
    {
      "cell_type": "code",
      "source": [
        "print(paste(\"F1-score:\", f1_score))"
      ],
      "metadata": {
        "colab": {
          "base_uri": "https://localhost:8080/"
        },
        "id": "W3ovu0TJelZR",
        "outputId": "ba11294e-2ec7-415e-d55f-584b59ce3f41"
      },
      "execution_count": 42,
      "outputs": [
        {
          "output_type": "stream",
          "name": "stdout",
          "text": [
            "[1] \"F1-score: 0.391783567134269\"\n"
          ]
        }
      ]
    },
    {
      "cell_type": "code",
      "source": [],
      "metadata": {
        "id": "vsab77jmemwc"
      },
      "execution_count": null,
      "outputs": []
    },
    {
      "cell_type": "markdown",
      "source": [
        "This was the NaiveBayes model for prediction of heat_attack\n"
      ],
      "metadata": {
        "id": "AUcC-6Qje0AJ"
      }
    },
    {
      "cell_type": "code",
      "source": [
        "prediction_model <- predict(naive_data, newdata = test_data, type = \"raw\")[, 2]"
      ],
      "metadata": {
        "id": "pgBe3EAhe6HV"
      },
      "execution_count": 43,
      "outputs": []
    },
    {
      "cell_type": "code",
      "source": [
        "prediction_model"
      ],
      "metadata": {
        "id": "_BC_OrNnfcYk",
        "colab": {
          "base_uri": "https://localhost:8080/",
          "height": 1000
        },
        "outputId": "157a1bd2-c5ad-4989-bf80-d1dd5f6a9bdb"
      },
      "execution_count": 44,
      "outputs": [
        {
          "output_type": "display_data",
          "data": {
            "text/html": [
              "<style>\n",
              ".list-inline {list-style: none; margin:0; padding: 0}\n",
              ".list-inline>li {display: inline-block}\n",
              ".list-inline>li:not(:last-child)::after {content: \"\\00b7\"; padding: 0 .5ex}\n",
              "</style>\n",
              "<ol class=list-inline><li>0.259389809527008</li><li>0.689267581620528</li><li>0.661593245050692</li><li>0.436546967427832</li><li>0.33686305777346</li><li>0.351058555236607</li><li>0.543193590212666</li><li>0.397281352833432</li><li>0.368112836725547</li><li>0.367553153814839</li><li>0.20147499829487</li><li>0.323917437643137</li><li>0.198719075481694</li><li>0.380120704433909</li><li>0.727932309596223</li><li>0.367030014176791</li><li>0.539434746505908</li><li>0.465299294049312</li><li>0.373535700205336</li><li>0.348401625112795</li><li>0.661752033356253</li><li>0.726019261931511</li><li>0.528681527301183</li><li>0.506874091359164</li><li>0.461325032510704</li><li>0.385474077031448</li><li>0.341939760829963</li><li>0.654190290057223</li><li>0.196661596798888</li><li>0.519627780187855</li><li>0.372777199122813</li><li>0.227389808709286</li><li>0.478944777472067</li><li>0.66408831124909</li><li>0.421232150868448</li><li>0.5563596075665</li><li>0.426680586645976</li><li>0.207153156278832</li><li>0.511299190890769</li><li>0.672073196406731</li><li>0.223549158319022</li><li>0.383942710588872</li><li>0.525268884418909</li><li>0.719537408991678</li><li>0.540635376700004</li><li>0.701514561715296</li><li>0.698900508910236</li><li>0.709715302772095</li><li>0.478276737659323</li><li>0.376523462608774</li><li>0.303207359883315</li><li>0.37602764252934</li><li>0.178008234107185</li><li>0.605650314276477</li><li>0.360646439566335</li><li>0.275326503335166</li><li>0.300712291738435</li><li>0.498447544324417</li><li>0.2154603403071</li><li>0.380880995259717</li><li>0.488097110260717</li><li>0.208549860241236</li><li>0.253636750345493</li><li>0.553681842281016</li><li>0.380333802892253</li><li>0.339961268606574</li><li>0.261285377080163</li><li>0.372550203728034</li><li>0.683263517453756</li><li>0.434989593178292</li><li>0.362188519602639</li><li>0.298111803365103</li><li>0.253344080232554</li><li>0.705847978884185</li><li>0.643946874471565</li><li>0.579133303102603</li><li>0.368516130732536</li><li>0.677907416713955</li><li>0.366771213682375</li><li>0.208311492775504</li><li>0.657395873755499</li><li>0.171152242559903</li><li>0.18649090377225</li><li>0.331644755712575</li><li>0.206740248008767</li><li>0.200380722480085</li><li>0.18226486662429</li><li>0.344073797836455</li><li>0.460980144653662</li><li>0.706040097428517</li><li>0.213938759234767</li><li>0.468741289704013</li><li>0.392725335744704</li><li>0.647378398157335</li><li>0.467195786057282</li><li>0.705153743069828</li><li>0.164301250909388</li><li>0.186975412064593</li><li>0.287528553919274</li><li>0.519627211025719</li><li>0.566336986036264</li><li>0.282505778696583</li><li>0.372705273798702</li><li>0.66611721070157</li><li>0.739217268371266</li><li>0.60758993174147</li><li>0.556623176699341</li><li>0.50674100987995</li><li>0.601180172835076</li><li>0.405787770809039</li><li>0.168589688522979</li><li>0.711019764681294</li><li>0.215750068039555</li><li>0.338165648748197</li><li>0.692637930393042</li><li>0.552062783663059</li><li>0.35382971451716</li><li>0.34397487463396</li><li>0.519804158082715</li><li>0.223909301484722</li><li>0.543099858257239</li><li>0.278782208514399</li><li>0.307419024877128</li><li>0.705128885285074</li><li>0.342217849973994</li><li>0.682038849601858</li><li>0.341996020807536</li><li>0.483620833390373</li><li>0.658437467560356</li><li>0.351506896239958</li><li>0.369832660131399</li><li>0.39391384483558</li><li>0.496282250915607</li><li>0.742470280321878</li><li>0.394559880059538</li><li>0.507913180011379</li><li>0.666297689765765</li><li>0.218981388547316</li><li>0.4777241961539</li><li>0.441140347853326</li><li>0.361687687749591</li><li>0.399500229998636</li><li>0.645098685252286</li><li>0.253314928597328</li><li>0.729520151085632</li><li>0.41341539705562</li><li>0.334979396438458</li><li>0.303277020055084</li><li>0.26635946618313</li><li>0.293906032478099</li><li>0.171900571260938</li><li>0.191564197332753</li><li>0.759011737611659</li><li>0.300193776410321</li><li>0.312211690411629</li><li>0.333882078648788</li><li>0.210095573930311</li><li>0.655202817297691</li><li>0.321435711374925</li><li>0.706472255613701</li><li>0.377142878211659</li><li>0.522945550813175</li><li>0.354611710086433</li><li>0.433204046393408</li><li>0.536577630055214</li><li>0.665052052437617</li><li>0.67364062517611</li><li>0.37727310171267</li><li>0.503182418214527</li><li>0.562154870442288</li><li>0.611402990830712</li><li>0.501593812468057</li><li>0.432387072997157</li><li>0.524731967301905</li><li>0.668985950615324</li><li>0.697933945598836</li><li>0.442344349745739</li><li>0.314676553833571</li><li>0.345220818114545</li><li>0.345673529062047</li><li>0.313506253570122</li><li>0.355642909971154</li><li>0.389650346435659</li><li>0.361918807033433</li><li>0.741832239180792</li><li>0.340419849580448</li><li>0.391458041787151</li><li>0.712330668717687</li><li>0.214203071436088</li><li>0.471901337161677</li><li>0.403186613900332</li><li>0.375210468645385</li><li>0.462768244464935</li><li>0.467507026708106</li><li>0.359611237044448</li><li>0.526324418236189</li><li>0.345785096161742</li><li>0.414199402404395</li><li>0.367520668357429</li><li>0.293643872470302</li><li>⋯</li><li>0.290641879023965</li><li>0.492682832327122</li><li>0.328436387522913</li><li>0.20357664852547</li><li>0.560222883420766</li><li>0.347376848108829</li><li>0.689347117127363</li><li>0.361998113333354</li><li>0.378913329015077</li><li>0.193055686847268</li><li>0.328273623228023</li><li>0.367514776345659</li><li>0.312056212459048</li><li>0.525956305954283</li><li>0.490211511116502</li><li>0.317530628781943</li><li>0.536752400489614</li><li>0.492459462234691</li><li>0.436884766298358</li><li>0.382282050678033</li><li>0.714957956985097</li><li>0.565098688790966</li><li>0.494071884986226</li><li>0.333442672309464</li><li>0.543166315571529</li><li>0.369898974304162</li><li>0.703356480278187</li><li>0.665420848219997</li><li>0.536062931782151</li><li>0.19084253312946</li><li>0.665434612370623</li><li>0.390470913452542</li><li>0.384661817355057</li><li>0.613091273269917</li><li>0.439743700666123</li><li>0.693330952753942</li><li>0.35797672254143</li><li>0.193229185486968</li><li>0.70040371446099</li><li>0.514409426668982</li><li>0.365424375602127</li><li>0.310754068710091</li><li>0.324482795391647</li><li>0.310389880833541</li><li>0.553294031662676</li><li>0.377531266581804</li><li>0.371276293443437</li><li>0.505955929929041</li><li>0.657935381899522</li><li>0.359982746364669</li><li>0.218714305323809</li><li>0.523357162354922</li><li>0.702297516062306</li><li>0.731932633329341</li><li>0.309376526292748</li><li>0.246667773615226</li><li>0.354102117581331</li><li>0.666642564664858</li><li>0.489747732921776</li><li>0.329407854715749</li><li>0.364818172891297</li><li>0.647790082886035</li><li>0.322001381853091</li><li>0.661859269629759</li><li>0.661818174214807</li><li>0.233673174087223</li><li>0.681622191059515</li><li>0.354159699991865</li><li>0.421581120804924</li><li>0.642184386762288</li><li>0.349536844046709</li><li>0.645268553587587</li><li>0.333690677056012</li><li>0.683633605000258</li><li>0.436074608555134</li><li>0.562725220317</li><li>0.744943056722505</li><li>0.493684387438093</li><li>0.438593073046097</li><li>0.69727682772754</li><li>0.773804168615795</li><li>0.360413640439621</li><li>0.637282657868799</li><li>0.720218070260606</li><li>0.222676124525997</li><li>0.448766289725967</li><li>0.363662447383426</li><li>0.367272209397213</li><li>0.670792491659145</li><li>0.24056728891857</li><li>0.66351038572425</li><li>0.312857819045881</li><li>0.677787527330341</li><li>0.666125655841112</li><li>0.563300851124363</li><li>0.206596272677462</li><li>0.366619458350224</li><li>0.574318188805321</li><li>0.322318108409273</li><li>0.521199118565237</li><li>0.695830313543419</li><li>0.312798850966006</li><li>0.283074990591274</li><li>0.359242688143255</li><li>0.38310116332928</li><li>0.354052032819784</li><li>0.669556206492714</li><li>0.195774954216882</li><li>0.370517044270821</li><li>0.32921657772371</li><li>0.666293053755639</li><li>0.733725946542012</li><li>0.239052687590503</li><li>0.343254473909039</li><li>0.49457022079919</li><li>0.498265236664956</li><li>0.478361318808719</li><li>0.378278012312866</li><li>0.326052232224169</li><li>0.724679287134012</li><li>0.479768755384163</li><li>0.317472853208152</li><li>0.218405729371316</li><li>0.320725037739578</li><li>0.374388302616993</li><li>0.33489708565815</li><li>0.461924224248617</li><li>0.389364072562504</li><li>0.638887182800556</li><li>0.6746472067837</li><li>0.478709867645368</li><li>0.718533805855399</li><li>0.337323529692701</li><li>0.347622565252006</li><li>0.461883096256524</li><li>0.363198976107792</li><li>0.366216817138472</li><li>0.505679633935384</li><li>0.718208017237266</li><li>0.564175132461543</li><li>0.750564890372165</li><li>0.710179084751005</li><li>0.525540496631167</li><li>0.278885611209013</li><li>0.18679738529157</li><li>0.317929888306497</li><li>0.471475626525</li><li>0.68736807880814</li><li>0.46829879259797</li><li>0.421567074909428</li><li>0.324344088496142</li><li>0.196010348106794</li><li>0.210903441858929</li><li>0.670482783061263</li><li>0.390628755076598</li><li>0.330638808826174</li><li>0.298070485365728</li><li>0.315778238087967</li><li>0.193947984075421</li><li>0.175604406903169</li><li>0.502319512956858</li><li>0.295625115272763</li><li>0.188139134983584</li><li>0.346326291117055</li><li>0.315197147010213</li><li>0.294229822900224</li><li>0.49776180297374</li><li>0.404129279694855</li><li>0.398147564520642</li><li>0.3566057543662</li><li>0.20391599001662</li><li>0.384926713615091</li><li>0.473034779293052</li><li>0.17231360100865</li><li>0.351071690919695</li><li>0.192856267052778</li><li>0.342415539267633</li><li>0.205608151701241</li><li>0.257048885938796</li><li>0.669948405891194</li><li>0.343423502161644</li><li>0.660830242397619</li><li>0.381607682773568</li><li>0.459691934347965</li><li>0.650676718631033</li><li>0.491379920967907</li><li>0.512329461680945</li><li>0.592502980351559</li><li>0.674631438457039</li><li>0.327864609514393</li><li>0.487001542374424</li><li>0.504382170801436</li><li>0.180025922135825</li><li>0.353311504929451</li><li>0.642258367961118</li><li>0.523436095299856</li><li>0.632287203910862</li><li>0.30633265755765</li><li>0.701771392706037</li><li>0.732407228325421</li></ol>\n"
            ],
            "text/markdown": "1. 0.259389809527008\n2. 0.689267581620528\n3. 0.661593245050692\n4. 0.436546967427832\n5. 0.33686305777346\n6. 0.351058555236607\n7. 0.543193590212666\n8. 0.397281352833432\n9. 0.368112836725547\n10. 0.367553153814839\n11. 0.20147499829487\n12. 0.323917437643137\n13. 0.198719075481694\n14. 0.380120704433909\n15. 0.727932309596223\n16. 0.367030014176791\n17. 0.539434746505908\n18. 0.465299294049312\n19. 0.373535700205336\n20. 0.348401625112795\n21. 0.661752033356253\n22. 0.726019261931511\n23. 0.528681527301183\n24. 0.506874091359164\n25. 0.461325032510704\n26. 0.385474077031448\n27. 0.341939760829963\n28. 0.654190290057223\n29. 0.196661596798888\n30. 0.519627780187855\n31. 0.372777199122813\n32. 0.227389808709286\n33. 0.478944777472067\n34. 0.66408831124909\n35. 0.421232150868448\n36. 0.5563596075665\n37. 0.426680586645976\n38. 0.207153156278832\n39. 0.511299190890769\n40. 0.672073196406731\n41. 0.223549158319022\n42. 0.383942710588872\n43. 0.525268884418909\n44. 0.719537408991678\n45. 0.540635376700004\n46. 0.701514561715296\n47. 0.698900508910236\n48. 0.709715302772095\n49. 0.478276737659323\n50. 0.376523462608774\n51. 0.303207359883315\n52. 0.37602764252934\n53. 0.178008234107185\n54. 0.605650314276477\n55. 0.360646439566335\n56. 0.275326503335166\n57. 0.300712291738435\n58. 0.498447544324417\n59. 0.2154603403071\n60. 0.380880995259717\n61. 0.488097110260717\n62. 0.208549860241236\n63. 0.253636750345493\n64. 0.553681842281016\n65. 0.380333802892253\n66. 0.339961268606574\n67. 0.261285377080163\n68. 0.372550203728034\n69. 0.683263517453756\n70. 0.434989593178292\n71. 0.362188519602639\n72. 0.298111803365103\n73. 0.253344080232554\n74. 0.705847978884185\n75. 0.643946874471565\n76. 0.579133303102603\n77. 0.368516130732536\n78. 0.677907416713955\n79. 0.366771213682375\n80. 0.208311492775504\n81. 0.657395873755499\n82. 0.171152242559903\n83. 0.18649090377225\n84. 0.331644755712575\n85. 0.206740248008767\n86. 0.200380722480085\n87. 0.18226486662429\n88. 0.344073797836455\n89. 0.460980144653662\n90. 0.706040097428517\n91. 0.213938759234767\n92. 0.468741289704013\n93. 0.392725335744704\n94. 0.647378398157335\n95. 0.467195786057282\n96. 0.705153743069828\n97. 0.164301250909388\n98. 0.186975412064593\n99. 0.287528553919274\n100. 0.519627211025719\n101. 0.566336986036264\n102. 0.282505778696583\n103. 0.372705273798702\n104. 0.66611721070157\n105. 0.739217268371266\n106. 0.60758993174147\n107. 0.556623176699341\n108. 0.50674100987995\n109. 0.601180172835076\n110. 0.405787770809039\n111. 0.168589688522979\n112. 0.711019764681294\n113. 0.215750068039555\n114. 0.338165648748197\n115. 0.692637930393042\n116. 0.552062783663059\n117. 0.35382971451716\n118. 0.34397487463396\n119. 0.519804158082715\n120. 0.223909301484722\n121. 0.543099858257239\n122. 0.278782208514399\n123. 0.307419024877128\n124. 0.705128885285074\n125. 0.342217849973994\n126. 0.682038849601858\n127. 0.341996020807536\n128. 0.483620833390373\n129. 0.658437467560356\n130. 0.351506896239958\n131. 0.369832660131399\n132. 0.39391384483558\n133. 0.496282250915607\n134. 0.742470280321878\n135. 0.394559880059538\n136. 0.507913180011379\n137. 0.666297689765765\n138. 0.218981388547316\n139. 0.4777241961539\n140. 0.441140347853326\n141. 0.361687687749591\n142. 0.399500229998636\n143. 0.645098685252286\n144. 0.253314928597328\n145. 0.729520151085632\n146. 0.41341539705562\n147. 0.334979396438458\n148. 0.303277020055084\n149. 0.26635946618313\n150. 0.293906032478099\n151. 0.171900571260938\n152. 0.191564197332753\n153. 0.759011737611659\n154. 0.300193776410321\n155. 0.312211690411629\n156. 0.333882078648788\n157. 0.210095573930311\n158. 0.655202817297691\n159. 0.321435711374925\n160. 0.706472255613701\n161. 0.377142878211659\n162. 0.522945550813175\n163. 0.354611710086433\n164. 0.433204046393408\n165. 0.536577630055214\n166. 0.665052052437617\n167. 0.67364062517611\n168. 0.37727310171267\n169. 0.503182418214527\n170. 0.562154870442288\n171. 0.611402990830712\n172. 0.501593812468057\n173. 0.432387072997157\n174. 0.524731967301905\n175. 0.668985950615324\n176. 0.697933945598836\n177. 0.442344349745739\n178. 0.314676553833571\n179. 0.345220818114545\n180. 0.345673529062047\n181. 0.313506253570122\n182. 0.355642909971154\n183. 0.389650346435659\n184. 0.361918807033433\n185. 0.741832239180792\n186. 0.340419849580448\n187. 0.391458041787151\n188. 0.712330668717687\n189. 0.214203071436088\n190. 0.471901337161677\n191. 0.403186613900332\n192. 0.375210468645385\n193. 0.462768244464935\n194. 0.467507026708106\n195. 0.359611237044448\n196. 0.526324418236189\n197. 0.345785096161742\n198. 0.414199402404395\n199. 0.367520668357429\n200. 0.293643872470302\n201. ⋯\n202. 0.290641879023965\n203. 0.492682832327122\n204. 0.328436387522913\n205. 0.20357664852547\n206. 0.560222883420766\n207. 0.347376848108829\n208. 0.689347117127363\n209. 0.361998113333354\n210. 0.378913329015077\n211. 0.193055686847268\n212. 0.328273623228023\n213. 0.367514776345659\n214. 0.312056212459048\n215. 0.525956305954283\n216. 0.490211511116502\n217. 0.317530628781943\n218. 0.536752400489614\n219. 0.492459462234691\n220. 0.436884766298358\n221. 0.382282050678033\n222. 0.714957956985097\n223. 0.565098688790966\n224. 0.494071884986226\n225. 0.333442672309464\n226. 0.543166315571529\n227. 0.369898974304162\n228. 0.703356480278187\n229. 0.665420848219997\n230. 0.536062931782151\n231. 0.19084253312946\n232. 0.665434612370623\n233. 0.390470913452542\n234. 0.384661817355057\n235. 0.613091273269917\n236. 0.439743700666123\n237. 0.693330952753942\n238. 0.35797672254143\n239. 0.193229185486968\n240. 0.70040371446099\n241. 0.514409426668982\n242. 0.365424375602127\n243. 0.310754068710091\n244. 0.324482795391647\n245. 0.310389880833541\n246. 0.553294031662676\n247. 0.377531266581804\n248. 0.371276293443437\n249. 0.505955929929041\n250. 0.657935381899522\n251. 0.359982746364669\n252. 0.218714305323809\n253. 0.523357162354922\n254. 0.702297516062306\n255. 0.731932633329341\n256. 0.309376526292748\n257. 0.246667773615226\n258. 0.354102117581331\n259. 0.666642564664858\n260. 0.489747732921776\n261. 0.329407854715749\n262. 0.364818172891297\n263. 0.647790082886035\n264. 0.322001381853091\n265. 0.661859269629759\n266. 0.661818174214807\n267. 0.233673174087223\n268. 0.681622191059515\n269. 0.354159699991865\n270. 0.421581120804924\n271. 0.642184386762288\n272. 0.349536844046709\n273. 0.645268553587587\n274. 0.333690677056012\n275. 0.683633605000258\n276. 0.436074608555134\n277. 0.562725220317\n278. 0.744943056722505\n279. 0.493684387438093\n280. 0.438593073046097\n281. 0.69727682772754\n282. 0.773804168615795\n283. 0.360413640439621\n284. 0.637282657868799\n285. 0.720218070260606\n286. 0.222676124525997\n287. 0.448766289725967\n288. 0.363662447383426\n289. 0.367272209397213\n290. 0.670792491659145\n291. 0.24056728891857\n292. 0.66351038572425\n293. 0.312857819045881\n294. 0.677787527330341\n295. 0.666125655841112\n296. 0.563300851124363\n297. 0.206596272677462\n298. 0.366619458350224\n299. 0.574318188805321\n300. 0.322318108409273\n301. 0.521199118565237\n302. 0.695830313543419\n303. 0.312798850966006\n304. 0.283074990591274\n305. 0.359242688143255\n306. 0.38310116332928\n307. 0.354052032819784\n308. 0.669556206492714\n309. 0.195774954216882\n310. 0.370517044270821\n311. 0.32921657772371\n312. 0.666293053755639\n313. 0.733725946542012\n314. 0.239052687590503\n315. 0.343254473909039\n316. 0.49457022079919\n317. 0.498265236664956\n318. 0.478361318808719\n319. 0.378278012312866\n320. 0.326052232224169\n321. 0.724679287134012\n322. 0.479768755384163\n323. 0.317472853208152\n324. 0.218405729371316\n325. 0.320725037739578\n326. 0.374388302616993\n327. 0.33489708565815\n328. 0.461924224248617\n329. 0.389364072562504\n330. 0.638887182800556\n331. 0.6746472067837\n332. 0.478709867645368\n333. 0.718533805855399\n334. 0.337323529692701\n335. 0.347622565252006\n336. 0.461883096256524\n337. 0.363198976107792\n338. 0.366216817138472\n339. 0.505679633935384\n340. 0.718208017237266\n341. 0.564175132461543\n342. 0.750564890372165\n343. 0.710179084751005\n344. 0.525540496631167\n345. 0.278885611209013\n346. 0.18679738529157\n347. 0.317929888306497\n348. 0.471475626525\n349. 0.68736807880814\n350. 0.46829879259797\n351. 0.421567074909428\n352. 0.324344088496142\n353. 0.196010348106794\n354. 0.210903441858929\n355. 0.670482783061263\n356. 0.390628755076598\n357. 0.330638808826174\n358. 0.298070485365728\n359. 0.315778238087967\n360. 0.193947984075421\n361. 0.175604406903169\n362. 0.502319512956858\n363. 0.295625115272763\n364. 0.188139134983584\n365. 0.346326291117055\n366. 0.315197147010213\n367. 0.294229822900224\n368. 0.49776180297374\n369. 0.404129279694855\n370. 0.398147564520642\n371. 0.3566057543662\n372. 0.20391599001662\n373. 0.384926713615091\n374. 0.473034779293052\n375. 0.17231360100865\n376. 0.351071690919695\n377. 0.192856267052778\n378. 0.342415539267633\n379. 0.205608151701241\n380. 0.257048885938796\n381. 0.669948405891194\n382. 0.343423502161644\n383. 0.660830242397619\n384. 0.381607682773568\n385. 0.459691934347965\n386. 0.650676718631033\n387. 0.491379920967907\n388. 0.512329461680945\n389. 0.592502980351559\n390. 0.674631438457039\n391. 0.327864609514393\n392. 0.487001542374424\n393. 0.504382170801436\n394. 0.180025922135825\n395. 0.353311504929451\n396. 0.642258367961118\n397. 0.523436095299856\n398. 0.632287203910862\n399. 0.30633265755765\n400. 0.701771392706037\n401. 0.732407228325421\n\n\n",
            "text/latex": "\\begin{enumerate*}\n\\item 0.259389809527008\n\\item 0.689267581620528\n\\item 0.661593245050692\n\\item 0.436546967427832\n\\item 0.33686305777346\n\\item 0.351058555236607\n\\item 0.543193590212666\n\\item 0.397281352833432\n\\item 0.368112836725547\n\\item 0.367553153814839\n\\item 0.20147499829487\n\\item 0.323917437643137\n\\item 0.198719075481694\n\\item 0.380120704433909\n\\item 0.727932309596223\n\\item 0.367030014176791\n\\item 0.539434746505908\n\\item 0.465299294049312\n\\item 0.373535700205336\n\\item 0.348401625112795\n\\item 0.661752033356253\n\\item 0.726019261931511\n\\item 0.528681527301183\n\\item 0.506874091359164\n\\item 0.461325032510704\n\\item 0.385474077031448\n\\item 0.341939760829963\n\\item 0.654190290057223\n\\item 0.196661596798888\n\\item 0.519627780187855\n\\item 0.372777199122813\n\\item 0.227389808709286\n\\item 0.478944777472067\n\\item 0.66408831124909\n\\item 0.421232150868448\n\\item 0.5563596075665\n\\item 0.426680586645976\n\\item 0.207153156278832\n\\item 0.511299190890769\n\\item 0.672073196406731\n\\item 0.223549158319022\n\\item 0.383942710588872\n\\item 0.525268884418909\n\\item 0.719537408991678\n\\item 0.540635376700004\n\\item 0.701514561715296\n\\item 0.698900508910236\n\\item 0.709715302772095\n\\item 0.478276737659323\n\\item 0.376523462608774\n\\item 0.303207359883315\n\\item 0.37602764252934\n\\item 0.178008234107185\n\\item 0.605650314276477\n\\item 0.360646439566335\n\\item 0.275326503335166\n\\item 0.300712291738435\n\\item 0.498447544324417\n\\item 0.2154603403071\n\\item 0.380880995259717\n\\item 0.488097110260717\n\\item 0.208549860241236\n\\item 0.253636750345493\n\\item 0.553681842281016\n\\item 0.380333802892253\n\\item 0.339961268606574\n\\item 0.261285377080163\n\\item 0.372550203728034\n\\item 0.683263517453756\n\\item 0.434989593178292\n\\item 0.362188519602639\n\\item 0.298111803365103\n\\item 0.253344080232554\n\\item 0.705847978884185\n\\item 0.643946874471565\n\\item 0.579133303102603\n\\item 0.368516130732536\n\\item 0.677907416713955\n\\item 0.366771213682375\n\\item 0.208311492775504\n\\item 0.657395873755499\n\\item 0.171152242559903\n\\item 0.18649090377225\n\\item 0.331644755712575\n\\item 0.206740248008767\n\\item 0.200380722480085\n\\item 0.18226486662429\n\\item 0.344073797836455\n\\item 0.460980144653662\n\\item 0.706040097428517\n\\item 0.213938759234767\n\\item 0.468741289704013\n\\item 0.392725335744704\n\\item 0.647378398157335\n\\item 0.467195786057282\n\\item 0.705153743069828\n\\item 0.164301250909388\n\\item 0.186975412064593\n\\item 0.287528553919274\n\\item 0.519627211025719\n\\item 0.566336986036264\n\\item 0.282505778696583\n\\item 0.372705273798702\n\\item 0.66611721070157\n\\item 0.739217268371266\n\\item 0.60758993174147\n\\item 0.556623176699341\n\\item 0.50674100987995\n\\item 0.601180172835076\n\\item 0.405787770809039\n\\item 0.168589688522979\n\\item 0.711019764681294\n\\item 0.215750068039555\n\\item 0.338165648748197\n\\item 0.692637930393042\n\\item 0.552062783663059\n\\item 0.35382971451716\n\\item 0.34397487463396\n\\item 0.519804158082715\n\\item 0.223909301484722\n\\item 0.543099858257239\n\\item 0.278782208514399\n\\item 0.307419024877128\n\\item 0.705128885285074\n\\item 0.342217849973994\n\\item 0.682038849601858\n\\item 0.341996020807536\n\\item 0.483620833390373\n\\item 0.658437467560356\n\\item 0.351506896239958\n\\item 0.369832660131399\n\\item 0.39391384483558\n\\item 0.496282250915607\n\\item 0.742470280321878\n\\item 0.394559880059538\n\\item 0.507913180011379\n\\item 0.666297689765765\n\\item 0.218981388547316\n\\item 0.4777241961539\n\\item 0.441140347853326\n\\item 0.361687687749591\n\\item 0.399500229998636\n\\item 0.645098685252286\n\\item 0.253314928597328\n\\item 0.729520151085632\n\\item 0.41341539705562\n\\item 0.334979396438458\n\\item 0.303277020055084\n\\item 0.26635946618313\n\\item 0.293906032478099\n\\item 0.171900571260938\n\\item 0.191564197332753\n\\item 0.759011737611659\n\\item 0.300193776410321\n\\item 0.312211690411629\n\\item 0.333882078648788\n\\item 0.210095573930311\n\\item 0.655202817297691\n\\item 0.321435711374925\n\\item 0.706472255613701\n\\item 0.377142878211659\n\\item 0.522945550813175\n\\item 0.354611710086433\n\\item 0.433204046393408\n\\item 0.536577630055214\n\\item 0.665052052437617\n\\item 0.67364062517611\n\\item 0.37727310171267\n\\item 0.503182418214527\n\\item 0.562154870442288\n\\item 0.611402990830712\n\\item 0.501593812468057\n\\item 0.432387072997157\n\\item 0.524731967301905\n\\item 0.668985950615324\n\\item 0.697933945598836\n\\item 0.442344349745739\n\\item 0.314676553833571\n\\item 0.345220818114545\n\\item 0.345673529062047\n\\item 0.313506253570122\n\\item 0.355642909971154\n\\item 0.389650346435659\n\\item 0.361918807033433\n\\item 0.741832239180792\n\\item 0.340419849580448\n\\item 0.391458041787151\n\\item 0.712330668717687\n\\item 0.214203071436088\n\\item 0.471901337161677\n\\item 0.403186613900332\n\\item 0.375210468645385\n\\item 0.462768244464935\n\\item 0.467507026708106\n\\item 0.359611237044448\n\\item 0.526324418236189\n\\item 0.345785096161742\n\\item 0.414199402404395\n\\item 0.367520668357429\n\\item 0.293643872470302\n\\item ⋯\n\\item 0.290641879023965\n\\item 0.492682832327122\n\\item 0.328436387522913\n\\item 0.20357664852547\n\\item 0.560222883420766\n\\item 0.347376848108829\n\\item 0.689347117127363\n\\item 0.361998113333354\n\\item 0.378913329015077\n\\item 0.193055686847268\n\\item 0.328273623228023\n\\item 0.367514776345659\n\\item 0.312056212459048\n\\item 0.525956305954283\n\\item 0.490211511116502\n\\item 0.317530628781943\n\\item 0.536752400489614\n\\item 0.492459462234691\n\\item 0.436884766298358\n\\item 0.382282050678033\n\\item 0.714957956985097\n\\item 0.565098688790966\n\\item 0.494071884986226\n\\item 0.333442672309464\n\\item 0.543166315571529\n\\item 0.369898974304162\n\\item 0.703356480278187\n\\item 0.665420848219997\n\\item 0.536062931782151\n\\item 0.19084253312946\n\\item 0.665434612370623\n\\item 0.390470913452542\n\\item 0.384661817355057\n\\item 0.613091273269917\n\\item 0.439743700666123\n\\item 0.693330952753942\n\\item 0.35797672254143\n\\item 0.193229185486968\n\\item 0.70040371446099\n\\item 0.514409426668982\n\\item 0.365424375602127\n\\item 0.310754068710091\n\\item 0.324482795391647\n\\item 0.310389880833541\n\\item 0.553294031662676\n\\item 0.377531266581804\n\\item 0.371276293443437\n\\item 0.505955929929041\n\\item 0.657935381899522\n\\item 0.359982746364669\n\\item 0.218714305323809\n\\item 0.523357162354922\n\\item 0.702297516062306\n\\item 0.731932633329341\n\\item 0.309376526292748\n\\item 0.246667773615226\n\\item 0.354102117581331\n\\item 0.666642564664858\n\\item 0.489747732921776\n\\item 0.329407854715749\n\\item 0.364818172891297\n\\item 0.647790082886035\n\\item 0.322001381853091\n\\item 0.661859269629759\n\\item 0.661818174214807\n\\item 0.233673174087223\n\\item 0.681622191059515\n\\item 0.354159699991865\n\\item 0.421581120804924\n\\item 0.642184386762288\n\\item 0.349536844046709\n\\item 0.645268553587587\n\\item 0.333690677056012\n\\item 0.683633605000258\n\\item 0.436074608555134\n\\item 0.562725220317\n\\item 0.744943056722505\n\\item 0.493684387438093\n\\item 0.438593073046097\n\\item 0.69727682772754\n\\item 0.773804168615795\n\\item 0.360413640439621\n\\item 0.637282657868799\n\\item 0.720218070260606\n\\item 0.222676124525997\n\\item 0.448766289725967\n\\item 0.363662447383426\n\\item 0.367272209397213\n\\item 0.670792491659145\n\\item 0.24056728891857\n\\item 0.66351038572425\n\\item 0.312857819045881\n\\item 0.677787527330341\n\\item 0.666125655841112\n\\item 0.563300851124363\n\\item 0.206596272677462\n\\item 0.366619458350224\n\\item 0.574318188805321\n\\item 0.322318108409273\n\\item 0.521199118565237\n\\item 0.695830313543419\n\\item 0.312798850966006\n\\item 0.283074990591274\n\\item 0.359242688143255\n\\item 0.38310116332928\n\\item 0.354052032819784\n\\item 0.669556206492714\n\\item 0.195774954216882\n\\item 0.370517044270821\n\\item 0.32921657772371\n\\item 0.666293053755639\n\\item 0.733725946542012\n\\item 0.239052687590503\n\\item 0.343254473909039\n\\item 0.49457022079919\n\\item 0.498265236664956\n\\item 0.478361318808719\n\\item 0.378278012312866\n\\item 0.326052232224169\n\\item 0.724679287134012\n\\item 0.479768755384163\n\\item 0.317472853208152\n\\item 0.218405729371316\n\\item 0.320725037739578\n\\item 0.374388302616993\n\\item 0.33489708565815\n\\item 0.461924224248617\n\\item 0.389364072562504\n\\item 0.638887182800556\n\\item 0.6746472067837\n\\item 0.478709867645368\n\\item 0.718533805855399\n\\item 0.337323529692701\n\\item 0.347622565252006\n\\item 0.461883096256524\n\\item 0.363198976107792\n\\item 0.366216817138472\n\\item 0.505679633935384\n\\item 0.718208017237266\n\\item 0.564175132461543\n\\item 0.750564890372165\n\\item 0.710179084751005\n\\item 0.525540496631167\n\\item 0.278885611209013\n\\item 0.18679738529157\n\\item 0.317929888306497\n\\item 0.471475626525\n\\item 0.68736807880814\n\\item 0.46829879259797\n\\item 0.421567074909428\n\\item 0.324344088496142\n\\item 0.196010348106794\n\\item 0.210903441858929\n\\item 0.670482783061263\n\\item 0.390628755076598\n\\item 0.330638808826174\n\\item 0.298070485365728\n\\item 0.315778238087967\n\\item 0.193947984075421\n\\item 0.175604406903169\n\\item 0.502319512956858\n\\item 0.295625115272763\n\\item 0.188139134983584\n\\item 0.346326291117055\n\\item 0.315197147010213\n\\item 0.294229822900224\n\\item 0.49776180297374\n\\item 0.404129279694855\n\\item 0.398147564520642\n\\item 0.3566057543662\n\\item 0.20391599001662\n\\item 0.384926713615091\n\\item 0.473034779293052\n\\item 0.17231360100865\n\\item 0.351071690919695\n\\item 0.192856267052778\n\\item 0.342415539267633\n\\item 0.205608151701241\n\\item 0.257048885938796\n\\item 0.669948405891194\n\\item 0.343423502161644\n\\item 0.660830242397619\n\\item 0.381607682773568\n\\item 0.459691934347965\n\\item 0.650676718631033\n\\item 0.491379920967907\n\\item 0.512329461680945\n\\item 0.592502980351559\n\\item 0.674631438457039\n\\item 0.327864609514393\n\\item 0.487001542374424\n\\item 0.504382170801436\n\\item 0.180025922135825\n\\item 0.353311504929451\n\\item 0.642258367961118\n\\item 0.523436095299856\n\\item 0.632287203910862\n\\item 0.30633265755765\n\\item 0.701771392706037\n\\item 0.732407228325421\n\\end{enumerate*}\n",
            "text/plain": [
              "   [1] 0.2593898 0.6892676 0.6615932 0.4365470 0.3368631 0.3510586 0.5431936\n",
              "   [8] 0.3972814 0.3681128 0.3675532 0.2014750 0.3239174 0.1987191 0.3801207\n",
              "  [15] 0.7279323 0.3670300 0.5394347 0.4652993 0.3735357 0.3484016 0.6617520\n",
              "  [22] 0.7260193 0.5286815 0.5068741 0.4613250 0.3854741 0.3419398 0.6541903\n",
              "  [29] 0.1966616 0.5196278 0.3727772 0.2273898 0.4789448 0.6640883 0.4212322\n",
              "  [36] 0.5563596 0.4266806 0.2071532 0.5112992 0.6720732 0.2235492 0.3839427\n",
              "  [43] 0.5252689 0.7195374 0.5406354 0.7015146 0.6989005 0.7097153 0.4782767\n",
              "  [50] 0.3765235 0.3032074 0.3760276 0.1780082 0.6056503 0.3606464 0.2753265\n",
              "  [57] 0.3007123 0.4984475 0.2154603 0.3808810 0.4880971 0.2085499 0.2536368\n",
              "  [64] 0.5536818 0.3803338 0.3399613 0.2612854 0.3725502 0.6832635 0.4349896\n",
              "  [71] 0.3621885 0.2981118 0.2533441 0.7058480 0.6439469 0.5791333 0.3685161\n",
              "  [78] 0.6779074 0.3667712 0.2083115 0.6573959 0.1711522 0.1864909 0.3316448\n",
              "  [85] 0.2067402 0.2003807 0.1822649 0.3440738 0.4609801 0.7060401 0.2139388\n",
              "  [92] 0.4687413 0.3927253 0.6473784 0.4671958 0.7051537 0.1643013 0.1869754\n",
              "  [99] 0.2875286 0.5196272 0.5663370 0.2825058 0.3727053 0.6661172 0.7392173\n",
              " [106] 0.6075899 0.5566232 0.5067410 0.6011802 0.4057878 0.1685897 0.7110198\n",
              " [113] 0.2157501 0.3381656 0.6926379 0.5520628 0.3538297 0.3439749 0.5198042\n",
              " [120] 0.2239093 0.5430999 0.2787822 0.3074190 0.7051289 0.3422178 0.6820388\n",
              " [127] 0.3419960 0.4836208 0.6584375 0.3515069 0.3698327 0.3939138 0.4962823\n",
              " [134] 0.7424703 0.3945599 0.5079132 0.6662977 0.2189814 0.4777242 0.4411403\n",
              " [141] 0.3616877 0.3995002 0.6450987 0.2533149 0.7295202 0.4134154 0.3349794\n",
              " [148] 0.3032770 0.2663595 0.2939060 0.1719006 0.1915642 0.7590117 0.3001938\n",
              " [155] 0.3122117 0.3338821 0.2100956 0.6552028 0.3214357 0.7064723 0.3771429\n",
              " [162] 0.5229456 0.3546117 0.4332040 0.5365776 0.6650521 0.6736406 0.3772731\n",
              " [169] 0.5031824 0.5621549 0.6114030 0.5015938 0.4323871 0.5247320 0.6689860\n",
              " [176] 0.6979339 0.4423443 0.3146766 0.3452208 0.3456735 0.3135063 0.3556429\n",
              " [183] 0.3896503 0.3619188 0.7418322 0.3404198 0.3914580 0.7123307 0.2142031\n",
              " [190] 0.4719013 0.4031866 0.3752105 0.4627682 0.4675070 0.3596112 0.5263244\n",
              " [197] 0.3457851 0.4141994 0.3675207 0.2936439 0.2413012 0.7172147 0.2195396\n",
              " [204] 0.6827538 0.7025931 0.4988379 0.2231442 0.4868708 0.7261667 0.3793885\n",
              " [211] 0.5628588 0.3747435 0.6650304 0.1836720 0.5251834 0.6724056 0.2199710\n",
              " [218] 0.4022086 0.5090275 0.3217203 0.4910053 0.5002252 0.7057804 0.4292858\n",
              " [225] 0.5490852 0.5329244 0.3144291 0.3283854 0.4723805 0.6938316 0.6796661\n",
              " [232] 0.3288580 0.3245394 0.3420255 0.4050652 0.3541140 0.2039561 0.5369829\n",
              " [239] 0.2189482 0.3698155 0.4054784 0.5509382 0.3987977 0.3014689 0.1511946\n",
              " [246] 0.7066117 0.3907596 0.7094767 0.3656661 0.5317196 0.3898071 0.3745488\n",
              " [253] 0.4962941 0.3698081 0.3758061 0.4055993 0.7303536 0.2869187 0.7193843\n",
              " [260] 0.3673371 0.7590279 0.5154904 0.6871824 0.7763207 0.6807364 0.2231477\n",
              " [267] 0.3770866 0.4517380 0.3687201 0.3565917 0.1822618 0.3370827 0.3188443\n",
              " [274] 0.3503298 0.4246071 0.4814263 0.3177458 0.5493292 0.6927680 0.3270449\n",
              " [281] 0.5102093 0.3501286 0.2244018 0.4168386 0.5227997 0.4365270 0.2359040\n",
              " [288] 0.5572100 0.4894628 0.3720798 0.6895785 0.6667297 0.4481533 0.5301771\n",
              " [295] 0.6535125 0.3145047 0.6178125 0.1986719 0.4796795 0.2823175 0.4077950\n",
              " [302] 0.4916344 0.4558958 0.4866239 0.3723475 0.5471368 0.3282882 0.3495177\n",
              " [309] 0.4938789 0.3155048 0.6914785 0.5037767 0.6827585 0.4493224 0.4812832\n",
              " [316] 0.2808997 0.6511003 0.5429907 0.4794448 0.7200837 0.6756135 0.3943062\n",
              " [323] 0.7275470 0.2120914 0.3456055 0.3075037 0.2075296 0.3747314 0.5966593\n",
              " [330] 0.7116800 0.3483415 0.4597067 0.6886611 0.3373348 0.2830563 0.4009874\n",
              " [337] 0.6977852 0.4330312 0.5368741 0.3690845 0.3558603 0.4363585 0.5247907\n",
              " [344] 0.4608412 0.6780473 0.2152455 0.7087164 0.3188767 0.1847935 0.6648138\n",
              " [351] 0.5451484 0.3553838 0.1671964 0.2733948 0.2091176 0.1586114 0.3562106\n",
              " [358] 0.2941671 0.5296409 0.7183952 0.3314813 0.7135416 0.5363424 0.3770829\n",
              " [365] 0.7081132 0.5455106 0.3513784 0.4742422 0.3971453 0.6925150 0.3619410\n",
              " [372] 0.5245673 0.3592504 0.3000585 0.1883437 0.2093370 0.1879838 0.6798914\n",
              " [379] 0.3026256 0.6745664 0.4788551 0.5054091 0.2132176 0.5659550 0.5965452\n",
              " [386] 0.2167790 0.4552846 0.5178528 0.5163346 0.5064419 0.5514520 0.3681193\n",
              " [393] 0.3289956 0.2087677 0.7124157 0.6048755 0.6730918 0.6934739 0.2303292\n",
              " [400] 0.5369557 0.6491012 0.6970026 0.6661386 0.3465337 0.5601713 0.3272774\n",
              " [407] 0.7058360 0.2118865 0.6879989 0.6493902 0.7061169 0.3358666 0.3150861\n",
              " [414] 0.5066221 0.6367265 0.3847782 0.1905509 0.6749058 0.6613094 0.6965312\n",
              " [421] 0.1972084 0.6746725 0.3078843 0.2115343 0.3376948 0.4677284 0.7377687\n",
              " [428] 0.1807781 0.3603424 0.3118336 0.1996620 0.3416612 0.4460762 0.4027002\n",
              " [435] 0.1837506 0.4217200 0.3819237 0.2199037 0.7390985 0.2076108 0.3388397\n",
              " [442] 0.3027612 0.4508375 0.3324537 0.7161678 0.3836074 0.5099291 0.6402411\n",
              " [449] 0.6794756 0.5090442 0.6407101 0.3848770 0.6214647 0.5568672 0.3852343\n",
              " [456] 0.4733221 0.6543838 0.3680243 0.2207833 0.3328117 0.5563216 0.6983152\n",
              " [463] 0.1919317 0.3297364 0.1933486 0.3277039 0.6799177 0.5178573 0.6645406\n",
              " [470] 0.4201706 0.6363650 0.3564365 0.6852899 0.3741096 0.5171585 0.6788663\n",
              " [477] 0.3204962 0.3708810 0.7016768 0.6820865 0.3789144 0.3558408 0.4060542\n",
              " [484] 0.3542740 0.6856209 0.3911707 0.2918005 0.4327632 0.7015075 0.3739573\n",
              " [491] 0.2194948 0.4598870 0.6565585 0.2237637 0.4064828 0.6696320 0.6954934\n",
              " [498] 0.2434314 0.3725386 0.1864037 0.2424133 0.1752248 0.2093437 0.3938961\n",
              " [505] 0.5589973 0.6967364 0.4720400 0.3545155 0.2317395 0.1626711 0.1954512\n",
              " [512] 0.5132608 0.3724187 0.5018858 0.6855948 0.4540898 0.5065316 0.4349524\n",
              " [519] 0.6655149 0.7277003 0.6871986 0.3325752 0.3130602 0.2198678 0.6399273\n",
              " [526] 0.7037266 0.3634834 0.5649107 0.4745423 0.7004141 0.5444005 0.3419101\n",
              " [533] 0.4000044 0.1705190 0.6812778 0.3223077 0.5196721 0.6745720 0.1720546\n",
              " [540] 0.3824247 0.1846980 0.7229549 0.7600416 0.7106869 0.5681111 0.8132583\n",
              " [547] 0.6660077 0.5239776 0.3534821 0.1962263 0.6809109 0.6644902 0.1875587\n",
              " [554] 0.5321823 0.2316904 0.3400878 0.6439661 0.4592930 0.3655996 0.3518292\n",
              " [561] 0.2086741 0.2362323 0.4365927 0.4504640 0.3745220 0.5117594 0.3791224\n",
              " [568] 0.4501717 0.6720616 0.7341868 0.3458071 0.1938641 0.4563058 0.4994912\n",
              " [575] 0.3469097 0.3317177 0.6739769 0.3893910 0.2120640 0.3858549 0.3706782\n",
              " [582] 0.3810359 0.5608384 0.7130736 0.2146457 0.2158965 0.7324665 0.4602661\n",
              " [589] 0.7484867 0.7470305 0.6797281 0.3307064 0.1952350 0.3947361 0.3352836\n",
              " [596] 0.6899685 0.4805906 0.6721130 0.5716596 0.3335094 0.6788811 0.5442683\n",
              " [603] 0.3023075 0.3811283 0.6527133 0.2313394 0.3909825 0.6810485 0.3645052\n",
              " [610] 0.2072257 0.3470663 0.6844104 0.3559278 0.6665330 0.7043525 0.4974599\n",
              " [617] 0.5187802 0.3318672 0.5047429 0.4678661 0.3183964 0.3913416 0.2439280\n",
              " [624] 0.4764177 0.3244385 0.2349116 0.6849063 0.1817765 0.3580259 0.6947903\n",
              " [631] 0.2128087 0.5396330 0.4360922 0.3282071 0.3340668 0.6314254 0.4140941\n",
              " [638] 0.7533042 0.6922247 0.3111216 0.4848199 0.4932364 0.6515066 0.4228217\n",
              " [645] 0.4285516 0.2093756 0.2077869 0.4192319 0.1762203 0.6978274 0.6842099\n",
              " [652] 0.3354456 0.6972475 0.5179123 0.1931255 0.3578819 0.6409226 0.7508227\n",
              " [659] 0.4137240 0.7487427 0.5789651 0.3004746 0.3561963 0.3163254 0.6834398\n",
              " [666] 0.4460710 0.3331633 0.3399966 0.2204111 0.4430051 0.4241490 0.3680375\n",
              " [673] 0.7072193 0.3868850 0.4862041 0.3389769 0.6563219 0.4516832 0.3826812\n",
              " [680] 0.3152855 0.6098674 0.3823020 0.1939622 0.6636440 0.4688716 0.6182724\n",
              " [687] 0.5008791 0.7335911 0.3753347 0.5550097 0.3057733 0.1720079 0.1803066\n",
              " [694] 0.7363738 0.5459921 0.1770260 0.3740961 0.3407031 0.1644545 0.6913232\n",
              " [701] 0.4290011 0.5059958 0.6264107 0.2336082 0.3845449 0.6762274 0.1996844\n",
              " [708] 0.3243286 0.3437708 0.6905625 0.2960356 0.2611605 0.4812380 0.3282134\n",
              " [715] 0.6608069 0.2319016 0.3582553 0.2027847 0.3438482 0.3425664 0.6966695\n",
              " [722] 0.6966315 0.2668336 0.3470666 0.8227366 0.7043614 0.7050480 0.3430617\n",
              " [729] 0.3822180 0.5341448 0.4206747 0.2189852 0.5065881 0.6915544 0.4863753\n",
              " [736] 0.6721951 0.5445887 0.7009984 0.6698335 0.3291321 0.5129946 0.3806957\n",
              " [743] 0.3801971 0.7053553 0.2058089 0.7054940 0.3632515 0.7365431 0.7442059\n",
              " [750] 0.4453836 0.5117614 0.3638955 0.4909484 0.5870463 0.4968218 0.4022162\n",
              " [757] 0.1976634 0.1861165 0.3453723 0.6580375 0.3368617 0.3432494 0.6747686\n",
              " [764] 0.3805099 0.5226515 0.6807172 0.1972633 0.4273528 0.6587310 0.3600419\n",
              " [771] 0.3922287 0.4916162 0.6740512 0.5060384 0.5036543 0.1873914 0.3643503\n",
              " [778] 0.3584271 0.6899646 0.5610100 0.2000269 0.3813194 0.5899268 0.2233482\n",
              " [785] 0.2016167 0.7216462 0.3212837 0.6500402 0.3200779 0.5251563 0.2021529\n",
              " [792] 0.3345236 0.4189973 0.3024986 0.2730657 0.7052668 0.4115627 0.6907406\n",
              " [799] 0.5502894 0.3018424 0.5198310 0.3899009 0.3058139 0.3057845 0.2505961\n",
              " [806] 0.3122052 0.3953653 0.7011365 0.3438068 0.5234032 0.2017647 0.7344747\n",
              " [813] 0.5640484 0.3359784 0.2023040 0.1938369 0.3863642 0.3063883 0.7453474\n",
              " [820] 0.2252125 0.3573849 0.2050931 0.1826631 0.7536356 0.6814686 0.4700915\n",
              " [827] 0.7220183 0.2050116 0.4946746 0.7123372 0.5151073 0.3516713 0.5424700\n",
              " [834] 0.6736383 0.2926346 0.6999483 0.5405632 0.6289813 0.6638329 0.2328617\n",
              " [841] 0.6633798 0.6553381 0.4872648 0.3727235 0.7423135 0.6726420 0.3674213\n",
              " [848] 0.3235321 0.3409071 0.5888202 0.6936325 0.1645138 0.6747208 0.3180181\n",
              " [855] 0.1734904 0.2350800 0.5275796 0.3777281 0.5785076 0.2005678 0.5098136\n",
              " [862] 0.5394316 0.3355190 0.4924854 0.3557341 0.7291637 0.3920327 0.3082183\n",
              " [869] 0.1981442 0.3442085 0.4936829 0.4791820 0.5258626 0.1983067 0.3108652\n",
              " [876] 0.6897069 0.1986156 0.6852762 0.6615373 0.3592635 0.6895552 0.1877140\n",
              " [883] 0.6232115 0.6725103 0.6666688 0.3624805 0.6804679 0.3874869 0.3457728\n",
              " [890] 0.3511569 0.3454597 0.4719527 0.3424596 0.5579861 0.6789321 0.4392111\n",
              " [897] 0.3175172 0.6359986 0.6820954 0.6930377 0.3718175 0.6634996 0.4916966\n",
              " [904] 0.3284293 0.5230190 0.2192964 0.5334923 0.1930378 0.6872345 0.6338411\n",
              " [911] 0.3102326 0.3648194 0.5009198 0.6566916 0.3155579 0.3714186 0.5392364\n",
              " [918] 0.3284278 0.1748796 0.3379010 0.6410775 0.3234761 0.3646966 0.2032402\n",
              " [925] 0.5039630 0.5187364 0.3547288 0.5246025 0.7196245 0.3281772 0.3500811\n",
              " [932] 0.1593601 0.5680212 0.6845796 0.1929020 0.5019153 0.3087444 0.3103695\n",
              " [939] 0.4951862 0.3582210 0.3652631 0.7216513 0.1702863 0.7013954 0.4979072\n",
              " [946] 0.7035639 0.2587681 0.4534546 0.3475824 0.3442590 0.2078483 0.6894103\n",
              " [953] 0.3344362 0.6700109 0.6480140 0.4993187 0.7098505 0.3480609 0.4472760\n",
              " [960] 0.5880377 0.3735649 0.2000116 0.3352639 0.6447382 0.1916482 0.3838483\n",
              " [967] 0.2266173 0.6557150 0.5415524 0.3403595 0.1855625 0.3427086 0.6657069\n",
              " [974] 0.4791535 0.2995414 0.1938663 0.5153902 0.3235568 0.3436474 0.3745598\n",
              " [981] 0.3358332 0.2867634 0.1919798 0.3967083 0.5054943 0.5007699 0.3319871\n",
              " [988] 0.3230919 0.7515684 0.6855121 0.5259674 0.5534800 0.3630765 0.7021591\n",
              " [995] 0.4135716 0.2125445 0.6679087 0.3781993 0.6684266 0.3802601 0.6400711\n",
              "[1002] 0.3529805 0.6467945 0.7039185 0.3159064 0.4935323 0.6853100 0.3645645\n",
              "[1009] 0.4756397 0.6838838 0.3426743 0.3678487 0.2300516 0.3143407 0.5135745\n",
              "[1016] 0.3524644 0.2337266 0.7214681 0.1897692 0.1857944 0.2116455 0.2012509\n",
              "[1023] 0.5626716 0.4764785 0.3677334 0.2193800 0.6364486 0.3609964 0.5239434\n",
              "[1030] 0.3104922 0.6866821 0.3171333 0.5043516 0.4272659 0.3585641 0.3342332\n",
              "[1037] 0.7690796 0.1982162 0.6772514 0.7208965 0.3967851 0.5701351 0.3501511\n",
              "[1044] 0.6532532 0.4391665 0.3455451 0.6337635 0.4965762 0.6695488 0.7586856\n",
              "[1051] 0.3778616 0.4996278 0.6392390 0.4220237 0.7239807 0.7090310 0.4365697\n",
              "[1058] 0.7233749 0.4796575 0.5283180 0.3903984 0.5489517 0.6927763 0.1915090\n",
              "[1065] 0.2442973 0.1803981 0.2238765 0.3349864 0.2972362 0.6518919 0.6731431\n",
              "[1072] 0.1963970 0.6721328 0.7776018 0.2094846 0.6519770 0.3556322 0.2946769\n",
              "[1079] 0.6742725 0.4709563 0.1974967 0.3414855 0.6667373 0.3865733 0.3731290\n",
              "[1086] 0.7476243 0.4610306 0.3394361 0.4982685 0.3870896 0.6869211 0.2823976\n",
              "[1093] 0.2237373 0.6653726 0.3029886 0.3889765 0.3684263 0.6585658 0.6186752\n",
              "[1100] 0.3078878 0.3208785 0.1805529 0.4458837 0.3817179 0.4012275 0.3828379\n",
              "[1107] 0.4833144 0.4156362 0.3848478 0.5184603 0.4615148 0.4103026 0.2257021\n",
              "[1114] 0.1971301 0.6850214 0.4655113 0.5199682 0.6943310 0.2023147 0.3575104\n",
              "[1121] 0.1594894 0.3993911 0.4907866 0.2068404 0.1839038 0.5431617 0.3476759\n",
              "[1128] 0.3663493 0.1775008 0.5792147 0.2797307 0.7119892 0.5459391 0.7017980\n",
              "[1135] 0.4135877 0.3328498 0.5803000 0.4903708 0.2034977 0.4944774 0.6850565\n",
              "[1142] 0.4475262 0.7076016 0.6988393 0.4283243 0.4867546 0.4980273 0.2194726\n",
              "[1149] 0.5288566 0.4955562 0.3518402 0.3038102 0.6122545 0.5297880 0.5030454\n",
              "[1156] 0.6545630 0.3635070 0.3948090 0.3034557 0.7439234 0.5007552 0.6598078\n",
              "[1163] 0.6911451 0.3878086 0.6848982 0.6526364 0.6838398 0.4657808 0.4090703\n",
              "[1170] 0.3531182 0.1842532 0.4480991 0.5233810 0.6175972 0.6584830 0.6793935\n",
              "[1177] 0.2282259 0.5087719 0.3725305 0.1881787 0.3799574 0.4711026 0.7269867\n",
              "[1184] 0.7346760 0.3595285 0.4154133 0.2021693 0.7195446 0.5609800 0.3723034\n",
              "[1191] 0.2348810 0.3235203 0.4708051 0.2369234 0.5397239 0.4286781 0.6980769\n",
              "[1198] 0.3498020 0.6865647 0.1699279 0.7343530 0.3774055 0.1768186 0.4686746\n",
              "[1205] 0.6832150 0.5281356 0.1531264 0.2305841 0.4525270 0.3673919 0.5228710\n",
              "[1212] 0.4207217 0.6932630 0.3628527 0.2059703 0.3228298 0.5361844 0.4960013\n",
              "[1219] 0.6739615 0.7326931 0.3274940 0.6657121 0.5338567 0.6973044 0.6934339\n",
              "[1226] 0.2010113 0.5112506 0.6369658 0.5539087 0.6683745 0.5181175 0.1933792\n",
              "[1233] 0.3285991 0.3480184 0.2105756 0.6998714 0.3438559 0.6935521 0.3613752\n",
              "[1240] 0.6749539 0.3763782 0.3448913 0.6158663 0.3262404 0.6659638 0.2017854\n",
              "[1247] 0.1687668 0.2169881 0.3125698 0.3448193 0.6792665 0.3704852 0.7104579\n",
              "[1254] 0.3001300 0.6516183 0.6712915 0.7002916 0.5598796 0.7069104 0.4157871\n",
              "[1261] 0.5415961 0.6302119 0.1549422 0.4018723 0.5626639 0.1803857 0.6791092\n",
              "[1268] 0.3569146 0.1682224 0.4441091 0.3602875 0.3442798 0.5008444 0.5540809\n",
              "[1275] 0.7148174 0.3759305 0.3413651 0.3829217 0.4782474 0.7373371 0.3391136\n",
              "[1282] 0.3155411 0.4033000 0.6888541 0.3360388 0.7364072 0.1918518 0.5845126\n",
              "[1289] 0.5084958 0.7102540 0.6960716 0.6844564 0.3330483 0.3625299 0.3328962\n",
              "[1296] 0.6720262 0.3508040 0.3671089 0.2183360 0.3315614 0.5053608 0.6473756\n",
              "[1303] 0.3635089 0.6781490 0.2903924 0.1732432 0.4844234 0.2988452 0.7016539\n",
              "[1310] 0.4628149 0.3491096 0.4899242 0.4677264 0.6938620 0.6426314 0.4422675\n",
              "[1317] 0.2254376 0.5053926 0.3293591 0.3999786 0.3555933 0.7753774 0.6756459\n",
              "[1324] 0.3961560 0.7571242 0.3502444 0.3644434 0.5090741 0.6974624 0.4039531\n",
              "[1331] 0.2186649 0.1977374 0.4647797 0.6379666 0.4327169 0.7142966 0.6932422\n",
              "[1338] 0.4354093 0.4094491 0.3564729 0.1744209 0.5446046 0.3559253 0.5068941\n",
              "[1345] 0.4070018 0.7027828 0.6816528 0.3344209 0.6307732 0.4388678 0.7011432\n",
              "[1352] 0.2887019 0.3705220 0.3264010 0.6810919 0.2049607 0.6763051 0.3987329\n",
              "[1359] 0.3580604 0.3113536 0.7054128 0.6856334 0.5593726 0.3842121 0.2726684\n",
              "[1366] 0.5091479 0.2473037 0.5084089 0.5358942 0.5686669 0.3786718 0.5229037\n",
              "[1373] 0.5550935 0.4738246 0.4378762 0.3208970 0.2170610 0.6630778 0.6156062\n",
              "[1380] 0.1734879 0.6662587 0.3278437 0.6990168 0.3197940 0.4086393 0.3547714\n",
              "[1387] 0.6572833 0.3390216 0.2839288 0.2248620 0.5367367 0.4297898 0.4262111\n",
              "[1394] 0.4405929 0.3542646 0.6849329 0.3965502 0.7229391 0.5025080 0.4609826\n",
              "[1401] 0.5239689 0.4526099 0.4045031 0.2127674 0.5610192 0.3668102 0.7333783\n",
              "[1408] 0.4679300 0.7059156 0.1715362 0.5141791 0.4412376 0.3572850 0.3149925\n",
              "[1415] 0.5736754 0.2041908 0.2141526 0.4922044 0.3679852 0.7171391 0.2094431\n",
              "[1422] 0.5411297 0.3608522 0.6621446 0.7006363 0.4839300 0.3988119 0.6670199\n",
              "[1429] 0.3348480 0.3342554 0.6836116 0.5541621 0.4954956 0.6796084 0.3208838\n",
              "[1436] 0.2904538 0.2300577 0.6572190 0.4644399 0.6706330 0.3900868 0.4423707\n",
              "[1443] 0.2123380 0.6399964 0.4177376 0.6886791 0.5646864 0.2051428 0.6432116\n",
              "[1450] 0.5399240 0.3584254 0.6779297 0.3931715 0.1999623 0.5130842 0.3402412\n",
              "[1457] 0.3133357 0.1855141 0.6853539 0.4735593 0.3861710 0.6933606 0.4950067\n",
              "[1464] 0.6418849 0.6949414 0.5123890 0.3635365 0.6728760 0.4010200 0.4877604\n",
              "[1471] 0.4105740 0.2353731 0.4176095 0.2755995 0.3787003 0.7317820 0.4826236\n",
              "[1478] 0.3440837 0.3725744 0.6607610 0.5369125 0.3206679 0.5244963 0.6632271\n",
              "[1485] 0.6937987 0.6884144 0.6827920 0.3665240 0.6687595 0.6658716 0.3681754\n",
              "[1492] 0.3180207 0.3047558 0.3475258 0.6638707 0.7387553 0.1602606 0.4466458\n",
              "[1499] 0.2186015 0.3668618 0.4827245 0.2997676 0.3581387 0.4876429 0.5135560\n",
              "[1506] 0.3847927 0.7288961 0.3055225 0.4919350 0.3881283 0.6448474 0.4130740\n",
              "[1513] 0.5334343 0.6725241 0.2618309 0.7177338 0.6876029 0.4350028 0.1890959\n",
              "[1520] 0.3923869 0.3212633 0.6751015 0.5349239 0.5736104 0.4824442 0.6838863\n",
              "[1527] 0.4293094 0.4103756 0.3038267 0.5073066 0.4435589 0.3709913 0.5042720\n",
              "[1534] 0.2432058 0.3470654 0.1691496 0.2015538 0.3265306 0.3341568 0.1688167\n",
              "[1541] 0.2907029 0.3631135 0.3259406 0.7000798 0.3836379 0.3588658 0.5094749\n",
              "[1548] 0.5863642 0.3709695 0.7418879 0.4797140 0.3025884 0.5385851 0.1748511\n",
              "[1555] 0.6753516 0.3633296 0.5195233 0.5641580 0.3195495 0.1880500 0.6660505\n",
              "[1562] 0.3930833 0.3614456 0.7082977 0.5079604 0.5253775 0.3179706 0.5799538\n",
              "[1569] 0.7181758 0.3833611 0.3120128 0.6941519 0.4770992 0.1891680 0.5304486\n",
              "[1576] 0.6658335 0.5120648 0.4656760 0.4051250 0.3688752 0.6209821 0.1807168\n",
              "[1583] 0.4434002 0.3652494 0.4004806 0.3552309 0.4765149 0.7714336 0.3265883\n",
              "[1590] 0.5239289 0.3474012 0.1908058 0.2142884 0.2175146 0.6828373 0.4379497\n",
              "[1597] 0.2151776 0.4705114 0.2215563 0.6619785 0.3213622 0.4908238 0.2026182\n",
              "[1604] 0.6863741 0.3315496 0.7743884 0.5161782 0.2252701 0.4234572 0.2102481\n",
              "[1611] 0.2167163 0.4578590 0.3343445 0.3009864 0.4730839 0.2294850 0.4836668\n",
              "[1618] 0.3809684 0.4099125 0.3593894 0.3702218 0.7178751 0.5130056 0.4615033\n",
              "[1625] 0.3810692 0.7200990 0.7346025 0.3815809 0.5319559 0.3641756 0.2225837\n",
              "[1632] 0.3469504 0.3572874 0.3251271 0.4968205 0.6617962 0.5114998 0.2869877\n",
              "[1639] 0.3094418 0.6539505 0.4701968 0.1969454 0.3785259 0.2141161 0.6707283\n",
              "[1646] 0.3179938 0.4065099 0.2032201 0.5250371 0.5199792 0.1757737 0.3813662\n",
              "[1653] 0.4038729 0.1988186 0.1978846 0.5028223 0.3943476 0.4811059 0.3586131\n",
              "[1660] 0.4965158 0.3569162 0.4975049 0.6319786 0.4017515 0.4488549 0.3895207\n",
              "[1667] 0.5335370 0.1886287 0.6608336 0.1688450 0.4211305 0.4350626 0.3848436\n",
              "[1674] 0.4354411 0.4968346 0.1976878 0.4012111 0.2016473 0.7426327 0.4826453\n",
              "[1681] 0.3226738 0.6721745 0.4663415 0.1700060 0.1969858 0.6535760 0.3642052\n",
              "[1688] 0.5051455 0.3461256 0.5855997 0.4573141 0.6960991 0.5013545 0.2507292\n",
              "[1695] 0.5247636 0.4448977 0.7057569 0.4298598 0.6346324 0.3389783 0.2903859\n",
              "[1702] 0.2596913 0.3755177 0.3341810 0.5127156 0.1784339 0.4211049 0.7475504\n",
              "[1709] 0.6962336 0.3454395 0.5104389 0.7031469 0.5225258 0.3365708 0.3282847\n",
              "[1716] 0.7091748 0.6748401 0.4165892 0.4610203 0.7011639 0.1999774 0.6246631\n",
              "[1723] 0.3644337 0.3201154 0.5535278 0.2485069 0.1878692 0.3345577 0.6565814\n",
              "[1730] 0.7118109 0.2048495 0.3305262 0.6488862 0.6581269 0.2960657 0.2132041\n",
              "[1737] 0.2023906 0.3860948 0.6887572 0.6815676 0.3934775 0.3667404 0.1997655\n",
              "[1744] 0.1883619 0.3861673 0.7217046 0.1842272 0.7588312 0.4902622 0.6556924\n",
              "[1751] 0.3563959 0.5435265 0.7027139 0.3544406 0.3464055 0.4735380 0.2192738\n",
              "[1758] 0.4479209 0.5551089 0.6567879 0.4773862 0.3240085 0.6448337 0.6527139\n",
              "[1765] 0.6901648 0.3420050 0.3125777 0.3427932 0.3690197 0.4124263 0.3552248\n",
              "[1772] 0.1848497 0.6372000 0.3815153 0.3355893 0.3946301 0.3388396 0.3731380\n",
              "[1779] 0.5378949 0.3939661 0.6832798 0.6859061 0.3652697 0.7521314 0.5445806\n",
              "[1786] 0.3294622 0.3342127 0.1623804 0.3230542 0.2697520 0.7185244 0.3351555\n",
              "[1793] 0.2158023 0.3741424 0.2875595 0.3348039 0.3654942 0.2989520 0.7161274\n",
              "[1800] 0.7099481 0.2059680 0.5368902 0.4336380 0.3489415 0.2164584 0.3756269\n",
              "[1807] 0.3270273 0.5363077 0.4535735 0.3030501 0.3464097 0.5302067 0.3468554\n",
              "[1814] 0.6677875 0.2001591 0.4998912 0.5740745 0.1910570 0.4420503 0.7321826\n",
              "[1821] 0.5125147 0.4621249 0.2228396 0.1768615 0.7212547 0.3631246 0.5706329\n",
              "[1828] 0.3381903 0.3540190 0.1791951 0.6968763 0.3786781 0.2733925 0.1705331\n",
              "[1835] 0.5667218 0.4990575 0.6471173 0.3266644 0.4329615 0.3797215 0.7106551\n",
              "[1842] 0.2116793 0.3269490 0.2150157 0.3740959 0.3378624 0.2980460 0.6521436\n",
              "[1849] 0.6771185 0.4956279 0.5054852 0.3445628 0.2203618 0.4226303 0.6206882\n",
              "[1856] 0.7126571 0.6895405 0.1561380 0.6701490 0.3690201 0.4156221 0.4134644\n",
              "[1863] 0.1667541 0.3747315 0.4842285 0.2467274 0.4659169 0.3336551 0.3736898\n",
              "[1870] 0.3494366 0.4121129 0.5341591 0.6583889 0.4170143 0.5075896 0.3393671\n",
              "[1877] 0.5186520 0.4700332 0.5666339 0.3594809 0.6760989 0.5176650 0.3331252\n",
              "[1884] 0.6514418 0.1989189 0.3355792 0.3303451 0.1676763 0.4485783 0.7271129\n",
              "[1891] 0.5023334 0.4425923 0.3689282 0.5052045 0.5277511 0.3427432 0.4507450\n",
              "[1898] 0.3959919 0.6855342 0.3800525 0.7097580 0.3652665 0.4328210 0.3204536\n",
              "[1905] 0.6329049 0.6690851 0.5533590 0.3133100 0.5874823 0.5686618 0.2003235\n",
              "[1912] 0.4648742 0.7138142 0.6707057 0.6717288 0.7029636 0.7116647 0.4895676\n",
              "[1919] 0.4338064 0.2546196 0.4962410 0.6637616 0.6497943 0.5539165 0.1982255\n",
              "[1926] 0.5225414 0.2470202 0.2125551 0.7227883 0.1816277 0.2161144 0.1877865\n",
              "[1933] 0.3271432 0.1944354 0.3767434 0.2132932 0.3944618 0.3592342 0.2925299\n",
              "[1940] 0.3553110 0.6682969 0.4891394 0.3504708 0.5068722 0.2182592 0.3999551\n",
              "[1947] 0.6637770 0.4646234 0.5122751 0.3256596 0.6808117 0.3234091 0.4810458\n",
              "[1954] 0.3160823 0.7313744 0.7037189 0.6785698 0.6548072 0.5003398 0.3675903\n",
              "[1961] 0.6653095 0.5761789 0.2243024 0.2182598 0.6700559 0.3493536 0.2017114\n",
              "[1968] 0.3577327 0.5088871 0.3480234 0.4543857 0.2982584 0.3467123 0.2066969\n",
              "[1975] 0.6817778 0.2151810 0.3708379 0.6368184 0.4454545 0.6823433 0.3291121\n",
              "[1982] 0.3598052 0.3229318 0.3275172 0.4859349 0.7004232 0.7345000 0.1670493\n",
              "[1989] 0.3675481 0.6495229 0.4013858 0.5057784 0.6477985 0.1598804 0.3084989\n",
              "[1996] 0.5540020 0.3119590 0.6463141 0.3410247 0.2798103 0.3273360 0.7677720\n",
              "[2003] 0.1873982 0.5875498 0.3943863 0.1917556 0.3518058 0.3346989 0.6579212\n",
              "[2010] 0.6912784 0.7141220 0.1942478 0.3402846 0.4629862 0.6518357 0.4335171\n",
              "[2017] 0.4569957 0.2087818 0.3499537 0.6465960 0.1863306 0.2124034 0.6586523\n",
              "[2024] 0.3696123 0.3770962 0.1660752 0.6531655 0.3117073 0.3389645 0.3587463\n",
              "[2031] 0.5240138 0.5529346 0.3659234 0.3411888 0.5728808 0.5130326 0.3324206\n",
              "[2038] 0.3148321 0.3026782 0.7558256 0.2040456 0.7570465 0.3621445 0.4232590\n",
              "[2045] 0.4555549 0.3632827 0.3366786 0.2216255 0.3289341 0.3715162 0.3735126\n",
              "[2052] 0.6662841 0.2723873 0.7094648 0.4484674 0.1897167 0.1573098 0.3499423\n",
              "[2059] 0.7195621 0.3329919 0.6788864 0.2971197 0.1915596 0.6729304 0.6847636\n",
              "[2066] 0.3148814 0.2084588 0.2533111 0.3488235 0.6806032 0.6227648 0.3585877\n",
              "[2073] 0.6083983 0.3030121 0.5047204 0.5170617 0.2740677 0.5364313 0.3845533\n",
              "[2080] 0.3192211 0.5139532 0.6650406 0.6946891 0.7109613 0.5440714 0.6661213\n",
              "[2087] 0.5298256 0.7198829 0.3652351 0.4316480 0.3342241 0.3797385 0.1858163\n",
              "[2094] 0.5350498 0.3930178 0.6837278 0.3476427 0.5393821 0.5336364 0.2134952\n",
              "[2101] 0.3492919 0.3511636 0.3966634 0.7186385 0.7096413 0.5195620 0.2889466\n",
              "[2108] 0.2034114 0.4215787 0.3150576 0.1925562 0.5652016 0.6786935 0.2221674\n",
              "[2115] 0.7238287 0.3540115 0.3848827 0.3769297 0.2976124 0.7211267 0.3224160\n",
              "[2122] 0.3264182 0.6646026 0.3542931 0.3151809 0.6609410 0.6891219 0.5571836\n",
              "[2129] 0.6928971 0.2507588 0.6580404 0.6837391 0.3070033 0.1755596 0.6853339\n",
              "[2136] 0.1808971 0.7162365 0.1918910 0.5252963 0.3492323 0.3958636 0.7465804\n",
              "[2143] 0.2080678 0.4640437 0.1759695 0.4496489 0.3441287 0.4909320 0.4123607\n",
              "[2150] 0.3699664 0.5557591 0.3684781 0.6747274 0.2208349 0.6142247 0.6412388\n",
              "[2157] 0.3385521 0.4797014 0.1845469 0.5392082 0.4450389 0.1972059 0.4845409\n",
              "[2164] 0.7272107 0.6656455 0.5203812 0.4710923 0.6135490 0.7090288 0.3190385\n",
              "[2171] 0.5399401 0.5691703 0.1961704 0.6998659 0.6682684 0.4082482 0.3201215\n",
              "[2178] 0.2054796 0.7006362 0.2081832 0.3361958 0.3920442 0.3069748 0.7019524\n",
              "[2185] 0.3467721 0.2351238 0.5263167 0.3781029 0.3727686 0.4313046 0.3809393\n",
              "[2192] 0.3636185 0.2498540 0.3763691 0.6744657 0.3659372 0.7566799 0.3309125\n",
              "[2199] 0.3216185 0.5595637 0.6705988 0.5127997 0.6747220 0.6952630 0.4573770\n",
              "[2206] 0.5353992 0.4824034 0.4980306 0.6974456 0.7569178 0.7207985 0.3588159\n",
              "[2213] 0.6734782 0.6957714 0.3364377 0.3761775 0.3432793 0.1912665 0.4096923\n",
              "[2220] 0.6895691 0.6582053 0.4106814 0.7429405 0.4212210 0.5210963 0.5645211\n",
              "[2227] 0.4987013 0.5240201 0.3294891 0.3495170 0.4607076 0.2045429 0.4054940\n",
              "[2234] 0.6739147 0.3621790 0.5141686 0.4899317 0.6547080 0.4203852 0.3581266\n",
              "[2241] 0.4112185 0.2339202 0.4042644 0.3482363 0.6816843 0.3733628 0.1887080\n",
              "[2248] 0.1840795 0.4092726 0.3635984 0.4568157 0.3414310 0.4728207 0.3355237\n",
              "[2255] 0.3101615 0.4910082 0.3474583 0.3213611 0.2938740 0.3711812 0.7151270\n",
              "[2262] 0.2250093 0.3146586 0.3248477 0.4377808 0.4863335 0.4277841 0.6797095\n",
              "[2269] 0.3611015 0.3024610 0.3601931 0.5399487 0.3753971 0.5047397 0.3243043\n",
              "[2276] 0.7600908 0.5292882 0.3155614 0.4598390 0.3772198 0.6236700 0.7254028\n",
              "[2283] 0.6771402 0.3351239 0.6608270 0.6815812 0.3092612 0.4064258 0.3510861\n",
              "[2290] 0.3699431 0.7115385 0.3280100 0.3810730 0.3438492 0.1843851 0.3338871\n",
              "[2297] 0.1811006 0.5098964 0.3403996 0.2292078 0.2242838 0.1969755 0.3195479\n",
              "[2304] 0.1654493 0.6995101 0.3744671 0.4807704 0.4877888 0.3456800 0.4306058\n",
              "[2311] 0.6301020 0.5672518 0.2910876 0.6882797 0.3101176 0.6894562 0.3367651\n",
              "[2318] 0.5302916 0.6857761 0.4969832 0.7030116 0.4834569 0.3714806 0.4127251\n",
              "[2325] 0.3130088 0.2139862 0.5209338 0.2142010 0.3105396 0.6540493 0.6729353\n",
              "[2332] 0.3239810 0.6817393 0.6806226 0.5339900 0.2353803 0.6361414 0.2902784\n",
              "[2339] 0.4285251 0.4995239 0.3316284 0.4290434 0.5079798 0.4054182 0.3322013\n",
              "[2346] 0.3235360 0.2140815 0.3489246 0.6561356 0.1918722 0.3929198 0.3354727\n",
              "[2353] 0.3599179 0.3508585 0.3371667 0.3477894 0.5374576 0.1998572 0.7023611\n",
              "[2360] 0.6825650 0.5094140 0.3415112 0.3930711 0.3798798 0.5260556 0.3386949\n",
              "[2367] 0.6666878 0.7077859 0.5645963 0.5756495 0.3550700 0.2999820 0.4987985\n",
              "[2374] 0.3485429 0.1882533 0.4568562 0.6837087 0.6796007 0.3488407 0.3489805\n",
              "[2381] 0.5160697 0.5517954 0.3573930 0.4837572 0.6362246 0.6827410 0.5481016\n",
              "[2388] 0.5597953 0.3473132 0.6549865 0.7015435 0.5044452 0.6937713 0.4435921\n",
              "[2395] 0.5373380 0.6290573 0.4852192 0.4660384 0.4198438 0.3683884 0.7125614\n",
              "[2402] 0.3005238 0.6871867 0.2936797 0.6670685 0.7136827 0.4781675 0.7076327\n",
              "[2409] 0.3115426 0.4747846 0.4781695 0.3783479 0.4892617 0.1893218 0.3655174\n",
              "[2416] 0.3667650 0.4003480 0.3563824 0.5475357 0.7048238 0.4043372 0.7044901\n",
              "[2423] 0.3402307 0.3482834 0.6810123 0.6590388 0.7240095 0.3691259 0.2906419\n",
              "[2430] 0.4926828 0.3284364 0.2035766 0.5602229 0.3473768 0.6893471 0.3619981\n",
              "[2437] 0.3789133 0.1930557 0.3282736 0.3675148 0.3120562 0.5259563 0.4902115\n",
              "[2444] 0.3175306 0.5367524 0.4924595 0.4368848 0.3822821 0.7149580 0.5650987\n",
              "[2451] 0.4940719 0.3334427 0.5431663 0.3698990 0.7033565 0.6654208 0.5360629\n",
              "[2458] 0.1908425 0.6654346 0.3904709 0.3846618 0.6130913 0.4397437 0.6933310\n",
              "[2465] 0.3579767 0.1932292 0.7004037 0.5144094 0.3654244 0.3107541 0.3244828\n",
              "[2472] 0.3103899 0.5532940 0.3775313 0.3712763 0.5059559 0.6579354 0.3599827\n",
              "[2479] 0.2187143 0.5233572 0.7022975 0.7319326 0.3093765 0.2466678 0.3541021\n",
              "[2486] 0.6666426 0.4897477 0.3294079 0.3648182 0.6477901 0.3220014 0.6618593\n",
              "[2493] 0.6618182 0.2336732 0.6816222 0.3541597 0.4215811 0.6421844 0.3495368\n",
              "[2500] 0.6452686 0.3336907 0.6836336 0.4360746 0.5627252 0.7449431 0.4936844\n",
              "[2507] 0.4385931 0.6972768 0.7738042 0.3604136 0.6372827 0.7202181 0.2226761\n",
              "[2514] 0.4487663 0.3636624 0.3672722 0.6707925 0.2405673 0.6635104 0.3128578\n",
              "[2521] 0.6777875 0.6661257 0.5633009 0.2065963 0.3666195 0.5743182 0.3223181\n",
              "[2528] 0.5211991 0.6958303 0.3127989 0.2830750 0.3592427 0.3831012 0.3540520\n",
              "[2535] 0.6695562 0.1957750 0.3705170 0.3292166 0.6662931 0.7337259 0.2390527\n",
              "[2542] 0.3432545 0.4945702 0.4982652 0.4783613 0.3782780 0.3260522 0.7246793\n",
              "[2549] 0.4797688 0.3174729 0.2184057 0.3207250 0.3743883 0.3348971 0.4619242\n",
              "[2556] 0.3893641 0.6388872 0.6746472 0.4787099 0.7185338 0.3373235 0.3476226\n",
              "[2563] 0.4618831 0.3631990 0.3662168 0.5056796 0.7182080 0.5641751 0.7505649\n",
              "[2570] 0.7101791 0.5255405 0.2788856 0.1867974 0.3179299 0.4714756 0.6873681\n",
              "[2577] 0.4682988 0.4215671 0.3243441 0.1960103 0.2109034 0.6704828 0.3906288\n",
              "[2584] 0.3306388 0.2980705 0.3157782 0.1939480 0.1756044 0.5023195 0.2956251\n",
              "[2591] 0.1881391 0.3463263 0.3151971 0.2942298 0.4977618 0.4041293 0.3981476\n",
              "[2598] 0.3566058 0.2039160 0.3849267 0.4730348 0.1723136 0.3510717 0.1928563\n",
              "[2605] 0.3424155 0.2056082 0.2570489 0.6699484 0.3434235 0.6608302 0.3816077\n",
              "[2612] 0.4596919 0.6506767 0.4913799 0.5123295 0.5925030 0.6746314 0.3278646\n",
              "[2619] 0.4870015 0.5043822 0.1800259 0.3533115 0.6422584 0.5234361 0.6322872\n",
              "[2626] 0.3063327 0.7017714 0.7324072"
            ]
          },
          "metadata": {}
        }
      ]
    },
    {
      "cell_type": "code",
      "source": [
        "summary(prediction_model)"
      ],
      "metadata": {
        "id": "Wzku0cVBfqzc",
        "colab": {
          "base_uri": "https://localhost:8080/",
          "height": 52
        },
        "outputId": "f259e197-1d4d-4a4f-8833-7e4e6f356c6d"
      },
      "execution_count": 45,
      "outputs": [
        {
          "output_type": "display_data",
          "data": {
            "text/plain": [
              "   Min. 1st Qu.  Median    Mean 3rd Qu.    Max. \n",
              " 0.1512  0.3317  0.4184  0.4504  0.6103  0.8227 "
            ]
          },
          "metadata": {}
        }
      ]
    },
    {
      "cell_type": "code",
      "source": [],
      "metadata": {
        "id": "6LqfNQrIkpCl"
      },
      "execution_count": null,
      "outputs": []
    }
  ]
}