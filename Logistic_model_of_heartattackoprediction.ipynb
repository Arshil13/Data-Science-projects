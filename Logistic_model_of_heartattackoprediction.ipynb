{
  "nbformat": 4,
  "nbformat_minor": 0,
  "metadata": {
    "colab": {
      "provenance": [],
      "gpuType": "T4"
    },
    "kernelspec": {
      "name": "ir",
      "display_name": "R"
    },
    "language_info": {
      "name": "R"
    },
    "accelerator": "GPU"
  },
  "cells": [
    {
      "cell_type": "code",
      "execution_count": null,
      "metadata": {
        "id": "x1Be1heOlKGR"
      },
      "outputs": [],
      "source": [
        "heart_data <- read.csv('/content/heart_attack_prediction_dataset.csv')"
      ]
    },
    {
      "cell_type": "code",
      "source": [
        "sum(is.na(heart_data))"
      ],
      "metadata": {
        "colab": {
          "base_uri": "https://localhost:8080/",
          "height": 34
        },
        "id": "rC5r-Tm3liAI",
        "outputId": "706623c8-52da-41f1-ace9-b1f11f16d84c"
      },
      "execution_count": null,
      "outputs": [
        {
          "output_type": "display_data",
          "data": {
            "text/html": [
              "0"
            ],
            "text/markdown": "0",
            "text/latex": "0",
            "text/plain": [
              "[1] 0"
            ]
          },
          "metadata": {}
        }
      ]
    },
    {
      "cell_type": "code",
      "source": [
        "dim(heart_data)"
      ],
      "metadata": {
        "colab": {
          "base_uri": "https://localhost:8080/",
          "height": 34
        },
        "id": "3IZ9ZRtwlkkB",
        "outputId": "132f2f15-a5bb-4f19-a02c-97b76419fd42"
      },
      "execution_count": null,
      "outputs": [
        {
          "output_type": "display_data",
          "data": {
            "text/html": [
              "<style>\n",
              ".list-inline {list-style: none; margin:0; padding: 0}\n",
              ".list-inline>li {display: inline-block}\n",
              ".list-inline>li:not(:last-child)::after {content: \"\\00b7\"; padding: 0 .5ex}\n",
              "</style>\n",
              "<ol class=list-inline><li>8763</li><li>26</li></ol>\n"
            ],
            "text/markdown": "1. 8763\n2. 26\n\n\n",
            "text/latex": "\\begin{enumerate*}\n\\item 8763\n\\item 26\n\\end{enumerate*}\n",
            "text/plain": [
              "[1] 8763   26"
            ]
          },
          "metadata": {}
        }
      ]
    },
    {
      "cell_type": "code",
      "source": [
        "str(heart_data)"
      ],
      "metadata": {
        "colab": {
          "base_uri": "https://localhost:8080/"
        },
        "id": "cpR0l1NDlomM",
        "outputId": "a35f22d0-9b9c-4b97-cae0-155472897940"
      },
      "execution_count": 47,
      "outputs": [
        {
          "output_type": "stream",
          "name": "stdout",
          "text": [
            "'data.frame':\t8763 obs. of  21 variables:\n",
            " $ Age                            : int  67 21 21 84 66 54 90 84 20 43 ...\n",
            " $ Sex                            : chr  \"Male\" \"Male\" \"Female\" \"Male\" ...\n",
            " $ Cholesterol                    : int  208 389 324 383 318 297 358 220 145 248 ...\n",
            " $ Heart.Rate                     : int  72 98 72 73 93 48 84 107 68 55 ...\n",
            " $ Diabetes                       : int  0 1 1 1 1 1 0 0 1 0 ...\n",
            " $ Family.History                 : int  0 1 0 1 1 1 0 0 0 1 ...\n",
            " $ Smoking                        : int  1 1 0 1 1 1 1 1 1 1 ...\n",
            " $ Obesity                        : int  0 1 0 0 1 0 0 1 1 1 ...\n",
            " $ Alcohol.Consumption            : int  0 1 0 1 0 1 1 1 0 1 ...\n",
            " $ Exercise.Hours.Per.Week        : num  4.17 1.81 2.08 9.83 5.8 ...\n",
            " $ Diet                           : chr  \"Average\" \"Unhealthy\" \"Healthy\" \"Average\" ...\n",
            " $ Previous.Heart.Problems        : int  0 1 1 1 1 1 0 0 0 0 ...\n",
            " $ Medication.Use                 : int  0 0 1 0 0 1 0 1 0 0 ...\n",
            " $ Stress.Level                   : int  9 1 9 9 6 2 7 4 5 4 ...\n",
            " $ Sedentary.Hours.Per.Day        : num  6.62 4.96 9.46 7.65 1.51 ...\n",
            " $ Income                         : int  261404 285768 235282 125640 160555 241339 190450 122093 25086 209703 ...\n",
            " $ BMI                            : num  31.3 27.2 28.2 36.5 21.8 ...\n",
            " $ Triglycerides                  : int  286 235 587 378 231 795 284 370 790 232 ...\n",
            " $ Physical.Activity.Days.Per.Week: int  0 1 4 3 1 5 4 6 7 7 ...\n",
            " $ Sleep.Hours.Per.Day            : int  6 7 4 4 5 10 10 7 4 7 ...\n",
            " $ Heart.Attack.Risk              : int  0 0 0 0 0 1 1 1 0 0 ...\n"
          ]
        }
      ]
    },
    {
      "cell_type": "code",
      "source": [
        "library(e1071)"
      ],
      "metadata": {
        "id": "PIIAQcv8lp5C"
      },
      "execution_count": 40,
      "outputs": []
    },
    {
      "cell_type": "code",
      "source": [
        "    install.packages(\"e1071\")"
      ],
      "metadata": {
        "colab": {
          "base_uri": "https://localhost:8080/"
        },
        "id": "5XQPVQzOl5WL",
        "outputId": "3153d8a0-ac81-4e8d-b300-c4cb367a5dc9"
      },
      "execution_count": null,
      "outputs": [
        {
          "output_type": "stream",
          "name": "stderr",
          "text": [
            "Installing package into ‘/usr/local/lib/R/site-library’\n",
            "(as ‘lib’ is unspecified)\n",
            "\n",
            "also installing the dependency ‘proxy’\n",
            "\n",
            "\n"
          ]
        }
      ]
    },
    {
      "cell_type": "code",
      "source": [
        "install.packages(\"caret\")"
      ],
      "metadata": {
        "colab": {
          "base_uri": "https://localhost:8080/"
        },
        "id": "j72RVGFwl7El",
        "outputId": "e8491876-a8b4-40d0-9f7f-2e7a11f1eb6a"
      },
      "execution_count": null,
      "outputs": [
        {
          "output_type": "stream",
          "name": "stderr",
          "text": [
            "Installing package into ‘/usr/local/lib/R/site-library’\n",
            "(as ‘lib’ is unspecified)\n",
            "\n",
            "also installing the dependencies ‘listenv’, ‘parallelly’, ‘future’, ‘globals’, ‘shape’, ‘future.apply’, ‘numDeriv’, ‘progressr’, ‘SQUAREM’, ‘diagram’, ‘lava’, ‘prodlim’, ‘iterators’, ‘Rcpp’, ‘clock’, ‘gower’, ‘hardhat’, ‘ipred’, ‘timeDate’, ‘foreach’, ‘ModelMetrics’, ‘plyr’, ‘pROC’, ‘recipes’, ‘reshape2’\n",
            "\n",
            "\n"
          ]
        }
      ]
    },
    {
      "cell_type": "code",
      "source": [
        "library(e1071)\n",
        "library(caret)"
      ],
      "metadata": {
        "id": "SAepYi5nl-8j"
      },
      "execution_count": 41,
      "outputs": []
    },
    {
      "cell_type": "code",
      "source": [],
      "metadata": {
        "id": "eclYMb-nr0XJ"
      },
      "execution_count": null,
      "outputs": []
    },
    {
      "cell_type": "code",
      "source": [
        "heart_data <- subset(heart_data, select = -c(Hemisphere))"
      ],
      "metadata": {
        "id": "ApXT2P6trDOi"
      },
      "execution_count": 46,
      "outputs": []
    },
    {
      "cell_type": "code",
      "source": [
        "var <- c(\"Sex\",\"Diet\")"
      ],
      "metadata": {
        "id": "Xl_quGQmrjQG"
      },
      "execution_count": 50,
      "outputs": []
    },
    {
      "cell_type": "code",
      "source": [
        "heart_data[var] <- lapply(heart_data[var], factor)"
      ],
      "metadata": {
        "id": "0mokX2NZsIs3"
      },
      "execution_count": 51,
      "outputs": []
    },
    {
      "cell_type": "code",
      "source": [
        "set.seed(123)\n",
        "train_indices <- createDataPartition(heart_data$Heart.Attack.Risk, p = 0.7, list = FALSE)\n",
        "train_data <- heart_data[train_indices, ]\n",
        "test_data <- heart_data[-train_indices, ]"
      ],
      "metadata": {
        "id": "UV6uEe57sPPV"
      },
      "execution_count": 52,
      "outputs": []
    },
    {
      "cell_type": "code",
      "source": [
        "Logistic_model <- glm(Heart.Attack.Risk ~ ., data = train_data, family = \"binomial\")"
      ],
      "metadata": {
        "id": "_wo5aYmqskSO"
      },
      "execution_count": 53,
      "outputs": []
    },
    {
      "cell_type": "code",
      "source": [
        "data <- predict(Logistic_model, newdata = test_data, type = \"response\" )"
      ],
      "metadata": {
        "id": "OwZyV-Jcs0y9"
      },
      "execution_count": 54,
      "outputs": []
    },
    {
      "cell_type": "code",
      "source": [
        "prediction_data <- ifelse(data > 0.5, 1, 0)"
      ],
      "metadata": {
        "id": "oshigjFBtfoW"
      },
      "execution_count": 55,
      "outputs": []
    },
    {
      "cell_type": "code",
      "source": [
        "accuracy <- sum(prediction_data == test_data$Heart.Attack.Risk) / nrow(test_data)"
      ],
      "metadata": {
        "id": "GPz-4dcVtq4N"
      },
      "execution_count": 56,
      "outputs": []
    },
    {
      "cell_type": "code",
      "source": [
        "print(paste(\"Accuracy:\", accuracy))"
      ],
      "metadata": {
        "colab": {
          "base_uri": "https://localhost:8080/"
        },
        "id": "ey1WV2zYurI5",
        "outputId": "153d4451-5bcf-4972-d390-db0a491c5bb5"
      },
      "execution_count": 57,
      "outputs": [
        {
          "output_type": "stream",
          "name": "stdout",
          "text": [
            "[1] \"Accuracy: 0.646118721461187\"\n"
          ]
        }
      ]
    },
    {
      "cell_type": "code",
      "source": [
        "matrix_data <- table(prediction_data, test_data$Heart.Attack.Risk)\n",
        "\n",
        "precision <- diag(matrix_data) / rowSums(matrix_data)\n",
        "recall <- diag(matrix_data) / colSums(matrix_data)\n",
        "f1_score <- 2 * (precision * recall) / (precision + recall)\n",
        "\n"
      ],
      "metadata": {
        "id": "t5TeDxVuus_H"
      },
      "execution_count": 63,
      "outputs": []
    },
    {
      "cell_type": "code",
      "source": [
        "class_weights <- colSums(matrix_data) / sum(matrix_data)\n",
        "weighted_f1_score <- sum(f1_score * class_weights)"
      ],
      "metadata": {
        "id": "I0HKmlIZvHkV"
      },
      "execution_count": 64,
      "outputs": []
    },
    {
      "cell_type": "code",
      "source": [
        "print(paste(\"Weighted F1-score:\", weighted_f1_score))\n"
      ],
      "metadata": {
        "colab": {
          "base_uri": "https://localhost:8080/"
        },
        "id": "L4nZruzSvgih",
        "outputId": "09304ea3-8c5d-4441-a944-01e09a2f366c"
      },
      "execution_count": 65,
      "outputs": [
        {
          "output_type": "stream",
          "name": "stdout",
          "text": [
            "[1] \"Weighted F1-score: 0.844985278708324\"\n"
          ]
        }
      ]
    },
    {
      "cell_type": "code",
      "source": [],
      "metadata": {
        "id": "IWvTs_6pv7-T"
      },
      "execution_count": null,
      "outputs": []
    }
  ]
}